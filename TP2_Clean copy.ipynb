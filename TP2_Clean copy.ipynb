{
 "cells": [
  {
   "cell_type": "code",
   "execution_count": 78,
   "metadata": {
    "collapsed": true,
    "pycharm": {
     "name": "#%%\n"
    }
   },
   "outputs": [],
   "source": [
    "import matplotlib.pyplot as plt\n",
    "import pandas as pd\n",
    "import numpy as np\n",
    "import seaborn as sns\n",
    "\n",
    "from sklearn.model_selection import train_test_split\n",
    "from sklearn.preprocessing import OneHotEncoder\n",
    "from sklearn.preprocessing import StandardScaler\n",
    "from sklearn import linear_model\n",
    "from sklearn import metrics\n",
    "\n",
    "import statsmodels.api as sm\n",
    "from statsmodels.tools import eval_measures"
   ]
  },
  {
   "cell_type": "code",
   "execution_count": 79,
   "metadata": {
    "collapsed": false,
    "pycharm": {
     "name": "#%%\n"
    }
   },
   "outputs": [
    {
     "name": "stdout",
     "output_type": "stream",
     "text": [
      "<class 'pandas.core.frame.DataFrame'>\n",
      "RangeIndex: 121220 entries, 0 to 121219\n",
      "Data columns (total 26 columns):\n",
      " #   Column                      Non-Null Count   Dtype  \n",
      "---  ------                      --------------   -----  \n",
      " 0   Unnamed: 0                  121220 non-null  int64  \n",
      " 1   operation                   121220 non-null  object \n",
      " 2   property_type               121220 non-null  object \n",
      " 3   place_name                  121197 non-null  object \n",
      " 4   place_with_parent_names     121220 non-null  object \n",
      " 5   country_name                121220 non-null  object \n",
      " 6   state_name                  121220 non-null  object \n",
      " 7   geonames_id                 102503 non-null  float64\n",
      " 8   lat-lon                     69670 non-null   object \n",
      " 9   lat                         69670 non-null   float64\n",
      " 10  lon                         69670 non-null   float64\n",
      " 11  price                       100810 non-null  float64\n",
      " 12  currency                    100809 non-null  object \n",
      " 13  price_aprox_local_currency  100810 non-null  float64\n",
      " 14  price_aprox_usd             100810 non-null  float64\n",
      " 15  surface_total_in_m2         81892 non-null   float64\n",
      " 16  surface_covered_in_m2       101313 non-null  float64\n",
      " 17  price_usd_per_m2            68617 non-null   float64\n",
      " 18  price_per_m2                87658 non-null   float64\n",
      " 19  floor                       7899 non-null    float64\n",
      " 20  rooms                       47390 non-null   float64\n",
      " 21  expenses                    14262 non-null   float64\n",
      " 22  properati_url               121220 non-null  object \n",
      " 23  description                 121218 non-null  object \n",
      " 24  title                       121220 non-null  object \n",
      " 25  image_thumbnail             118108 non-null  object \n",
      "dtypes: float64(13), int64(1), object(12)\n",
      "memory usage: 24.0+ MB\n"
     ]
    }
   ],
   "source": [
    "data=pd.read_csv('./properatti.csv')\n",
    "data.info()"
   ]
  },
  {
   "cell_type": "code",
   "execution_count": 80,
   "metadata": {
    "collapsed": false,
    "pycharm": {
     "name": "#%%\n"
    }
   },
   "outputs": [
    {
     "data": {
      "text/plain": "        Unnamed: 0 operation property_type       place_name  \\\n0                0      sell            PH        Mataderos   \n2                2      sell     apartment        Mataderos   \n3                3      sell            PH          Liniers   \n7                7      sell     apartment         Belgrano   \n8                8      sell     apartment         Belgrano   \n...            ...       ...           ...              ...   \n121160      121160      sell     apartment         Belgrano   \n121209      121209      sell     apartment         Belgrano   \n121215      121215      sell     apartment         Belgrano   \n121217      121217      sell     apartment    Villa Urquiza   \n121219      121219      sell     apartment  Capital Federal   \n\n                          place_with_parent_names country_name  \\\n0           |Argentina|Capital Federal|Mataderos|    Argentina   \n2           |Argentina|Capital Federal|Mataderos|    Argentina   \n3             |Argentina|Capital Federal|Liniers|    Argentina   \n7            |Argentina|Capital Federal|Belgrano|    Argentina   \n8            |Argentina|Capital Federal|Belgrano|    Argentina   \n...                                           ...          ...   \n121160       |Argentina|Capital Federal|Belgrano|    Argentina   \n121209       |Argentina|Capital Federal|Belgrano|    Argentina   \n121215       |Argentina|Capital Federal|Belgrano|    Argentina   \n121217  |Argentina|Capital Federal|Villa Urquiza|    Argentina   \n121219                |Argentina|Capital Federal|    Argentina   \n\n             state_name  geonames_id                        lat-lon  \\\n0       Capital Federal    3430787.0        -34.6618237,-58.5088387   \n2       Capital Federal    3430787.0        -34.6522615,-58.5229825   \n3       Capital Federal    3431333.0        -34.6477969,-58.5164244   \n7       Capital Federal    3436077.0         -34.5598729,-58.443362   \n8       Capital Federal    3436077.0         -34.5598729,-58.443362   \n...                 ...          ...                            ...   \n121160  Capital Federal    3436077.0   -34.563685346,-58.4426825896   \n121209  Capital Federal    3436077.0   -34.563685346,-58.4426825896   \n121215  Capital Federal    3436077.0                            NaN   \n121217  Capital Federal    3433775.0  -34.5706388726,-58.4755963355   \n121219  Capital Federal    3433955.0                            NaN   \n\n              lat  ...  surface_covered_in_m2  price_usd_per_m2 price_per_m2  \\\n0      -34.661824  ...                   40.0       1127.272727  1550.000000   \n2      -34.652262  ...                   55.0       1309.090909  1309.090909   \n3      -34.647797  ...                    NaN               NaN          NaN   \n7      -34.559873  ...                   40.0       3066.666667  3450.000000   \n8      -34.559873  ...                   60.0       3000.000000  3250.000000   \n...           ...  ...                    ...               ...          ...   \n121160 -34.563685  ...                    NaN       2611.464968          NaN   \n121209 -34.563685  ...                    NaN       2611.464968          NaN   \n121215        NaN  ...                   93.0       7699.115044  9354.838710   \n121217 -34.570639  ...                   39.0       2858.695652  3371.794872   \n121219        NaN  ...                   77.0       1675.324675  1675.324675   \n\n        floor  rooms  expenses  \\\n0         NaN    NaN       NaN   \n2         NaN    NaN       NaN   \n3         NaN    NaN       NaN   \n7         NaN    NaN       NaN   \n8         NaN    NaN       NaN   \n...       ...    ...       ...   \n121160    NaN    NaN    6300.0   \n121209    NaN    NaN    6300.0   \n121215    NaN    NaN   10000.0   \n121217    NaN    NaN       NaN   \n121219    NaN    NaN    3500.0   \n\n                                            properati_url  \\\n0       http://www.properati.com.ar/15bo8_venta_ph_mat...   \n2       http://www.properati.com.ar/15bod_venta_depart...   \n3       http://www.properati.com.ar/15boh_venta_ph_lin...   \n7       http://www.properati.com.ar/15bot_venta_depart...   \n8       http://www.properati.com.ar/15bou_venta_depart...   \n...                                                   ...   \n121160  http://www.properati.com.ar/1cj5v_venta_depart...   \n121209  http://www.properati.com.ar/1cj7c_venta_depart...   \n121215  http://www.properati.com.ar/1cja2_venta_depart...   \n121217  http://www.properati.com.ar/1cja7_venta_depart...   \n121219  http://www.properati.com.ar/1cjaa_venta_depart...   \n\n                                              description  \\\n0       2 AMBIENTES TIPO CASA PLANTA BAJA POR PASILLO,...   \n2       2 AMBIENTES 3ER PISO LATERAL LIVING COMEDOR AM...   \n3       PH 3 ambientes con patio. Hay 3 deptos en lote...   \n7       EXCELENTE MONOAMBIENTE A ESTRENAR AMPLIO SUPER...   \n8       EXCELENTE DOS AMBIENTES  ESTRENAR AMPLIO SUPER...   \n...                                                   ...   \n121160  Edificio en esquina de muy buena categoría de ...   \n121209  Edificio en esquina de muy buena categoría de ...   \n121215  TORRE FORUM ALCORTA - MÁXIMA CATEGORÍA.Impecab...   \n121217  VENTA DEPARTAMENTO AMBIENTE DIVISIBLE A ESTREN...   \n121219  Departamento de 77 m2 apto profesional. Edific...   \n\n                                                    title  \\\n0                      2 AMB TIPO CASA SIN EXPENSAS EN PB   \n2                2 AMB 3ER PISO CON ASCENSOR APTO CREDITO   \n3                            PH 3 amb. cfte. reciclado      \n7       JOSE HERNANDEZ 1400 MONOAMBIENTE  ESTRENAR CAT...   \n8       JOSE HERNANDEZ   1400 DOS AMBIENTES ESTRENAR ,...   \n...                                                   ...   \n121160  Av .Luis Maria Campos 1400- Belgrano-Capital F...   \n121209  Av .Luis Maria Campos 1400- Belgrano-Capital F...   \n121215         Torre Forum Alcorta- Impecable 3 ambientes   \n121217  VENTA DEPARTAMENTO AMBIENTE DIVISIBLE A ESTREN...   \n121219         Departamento apto profesional en el Centro   \n\n                                          image_thumbnail  \n0       https://thumbs4.properati.com/8/BluUYiHJLhgIIK...  \n2       https://thumbs4.properati.com/5/SXKr34F_IwG3W_...  \n3       https://thumbs4.properati.com/3/DgIfX-85Mog5SP...  \n7       https://thumbs4.properati.com/1/IHxARynlr8sPEW...  \n8       https://thumbs4.properati.com/2/J3zOjgaFHrkvnv...  \n...                                                   ...  \n121160  https://thumbs4.properati.com/0/zeLNBuyylOJL7z...  \n121209  https://thumbs4.properati.com/0/zeLNBuyylOJL7z...  \n121215  https://thumbs4.properati.com/1/bjms0KnaAnlNoQ...  \n121217  https://thumbs4.properati.com/9/YAe_-2gRVykADP...  \n121219  https://thumbs4.properati.com/8/mNEsnQWqB7joBF...  \n\n[32316 rows x 26 columns]",
      "text/html": "<div>\n<style scoped>\n    .dataframe tbody tr th:only-of-type {\n        vertical-align: middle;\n    }\n\n    .dataframe tbody tr th {\n        vertical-align: top;\n    }\n\n    .dataframe thead th {\n        text-align: right;\n    }\n</style>\n<table border=\"1\" class=\"dataframe\">\n  <thead>\n    <tr style=\"text-align: right;\">\n      <th></th>\n      <th>Unnamed: 0</th>\n      <th>operation</th>\n      <th>property_type</th>\n      <th>place_name</th>\n      <th>place_with_parent_names</th>\n      <th>country_name</th>\n      <th>state_name</th>\n      <th>geonames_id</th>\n      <th>lat-lon</th>\n      <th>lat</th>\n      <th>...</th>\n      <th>surface_covered_in_m2</th>\n      <th>price_usd_per_m2</th>\n      <th>price_per_m2</th>\n      <th>floor</th>\n      <th>rooms</th>\n      <th>expenses</th>\n      <th>properati_url</th>\n      <th>description</th>\n      <th>title</th>\n      <th>image_thumbnail</th>\n    </tr>\n  </thead>\n  <tbody>\n    <tr>\n      <th>0</th>\n      <td>0</td>\n      <td>sell</td>\n      <td>PH</td>\n      <td>Mataderos</td>\n      <td>|Argentina|Capital Federal|Mataderos|</td>\n      <td>Argentina</td>\n      <td>Capital Federal</td>\n      <td>3430787.0</td>\n      <td>-34.6618237,-58.5088387</td>\n      <td>-34.661824</td>\n      <td>...</td>\n      <td>40.0</td>\n      <td>1127.272727</td>\n      <td>1550.000000</td>\n      <td>NaN</td>\n      <td>NaN</td>\n      <td>NaN</td>\n      <td>http://www.properati.com.ar/15bo8_venta_ph_mat...</td>\n      <td>2 AMBIENTES TIPO CASA PLANTA BAJA POR PASILLO,...</td>\n      <td>2 AMB TIPO CASA SIN EXPENSAS EN PB</td>\n      <td>https://thumbs4.properati.com/8/BluUYiHJLhgIIK...</td>\n    </tr>\n    <tr>\n      <th>2</th>\n      <td>2</td>\n      <td>sell</td>\n      <td>apartment</td>\n      <td>Mataderos</td>\n      <td>|Argentina|Capital Federal|Mataderos|</td>\n      <td>Argentina</td>\n      <td>Capital Federal</td>\n      <td>3430787.0</td>\n      <td>-34.6522615,-58.5229825</td>\n      <td>-34.652262</td>\n      <td>...</td>\n      <td>55.0</td>\n      <td>1309.090909</td>\n      <td>1309.090909</td>\n      <td>NaN</td>\n      <td>NaN</td>\n      <td>NaN</td>\n      <td>http://www.properati.com.ar/15bod_venta_depart...</td>\n      <td>2 AMBIENTES 3ER PISO LATERAL LIVING COMEDOR AM...</td>\n      <td>2 AMB 3ER PISO CON ASCENSOR APTO CREDITO</td>\n      <td>https://thumbs4.properati.com/5/SXKr34F_IwG3W_...</td>\n    </tr>\n    <tr>\n      <th>3</th>\n      <td>3</td>\n      <td>sell</td>\n      <td>PH</td>\n      <td>Liniers</td>\n      <td>|Argentina|Capital Federal|Liniers|</td>\n      <td>Argentina</td>\n      <td>Capital Federal</td>\n      <td>3431333.0</td>\n      <td>-34.6477969,-58.5164244</td>\n      <td>-34.647797</td>\n      <td>...</td>\n      <td>NaN</td>\n      <td>NaN</td>\n      <td>NaN</td>\n      <td>NaN</td>\n      <td>NaN</td>\n      <td>NaN</td>\n      <td>http://www.properati.com.ar/15boh_venta_ph_lin...</td>\n      <td>PH 3 ambientes con patio. Hay 3 deptos en lote...</td>\n      <td>PH 3 amb. cfte. reciclado</td>\n      <td>https://thumbs4.properati.com/3/DgIfX-85Mog5SP...</td>\n    </tr>\n    <tr>\n      <th>7</th>\n      <td>7</td>\n      <td>sell</td>\n      <td>apartment</td>\n      <td>Belgrano</td>\n      <td>|Argentina|Capital Federal|Belgrano|</td>\n      <td>Argentina</td>\n      <td>Capital Federal</td>\n      <td>3436077.0</td>\n      <td>-34.5598729,-58.443362</td>\n      <td>-34.559873</td>\n      <td>...</td>\n      <td>40.0</td>\n      <td>3066.666667</td>\n      <td>3450.000000</td>\n      <td>NaN</td>\n      <td>NaN</td>\n      <td>NaN</td>\n      <td>http://www.properati.com.ar/15bot_venta_depart...</td>\n      <td>EXCELENTE MONOAMBIENTE A ESTRENAR AMPLIO SUPER...</td>\n      <td>JOSE HERNANDEZ 1400 MONOAMBIENTE  ESTRENAR CAT...</td>\n      <td>https://thumbs4.properati.com/1/IHxARynlr8sPEW...</td>\n    </tr>\n    <tr>\n      <th>8</th>\n      <td>8</td>\n      <td>sell</td>\n      <td>apartment</td>\n      <td>Belgrano</td>\n      <td>|Argentina|Capital Federal|Belgrano|</td>\n      <td>Argentina</td>\n      <td>Capital Federal</td>\n      <td>3436077.0</td>\n      <td>-34.5598729,-58.443362</td>\n      <td>-34.559873</td>\n      <td>...</td>\n      <td>60.0</td>\n      <td>3000.000000</td>\n      <td>3250.000000</td>\n      <td>NaN</td>\n      <td>NaN</td>\n      <td>NaN</td>\n      <td>http://www.properati.com.ar/15bou_venta_depart...</td>\n      <td>EXCELENTE DOS AMBIENTES  ESTRENAR AMPLIO SUPER...</td>\n      <td>JOSE HERNANDEZ   1400 DOS AMBIENTES ESTRENAR ,...</td>\n      <td>https://thumbs4.properati.com/2/J3zOjgaFHrkvnv...</td>\n    </tr>\n    <tr>\n      <th>...</th>\n      <td>...</td>\n      <td>...</td>\n      <td>...</td>\n      <td>...</td>\n      <td>...</td>\n      <td>...</td>\n      <td>...</td>\n      <td>...</td>\n      <td>...</td>\n      <td>...</td>\n      <td>...</td>\n      <td>...</td>\n      <td>...</td>\n      <td>...</td>\n      <td>...</td>\n      <td>...</td>\n      <td>...</td>\n      <td>...</td>\n      <td>...</td>\n      <td>...</td>\n      <td>...</td>\n    </tr>\n    <tr>\n      <th>121160</th>\n      <td>121160</td>\n      <td>sell</td>\n      <td>apartment</td>\n      <td>Belgrano</td>\n      <td>|Argentina|Capital Federal|Belgrano|</td>\n      <td>Argentina</td>\n      <td>Capital Federal</td>\n      <td>3436077.0</td>\n      <td>-34.563685346,-58.4426825896</td>\n      <td>-34.563685</td>\n      <td>...</td>\n      <td>NaN</td>\n      <td>2611.464968</td>\n      <td>NaN</td>\n      <td>NaN</td>\n      <td>NaN</td>\n      <td>6300.0</td>\n      <td>http://www.properati.com.ar/1cj5v_venta_depart...</td>\n      <td>Edificio en esquina de muy buena categoría de ...</td>\n      <td>Av .Luis Maria Campos 1400- Belgrano-Capital F...</td>\n      <td>https://thumbs4.properati.com/0/zeLNBuyylOJL7z...</td>\n    </tr>\n    <tr>\n      <th>121209</th>\n      <td>121209</td>\n      <td>sell</td>\n      <td>apartment</td>\n      <td>Belgrano</td>\n      <td>|Argentina|Capital Federal|Belgrano|</td>\n      <td>Argentina</td>\n      <td>Capital Federal</td>\n      <td>3436077.0</td>\n      <td>-34.563685346,-58.4426825896</td>\n      <td>-34.563685</td>\n      <td>...</td>\n      <td>NaN</td>\n      <td>2611.464968</td>\n      <td>NaN</td>\n      <td>NaN</td>\n      <td>NaN</td>\n      <td>6300.0</td>\n      <td>http://www.properati.com.ar/1cj7c_venta_depart...</td>\n      <td>Edificio en esquina de muy buena categoría de ...</td>\n      <td>Av .Luis Maria Campos 1400- Belgrano-Capital F...</td>\n      <td>https://thumbs4.properati.com/0/zeLNBuyylOJL7z...</td>\n    </tr>\n    <tr>\n      <th>121215</th>\n      <td>121215</td>\n      <td>sell</td>\n      <td>apartment</td>\n      <td>Belgrano</td>\n      <td>|Argentina|Capital Federal|Belgrano|</td>\n      <td>Argentina</td>\n      <td>Capital Federal</td>\n      <td>3436077.0</td>\n      <td>NaN</td>\n      <td>NaN</td>\n      <td>...</td>\n      <td>93.0</td>\n      <td>7699.115044</td>\n      <td>9354.838710</td>\n      <td>NaN</td>\n      <td>NaN</td>\n      <td>10000.0</td>\n      <td>http://www.properati.com.ar/1cja2_venta_depart...</td>\n      <td>TORRE FORUM ALCORTA - MÁXIMA CATEGORÍA.Impecab...</td>\n      <td>Torre Forum Alcorta- Impecable 3 ambientes</td>\n      <td>https://thumbs4.properati.com/1/bjms0KnaAnlNoQ...</td>\n    </tr>\n    <tr>\n      <th>121217</th>\n      <td>121217</td>\n      <td>sell</td>\n      <td>apartment</td>\n      <td>Villa Urquiza</td>\n      <td>|Argentina|Capital Federal|Villa Urquiza|</td>\n      <td>Argentina</td>\n      <td>Capital Federal</td>\n      <td>3433775.0</td>\n      <td>-34.5706388726,-58.4755963355</td>\n      <td>-34.570639</td>\n      <td>...</td>\n      <td>39.0</td>\n      <td>2858.695652</td>\n      <td>3371.794872</td>\n      <td>NaN</td>\n      <td>NaN</td>\n      <td>NaN</td>\n      <td>http://www.properati.com.ar/1cja7_venta_depart...</td>\n      <td>VENTA DEPARTAMENTO AMBIENTE DIVISIBLE A ESTREN...</td>\n      <td>VENTA DEPARTAMENTO AMBIENTE DIVISIBLE A ESTREN...</td>\n      <td>https://thumbs4.properati.com/9/YAe_-2gRVykADP...</td>\n    </tr>\n    <tr>\n      <th>121219</th>\n      <td>121219</td>\n      <td>sell</td>\n      <td>apartment</td>\n      <td>Capital Federal</td>\n      <td>|Argentina|Capital Federal|</td>\n      <td>Argentina</td>\n      <td>Capital Federal</td>\n      <td>3433955.0</td>\n      <td>NaN</td>\n      <td>NaN</td>\n      <td>...</td>\n      <td>77.0</td>\n      <td>1675.324675</td>\n      <td>1675.324675</td>\n      <td>NaN</td>\n      <td>NaN</td>\n      <td>3500.0</td>\n      <td>http://www.properati.com.ar/1cjaa_venta_depart...</td>\n      <td>Departamento de 77 m2 apto profesional. Edific...</td>\n      <td>Departamento apto profesional en el Centro</td>\n      <td>https://thumbs4.properati.com/8/mNEsnQWqB7joBF...</td>\n    </tr>\n  </tbody>\n</table>\n<p>32316 rows × 26 columns</p>\n</div>"
     },
     "execution_count": 80,
     "metadata": {},
     "output_type": "execute_result"
    }
   ],
   "source": [
    "capital_federal_mask = data.state_name==\"Capital Federal\"\n",
    "capital_federal = data[capital_federal_mask]\n",
    "capital_federal"
   ]
  },
  {
   "cell_type": "code",
   "execution_count": 81,
   "metadata": {
    "collapsed": false,
    "pycharm": {
     "name": "#%%\n"
    }
   },
   "outputs": [
    {
     "data": {
      "text/plain": "       property_type       place_name  surface_total_in_m2  \\\n0                 PH        Mataderos                 55.0   \n2          apartment        Mataderos                 55.0   \n3                 PH          Liniers                  NaN   \n7          apartment         Belgrano                 45.0   \n8          apartment         Belgrano                 65.0   \n...              ...              ...                  ...   \n121160     apartment         Belgrano                157.0   \n121209     apartment         Belgrano                157.0   \n121215     apartment         Belgrano                113.0   \n121217     apartment    Villa Urquiza                 46.0   \n121219     apartment  Capital Federal                 77.0   \n\n        surface_covered_in_m2     price  \n0                        40.0   62000.0  \n2                        55.0   72000.0  \n3                         NaN   95000.0  \n7                        40.0  138000.0  \n8                        60.0  195000.0  \n...                       ...       ...  \n121160                    NaN  410000.0  \n121209                    NaN  410000.0  \n121215                   93.0  870000.0  \n121217                   39.0  131500.0  \n121219                   77.0  129000.0  \n\n[32316 rows x 5 columns]",
      "text/html": "<div>\n<style scoped>\n    .dataframe tbody tr th:only-of-type {\n        vertical-align: middle;\n    }\n\n    .dataframe tbody tr th {\n        vertical-align: top;\n    }\n\n    .dataframe thead th {\n        text-align: right;\n    }\n</style>\n<table border=\"1\" class=\"dataframe\">\n  <thead>\n    <tr style=\"text-align: right;\">\n      <th></th>\n      <th>property_type</th>\n      <th>place_name</th>\n      <th>surface_total_in_m2</th>\n      <th>surface_covered_in_m2</th>\n      <th>price</th>\n    </tr>\n  </thead>\n  <tbody>\n    <tr>\n      <th>0</th>\n      <td>PH</td>\n      <td>Mataderos</td>\n      <td>55.0</td>\n      <td>40.0</td>\n      <td>62000.0</td>\n    </tr>\n    <tr>\n      <th>2</th>\n      <td>apartment</td>\n      <td>Mataderos</td>\n      <td>55.0</td>\n      <td>55.0</td>\n      <td>72000.0</td>\n    </tr>\n    <tr>\n      <th>3</th>\n      <td>PH</td>\n      <td>Liniers</td>\n      <td>NaN</td>\n      <td>NaN</td>\n      <td>95000.0</td>\n    </tr>\n    <tr>\n      <th>7</th>\n      <td>apartment</td>\n      <td>Belgrano</td>\n      <td>45.0</td>\n      <td>40.0</td>\n      <td>138000.0</td>\n    </tr>\n    <tr>\n      <th>8</th>\n      <td>apartment</td>\n      <td>Belgrano</td>\n      <td>65.0</td>\n      <td>60.0</td>\n      <td>195000.0</td>\n    </tr>\n    <tr>\n      <th>...</th>\n      <td>...</td>\n      <td>...</td>\n      <td>...</td>\n      <td>...</td>\n      <td>...</td>\n    </tr>\n    <tr>\n      <th>121160</th>\n      <td>apartment</td>\n      <td>Belgrano</td>\n      <td>157.0</td>\n      <td>NaN</td>\n      <td>410000.0</td>\n    </tr>\n    <tr>\n      <th>121209</th>\n      <td>apartment</td>\n      <td>Belgrano</td>\n      <td>157.0</td>\n      <td>NaN</td>\n      <td>410000.0</td>\n    </tr>\n    <tr>\n      <th>121215</th>\n      <td>apartment</td>\n      <td>Belgrano</td>\n      <td>113.0</td>\n      <td>93.0</td>\n      <td>870000.0</td>\n    </tr>\n    <tr>\n      <th>121217</th>\n      <td>apartment</td>\n      <td>Villa Urquiza</td>\n      <td>46.0</td>\n      <td>39.0</td>\n      <td>131500.0</td>\n    </tr>\n    <tr>\n      <th>121219</th>\n      <td>apartment</td>\n      <td>Capital Federal</td>\n      <td>77.0</td>\n      <td>77.0</td>\n      <td>129000.0</td>\n    </tr>\n  </tbody>\n</table>\n<p>32316 rows × 5 columns</p>\n</div>"
     },
     "execution_count": 81,
     "metadata": {},
     "output_type": "execute_result"
    }
   ],
   "source": [
    "capital_federal_dos = capital_federal.loc[:,('property_type','place_name','surface_total_in_m2','surface_covered_in_m2', 'price')]\n",
    "capital_federal_dos"
   ]
  },
  {
   "cell_type": "code",
   "execution_count": 82,
   "metadata": {
    "collapsed": false,
    "pycharm": {
     "name": "#%%\n"
    }
   },
   "outputs": [
    {
     "data": {
      "text/plain": "       property_type       place_name  surface_total_in_m2  \\\n2          apartment        Mataderos                 55.0   \n7          apartment         Belgrano                 45.0   \n8          apartment         Belgrano                 65.0   \n13         apartment     Palermo Soho                 50.0   \n14         apartment     Palermo Soho                 42.0   \n...              ...              ...                  ...   \n121160     apartment         Belgrano                157.0   \n121209     apartment         Belgrano                157.0   \n121215     apartment         Belgrano                113.0   \n121217     apartment    Villa Urquiza                 46.0   \n121219     apartment  Capital Federal                 77.0   \n\n        surface_covered_in_m2     price  \n2                        55.0   72000.0  \n7                        40.0  138000.0  \n8                        60.0  195000.0  \n13                       30.0  111700.0  \n14                       31.0  147900.0  \n...                       ...       ...  \n121160                    NaN  410000.0  \n121209                    NaN  410000.0  \n121215                   93.0  870000.0  \n121217                   39.0  131500.0  \n121219                   77.0  129000.0  \n\n[27037 rows x 5 columns]",
      "text/html": "<div>\n<style scoped>\n    .dataframe tbody tr th:only-of-type {\n        vertical-align: middle;\n    }\n\n    .dataframe tbody tr th {\n        vertical-align: top;\n    }\n\n    .dataframe thead th {\n        text-align: right;\n    }\n</style>\n<table border=\"1\" class=\"dataframe\">\n  <thead>\n    <tr style=\"text-align: right;\">\n      <th></th>\n      <th>property_type</th>\n      <th>place_name</th>\n      <th>surface_total_in_m2</th>\n      <th>surface_covered_in_m2</th>\n      <th>price</th>\n    </tr>\n  </thead>\n  <tbody>\n    <tr>\n      <th>2</th>\n      <td>apartment</td>\n      <td>Mataderos</td>\n      <td>55.0</td>\n      <td>55.0</td>\n      <td>72000.0</td>\n    </tr>\n    <tr>\n      <th>7</th>\n      <td>apartment</td>\n      <td>Belgrano</td>\n      <td>45.0</td>\n      <td>40.0</td>\n      <td>138000.0</td>\n    </tr>\n    <tr>\n      <th>8</th>\n      <td>apartment</td>\n      <td>Belgrano</td>\n      <td>65.0</td>\n      <td>60.0</td>\n      <td>195000.0</td>\n    </tr>\n    <tr>\n      <th>13</th>\n      <td>apartment</td>\n      <td>Palermo Soho</td>\n      <td>50.0</td>\n      <td>30.0</td>\n      <td>111700.0</td>\n    </tr>\n    <tr>\n      <th>14</th>\n      <td>apartment</td>\n      <td>Palermo Soho</td>\n      <td>42.0</td>\n      <td>31.0</td>\n      <td>147900.0</td>\n    </tr>\n    <tr>\n      <th>...</th>\n      <td>...</td>\n      <td>...</td>\n      <td>...</td>\n      <td>...</td>\n      <td>...</td>\n    </tr>\n    <tr>\n      <th>121160</th>\n      <td>apartment</td>\n      <td>Belgrano</td>\n      <td>157.0</td>\n      <td>NaN</td>\n      <td>410000.0</td>\n    </tr>\n    <tr>\n      <th>121209</th>\n      <td>apartment</td>\n      <td>Belgrano</td>\n      <td>157.0</td>\n      <td>NaN</td>\n      <td>410000.0</td>\n    </tr>\n    <tr>\n      <th>121215</th>\n      <td>apartment</td>\n      <td>Belgrano</td>\n      <td>113.0</td>\n      <td>93.0</td>\n      <td>870000.0</td>\n    </tr>\n    <tr>\n      <th>121217</th>\n      <td>apartment</td>\n      <td>Villa Urquiza</td>\n      <td>46.0</td>\n      <td>39.0</td>\n      <td>131500.0</td>\n    </tr>\n    <tr>\n      <th>121219</th>\n      <td>apartment</td>\n      <td>Capital Federal</td>\n      <td>77.0</td>\n      <td>77.0</td>\n      <td>129000.0</td>\n    </tr>\n  </tbody>\n</table>\n<p>27037 rows × 5 columns</p>\n</div>"
     },
     "execution_count": 82,
     "metadata": {},
     "output_type": "execute_result"
    }
   ],
   "source": [
    "capital_federal_apartment_mask = capital_federal.property_type=='apartment'\n",
    "capital_federal_apartment = capital_federal_dos[capital_federal_apartment_mask]\n",
    "capital_federal_apartment"
   ]
  },
  {
   "cell_type": "code",
   "execution_count": 83,
   "metadata": {
    "collapsed": false,
    "pycharm": {
     "name": "#%%\n"
    }
   },
   "outputs": [
    {
     "data": {
      "text/plain": "                                 column_name  percent_missing\nsurface_total_in_m2      surface_total_in_m2        16.484817\nprice                                  price        10.663165\nsurface_covered_in_m2  surface_covered_in_m2         6.646447\nproperty_type                  property_type         0.000000\nplace_name                        place_name         0.000000",
      "text/html": "<div>\n<style scoped>\n    .dataframe tbody tr th:only-of-type {\n        vertical-align: middle;\n    }\n\n    .dataframe tbody tr th {\n        vertical-align: top;\n    }\n\n    .dataframe thead th {\n        text-align: right;\n    }\n</style>\n<table border=\"1\" class=\"dataframe\">\n  <thead>\n    <tr style=\"text-align: right;\">\n      <th></th>\n      <th>column_name</th>\n      <th>percent_missing</th>\n    </tr>\n  </thead>\n  <tbody>\n    <tr>\n      <th>surface_total_in_m2</th>\n      <td>surface_total_in_m2</td>\n      <td>16.484817</td>\n    </tr>\n    <tr>\n      <th>price</th>\n      <td>price</td>\n      <td>10.663165</td>\n    </tr>\n    <tr>\n      <th>surface_covered_in_m2</th>\n      <td>surface_covered_in_m2</td>\n      <td>6.646447</td>\n    </tr>\n    <tr>\n      <th>property_type</th>\n      <td>property_type</td>\n      <td>0.000000</td>\n    </tr>\n    <tr>\n      <th>place_name</th>\n      <td>place_name</td>\n      <td>0.000000</td>\n    </tr>\n  </tbody>\n</table>\n</div>"
     },
     "execution_count": 83,
     "metadata": {},
     "output_type": "execute_result"
    }
   ],
   "source": [
    "#Porcentaje de nulls respecto al total del dataset por columna\n",
    "\n",
    "percent_missing = capital_federal_apartment.isnull().sum() * 100 / len(capital_federal_apartment)\n",
    "missing_value_df = pd.DataFrame({'column_name': capital_federal_apartment.columns,\n",
    "                                 'percent_missing': percent_missing})\n",
    "\n",
    "missing_value_df.sort_values('percent_missing', inplace=True, ascending=False)\n",
    "missing_value_df"
   ]
  },
  {
   "cell_type": "code",
   "execution_count": 84,
   "metadata": {
    "collapsed": false,
    "pycharm": {
     "name": "#%%\n"
    }
   },
   "outputs": [
    {
     "name": "stderr",
     "output_type": "stream",
     "text": [
      "C:\\Users\\Juan\\AppData\\Local\\Temp\\ipykernel_13500\\3128688942.py:1: SettingWithCopyWarning: \n",
      "A value is trying to be set on a copy of a slice from a DataFrame\n",
      "\n",
      "See the caveats in the documentation: https://pandas.pydata.org/pandas-docs/stable/user_guide/indexing.html#returning-a-view-versus-a-copy\n",
      "  capital_federal_apartment.surface_total_in_m2.fillna(capital_federal_apartment.surface_covered_in_m2, inplace=True)\n"
     ]
    }
   ],
   "source": [
    "capital_federal_apartment.surface_total_in_m2.fillna(capital_federal_apartment.surface_covered_in_m2, inplace=True)\n"
   ]
  },
  {
   "cell_type": "code",
   "execution_count": 85,
   "metadata": {
    "collapsed": false,
    "pycharm": {
     "name": "#%%\n"
    }
   },
   "outputs": [
    {
     "name": "stderr",
     "output_type": "stream",
     "text": [
      "C:\\Users\\Juan\\AppData\\Local\\Temp\\ipykernel_13500\\3450111080.py:1: SettingWithCopyWarning: \n",
      "A value is trying to be set on a copy of a slice from a DataFrame.\n",
      "Try using .loc[row_indexer,col_indexer] = value instead\n",
      "\n",
      "See the caveats in the documentation: https://pandas.pydata.org/pandas-docs/stable/user_guide/indexing.html#returning-a-view-versus-a-copy\n",
      "  capital_federal_apartment['surface_uncovered_in_m2'] = capital_federal_apartment.surface_total_in_m2 - capital_federal_apartment.surface_covered_in_m2\n"
     ]
    },
    {
     "data": {
      "text/plain": "       property_type       place_name  surface_total_in_m2  \\\n2          apartment        Mataderos                 55.0   \n7          apartment         Belgrano                 45.0   \n8          apartment         Belgrano                 65.0   \n13         apartment     Palermo Soho                 50.0   \n14         apartment     Palermo Soho                 42.0   \n...              ...              ...                  ...   \n121160     apartment         Belgrano                157.0   \n121209     apartment         Belgrano                157.0   \n121215     apartment         Belgrano                113.0   \n121217     apartment    Villa Urquiza                 46.0   \n121219     apartment  Capital Federal                 77.0   \n\n        surface_covered_in_m2     price  surface_uncovered_in_m2  \n2                        55.0   72000.0                      0.0  \n7                        40.0  138000.0                      5.0  \n8                        60.0  195000.0                      5.0  \n13                       30.0  111700.0                     20.0  \n14                       31.0  147900.0                     11.0  \n...                       ...       ...                      ...  \n121160                    NaN  410000.0                      NaN  \n121209                    NaN  410000.0                      NaN  \n121215                   93.0  870000.0                     20.0  \n121217                   39.0  131500.0                      7.0  \n121219                   77.0  129000.0                      0.0  \n\n[27037 rows x 6 columns]",
      "text/html": "<div>\n<style scoped>\n    .dataframe tbody tr th:only-of-type {\n        vertical-align: middle;\n    }\n\n    .dataframe tbody tr th {\n        vertical-align: top;\n    }\n\n    .dataframe thead th {\n        text-align: right;\n    }\n</style>\n<table border=\"1\" class=\"dataframe\">\n  <thead>\n    <tr style=\"text-align: right;\">\n      <th></th>\n      <th>property_type</th>\n      <th>place_name</th>\n      <th>surface_total_in_m2</th>\n      <th>surface_covered_in_m2</th>\n      <th>price</th>\n      <th>surface_uncovered_in_m2</th>\n    </tr>\n  </thead>\n  <tbody>\n    <tr>\n      <th>2</th>\n      <td>apartment</td>\n      <td>Mataderos</td>\n      <td>55.0</td>\n      <td>55.0</td>\n      <td>72000.0</td>\n      <td>0.0</td>\n    </tr>\n    <tr>\n      <th>7</th>\n      <td>apartment</td>\n      <td>Belgrano</td>\n      <td>45.0</td>\n      <td>40.0</td>\n      <td>138000.0</td>\n      <td>5.0</td>\n    </tr>\n    <tr>\n      <th>8</th>\n      <td>apartment</td>\n      <td>Belgrano</td>\n      <td>65.0</td>\n      <td>60.0</td>\n      <td>195000.0</td>\n      <td>5.0</td>\n    </tr>\n    <tr>\n      <th>13</th>\n      <td>apartment</td>\n      <td>Palermo Soho</td>\n      <td>50.0</td>\n      <td>30.0</td>\n      <td>111700.0</td>\n      <td>20.0</td>\n    </tr>\n    <tr>\n      <th>14</th>\n      <td>apartment</td>\n      <td>Palermo Soho</td>\n      <td>42.0</td>\n      <td>31.0</td>\n      <td>147900.0</td>\n      <td>11.0</td>\n    </tr>\n    <tr>\n      <th>...</th>\n      <td>...</td>\n      <td>...</td>\n      <td>...</td>\n      <td>...</td>\n      <td>...</td>\n      <td>...</td>\n    </tr>\n    <tr>\n      <th>121160</th>\n      <td>apartment</td>\n      <td>Belgrano</td>\n      <td>157.0</td>\n      <td>NaN</td>\n      <td>410000.0</td>\n      <td>NaN</td>\n    </tr>\n    <tr>\n      <th>121209</th>\n      <td>apartment</td>\n      <td>Belgrano</td>\n      <td>157.0</td>\n      <td>NaN</td>\n      <td>410000.0</td>\n      <td>NaN</td>\n    </tr>\n    <tr>\n      <th>121215</th>\n      <td>apartment</td>\n      <td>Belgrano</td>\n      <td>113.0</td>\n      <td>93.0</td>\n      <td>870000.0</td>\n      <td>20.0</td>\n    </tr>\n    <tr>\n      <th>121217</th>\n      <td>apartment</td>\n      <td>Villa Urquiza</td>\n      <td>46.0</td>\n      <td>39.0</td>\n      <td>131500.0</td>\n      <td>7.0</td>\n    </tr>\n    <tr>\n      <th>121219</th>\n      <td>apartment</td>\n      <td>Capital Federal</td>\n      <td>77.0</td>\n      <td>77.0</td>\n      <td>129000.0</td>\n      <td>0.0</td>\n    </tr>\n  </tbody>\n</table>\n<p>27037 rows × 6 columns</p>\n</div>"
     },
     "execution_count": 85,
     "metadata": {},
     "output_type": "execute_result"
    }
   ],
   "source": [
    "capital_federal_apartment['surface_uncovered_in_m2'] = capital_federal_apartment.surface_total_in_m2 - capital_federal_apartment.surface_covered_in_m2\n",
    "capital_federal_apartment"
   ]
  },
  {
   "cell_type": "code",
   "execution_count": 86,
   "metadata": {
    "pycharm": {
     "name": "#%%\n"
    }
   },
   "outputs": [
    {
     "data": {
      "text/plain": "[(0.0, 500.0)]"
     },
     "execution_count": 86,
     "metadata": {},
     "output_type": "execute_result"
    },
    {
     "data": {
      "text/plain": "<Figure size 432x288 with 1 Axes>",
      "image/png": "[encoded data removed]"
     },
     "metadata": {},
     "output_type": "display_data"
    }
   ],
   "source": [
    "g=sns.boxplot(data=capital_federal_apartment,y='surface_total_in_m2')\n",
    "\n",
    "g.set(ylim=(0,500))"
   ]
  },
  {
   "cell_type": "code",
   "execution_count": 87,
   "metadata": {
    "pycharm": {
     "name": "#%%\n"
    }
   },
   "outputs": [
    {
     "data": {
      "text/plain": "Int64Index([  1276,   5907,   6508,   6676,   7100,   8413,  13037,  13065,\n             14022,  14859,  17288,  24159,  24379,  24384,  24548,  28563,\n             31184,  34696,  34702,  45122,  45486,  46392,  46709,  46948,\n             47109,  47399,  51824,  51995,  52788,  52789,  53048,  53116,\n             53896,  54806,  55316,  56484,  57173,  57469,  58045,  58175,\n             61820,  62863,  63093,  64104,  64643,  64645,  69472,  71875,\n             71887,  73029,  73511,  76012,  76891,  78877,  88136,  88562,\n             89003,  95810,  96392,  96438,  96778,  96836, 106459, 109632,\n            109722, 109840, 114174, 117183, 118206],\n           dtype='int64')"
     },
     "execution_count": 87,
     "metadata": {},
     "output_type": "execute_result"
    }
   ],
   "source": [
    "indice=capital_federal_apartment[capital_federal_apartment['surface_total_in_m2'] > 500]\n",
    "\n",
    "indice.index\n"
   ]
  },
  {
   "cell_type": "code",
   "execution_count": 88,
   "metadata": {
    "pycharm": {
     "name": "#%%\n"
    }
   },
   "outputs": [
    {
     "name": "stderr",
     "output_type": "stream",
     "text": [
      "C:\\Users\\Juan\\AppData\\Local\\Temp\\ipykernel_13500\\2980280860.py:1: SettingWithCopyWarning: \n",
      "A value is trying to be set on a copy of a slice from a DataFrame\n",
      "\n",
      "See the caveats in the documentation: https://pandas.pydata.org/pandas-docs/stable/user_guide/indexing.html#returning-a-view-versus-a-copy\n",
      "  capital_federal_apartment.drop(indice.index, axis=0, inplace=True)\n"
     ]
    },
    {
     "data": {
      "text/plain": "       property_type       place_name  surface_total_in_m2  \\\n2          apartment        Mataderos                 55.0   \n7          apartment         Belgrano                 45.0   \n8          apartment         Belgrano                 65.0   \n13         apartment     Palermo Soho                 50.0   \n14         apartment     Palermo Soho                 42.0   \n...              ...              ...                  ...   \n121160     apartment         Belgrano                157.0   \n121209     apartment         Belgrano                157.0   \n121215     apartment         Belgrano                113.0   \n121217     apartment    Villa Urquiza                 46.0   \n121219     apartment  Capital Federal                 77.0   \n\n        surface_covered_in_m2     price  surface_uncovered_in_m2  \n2                        55.0   72000.0                      0.0  \n7                        40.0  138000.0                      5.0  \n8                        60.0  195000.0                      5.0  \n13                       30.0  111700.0                     20.0  \n14                       31.0  147900.0                     11.0  \n...                       ...       ...                      ...  \n121160                    NaN  410000.0                      NaN  \n121209                    NaN  410000.0                      NaN  \n121215                   93.0  870000.0                     20.0  \n121217                   39.0  131500.0                      7.0  \n121219                   77.0  129000.0                      0.0  \n\n[26968 rows x 6 columns]",
      "text/html": "<div>\n<style scoped>\n    .dataframe tbody tr th:only-of-type {\n        vertical-align: middle;\n    }\n\n    .dataframe tbody tr th {\n        vertical-align: top;\n    }\n\n    .dataframe thead th {\n        text-align: right;\n    }\n</style>\n<table border=\"1\" class=\"dataframe\">\n  <thead>\n    <tr style=\"text-align: right;\">\n      <th></th>\n      <th>property_type</th>\n      <th>place_name</th>\n      <th>surface_total_in_m2</th>\n      <th>surface_covered_in_m2</th>\n      <th>price</th>\n      <th>surface_uncovered_in_m2</th>\n    </tr>\n  </thead>\n  <tbody>\n    <tr>\n      <th>2</th>\n      <td>apartment</td>\n      <td>Mataderos</td>\n      <td>55.0</td>\n      <td>55.0</td>\n      <td>72000.0</td>\n      <td>0.0</td>\n    </tr>\n    <tr>\n      <th>7</th>\n      <td>apartment</td>\n      <td>Belgrano</td>\n      <td>45.0</td>\n      <td>40.0</td>\n      <td>138000.0</td>\n      <td>5.0</td>\n    </tr>\n    <tr>\n      <th>8</th>\n      <td>apartment</td>\n      <td>Belgrano</td>\n      <td>65.0</td>\n      <td>60.0</td>\n      <td>195000.0</td>\n      <td>5.0</td>\n    </tr>\n    <tr>\n      <th>13</th>\n      <td>apartment</td>\n      <td>Palermo Soho</td>\n      <td>50.0</td>\n      <td>30.0</td>\n      <td>111700.0</td>\n      <td>20.0</td>\n    </tr>\n    <tr>\n      <th>14</th>\n      <td>apartment</td>\n      <td>Palermo Soho</td>\n      <td>42.0</td>\n      <td>31.0</td>\n      <td>147900.0</td>\n      <td>11.0</td>\n    </tr>\n    <tr>\n      <th>...</th>\n      <td>...</td>\n      <td>...</td>\n      <td>...</td>\n      <td>...</td>\n      <td>...</td>\n      <td>...</td>\n    </tr>\n    <tr>\n      <th>121160</th>\n      <td>apartment</td>\n      <td>Belgrano</td>\n      <td>157.0</td>\n      <td>NaN</td>\n      <td>410000.0</td>\n      <td>NaN</td>\n    </tr>\n    <tr>\n      <th>121209</th>\n      <td>apartment</td>\n      <td>Belgrano</td>\n      <td>157.0</td>\n      <td>NaN</td>\n      <td>410000.0</td>\n      <td>NaN</td>\n    </tr>\n    <tr>\n      <th>121215</th>\n      <td>apartment</td>\n      <td>Belgrano</td>\n      <td>113.0</td>\n      <td>93.0</td>\n      <td>870000.0</td>\n      <td>20.0</td>\n    </tr>\n    <tr>\n      <th>121217</th>\n      <td>apartment</td>\n      <td>Villa Urquiza</td>\n      <td>46.0</td>\n      <td>39.0</td>\n      <td>131500.0</td>\n      <td>7.0</td>\n    </tr>\n    <tr>\n      <th>121219</th>\n      <td>apartment</td>\n      <td>Capital Federal</td>\n      <td>77.0</td>\n      <td>77.0</td>\n      <td>129000.0</td>\n      <td>0.0</td>\n    </tr>\n  </tbody>\n</table>\n<p>26968 rows × 6 columns</p>\n</div>"
     },
     "execution_count": 88,
     "metadata": {},
     "output_type": "execute_result"
    }
   ],
   "source": [
    "capital_federal_apartment.drop(indice.index, axis=0, inplace=True)\n",
    "\n",
    "capital_federal_apartment"
   ]
  },
  {
   "cell_type": "code",
   "execution_count": 89,
   "metadata": {
    "pycharm": {
     "name": "#%%\n"
    }
   },
   "outputs": [
    {
     "data": {
      "text/plain": "[(0.0, 550.0)]"
     },
     "execution_count": 89,
     "metadata": {},
     "output_type": "execute_result"
    },
    {
     "data": {
      "text/plain": "<Figure size 432x288 with 1 Axes>",
      "image/png": "[encoded data removed]"
     },
     "metadata": {},
     "output_type": "display_data"
    }
   ],
   "source": [
    "g=sns.boxplot(data=capital_federal_apartment,y='surface_total_in_m2')\n",
    "\n",
    "g.set(ylim=(0,550))"
   ]
  },
  {
   "cell_type": "code",
   "execution_count": 90,
   "metadata": {
    "collapsed": false,
    "pycharm": {
     "name": "#%%\n"
    }
   },
   "outputs": [
    {
     "name": "stderr",
     "output_type": "stream",
     "text": [
      "C:\\Users\\Juan\\AppData\\Local\\Temp\\ipykernel_13500\\573191145.py:1: SettingWithCopyWarning: \n",
      "A value is trying to be set on a copy of a slice from a DataFrame\n",
      "\n",
      "See the caveats in the documentation: https://pandas.pydata.org/pandas-docs/stable/user_guide/indexing.html#returning-a-view-versus-a-copy\n",
      "  capital_federal_apartment.drop('surface_total_in_m2', axis=1, inplace=True)\n"
     ]
    }
   ],
   "source": [
    "capital_federal_apartment.drop('surface_total_in_m2', axis=1, inplace=True)\n"
   ]
  },
  {
   "cell_type": "code",
   "execution_count": 91,
   "metadata": {
    "collapsed": false,
    "pycharm": {
     "name": "#%%\n"
    }
   },
   "outputs": [
    {
     "data": {
      "text/plain": "                                     column_name  percent_missing\nprice                                      price        10.660783\nsurface_covered_in_m2      surface_covered_in_m2         6.641204\nsurface_uncovered_in_m2  surface_uncovered_in_m2         6.641204\nproperty_type                      property_type         0.000000\nplace_name                            place_name         0.000000",
      "text/html": "<div>\n<style scoped>\n    .dataframe tbody tr th:only-of-type {\n        vertical-align: middle;\n    }\n\n    .dataframe tbody tr th {\n        vertical-align: top;\n    }\n\n    .dataframe thead th {\n        text-align: right;\n    }\n</style>\n<table border=\"1\" class=\"dataframe\">\n  <thead>\n    <tr style=\"text-align: right;\">\n      <th></th>\n      <th>column_name</th>\n      <th>percent_missing</th>\n    </tr>\n  </thead>\n  <tbody>\n    <tr>\n      <th>price</th>\n      <td>price</td>\n      <td>10.660783</td>\n    </tr>\n    <tr>\n      <th>surface_covered_in_m2</th>\n      <td>surface_covered_in_m2</td>\n      <td>6.641204</td>\n    </tr>\n    <tr>\n      <th>surface_uncovered_in_m2</th>\n      <td>surface_uncovered_in_m2</td>\n      <td>6.641204</td>\n    </tr>\n    <tr>\n      <th>property_type</th>\n      <td>property_type</td>\n      <td>0.000000</td>\n    </tr>\n    <tr>\n      <th>place_name</th>\n      <td>place_name</td>\n      <td>0.000000</td>\n    </tr>\n  </tbody>\n</table>\n</div>"
     },
     "execution_count": 91,
     "metadata": {},
     "output_type": "execute_result"
    }
   ],
   "source": [
    "percent_missing = capital_federal_apartment.isnull().sum() * 100 / len(capital_federal_apartment)\n",
    "missing_value_df = pd.DataFrame({'column_name': capital_federal_apartment.columns,\n",
    "                                 'percent_missing': percent_missing})\n",
    "\n",
    "missing_value_df.sort_values('percent_missing', inplace=True, ascending=False)\n",
    "missing_value_df"
   ]
  },
  {
   "cell_type": "code",
   "execution_count": 92,
   "metadata": {
    "collapsed": false,
    "pycharm": {
     "name": "#%%\n"
    }
   },
   "outputs": [
    {
     "data": {
      "text/plain": "       property_type       place_name  surface_covered_in_m2     price  \\\n2          apartment        Mataderos                   55.0   72000.0   \n7          apartment         Belgrano                   40.0  138000.0   \n8          apartment         Belgrano                   60.0  195000.0   \n13         apartment     Palermo Soho                   30.0  111700.0   \n14         apartment     Palermo Soho                   31.0  147900.0   \n...              ...              ...                    ...       ...   \n121157     apartment         Belgrano                   35.0  128000.0   \n121158     apartment         Recoleta                   39.0  165000.0   \n121215     apartment         Belgrano                   93.0  870000.0   \n121217     apartment    Villa Urquiza                   39.0  131500.0   \n121219     apartment  Capital Federal                   77.0  129000.0   \n\n        surface_uncovered_in_m2  \n2                           0.0  \n7                           5.0  \n8                           5.0  \n13                         20.0  \n14                         11.0  \n...                         ...  \n121157                      3.0  \n121158                      5.0  \n121215                     20.0  \n121217                      7.0  \n121219                      0.0  \n\n[22823 rows x 5 columns]",
      "text/html": "<div>\n<style scoped>\n    .dataframe tbody tr th:only-of-type {\n        vertical-align: middle;\n    }\n\n    .dataframe tbody tr th {\n        vertical-align: top;\n    }\n\n    .dataframe thead th {\n        text-align: right;\n    }\n</style>\n<table border=\"1\" class=\"dataframe\">\n  <thead>\n    <tr style=\"text-align: right;\">\n      <th></th>\n      <th>property_type</th>\n      <th>place_name</th>\n      <th>surface_covered_in_m2</th>\n      <th>price</th>\n      <th>surface_uncovered_in_m2</th>\n    </tr>\n  </thead>\n  <tbody>\n    <tr>\n      <th>2</th>\n      <td>apartment</td>\n      <td>Mataderos</td>\n      <td>55.0</td>\n      <td>72000.0</td>\n      <td>0.0</td>\n    </tr>\n    <tr>\n      <th>7</th>\n      <td>apartment</td>\n      <td>Belgrano</td>\n      <td>40.0</td>\n      <td>138000.0</td>\n      <td>5.0</td>\n    </tr>\n    <tr>\n      <th>8</th>\n      <td>apartment</td>\n      <td>Belgrano</td>\n      <td>60.0</td>\n      <td>195000.0</td>\n      <td>5.0</td>\n    </tr>\n    <tr>\n      <th>13</th>\n      <td>apartment</td>\n      <td>Palermo Soho</td>\n      <td>30.0</td>\n      <td>111700.0</td>\n      <td>20.0</td>\n    </tr>\n    <tr>\n      <th>14</th>\n      <td>apartment</td>\n      <td>Palermo Soho</td>\n      <td>31.0</td>\n      <td>147900.0</td>\n      <td>11.0</td>\n    </tr>\n    <tr>\n      <th>...</th>\n      <td>...</td>\n      <td>...</td>\n      <td>...</td>\n      <td>...</td>\n      <td>...</td>\n    </tr>\n    <tr>\n      <th>121157</th>\n      <td>apartment</td>\n      <td>Belgrano</td>\n      <td>35.0</td>\n      <td>128000.0</td>\n      <td>3.0</td>\n    </tr>\n    <tr>\n      <th>121158</th>\n      <td>apartment</td>\n      <td>Recoleta</td>\n      <td>39.0</td>\n      <td>165000.0</td>\n      <td>5.0</td>\n    </tr>\n    <tr>\n      <th>121215</th>\n      <td>apartment</td>\n      <td>Belgrano</td>\n      <td>93.0</td>\n      <td>870000.0</td>\n      <td>20.0</td>\n    </tr>\n    <tr>\n      <th>121217</th>\n      <td>apartment</td>\n      <td>Villa Urquiza</td>\n      <td>39.0</td>\n      <td>131500.0</td>\n      <td>7.0</td>\n    </tr>\n    <tr>\n      <th>121219</th>\n      <td>apartment</td>\n      <td>Capital Federal</td>\n      <td>77.0</td>\n      <td>129000.0</td>\n      <td>0.0</td>\n    </tr>\n  </tbody>\n</table>\n<p>22823 rows × 5 columns</p>\n</div>"
     },
     "execution_count": 92,
     "metadata": {},
     "output_type": "execute_result"
    }
   ],
   "source": [
    "capital_federal_apartment_clean = capital_federal_apartment.dropna()\n",
    "capital_federal_apartment_clean"
   ]
  },
  {
   "cell_type": "code",
   "execution_count": 93,
   "metadata": {
    "collapsed": false,
    "pycharm": {
     "name": "#%%\n"
    }
   },
   "outputs": [
    {
     "data": {
      "text/plain": "                                     column_name  percent_missing\nproperty_type                      property_type              0.0\nplace_name                            place_name              0.0\nsurface_covered_in_m2      surface_covered_in_m2              0.0\nprice                                      price              0.0\nsurface_uncovered_in_m2  surface_uncovered_in_m2              0.0",
      "text/html": "<div>\n<style scoped>\n    .dataframe tbody tr th:only-of-type {\n        vertical-align: middle;\n    }\n\n    .dataframe tbody tr th {\n        vertical-align: top;\n    }\n\n    .dataframe thead th {\n        text-align: right;\n    }\n</style>\n<table border=\"1\" class=\"dataframe\">\n  <thead>\n    <tr style=\"text-align: right;\">\n      <th></th>\n      <th>column_name</th>\n      <th>percent_missing</th>\n    </tr>\n  </thead>\n  <tbody>\n    <tr>\n      <th>property_type</th>\n      <td>property_type</td>\n      <td>0.0</td>\n    </tr>\n    <tr>\n      <th>place_name</th>\n      <td>place_name</td>\n      <td>0.0</td>\n    </tr>\n    <tr>\n      <th>surface_covered_in_m2</th>\n      <td>surface_covered_in_m2</td>\n      <td>0.0</td>\n    </tr>\n    <tr>\n      <th>price</th>\n      <td>price</td>\n      <td>0.0</td>\n    </tr>\n    <tr>\n      <th>surface_uncovered_in_m2</th>\n      <td>surface_uncovered_in_m2</td>\n      <td>0.0</td>\n    </tr>\n  </tbody>\n</table>\n</div>"
     },
     "execution_count": 93,
     "metadata": {},
     "output_type": "execute_result"
    }
   ],
   "source": [
    "percent_missing = capital_federal_apartment_clean.isnull().sum() * 100 / len(capital_federal_apartment_clean)\n",
    "missing_value_df = pd.DataFrame({'column_name': capital_federal_apartment_clean.columns,\n",
    "                                 'percent_missing': percent_missing})\n",
    "\n",
    "missing_value_df.sort_values('percent_missing', inplace=True, ascending=False)\n",
    "missing_value_df"
   ]
  },
  {
   "cell_type": "code",
   "execution_count": 94,
   "metadata": {
    "collapsed": false,
    "pycharm": {
     "name": "#%%\n"
    }
   },
   "outputs": [
    {
     "name": "stderr",
     "output_type": "stream",
     "text": [
      "C:\\Users\\Juan\\AppData\\Local\\Temp\\ipykernel_13500\\3058871001.py:1: SettingWithCopyWarning: \n",
      "A value is trying to be set on a copy of a slice from a DataFrame\n",
      "\n",
      "See the caveats in the documentation: https://pandas.pydata.org/pandas-docs/stable/user_guide/indexing.html#returning-a-view-versus-a-copy\n",
      "  capital_federal_apartment_clean.drop('property_type', inplace=True, axis=1)\n"
     ]
    },
    {
     "data": {
      "text/plain": "             place_name  surface_covered_in_m2     price  \\\n2             Mataderos                   55.0   72000.0   \n7              Belgrano                   40.0  138000.0   \n8              Belgrano                   60.0  195000.0   \n13         Palermo Soho                   30.0  111700.0   \n14         Palermo Soho                   31.0  147900.0   \n...                 ...                    ...       ...   \n121157         Belgrano                   35.0  128000.0   \n121158         Recoleta                   39.0  165000.0   \n121215         Belgrano                   93.0  870000.0   \n121217    Villa Urquiza                   39.0  131500.0   \n121219  Capital Federal                   77.0  129000.0   \n\n        surface_uncovered_in_m2  \n2                           0.0  \n7                           5.0  \n8                           5.0  \n13                         20.0  \n14                         11.0  \n...                         ...  \n121157                      3.0  \n121158                      5.0  \n121215                     20.0  \n121217                      7.0  \n121219                      0.0  \n\n[22823 rows x 4 columns]",
      "text/html": "<div>\n<style scoped>\n    .dataframe tbody tr th:only-of-type {\n        vertical-align: middle;\n    }\n\n    .dataframe tbody tr th {\n        vertical-align: top;\n    }\n\n    .dataframe thead th {\n        text-align: right;\n    }\n</style>\n<table border=\"1\" class=\"dataframe\">\n  <thead>\n    <tr style=\"text-align: right;\">\n      <th></th>\n      <th>place_name</th>\n      <th>surface_covered_in_m2</th>\n      <th>price</th>\n      <th>surface_uncovered_in_m2</th>\n    </tr>\n  </thead>\n  <tbody>\n    <tr>\n      <th>2</th>\n      <td>Mataderos</td>\n      <td>55.0</td>\n      <td>72000.0</td>\n      <td>0.0</td>\n    </tr>\n    <tr>\n      <th>7</th>\n      <td>Belgrano</td>\n      <td>40.0</td>\n      <td>138000.0</td>\n      <td>5.0</td>\n    </tr>\n    <tr>\n      <th>8</th>\n      <td>Belgrano</td>\n      <td>60.0</td>\n      <td>195000.0</td>\n      <td>5.0</td>\n    </tr>\n    <tr>\n      <th>13</th>\n      <td>Palermo Soho</td>\n      <td>30.0</td>\n      <td>111700.0</td>\n      <td>20.0</td>\n    </tr>\n    <tr>\n      <th>14</th>\n      <td>Palermo Soho</td>\n      <td>31.0</td>\n      <td>147900.0</td>\n      <td>11.0</td>\n    </tr>\n    <tr>\n      <th>...</th>\n      <td>...</td>\n      <td>...</td>\n      <td>...</td>\n      <td>...</td>\n    </tr>\n    <tr>\n      <th>121157</th>\n      <td>Belgrano</td>\n      <td>35.0</td>\n      <td>128000.0</td>\n      <td>3.0</td>\n    </tr>\n    <tr>\n      <th>121158</th>\n      <td>Recoleta</td>\n      <td>39.0</td>\n      <td>165000.0</td>\n      <td>5.0</td>\n    </tr>\n    <tr>\n      <th>121215</th>\n      <td>Belgrano</td>\n      <td>93.0</td>\n      <td>870000.0</td>\n      <td>20.0</td>\n    </tr>\n    <tr>\n      <th>121217</th>\n      <td>Villa Urquiza</td>\n      <td>39.0</td>\n      <td>131500.0</td>\n      <td>7.0</td>\n    </tr>\n    <tr>\n      <th>121219</th>\n      <td>Capital Federal</td>\n      <td>77.0</td>\n      <td>129000.0</td>\n      <td>0.0</td>\n    </tr>\n  </tbody>\n</table>\n<p>22823 rows × 4 columns</p>\n</div>"
     },
     "execution_count": 94,
     "metadata": {},
     "output_type": "execute_result"
    }
   ],
   "source": [
    "capital_federal_apartment_clean.drop('property_type', inplace=True, axis=1)\n",
    "capital_federal_apartment_clean"
   ]
  },
  {
   "cell_type": "code",
   "execution_count": 95,
   "outputs": [
    {
     "data": {
      "text/plain": "Int64Index([   219,    252,    351,    352,    353,    354,    355,    356,\n               357,    358,\n            ...\n            120420, 120421, 120422, 120423, 120424, 120425, 120426, 120427,\n            120428, 121215],\n           dtype='int64', length=2060)"
     },
     "execution_count": 95,
     "metadata": {},
     "output_type": "execute_result"
    }
   ],
   "source": [
    "indice=capital_federal_apartment_clean[capital_federal_apartment_clean['price'] > 800000]\n",
    "\n",
    "indice.index"
   ],
   "metadata": {
    "collapsed": false,
    "pycharm": {
     "name": "#%%\n"
    }
   }
  },
  {
   "cell_type": "code",
   "execution_count": 96,
   "outputs": [
    {
     "name": "stderr",
     "output_type": "stream",
     "text": [
      "C:\\Users\\Juan\\AppData\\Local\\Temp\\ipykernel_13500\\971147271.py:1: SettingWithCopyWarning: \n",
      "A value is trying to be set on a copy of a slice from a DataFrame\n",
      "\n",
      "See the caveats in the documentation: https://pandas.pydata.org/pandas-docs/stable/user_guide/indexing.html#returning-a-view-versus-a-copy\n",
      "  capital_federal_apartment_clean.drop(indice.index, axis=0, inplace=True)\n"
     ]
    },
    {
     "data": {
      "text/plain": "             place_name  surface_covered_in_m2     price  \\\n2             Mataderos                   55.0   72000.0   \n7              Belgrano                   40.0  138000.0   \n8              Belgrano                   60.0  195000.0   \n13         Palermo Soho                   30.0  111700.0   \n14         Palermo Soho                   31.0  147900.0   \n...                 ...                    ...       ...   \n121153     Barrio Norte                   65.0  165000.0   \n121157         Belgrano                   35.0  128000.0   \n121158         Recoleta                   39.0  165000.0   \n121217    Villa Urquiza                   39.0  131500.0   \n121219  Capital Federal                   77.0  129000.0   \n\n        surface_uncovered_in_m2  \n2                           0.0  \n7                           5.0  \n8                           5.0  \n13                         20.0  \n14                         11.0  \n...                         ...  \n121153                     26.0  \n121157                      3.0  \n121158                      5.0  \n121217                      7.0  \n121219                      0.0  \n\n[20763 rows x 4 columns]",
      "text/html": "<div>\n<style scoped>\n    .dataframe tbody tr th:only-of-type {\n        vertical-align: middle;\n    }\n\n    .dataframe tbody tr th {\n        vertical-align: top;\n    }\n\n    .dataframe thead th {\n        text-align: right;\n    }\n</style>\n<table border=\"1\" class=\"dataframe\">\n  <thead>\n    <tr style=\"text-align: right;\">\n      <th></th>\n      <th>place_name</th>\n      <th>surface_covered_in_m2</th>\n      <th>price</th>\n      <th>surface_uncovered_in_m2</th>\n    </tr>\n  </thead>\n  <tbody>\n    <tr>\n      <th>2</th>\n      <td>Mataderos</td>\n      <td>55.0</td>\n      <td>72000.0</td>\n      <td>0.0</td>\n    </tr>\n    <tr>\n      <th>7</th>\n      <td>Belgrano</td>\n      <td>40.0</td>\n      <td>138000.0</td>\n      <td>5.0</td>\n    </tr>\n    <tr>\n      <th>8</th>\n      <td>Belgrano</td>\n      <td>60.0</td>\n      <td>195000.0</td>\n      <td>5.0</td>\n    </tr>\n    <tr>\n      <th>13</th>\n      <td>Palermo Soho</td>\n      <td>30.0</td>\n      <td>111700.0</td>\n      <td>20.0</td>\n    </tr>\n    <tr>\n      <th>14</th>\n      <td>Palermo Soho</td>\n      <td>31.0</td>\n      <td>147900.0</td>\n      <td>11.0</td>\n    </tr>\n    <tr>\n      <th>...</th>\n      <td>...</td>\n      <td>...</td>\n      <td>...</td>\n      <td>...</td>\n    </tr>\n    <tr>\n      <th>121153</th>\n      <td>Barrio Norte</td>\n      <td>65.0</td>\n      <td>165000.0</td>\n      <td>26.0</td>\n    </tr>\n    <tr>\n      <th>121157</th>\n      <td>Belgrano</td>\n      <td>35.0</td>\n      <td>128000.0</td>\n      <td>3.0</td>\n    </tr>\n    <tr>\n      <th>121158</th>\n      <td>Recoleta</td>\n      <td>39.0</td>\n      <td>165000.0</td>\n      <td>5.0</td>\n    </tr>\n    <tr>\n      <th>121217</th>\n      <td>Villa Urquiza</td>\n      <td>39.0</td>\n      <td>131500.0</td>\n      <td>7.0</td>\n    </tr>\n    <tr>\n      <th>121219</th>\n      <td>Capital Federal</td>\n      <td>77.0</td>\n      <td>129000.0</td>\n      <td>0.0</td>\n    </tr>\n  </tbody>\n</table>\n<p>20763 rows × 4 columns</p>\n</div>"
     },
     "execution_count": 96,
     "metadata": {},
     "output_type": "execute_result"
    }
   ],
   "source": [
    "capital_federal_apartment_clean.drop(indice.index, axis=0, inplace=True)\n",
    "\n",
    "capital_federal_apartment_clean"
   ],
   "metadata": {
    "collapsed": false,
    "pycharm": {
     "name": "#%%\n"
    }
   }
  },
  {
   "cell_type": "code",
   "execution_count": 97,
   "metadata": {
    "collapsed": false,
    "pycharm": {
     "name": "#%%\n"
    }
   },
   "outputs": [
    {
     "data": {
      "text/plain": "        Barrio_Abasto  Barrio_Agronomía  Barrio_Almagro  Barrio_Balvanera  \\\n2                   0                 0               0                 0   \n7                   0                 0               0                 0   \n8                   0                 0               0                 0   \n13                  0                 0               0                 0   \n14                  0                 0               0                 0   \n...               ...               ...             ...               ...   \n121153              0                 0               0                 0   \n121157              0                 0               0                 0   \n121158              0                 0               0                 0   \n121217              0                 0               0                 0   \n121219              0                 0               0                 0   \n\n        Barrio_Barracas  Barrio_Barrio Norte  Barrio_Belgrano  Barrio_Boca  \\\n2                     0                    0                0            0   \n7                     0                    0                1            0   \n8                     0                    0                1            0   \n13                    0                    0                0            0   \n14                    0                    0                0            0   \n...                 ...                  ...              ...          ...   \n121153                0                    1                0            0   \n121157                0                    0                1            0   \n121158                0                    0                0            0   \n121217                0                    0                0            0   \n121219                0                    0                0            0   \n\n        Barrio_Boedo  Barrio_Caballito  ...  Barrio_Villa Lugano  \\\n2                  0                 0  ...                    0   \n7                  0                 0  ...                    0   \n8                  0                 0  ...                    0   \n13                 0                 0  ...                    0   \n14                 0                 0  ...                    0   \n...              ...               ...  ...                  ...   \n121153             0                 0  ...                    0   \n121157             0                 0  ...                    0   \n121158             0                 0  ...                    0   \n121217             0                 0  ...                    0   \n121219             0                 0  ...                    0   \n\n        Barrio_Villa Luro  Barrio_Villa Ortuzar  Barrio_Villa Pueyrredón  \\\n2                       0                     0                        0   \n7                       0                     0                        0   \n8                       0                     0                        0   \n13                      0                     0                        0   \n14                      0                     0                        0   \n...                   ...                   ...                      ...   \n121153                  0                     0                        0   \n121157                  0                     0                        0   \n121158                  0                     0                        0   \n121217                  0                     0                        0   \n121219                  0                     0                        0   \n\n        Barrio_Villa Real  Barrio_Villa Riachuelo  Barrio_Villa Santa Rita  \\\n2                       0                       0                        0   \n7                       0                       0                        0   \n8                       0                       0                        0   \n13                      0                       0                        0   \n14                      0                       0                        0   \n...                   ...                     ...                      ...   \n121153                  0                       0                        0   \n121157                  0                       0                        0   \n121158                  0                       0                        0   \n121217                  0                       0                        0   \n121219                  0                       0                        0   \n\n        Barrio_Villa Soldati  Barrio_Villa Urquiza  Barrio_Villa del Parque  \n2                          0                     0                        0  \n7                          0                     0                        0  \n8                          0                     0                        0  \n13                         0                     0                        0  \n14                         0                     0                        0  \n...                      ...                   ...                      ...  \n121153                     0                     0                        0  \n121157                     0                     0                        0  \n121158                     0                     0                        0  \n121217                     0                     1                        0  \n121219                     0                     0                        0  \n\n[20763 rows x 62 columns]",
      "text/html": "<div>\n<style scoped>\n    .dataframe tbody tr th:only-of-type {\n        vertical-align: middle;\n    }\n\n    .dataframe tbody tr th {\n        vertical-align: top;\n    }\n\n    .dataframe thead th {\n        text-align: right;\n    }\n</style>\n<table border=\"1\" class=\"dataframe\">\n  <thead>\n    <tr style=\"text-align: right;\">\n      <th></th>\n      <th>Barrio_Abasto</th>\n      <th>Barrio_Agronomía</th>\n      <th>Barrio_Almagro</th>\n      <th>Barrio_Balvanera</th>\n      <th>Barrio_Barracas</th>\n      <th>Barrio_Barrio Norte</th>\n      <th>Barrio_Belgrano</th>\n      <th>Barrio_Boca</th>\n      <th>Barrio_Boedo</th>\n      <th>Barrio_Caballito</th>\n      <th>...</th>\n      <th>Barrio_Villa Lugano</th>\n      <th>Barrio_Villa Luro</th>\n      <th>Barrio_Villa Ortuzar</th>\n      <th>Barrio_Villa Pueyrredón</th>\n      <th>Barrio_Villa Real</th>\n      <th>Barrio_Villa Riachuelo</th>\n      <th>Barrio_Villa Santa Rita</th>\n      <th>Barrio_Villa Soldati</th>\n      <th>Barrio_Villa Urquiza</th>\n      <th>Barrio_Villa del Parque</th>\n    </tr>\n  </thead>\n  <tbody>\n    <tr>\n      <th>2</th>\n      <td>0</td>\n      <td>0</td>\n      <td>0</td>\n      <td>0</td>\n      <td>0</td>\n      <td>0</td>\n      <td>0</td>\n      <td>0</td>\n      <td>0</td>\n      <td>0</td>\n      <td>...</td>\n      <td>0</td>\n      <td>0</td>\n      <td>0</td>\n      <td>0</td>\n      <td>0</td>\n      <td>0</td>\n      <td>0</td>\n      <td>0</td>\n      <td>0</td>\n      <td>0</td>\n    </tr>\n    <tr>\n      <th>7</th>\n      <td>0</td>\n      <td>0</td>\n      <td>0</td>\n      <td>0</td>\n      <td>0</td>\n      <td>0</td>\n      <td>1</td>\n      <td>0</td>\n      <td>0</td>\n      <td>0</td>\n      <td>...</td>\n      <td>0</td>\n      <td>0</td>\n      <td>0</td>\n      <td>0</td>\n      <td>0</td>\n      <td>0</td>\n      <td>0</td>\n      <td>0</td>\n      <td>0</td>\n      <td>0</td>\n    </tr>\n    <tr>\n      <th>8</th>\n      <td>0</td>\n      <td>0</td>\n      <td>0</td>\n      <td>0</td>\n      <td>0</td>\n      <td>0</td>\n      <td>1</td>\n      <td>0</td>\n      <td>0</td>\n      <td>0</td>\n      <td>...</td>\n      <td>0</td>\n      <td>0</td>\n      <td>0</td>\n      <td>0</td>\n      <td>0</td>\n      <td>0</td>\n      <td>0</td>\n      <td>0</td>\n      <td>0</td>\n      <td>0</td>\n    </tr>\n    <tr>\n      <th>13</th>\n      <td>0</td>\n      <td>0</td>\n      <td>0</td>\n      <td>0</td>\n      <td>0</td>\n      <td>0</td>\n      <td>0</td>\n      <td>0</td>\n      <td>0</td>\n      <td>0</td>\n      <td>...</td>\n      <td>0</td>\n      <td>0</td>\n      <td>0</td>\n      <td>0</td>\n      <td>0</td>\n      <td>0</td>\n      <td>0</td>\n      <td>0</td>\n      <td>0</td>\n      <td>0</td>\n    </tr>\n    <tr>\n      <th>14</th>\n      <td>0</td>\n      <td>0</td>\n      <td>0</td>\n      <td>0</td>\n      <td>0</td>\n      <td>0</td>\n      <td>0</td>\n      <td>0</td>\n      <td>0</td>\n      <td>0</td>\n      <td>...</td>\n      <td>0</td>\n      <td>0</td>\n      <td>0</td>\n      <td>0</td>\n      <td>0</td>\n      <td>0</td>\n      <td>0</td>\n      <td>0</td>\n      <td>0</td>\n      <td>0</td>\n    </tr>\n    <tr>\n      <th>...</th>\n      <td>...</td>\n      <td>...</td>\n      <td>...</td>\n      <td>...</td>\n      <td>...</td>\n      <td>...</td>\n      <td>...</td>\n      <td>...</td>\n      <td>...</td>\n      <td>...</td>\n      <td>...</td>\n      <td>...</td>\n      <td>...</td>\n      <td>...</td>\n      <td>...</td>\n      <td>...</td>\n      <td>...</td>\n      <td>...</td>\n      <td>...</td>\n      <td>...</td>\n      <td>...</td>\n    </tr>\n    <tr>\n      <th>121153</th>\n      <td>0</td>\n      <td>0</td>\n      <td>0</td>\n      <td>0</td>\n      <td>0</td>\n      <td>1</td>\n      <td>0</td>\n      <td>0</td>\n      <td>0</td>\n      <td>0</td>\n      <td>...</td>\n      <td>0</td>\n      <td>0</td>\n      <td>0</td>\n      <td>0</td>\n      <td>0</td>\n      <td>0</td>\n      <td>0</td>\n      <td>0</td>\n      <td>0</td>\n      <td>0</td>\n    </tr>\n    <tr>\n      <th>121157</th>\n      <td>0</td>\n      <td>0</td>\n      <td>0</td>\n      <td>0</td>\n      <td>0</td>\n      <td>0</td>\n      <td>1</td>\n      <td>0</td>\n      <td>0</td>\n      <td>0</td>\n      <td>...</td>\n      <td>0</td>\n      <td>0</td>\n      <td>0</td>\n      <td>0</td>\n      <td>0</td>\n      <td>0</td>\n      <td>0</td>\n      <td>0</td>\n      <td>0</td>\n      <td>0</td>\n    </tr>\n    <tr>\n      <th>121158</th>\n      <td>0</td>\n      <td>0</td>\n      <td>0</td>\n      <td>0</td>\n      <td>0</td>\n      <td>0</td>\n      <td>0</td>\n      <td>0</td>\n      <td>0</td>\n      <td>0</td>\n      <td>...</td>\n      <td>0</td>\n      <td>0</td>\n      <td>0</td>\n      <td>0</td>\n      <td>0</td>\n      <td>0</td>\n      <td>0</td>\n      <td>0</td>\n      <td>0</td>\n      <td>0</td>\n    </tr>\n    <tr>\n      <th>121217</th>\n      <td>0</td>\n      <td>0</td>\n      <td>0</td>\n      <td>0</td>\n      <td>0</td>\n      <td>0</td>\n      <td>0</td>\n      <td>0</td>\n      <td>0</td>\n      <td>0</td>\n      <td>...</td>\n      <td>0</td>\n      <td>0</td>\n      <td>0</td>\n      <td>0</td>\n      <td>0</td>\n      <td>0</td>\n      <td>0</td>\n      <td>0</td>\n      <td>1</td>\n      <td>0</td>\n    </tr>\n    <tr>\n      <th>121219</th>\n      <td>0</td>\n      <td>0</td>\n      <td>0</td>\n      <td>0</td>\n      <td>0</td>\n      <td>0</td>\n      <td>0</td>\n      <td>0</td>\n      <td>0</td>\n      <td>0</td>\n      <td>...</td>\n      <td>0</td>\n      <td>0</td>\n      <td>0</td>\n      <td>0</td>\n      <td>0</td>\n      <td>0</td>\n      <td>0</td>\n      <td>0</td>\n      <td>0</td>\n      <td>0</td>\n    </tr>\n  </tbody>\n</table>\n<p>20763 rows × 62 columns</p>\n</div>"
     },
     "execution_count": 97,
     "metadata": {},
     "output_type": "execute_result"
    }
   ],
   "source": [
    "dummies = pd.get_dummies(capital_federal_apartment_clean['place_name']).rename(columns=lambda x: 'Barrio_' + str(x))\n",
    "dummies\n",
    "\n",
    "# X = pd.concat([dummies, std_df], axis = 1)"
   ]
  },
  {
   "cell_type": "code",
   "execution_count": 98,
   "metadata": {
    "collapsed": false,
    "pycharm": {
     "name": "#%%\n"
    }
   },
   "outputs": [
    {
     "data": {
      "text/plain": "        surface_uncovered_in_m2_std  surface_covered_in_m2_std\n2                         -0.243468                  -0.189478\n7                         -0.073575                  -0.495963\n8                         -0.073575                  -0.087316\n13                         0.436104                  -0.700286\n14                         0.130296                  -0.679854\n...                             ...                        ...\n121153                     0.639976                   0.014846\n121157                    -0.141533                  -0.598125\n121158                    -0.073575                  -0.516395\n121217                    -0.005618                  -0.516395\n121219                    -0.243468                   0.260034\n\n[20763 rows x 2 columns]",
      "text/html": "<div>\n<style scoped>\n    .dataframe tbody tr th:only-of-type {\n        vertical-align: middle;\n    }\n\n    .dataframe tbody tr th {\n        vertical-align: top;\n    }\n\n    .dataframe thead th {\n        text-align: right;\n    }\n</style>\n<table border=\"1\" class=\"dataframe\">\n  <thead>\n    <tr style=\"text-align: right;\">\n      <th></th>\n      <th>surface_uncovered_in_m2_std</th>\n      <th>surface_covered_in_m2_std</th>\n    </tr>\n  </thead>\n  <tbody>\n    <tr>\n      <th>2</th>\n      <td>-0.243468</td>\n      <td>-0.189478</td>\n    </tr>\n    <tr>\n      <th>7</th>\n      <td>-0.073575</td>\n      <td>-0.495963</td>\n    </tr>\n    <tr>\n      <th>8</th>\n      <td>-0.073575</td>\n      <td>-0.087316</td>\n    </tr>\n    <tr>\n      <th>13</th>\n      <td>0.436104</td>\n      <td>-0.700286</td>\n    </tr>\n    <tr>\n      <th>14</th>\n      <td>0.130296</td>\n      <td>-0.679854</td>\n    </tr>\n    <tr>\n      <th>...</th>\n      <td>...</td>\n      <td>...</td>\n    </tr>\n    <tr>\n      <th>121153</th>\n      <td>0.639976</td>\n      <td>0.014846</td>\n    </tr>\n    <tr>\n      <th>121157</th>\n      <td>-0.141533</td>\n      <td>-0.598125</td>\n    </tr>\n    <tr>\n      <th>121158</th>\n      <td>-0.073575</td>\n      <td>-0.516395</td>\n    </tr>\n    <tr>\n      <th>121217</th>\n      <td>-0.005618</td>\n      <td>-0.516395</td>\n    </tr>\n    <tr>\n      <th>121219</th>\n      <td>-0.243468</td>\n      <td>0.260034</td>\n    </tr>\n  </tbody>\n</table>\n<p>20763 rows × 2 columns</p>\n</div>"
     },
     "execution_count": 98,
     "metadata": {},
     "output_type": "execute_result"
    }
   ],
   "source": [
    "numericals = ['surface_uncovered_in_m2', 'surface_covered_in_m2']\n",
    "\n",
    "X = capital_federal_apartment_clean[numericals]\n",
    "\n",
    "scaler = StandardScaler()\n",
    "scaler.fit(X)\n",
    "\n",
    "std_numerical_data = scaler.transform(X)\n",
    "std_df = pd.DataFrame(std_numerical_data, index=capital_federal_apartment_clean.index)\n",
    "std_df.columns = [i + '_std' for i in numericals]\n",
    "\n",
    "std_df\n",
    "#data_scaled = pd.DataFrame(scaled_features, index=df.index, columns=df.columns)\n"
   ]
  },
  {
   "cell_type": "code",
   "execution_count": 99,
   "metadata": {
    "collapsed": false,
    "pycharm": {
     "name": "#%%\n"
    }
   },
   "outputs": [
    {
     "data": {
      "text/plain": "        Barrio_Abasto  Barrio_Agronomía  Barrio_Almagro  Barrio_Balvanera  \\\n2                   0                 0               0                 0   \n7                   0                 0               0                 0   \n8                   0                 0               0                 0   \n13                  0                 0               0                 0   \n14                  0                 0               0                 0   \n...               ...               ...             ...               ...   \n121153              0                 0               0                 0   \n121157              0                 0               0                 0   \n121158              0                 0               0                 0   \n121217              0                 0               0                 0   \n121219              0                 0               0                 0   \n\n        Barrio_Barracas  Barrio_Barrio Norte  Barrio_Belgrano  Barrio_Boca  \\\n2                     0                    0                0            0   \n7                     0                    0                1            0   \n8                     0                    0                1            0   \n13                    0                    0                0            0   \n14                    0                    0                0            0   \n...                 ...                  ...              ...          ...   \n121153                0                    1                0            0   \n121157                0                    0                1            0   \n121158                0                    0                0            0   \n121217                0                    0                0            0   \n121219                0                    0                0            0   \n\n        Barrio_Boedo  Barrio_Caballito  ...  Barrio_Villa Ortuzar  \\\n2                  0                 0  ...                     0   \n7                  0                 0  ...                     0   \n8                  0                 0  ...                     0   \n13                 0                 0  ...                     0   \n14                 0                 0  ...                     0   \n...              ...               ...  ...                   ...   \n121153             0                 0  ...                     0   \n121157             0                 0  ...                     0   \n121158             0                 0  ...                     0   \n121217             0                 0  ...                     0   \n121219             0                 0  ...                     0   \n\n        Barrio_Villa Pueyrredón  Barrio_Villa Real  Barrio_Villa Riachuelo  \\\n2                             0                  0                       0   \n7                             0                  0                       0   \n8                             0                  0                       0   \n13                            0                  0                       0   \n14                            0                  0                       0   \n...                         ...                ...                     ...   \n121153                        0                  0                       0   \n121157                        0                  0                       0   \n121158                        0                  0                       0   \n121217                        0                  0                       0   \n121219                        0                  0                       0   \n\n        Barrio_Villa Santa Rita  Barrio_Villa Soldati  Barrio_Villa Urquiza  \\\n2                             0                     0                     0   \n7                             0                     0                     0   \n8                             0                     0                     0   \n13                            0                     0                     0   \n14                            0                     0                     0   \n...                         ...                   ...                   ...   \n121153                        0                     0                     0   \n121157                        0                     0                     0   \n121158                        0                     0                     0   \n121217                        0                     0                     1   \n121219                        0                     0                     0   \n\n        Barrio_Villa del Parque  surface_uncovered_in_m2_std  \\\n2                             0                    -0.243468   \n7                             0                    -0.073575   \n8                             0                    -0.073575   \n13                            0                     0.436104   \n14                            0                     0.130296   \n...                         ...                          ...   \n121153                        0                     0.639976   \n121157                        0                    -0.141533   \n121158                        0                    -0.073575   \n121217                        0                    -0.005618   \n121219                        0                    -0.243468   \n\n        surface_covered_in_m2_std  \n2                       -0.189478  \n7                       -0.495963  \n8                       -0.087316  \n13                      -0.700286  \n14                      -0.679854  \n...                           ...  \n121153                   0.014846  \n121157                  -0.598125  \n121158                  -0.516395  \n121217                  -0.516395  \n121219                   0.260034  \n\n[20763 rows x 64 columns]",
      "text/html": "<div>\n<style scoped>\n    .dataframe tbody tr th:only-of-type {\n        vertical-align: middle;\n    }\n\n    .dataframe tbody tr th {\n        vertical-align: top;\n    }\n\n    .dataframe thead th {\n        text-align: right;\n    }\n</style>\n<table border=\"1\" class=\"dataframe\">\n  <thead>\n    <tr style=\"text-align: right;\">\n      <th></th>\n      <th>Barrio_Abasto</th>\n      <th>Barrio_Agronomía</th>\n      <th>Barrio_Almagro</th>\n      <th>Barrio_Balvanera</th>\n      <th>Barrio_Barracas</th>\n      <th>Barrio_Barrio Norte</th>\n      <th>Barrio_Belgrano</th>\n      <th>Barrio_Boca</th>\n      <th>Barrio_Boedo</th>\n      <th>Barrio_Caballito</th>\n      <th>...</th>\n      <th>Barrio_Villa Ortuzar</th>\n      <th>Barrio_Villa Pueyrredón</th>\n      <th>Barrio_Villa Real</th>\n      <th>Barrio_Villa Riachuelo</th>\n      <th>Barrio_Villa Santa Rita</th>\n      <th>Barrio_Villa Soldati</th>\n      <th>Barrio_Villa Urquiza</th>\n      <th>Barrio_Villa del Parque</th>\n      <th>surface_uncovered_in_m2_std</th>\n      <th>surface_covered_in_m2_std</th>\n    </tr>\n  </thead>\n  <tbody>\n    <tr>\n      <th>2</th>\n      <td>0</td>\n      <td>0</td>\n      <td>0</td>\n      <td>0</td>\n      <td>0</td>\n      <td>0</td>\n      <td>0</td>\n      <td>0</td>\n      <td>0</td>\n      <td>0</td>\n      <td>...</td>\n      <td>0</td>\n      <td>0</td>\n      <td>0</td>\n      <td>0</td>\n      <td>0</td>\n      <td>0</td>\n      <td>0</td>\n      <td>0</td>\n      <td>-0.243468</td>\n      <td>-0.189478</td>\n    </tr>\n    <tr>\n      <th>7</th>\n      <td>0</td>\n      <td>0</td>\n      <td>0</td>\n      <td>0</td>\n      <td>0</td>\n      <td>0</td>\n      <td>1</td>\n      <td>0</td>\n      <td>0</td>\n      <td>0</td>\n      <td>...</td>\n      <td>0</td>\n      <td>0</td>\n      <td>0</td>\n      <td>0</td>\n      <td>0</td>\n      <td>0</td>\n      <td>0</td>\n      <td>0</td>\n      <td>-0.073575</td>\n      <td>-0.495963</td>\n    </tr>\n    <tr>\n      <th>8</th>\n      <td>0</td>\n      <td>0</td>\n      <td>0</td>\n      <td>0</td>\n      <td>0</td>\n      <td>0</td>\n      <td>1</td>\n      <td>0</td>\n      <td>0</td>\n      <td>0</td>\n      <td>...</td>\n      <td>0</td>\n      <td>0</td>\n      <td>0</td>\n      <td>0</td>\n      <td>0</td>\n      <td>0</td>\n      <td>0</td>\n      <td>0</td>\n      <td>-0.073575</td>\n      <td>-0.087316</td>\n    </tr>\n    <tr>\n      <th>13</th>\n      <td>0</td>\n      <td>0</td>\n      <td>0</td>\n      <td>0</td>\n      <td>0</td>\n      <td>0</td>\n      <td>0</td>\n      <td>0</td>\n      <td>0</td>\n      <td>0</td>\n      <td>...</td>\n      <td>0</td>\n      <td>0</td>\n      <td>0</td>\n      <td>0</td>\n      <td>0</td>\n      <td>0</td>\n      <td>0</td>\n      <td>0</td>\n      <td>0.436104</td>\n      <td>-0.700286</td>\n    </tr>\n    <tr>\n      <th>14</th>\n      <td>0</td>\n      <td>0</td>\n      <td>0</td>\n      <td>0</td>\n      <td>0</td>\n      <td>0</td>\n      <td>0</td>\n      <td>0</td>\n      <td>0</td>\n      <td>0</td>\n      <td>...</td>\n      <td>0</td>\n      <td>0</td>\n      <td>0</td>\n      <td>0</td>\n      <td>0</td>\n      <td>0</td>\n      <td>0</td>\n      <td>0</td>\n      <td>0.130296</td>\n      <td>-0.679854</td>\n    </tr>\n    <tr>\n      <th>...</th>\n      <td>...</td>\n      <td>...</td>\n      <td>...</td>\n      <td>...</td>\n      <td>...</td>\n      <td>...</td>\n      <td>...</td>\n      <td>...</td>\n      <td>...</td>\n      <td>...</td>\n      <td>...</td>\n      <td>...</td>\n      <td>...</td>\n      <td>...</td>\n      <td>...</td>\n      <td>...</td>\n      <td>...</td>\n      <td>...</td>\n      <td>...</td>\n      <td>...</td>\n      <td>...</td>\n    </tr>\n    <tr>\n      <th>121153</th>\n      <td>0</td>\n      <td>0</td>\n      <td>0</td>\n      <td>0</td>\n      <td>0</td>\n      <td>1</td>\n      <td>0</td>\n      <td>0</td>\n      <td>0</td>\n      <td>0</td>\n      <td>...</td>\n      <td>0</td>\n      <td>0</td>\n      <td>0</td>\n      <td>0</td>\n      <td>0</td>\n      <td>0</td>\n      <td>0</td>\n      <td>0</td>\n      <td>0.639976</td>\n      <td>0.014846</td>\n    </tr>\n    <tr>\n      <th>121157</th>\n      <td>0</td>\n      <td>0</td>\n      <td>0</td>\n      <td>0</td>\n      <td>0</td>\n      <td>0</td>\n      <td>1</td>\n      <td>0</td>\n      <td>0</td>\n      <td>0</td>\n      <td>...</td>\n      <td>0</td>\n      <td>0</td>\n      <td>0</td>\n      <td>0</td>\n      <td>0</td>\n      <td>0</td>\n      <td>0</td>\n      <td>0</td>\n      <td>-0.141533</td>\n      <td>-0.598125</td>\n    </tr>\n    <tr>\n      <th>121158</th>\n      <td>0</td>\n      <td>0</td>\n      <td>0</td>\n      <td>0</td>\n      <td>0</td>\n      <td>0</td>\n      <td>0</td>\n      <td>0</td>\n      <td>0</td>\n      <td>0</td>\n      <td>...</td>\n      <td>0</td>\n      <td>0</td>\n      <td>0</td>\n      <td>0</td>\n      <td>0</td>\n      <td>0</td>\n      <td>0</td>\n      <td>0</td>\n      <td>-0.073575</td>\n      <td>-0.516395</td>\n    </tr>\n    <tr>\n      <th>121217</th>\n      <td>0</td>\n      <td>0</td>\n      <td>0</td>\n      <td>0</td>\n      <td>0</td>\n      <td>0</td>\n      <td>0</td>\n      <td>0</td>\n      <td>0</td>\n      <td>0</td>\n      <td>...</td>\n      <td>0</td>\n      <td>0</td>\n      <td>0</td>\n      <td>0</td>\n      <td>0</td>\n      <td>0</td>\n      <td>1</td>\n      <td>0</td>\n      <td>-0.005618</td>\n      <td>-0.516395</td>\n    </tr>\n    <tr>\n      <th>121219</th>\n      <td>0</td>\n      <td>0</td>\n      <td>0</td>\n      <td>0</td>\n      <td>0</td>\n      <td>0</td>\n      <td>0</td>\n      <td>0</td>\n      <td>0</td>\n      <td>0</td>\n      <td>...</td>\n      <td>0</td>\n      <td>0</td>\n      <td>0</td>\n      <td>0</td>\n      <td>0</td>\n      <td>0</td>\n      <td>0</td>\n      <td>0</td>\n      <td>-0.243468</td>\n      <td>0.260034</td>\n    </tr>\n  </tbody>\n</table>\n<p>20763 rows × 64 columns</p>\n</div>"
     },
     "execution_count": 99,
     "metadata": {},
     "output_type": "execute_result"
    }
   ],
   "source": [
    "X = pd.concat([dummies, std_df], axis = 1)\n",
    "X"
   ]
  },
  {
   "cell_type": "code",
   "execution_count": 99,
   "outputs": [],
   "source": [],
   "metadata": {
    "collapsed": false,
    "pycharm": {
     "name": "#%%\n"
    }
   }
  },
  {
   "cell_type": "code",
   "execution_count": 99,
   "outputs": [],
   "source": [],
   "metadata": {
    "collapsed": false,
    "pycharm": {
     "name": "#%%\n"
    }
   }
  },
  {
   "cell_type": "code",
   "execution_count": 99,
   "outputs": [],
   "source": [],
   "metadata": {
    "collapsed": false,
    "pycharm": {
     "name": "#%%\n"
    }
   }
  },
  {
   "cell_type": "code",
   "execution_count": 100,
   "metadata": {
    "collapsed": false,
    "pycharm": {
     "name": "#%%\n"
    }
   },
   "outputs": [],
   "source": [
    "y = capital_federal_apartment_clean.price"
   ]
  },
  {
   "cell_type": "code",
   "execution_count": 101,
   "metadata": {
    "collapsed": false,
    "pycharm": {
     "name": "#%%\n"
    }
   },
   "outputs": [],
   "source": [
    "X_train, X_test, y_train, y_test = train_test_split(X, y, test_size = 0.3, random_state = 117)\n"
   ]
  },
  {
   "cell_type": "code",
   "execution_count": 102,
   "metadata": {
    "collapsed": false,
    "pycharm": {
     "name": "#%%\n"
    }
   },
   "outputs": [
    {
     "data": {
      "text/plain": "<class 'statsmodels.iolib.summary.Summary'>\n\"\"\"\n                            OLS Regression Results                            \n==============================================================================\nDep. Variable:                  price   R-squared:                       0.638\nModel:                            OLS   Adj. R-squared:                  0.636\nMethod:                 Least Squares   F-statistic:                     417.3\nDate:                Thu, 01 Dec 2022   Prob (F-statistic):               0.00\nTime:                        00:43:03   Log-Likelihood:            -1.8623e+05\nNo. Observations:               14534   AIC:                         3.726e+05\nDf Residuals:                   14472   BIC:                         3.731e+05\nDf Model:                          61                                         \nCovariance Type:            nonrobust                                         \n===============================================================================================\n                                  coef    std err          t      P>|t|      [0.025      0.975]\n-----------------------------------------------------------------------------------------------\nconst                          1.7e+05   1772.536     95.900      0.000    1.67e+05    1.73e+05\nBarrio_Abasto               -1.747e+04   1.19e+04     -1.463      0.144   -4.09e+04    5940.375\nBarrio_Agronomía            -1.398e+04   2.13e+04     -0.656      0.512   -5.58e+04    2.78e+04\nBarrio_Almagro              -4374.5412   4104.429     -1.066      0.287   -1.24e+04    3670.665\nBarrio_Balvanera            -4.359e+04   5084.000     -8.574      0.000   -5.36e+04   -3.36e+04\nBarrio_Barracas              -2.47e+04   6428.932     -3.841      0.000   -3.73e+04   -1.21e+04\nBarrio_Barrio Norte          4.878e+04   4050.873     12.041      0.000    4.08e+04    5.67e+04\nBarrio_Belgrano              4.979e+04   2958.135     16.830      0.000     4.4e+04    5.56e+04\nBarrio_Boca                 -2.519e+04   9610.308     -2.621      0.009    -4.4e+04   -6351.276\nBarrio_Boedo                 2.212e+05   4410.856     50.138      0.000    2.13e+05     2.3e+05\nBarrio_Caballito             4428.7341   3010.893      1.471      0.141   -1473.001    1.03e+04\nBarrio_Capital Federal        -53.0074   5779.299     -0.009      0.993   -1.14e+04    1.13e+04\nBarrio_Catalinas            -1.773e-11   3.16e-11     -0.561      0.575   -7.97e-11    4.42e-11\nBarrio_Centro / Microcentro -1.926e+04   8358.087     -2.304      0.021   -3.56e+04   -2876.464\nBarrio_Chacarita            -1.274e+04   8467.746     -1.505      0.132   -2.93e+04    3857.570\nBarrio_Coghlan               4317.4568   7614.460      0.567      0.571   -1.06e+04    1.92e+04\nBarrio_Colegiales            1.399e+04   6928.443      2.019      0.043     408.865    2.76e+04\nBarrio_Congreso             -4.513e+04   6680.143     -6.755      0.000   -5.82e+04    -3.2e+04\nBarrio_Constitución         -5.396e+04   8575.034     -6.293      0.000   -7.08e+04   -3.72e+04\nBarrio_Flores               -2.517e+04   3849.343     -6.539      0.000   -3.27e+04   -1.76e+04\nBarrio_Floresta             -3.924e+04   6817.663     -5.756      0.000   -5.26e+04   -2.59e+04\nBarrio_Las Cañitas           1.145e+05      1e+04     11.430      0.000    9.49e+04    1.34e+05\nBarrio_Liniers              -3.539e+04   9400.152     -3.765      0.000   -5.38e+04    -1.7e+04\nBarrio_Mataderos            -3.278e+04   9560.787     -3.429      0.001   -5.15e+04    -1.4e+04\nBarrio_Monserrat            -3.597e+04   5408.433     -6.652      0.000   -4.66e+04   -2.54e+04\nBarrio_Monte Castro          -3.42e+04   1.73e+04     -1.981      0.048    -6.8e+04    -353.180\nBarrio_Nuñez                 4.057e+04   4874.602      8.322      0.000     3.1e+04    5.01e+04\nBarrio_Once                 -4.551e+04   9718.980     -4.683      0.000   -6.46e+04   -2.65e+04\nBarrio_Palermo               6.597e+04   2996.051     22.019      0.000    6.01e+04    7.18e+04\nBarrio_Palermo Chico         1.728e+05      1e+04     17.215      0.000    1.53e+05    1.92e+05\nBarrio_Palermo Hollywood     5.287e+04   5640.672      9.373      0.000    4.18e+04    6.39e+04\nBarrio_Palermo Soho          4.662e+04   6682.017      6.976      0.000    3.35e+04    5.97e+04\nBarrio_Palermo Viejo          5.15e+04   2.44e+04      2.114      0.035    3749.161    9.93e+04\nBarrio_Parque Avellaneda    -5.707e+04   2.13e+04     -2.677      0.007   -9.88e+04   -1.53e+04\nBarrio_Parque Centenario    -9159.8949   1.43e+04     -0.640      0.522   -3.72e+04    1.89e+04\nBarrio_Parque Chacabuco     -3.503e+04   1.41e+04     -2.478      0.013   -6.27e+04   -7326.060\nBarrio_Parque Chas          -1.115e+04   2.02e+04     -0.553      0.581   -5.07e+04    2.84e+04\nBarrio_Parque Patricios      -2.13e+04   8097.069     -2.630      0.009   -3.72e+04   -5426.247\nBarrio_Paternal             -3.272e+04   1.29e+04     -2.537      0.011    -5.8e+04   -7441.506\nBarrio_Pompeya               -893.3018   2.92e+04     -0.031      0.976   -5.82e+04    5.64e+04\nBarrio_Puerto Madero         2.634e+05   6408.272     41.107      0.000    2.51e+05    2.76e+05\nBarrio_Recoleta              7.784e+04   3639.251     21.388      0.000    7.07e+04     8.5e+04\nBarrio_Retiro                2.901e+04   8420.187      3.445      0.001    1.25e+04    4.55e+04\nBarrio_Saavedra              2272.3844   5516.505      0.412      0.680   -8540.671    1.31e+04\nBarrio_San Cristobal         6.685e+04   6045.265     11.059      0.000     5.5e+04    7.87e+04\nBarrio_San Nicolás          -3.697e+04   9302.617     -3.974      0.000   -5.52e+04   -1.87e+04\nBarrio_San Telmo            -1.502e+04   4295.067     -3.498      0.000   -2.34e+04   -6605.745\nBarrio_Tribunales           -3.842e+04   1.26e+04     -3.040      0.002   -6.32e+04   -1.36e+04\nBarrio_Velez Sarsfield      -3.468e+04   3.92e+04     -0.885      0.376   -1.12e+05    4.22e+04\nBarrio_Versalles            -3.309e+04   2.44e+04     -1.359      0.174   -8.08e+04    1.47e+04\nBarrio_Villa Crespo           966.7811   3815.810      0.253      0.800   -6512.694    8446.256\nBarrio_Villa Devoto          3939.0189   7718.309      0.510      0.610   -1.12e+04    1.91e+04\nBarrio_Villa General Mitre  -2.609e+04   1.97e+04     -1.327      0.185   -6.46e+04    1.25e+04\nBarrio_Villa Lugano         -9.282e+04   1.26e+04     -7.344      0.000   -1.18e+05    -6.8e+04\nBarrio_Villa Luro           -1.163e+04   6874.904     -1.691      0.091   -2.51e+04    1848.684\nBarrio_Villa Ortuzar        -3355.1735   1.28e+04     -0.263      0.793   -2.84e+04    2.17e+04\nBarrio_Villa Pueyrredón     -1.843e+04   1.08e+04     -1.712      0.087   -3.95e+04    2673.068\nBarrio_Villa Real           -3.662e+04   3.31e+04     -1.105      0.269   -1.02e+05    2.84e+04\nBarrio_Villa Riachuelo      -4.708e-12   1.07e-11     -0.440      0.660   -2.57e-11    1.63e-11\nBarrio_Villa Santa Rita     -2.877e+04   1.97e+04     -1.463      0.143   -6.73e+04    9773.652\nBarrio_Villa Soldati        -1.099e+05   3.58e+04     -3.069      0.002    -1.8e+05   -3.97e+04\nBarrio_Villa Urquiza         6767.1510   3703.751      1.827      0.068    -492.675     1.4e+04\nBarrio_Villa del Parque     -6534.8455   6090.007     -1.073      0.283   -1.85e+04    5402.347\nsurface_uncovered_in_m2_std  2.956e+04   1412.411     20.929      0.000    2.68e+04    3.23e+04\nsurface_covered_in_m2_std    1.092e+05    926.330    117.895      0.000    1.07e+05    1.11e+05\n==============================================================================\nOmnibus:                     5725.628   Durbin-Watson:                   2.011\nProb(Omnibus):                  0.000   Jarque-Bera (JB):            82775.984\nSkew:                           1.495   Prob(JB):                         0.00\nKurtosis:                      14.302   Cond. No.                     1.02e+16\n==============================================================================\n\nNotes:\n[1] Standard Errors assume that the covariance matrix of the errors is correctly specified.\n[2] The smallest eigenvalue is 1.45e-28. This might indicate that there are\nstrong multicollinearity problems or that the design matrix is singular.\n\"\"\"",
      "text/html": "<table class=\"simpletable\">\n<caption>OLS Regression Results</caption>\n<tr>\n  <th>Dep. Variable:</th>          <td>price</td>      <th>  R-squared:         </th>  <td>   0.638</td>  \n</tr>\n<tr>\n  <th>Model:</th>                   <td>OLS</td>       <th>  Adj. R-squared:    </th>  <td>   0.636</td>  \n</tr>\n<tr>\n  <th>Method:</th>             <td>Least Squares</td>  <th>  F-statistic:       </th>  <td>   417.3</td>  \n</tr>\n<tr>\n  <th>Date:</th>             <td>Thu, 01 Dec 2022</td> <th>  Prob (F-statistic):</th>   <td>  0.00</td>   \n</tr>\n<tr>\n  <th>Time:</th>                 <td>00:43:03</td>     <th>  Log-Likelihood:    </th> <td>-1.8623e+05</td>\n</tr>\n<tr>\n  <th>No. Observations:</th>      <td> 14534</td>      <th>  AIC:               </th>  <td>3.726e+05</td> \n</tr>\n<tr>\n  <th>Df Residuals:</th>          <td> 14472</td>      <th>  BIC:               </th>  <td>3.731e+05</td> \n</tr>\n<tr>\n  <th>Df Model:</th>              <td>    61</td>      <th>                     </th>      <td> </td>     \n</tr>\n<tr>\n  <th>Covariance Type:</th>      <td>nonrobust</td>    <th>                     </th>      <td> </td>     \n</tr>\n</table>\n<table class=\"simpletable\">\n<tr>\n               <td></td>                  <th>coef</th>     <th>std err</th>      <th>t</th>      <th>P>|t|</th>  <th>[0.025</th>    <th>0.975]</th>  \n</tr>\n<tr>\n  <th>const</th>                       <td>   1.7e+05</td> <td> 1772.536</td> <td>   95.900</td> <td> 0.000</td> <td> 1.67e+05</td> <td> 1.73e+05</td>\n</tr>\n<tr>\n  <th>Barrio_Abasto</th>               <td>-1.747e+04</td> <td> 1.19e+04</td> <td>   -1.463</td> <td> 0.144</td> <td>-4.09e+04</td> <td> 5940.375</td>\n</tr>\n<tr>\n  <th>Barrio_Agronomía</th>            <td>-1.398e+04</td> <td> 2.13e+04</td> <td>   -0.656</td> <td> 0.512</td> <td>-5.58e+04</td> <td> 2.78e+04</td>\n</tr>\n<tr>\n  <th>Barrio_Almagro</th>              <td>-4374.5412</td> <td> 4104.429</td> <td>   -1.066</td> <td> 0.287</td> <td>-1.24e+04</td> <td> 3670.665</td>\n</tr>\n<tr>\n  <th>Barrio_Balvanera</th>            <td>-4.359e+04</td> <td> 5084.000</td> <td>   -8.574</td> <td> 0.000</td> <td>-5.36e+04</td> <td>-3.36e+04</td>\n</tr>\n<tr>\n  <th>Barrio_Barracas</th>             <td> -2.47e+04</td> <td> 6428.932</td> <td>   -3.841</td> <td> 0.000</td> <td>-3.73e+04</td> <td>-1.21e+04</td>\n</tr>\n<tr>\n  <th>Barrio_Barrio Norte</th>         <td> 4.878e+04</td> <td> 4050.873</td> <td>   12.041</td> <td> 0.000</td> <td> 4.08e+04</td> <td> 5.67e+04</td>\n</tr>\n<tr>\n  <th>Barrio_Belgrano</th>             <td> 4.979e+04</td> <td> 2958.135</td> <td>   16.830</td> <td> 0.000</td> <td>  4.4e+04</td> <td> 5.56e+04</td>\n</tr>\n<tr>\n  <th>Barrio_Boca</th>                 <td>-2.519e+04</td> <td> 9610.308</td> <td>   -2.621</td> <td> 0.009</td> <td> -4.4e+04</td> <td>-6351.276</td>\n</tr>\n<tr>\n  <th>Barrio_Boedo</th>                <td> 2.212e+05</td> <td> 4410.856</td> <td>   50.138</td> <td> 0.000</td> <td> 2.13e+05</td> <td>  2.3e+05</td>\n</tr>\n<tr>\n  <th>Barrio_Caballito</th>            <td> 4428.7341</td> <td> 3010.893</td> <td>    1.471</td> <td> 0.141</td> <td>-1473.001</td> <td> 1.03e+04</td>\n</tr>\n<tr>\n  <th>Barrio_Capital Federal</th>      <td>  -53.0074</td> <td> 5779.299</td> <td>   -0.009</td> <td> 0.993</td> <td>-1.14e+04</td> <td> 1.13e+04</td>\n</tr>\n<tr>\n  <th>Barrio_Catalinas</th>            <td>-1.773e-11</td> <td> 3.16e-11</td> <td>   -0.561</td> <td> 0.575</td> <td>-7.97e-11</td> <td> 4.42e-11</td>\n</tr>\n<tr>\n  <th>Barrio_Centro / Microcentro</th> <td>-1.926e+04</td> <td> 8358.087</td> <td>   -2.304</td> <td> 0.021</td> <td>-3.56e+04</td> <td>-2876.464</td>\n</tr>\n<tr>\n  <th>Barrio_Chacarita</th>            <td>-1.274e+04</td> <td> 8467.746</td> <td>   -1.505</td> <td> 0.132</td> <td>-2.93e+04</td> <td> 3857.570</td>\n</tr>\n<tr>\n  <th>Barrio_Coghlan</th>              <td> 4317.4568</td> <td> 7614.460</td> <td>    0.567</td> <td> 0.571</td> <td>-1.06e+04</td> <td> 1.92e+04</td>\n</tr>\n<tr>\n  <th>Barrio_Colegiales</th>           <td> 1.399e+04</td> <td> 6928.443</td> <td>    2.019</td> <td> 0.043</td> <td>  408.865</td> <td> 2.76e+04</td>\n</tr>\n<tr>\n  <th>Barrio_Congreso</th>             <td>-4.513e+04</td> <td> 6680.143</td> <td>   -6.755</td> <td> 0.000</td> <td>-5.82e+04</td> <td> -3.2e+04</td>\n</tr>\n<tr>\n  <th>Barrio_Constitución</th>         <td>-5.396e+04</td> <td> 8575.034</td> <td>   -6.293</td> <td> 0.000</td> <td>-7.08e+04</td> <td>-3.72e+04</td>\n</tr>\n<tr>\n  <th>Barrio_Flores</th>               <td>-2.517e+04</td> <td> 3849.343</td> <td>   -6.539</td> <td> 0.000</td> <td>-3.27e+04</td> <td>-1.76e+04</td>\n</tr>\n<tr>\n  <th>Barrio_Floresta</th>             <td>-3.924e+04</td> <td> 6817.663</td> <td>   -5.756</td> <td> 0.000</td> <td>-5.26e+04</td> <td>-2.59e+04</td>\n</tr>\n<tr>\n  <th>Barrio_Las Cañitas</th>          <td> 1.145e+05</td> <td>    1e+04</td> <td>   11.430</td> <td> 0.000</td> <td> 9.49e+04</td> <td> 1.34e+05</td>\n</tr>\n<tr>\n  <th>Barrio_Liniers</th>              <td>-3.539e+04</td> <td> 9400.152</td> <td>   -3.765</td> <td> 0.000</td> <td>-5.38e+04</td> <td> -1.7e+04</td>\n</tr>\n<tr>\n  <th>Barrio_Mataderos</th>            <td>-3.278e+04</td> <td> 9560.787</td> <td>   -3.429</td> <td> 0.001</td> <td>-5.15e+04</td> <td> -1.4e+04</td>\n</tr>\n<tr>\n  <th>Barrio_Monserrat</th>            <td>-3.597e+04</td> <td> 5408.433</td> <td>   -6.652</td> <td> 0.000</td> <td>-4.66e+04</td> <td>-2.54e+04</td>\n</tr>\n<tr>\n  <th>Barrio_Monte Castro</th>         <td> -3.42e+04</td> <td> 1.73e+04</td> <td>   -1.981</td> <td> 0.048</td> <td> -6.8e+04</td> <td> -353.180</td>\n</tr>\n<tr>\n  <th>Barrio_Nuñez</th>                <td> 4.057e+04</td> <td> 4874.602</td> <td>    8.322</td> <td> 0.000</td> <td>  3.1e+04</td> <td> 5.01e+04</td>\n</tr>\n<tr>\n  <th>Barrio_Once</th>                 <td>-4.551e+04</td> <td> 9718.980</td> <td>   -4.683</td> <td> 0.000</td> <td>-6.46e+04</td> <td>-2.65e+04</td>\n</tr>\n<tr>\n  <th>Barrio_Palermo</th>              <td> 6.597e+04</td> <td> 2996.051</td> <td>   22.019</td> <td> 0.000</td> <td> 6.01e+04</td> <td> 7.18e+04</td>\n</tr>\n<tr>\n  <th>Barrio_Palermo Chico</th>        <td> 1.728e+05</td> <td>    1e+04</td> <td>   17.215</td> <td> 0.000</td> <td> 1.53e+05</td> <td> 1.92e+05</td>\n</tr>\n<tr>\n  <th>Barrio_Palermo Hollywood</th>    <td> 5.287e+04</td> <td> 5640.672</td> <td>    9.373</td> <td> 0.000</td> <td> 4.18e+04</td> <td> 6.39e+04</td>\n</tr>\n<tr>\n  <th>Barrio_Palermo Soho</th>         <td> 4.662e+04</td> <td> 6682.017</td> <td>    6.976</td> <td> 0.000</td> <td> 3.35e+04</td> <td> 5.97e+04</td>\n</tr>\n<tr>\n  <th>Barrio_Palermo Viejo</th>        <td>  5.15e+04</td> <td> 2.44e+04</td> <td>    2.114</td> <td> 0.035</td> <td> 3749.161</td> <td> 9.93e+04</td>\n</tr>\n<tr>\n  <th>Barrio_Parque Avellaneda</th>    <td>-5.707e+04</td> <td> 2.13e+04</td> <td>   -2.677</td> <td> 0.007</td> <td>-9.88e+04</td> <td>-1.53e+04</td>\n</tr>\n<tr>\n  <th>Barrio_Parque Centenario</th>    <td>-9159.8949</td> <td> 1.43e+04</td> <td>   -0.640</td> <td> 0.522</td> <td>-3.72e+04</td> <td> 1.89e+04</td>\n</tr>\n<tr>\n  <th>Barrio_Parque Chacabuco</th>     <td>-3.503e+04</td> <td> 1.41e+04</td> <td>   -2.478</td> <td> 0.013</td> <td>-6.27e+04</td> <td>-7326.060</td>\n</tr>\n<tr>\n  <th>Barrio_Parque Chas</th>          <td>-1.115e+04</td> <td> 2.02e+04</td> <td>   -0.553</td> <td> 0.581</td> <td>-5.07e+04</td> <td> 2.84e+04</td>\n</tr>\n<tr>\n  <th>Barrio_Parque Patricios</th>     <td> -2.13e+04</td> <td> 8097.069</td> <td>   -2.630</td> <td> 0.009</td> <td>-3.72e+04</td> <td>-5426.247</td>\n</tr>\n<tr>\n  <th>Barrio_Paternal</th>             <td>-3.272e+04</td> <td> 1.29e+04</td> <td>   -2.537</td> <td> 0.011</td> <td> -5.8e+04</td> <td>-7441.506</td>\n</tr>\n<tr>\n  <th>Barrio_Pompeya</th>              <td> -893.3018</td> <td> 2.92e+04</td> <td>   -0.031</td> <td> 0.976</td> <td>-5.82e+04</td> <td> 5.64e+04</td>\n</tr>\n<tr>\n  <th>Barrio_Puerto Madero</th>        <td> 2.634e+05</td> <td> 6408.272</td> <td>   41.107</td> <td> 0.000</td> <td> 2.51e+05</td> <td> 2.76e+05</td>\n</tr>\n<tr>\n  <th>Barrio_Recoleta</th>             <td> 7.784e+04</td> <td> 3639.251</td> <td>   21.388</td> <td> 0.000</td> <td> 7.07e+04</td> <td>  8.5e+04</td>\n</tr>\n<tr>\n  <th>Barrio_Retiro</th>               <td> 2.901e+04</td> <td> 8420.187</td> <td>    3.445</td> <td> 0.001</td> <td> 1.25e+04</td> <td> 4.55e+04</td>\n</tr>\n<tr>\n  <th>Barrio_Saavedra</th>             <td> 2272.3844</td> <td> 5516.505</td> <td>    0.412</td> <td> 0.680</td> <td>-8540.671</td> <td> 1.31e+04</td>\n</tr>\n<tr>\n  <th>Barrio_San Cristobal</th>        <td> 6.685e+04</td> <td> 6045.265</td> <td>   11.059</td> <td> 0.000</td> <td>  5.5e+04</td> <td> 7.87e+04</td>\n</tr>\n<tr>\n  <th>Barrio_San Nicolás</th>          <td>-3.697e+04</td> <td> 9302.617</td> <td>   -3.974</td> <td> 0.000</td> <td>-5.52e+04</td> <td>-1.87e+04</td>\n</tr>\n<tr>\n  <th>Barrio_San Telmo</th>            <td>-1.502e+04</td> <td> 4295.067</td> <td>   -3.498</td> <td> 0.000</td> <td>-2.34e+04</td> <td>-6605.745</td>\n</tr>\n<tr>\n  <th>Barrio_Tribunales</th>           <td>-3.842e+04</td> <td> 1.26e+04</td> <td>   -3.040</td> <td> 0.002</td> <td>-6.32e+04</td> <td>-1.36e+04</td>\n</tr>\n<tr>\n  <th>Barrio_Velez Sarsfield</th>      <td>-3.468e+04</td> <td> 3.92e+04</td> <td>   -0.885</td> <td> 0.376</td> <td>-1.12e+05</td> <td> 4.22e+04</td>\n</tr>\n<tr>\n  <th>Barrio_Versalles</th>            <td>-3.309e+04</td> <td> 2.44e+04</td> <td>   -1.359</td> <td> 0.174</td> <td>-8.08e+04</td> <td> 1.47e+04</td>\n</tr>\n<tr>\n  <th>Barrio_Villa Crespo</th>         <td>  966.7811</td> <td> 3815.810</td> <td>    0.253</td> <td> 0.800</td> <td>-6512.694</td> <td> 8446.256</td>\n</tr>\n<tr>\n  <th>Barrio_Villa Devoto</th>         <td> 3939.0189</td> <td> 7718.309</td> <td>    0.510</td> <td> 0.610</td> <td>-1.12e+04</td> <td> 1.91e+04</td>\n</tr>\n<tr>\n  <th>Barrio_Villa General Mitre</th>  <td>-2.609e+04</td> <td> 1.97e+04</td> <td>   -1.327</td> <td> 0.185</td> <td>-6.46e+04</td> <td> 1.25e+04</td>\n</tr>\n<tr>\n  <th>Barrio_Villa Lugano</th>         <td>-9.282e+04</td> <td> 1.26e+04</td> <td>   -7.344</td> <td> 0.000</td> <td>-1.18e+05</td> <td> -6.8e+04</td>\n</tr>\n<tr>\n  <th>Barrio_Villa Luro</th>           <td>-1.163e+04</td> <td> 6874.904</td> <td>   -1.691</td> <td> 0.091</td> <td>-2.51e+04</td> <td> 1848.684</td>\n</tr>\n<tr>\n  <th>Barrio_Villa Ortuzar</th>        <td>-3355.1735</td> <td> 1.28e+04</td> <td>   -0.263</td> <td> 0.793</td> <td>-2.84e+04</td> <td> 2.17e+04</td>\n</tr>\n<tr>\n  <th>Barrio_Villa Pueyrredón</th>     <td>-1.843e+04</td> <td> 1.08e+04</td> <td>   -1.712</td> <td> 0.087</td> <td>-3.95e+04</td> <td> 2673.068</td>\n</tr>\n<tr>\n  <th>Barrio_Villa Real</th>           <td>-3.662e+04</td> <td> 3.31e+04</td> <td>   -1.105</td> <td> 0.269</td> <td>-1.02e+05</td> <td> 2.84e+04</td>\n</tr>\n<tr>\n  <th>Barrio_Villa Riachuelo</th>      <td>-4.708e-12</td> <td> 1.07e-11</td> <td>   -0.440</td> <td> 0.660</td> <td>-2.57e-11</td> <td> 1.63e-11</td>\n</tr>\n<tr>\n  <th>Barrio_Villa Santa Rita</th>     <td>-2.877e+04</td> <td> 1.97e+04</td> <td>   -1.463</td> <td> 0.143</td> <td>-6.73e+04</td> <td> 9773.652</td>\n</tr>\n<tr>\n  <th>Barrio_Villa Soldati</th>        <td>-1.099e+05</td> <td> 3.58e+04</td> <td>   -3.069</td> <td> 0.002</td> <td> -1.8e+05</td> <td>-3.97e+04</td>\n</tr>\n<tr>\n  <th>Barrio_Villa Urquiza</th>        <td> 6767.1510</td> <td> 3703.751</td> <td>    1.827</td> <td> 0.068</td> <td> -492.675</td> <td>  1.4e+04</td>\n</tr>\n<tr>\n  <th>Barrio_Villa del Parque</th>     <td>-6534.8455</td> <td> 6090.007</td> <td>   -1.073</td> <td> 0.283</td> <td>-1.85e+04</td> <td> 5402.347</td>\n</tr>\n<tr>\n  <th>surface_uncovered_in_m2_std</th> <td> 2.956e+04</td> <td> 1412.411</td> <td>   20.929</td> <td> 0.000</td> <td> 2.68e+04</td> <td> 3.23e+04</td>\n</tr>\n<tr>\n  <th>surface_covered_in_m2_std</th>   <td> 1.092e+05</td> <td>  926.330</td> <td>  117.895</td> <td> 0.000</td> <td> 1.07e+05</td> <td> 1.11e+05</td>\n</tr>\n</table>\n<table class=\"simpletable\">\n<tr>\n  <th>Omnibus:</th>       <td>5725.628</td> <th>  Durbin-Watson:     </th> <td>   2.011</td> \n</tr>\n<tr>\n  <th>Prob(Omnibus):</th>  <td> 0.000</td>  <th>  Jarque-Bera (JB):  </th> <td>82775.984</td>\n</tr>\n<tr>\n  <th>Skew:</th>           <td> 1.495</td>  <th>  Prob(JB):          </th> <td>    0.00</td> \n</tr>\n<tr>\n  <th>Kurtosis:</th>       <td>14.302</td>  <th>  Cond. No.          </th> <td>1.02e+16</td> \n</tr>\n</table><br/><br/>Notes:<br/>[1] Standard Errors assume that the covariance matrix of the errors is correctly specified.<br/>[2] The smallest eigenvalue is 1.45e-28. This might indicate that there are<br/>strong multicollinearity problems or that the design matrix is singular."
     },
     "execution_count": 102,
     "metadata": {},
     "output_type": "execute_result"
    }
   ],
   "source": [
    " #Tenemos que agregar explícitamente a una constante:\n",
    "X_train_sm = sm.add_constant(X_train)\n",
    "\n",
    "model = sm.OLS(y_train, X_train_sm).fit()\n",
    "\n",
    "model.summary()"
   ]
  },
  {
   "cell_type": "code",
   "execution_count": 103,
   "metadata": {
    "collapsed": false,
    "pycharm": {
     "name": "#%%\n"
    }
   },
   "outputs": [
    {
     "data": {
      "text/plain": "[(100.0, 1000000.0)]"
     },
     "execution_count": 103,
     "metadata": {},
     "output_type": "execute_result"
    },
    {
     "data": {
      "text/plain": "<Figure size 432x288 with 1 Axes>",
      "image/png": "[encoded data removed]"
     },
     "metadata": {},
     "output_type": "display_data"
    }
   ],
   "source": [
    "g=sns.boxplot(data=capital_federal_apartment_clean,y=\"price\")\n",
    "\n",
    "g.set(ylim=(100,1000000))"
   ]
  },
  {
   "cell_type": "code",
   "execution_count": 104,
   "metadata": {
    "pycharm": {
     "name": "#%%\n"
    }
   },
   "outputs": [
    {
     "data": {
      "text/plain": "Int64Index([], dtype='int64')"
     },
     "execution_count": 104,
     "metadata": {},
     "output_type": "execute_result"
    }
   ],
   "source": [
    "indice=capital_federal_apartment_clean[capital_federal_apartment_clean['price'] > 800000]\n",
    "\n",
    "indice.index"
   ]
  },
  {
   "cell_type": "code",
   "execution_count": 105,
   "metadata": {
    "pycharm": {
     "name": "#%%\n"
    }
   },
   "outputs": [
    {
     "name": "stderr",
     "output_type": "stream",
     "text": [
      "C:\\Users\\Juan\\AppData\\Local\\Temp\\ipykernel_13500\\971147271.py:1: SettingWithCopyWarning: \n",
      "A value is trying to be set on a copy of a slice from a DataFrame\n",
      "\n",
      "See the caveats in the documentation: https://pandas.pydata.org/pandas-docs/stable/user_guide/indexing.html#returning-a-view-versus-a-copy\n",
      "  capital_federal_apartment_clean.drop(indice.index, axis=0, inplace=True)\n"
     ]
    },
    {
     "data": {
      "text/plain": "             place_name  surface_covered_in_m2     price  \\\n2             Mataderos                   55.0   72000.0   \n7              Belgrano                   40.0  138000.0   \n8              Belgrano                   60.0  195000.0   \n13         Palermo Soho                   30.0  111700.0   \n14         Palermo Soho                   31.0  147900.0   \n...                 ...                    ...       ...   \n121153     Barrio Norte                   65.0  165000.0   \n121157         Belgrano                   35.0  128000.0   \n121158         Recoleta                   39.0  165000.0   \n121217    Villa Urquiza                   39.0  131500.0   \n121219  Capital Federal                   77.0  129000.0   \n\n        surface_uncovered_in_m2  \n2                           0.0  \n7                           5.0  \n8                           5.0  \n13                         20.0  \n14                         11.0  \n...                         ...  \n121153                     26.0  \n121157                      3.0  \n121158                      5.0  \n121217                      7.0  \n121219                      0.0  \n\n[20763 rows x 4 columns]",
      "text/html": "<div>\n<style scoped>\n    .dataframe tbody tr th:only-of-type {\n        vertical-align: middle;\n    }\n\n    .dataframe tbody tr th {\n        vertical-align: top;\n    }\n\n    .dataframe thead th {\n        text-align: right;\n    }\n</style>\n<table border=\"1\" class=\"dataframe\">\n  <thead>\n    <tr style=\"text-align: right;\">\n      <th></th>\n      <th>place_name</th>\n      <th>surface_covered_in_m2</th>\n      <th>price</th>\n      <th>surface_uncovered_in_m2</th>\n    </tr>\n  </thead>\n  <tbody>\n    <tr>\n      <th>2</th>\n      <td>Mataderos</td>\n      <td>55.0</td>\n      <td>72000.0</td>\n      <td>0.0</td>\n    </tr>\n    <tr>\n      <th>7</th>\n      <td>Belgrano</td>\n      <td>40.0</td>\n      <td>138000.0</td>\n      <td>5.0</td>\n    </tr>\n    <tr>\n      <th>8</th>\n      <td>Belgrano</td>\n      <td>60.0</td>\n      <td>195000.0</td>\n      <td>5.0</td>\n    </tr>\n    <tr>\n      <th>13</th>\n      <td>Palermo Soho</td>\n      <td>30.0</td>\n      <td>111700.0</td>\n      <td>20.0</td>\n    </tr>\n    <tr>\n      <th>14</th>\n      <td>Palermo Soho</td>\n      <td>31.0</td>\n      <td>147900.0</td>\n      <td>11.0</td>\n    </tr>\n    <tr>\n      <th>...</th>\n      <td>...</td>\n      <td>...</td>\n      <td>...</td>\n      <td>...</td>\n    </tr>\n    <tr>\n      <th>121153</th>\n      <td>Barrio Norte</td>\n      <td>65.0</td>\n      <td>165000.0</td>\n      <td>26.0</td>\n    </tr>\n    <tr>\n      <th>121157</th>\n      <td>Belgrano</td>\n      <td>35.0</td>\n      <td>128000.0</td>\n      <td>3.0</td>\n    </tr>\n    <tr>\n      <th>121158</th>\n      <td>Recoleta</td>\n      <td>39.0</td>\n      <td>165000.0</td>\n      <td>5.0</td>\n    </tr>\n    <tr>\n      <th>121217</th>\n      <td>Villa Urquiza</td>\n      <td>39.0</td>\n      <td>131500.0</td>\n      <td>7.0</td>\n    </tr>\n    <tr>\n      <th>121219</th>\n      <td>Capital Federal</td>\n      <td>77.0</td>\n      <td>129000.0</td>\n      <td>0.0</td>\n    </tr>\n  </tbody>\n</table>\n<p>20763 rows × 4 columns</p>\n</div>"
     },
     "execution_count": 105,
     "metadata": {},
     "output_type": "execute_result"
    }
   ],
   "source": [
    "capital_federal_apartment_clean.drop(indice.index, axis=0, inplace=True)\n",
    "\n",
    "capital_federal_apartment_clean"
   ]
  },
  {
   "cell_type": "code",
   "execution_count": 106,
   "metadata": {
    "pycharm": {
     "name": "#%%\n"
    }
   },
   "outputs": [
    {
     "data": {
      "text/plain": "[(100.0, 1000000.0)]"
     },
     "execution_count": 106,
     "metadata": {},
     "output_type": "execute_result"
    },
    {
     "data": {
      "text/plain": "<Figure size 432x288 with 1 Axes>",
      "image/png": "[encoded data removed]"
     },
     "metadata": {},
     "output_type": "display_data"
    }
   ],
   "source": [
    "g=sns.boxplot(data=capital_federal_apartment_clean,y=\"price\")\n",
    "\n",
    "g.set(ylim=(100,1000000))"
   ]
  }
 ],
 "metadata": {
  "kernelspec": {
   "display_name": "Python 3.10.6 ('dh')",
   "language": "python",
   "name": "python3"
  },
  "language_info": {
   "codemirror_mode": {
    "name": "ipython",
    "version": 3
   },
   "file_extension": ".py",
   "mimetype": "text/x-python",
   "name": "python",
   "nbconvert_exporter": "python",
   "pygments_lexer": "ipython3",
   "version": "3.10.6"
  },
  "vscode": {
   "interpreter": {
    "hash": "f2eea5dc5d61fddae8c1ddaf2edee40dee68c81ba816c4813f75c201c4a9f954"
   }
  }
 },
 "nbformat": 4,
 "nbformat_minor": 0
}