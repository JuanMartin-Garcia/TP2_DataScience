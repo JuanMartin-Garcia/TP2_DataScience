{
 "cells": [
  {
   "cell_type": "code",
   "execution_count": 85,
   "metadata": {
    "collapsed": true,
    "pycharm": {
     "name": "#%%\n"
    }
   },
   "outputs": [],
   "source": [
    "import matplotlib.pyplot as plt\n",
    "import pandas as pd\n",
    "import numpy as np\n",
    "import seaborn as sns\n",
    "\n",
    "from sklearn.model_selection import train_test_split\n",
    "from sklearn.preprocessing import OneHotEncoder\n",
    "from sklearn.preprocessing import StandardScaler\n",
    "from sklearn import linear_model\n",
    "from sklearn import metrics\n",
    "\n",
    "import statsmodels.api as sm\n",
    "from statsmodels.tools import eval_measures"
   ]
  },
  {
   "cell_type": "code",
   "execution_count": 86,
   "outputs": [],
   "source": [
    "#PENDIENTES\n",
    "#Conteo propiedades por barrio"
   ],
   "metadata": {
    "collapsed": false,
    "pycharm": {
     "name": "#%%\n"
    }
   }
  },
  {
   "cell_type": "code",
   "execution_count": 87,
   "metadata": {
    "collapsed": false,
    "pycharm": {
     "name": "#%%\n"
    }
   },
   "outputs": [
    {
     "name": "stdout",
     "output_type": "stream",
     "text": [
      "<class 'pandas.core.frame.DataFrame'>\n",
      "RangeIndex: 121220 entries, 0 to 121219\n",
      "Data columns (total 26 columns):\n",
      " #   Column                      Non-Null Count   Dtype  \n",
      "---  ------                      --------------   -----  \n",
      " 0   Unnamed: 0                  121220 non-null  int64  \n",
      " 1   operation                   121220 non-null  object \n",
      " 2   property_type               121220 non-null  object \n",
      " 3   place_name                  121197 non-null  object \n",
      " 4   place_with_parent_names     121220 non-null  object \n",
      " 5   country_name                121220 non-null  object \n",
      " 6   state_name                  121220 non-null  object \n",
      " 7   geonames_id                 102503 non-null  float64\n",
      " 8   lat-lon                     69670 non-null   object \n",
      " 9   lat                         69670 non-null   float64\n",
      " 10  lon                         69670 non-null   float64\n",
      " 11  price                       100810 non-null  float64\n",
      " 12  currency                    100809 non-null  object \n",
      " 13  price_aprox_local_currency  100810 non-null  float64\n",
      " 14  price_aprox_usd             100810 non-null  float64\n",
      " 15  surface_total_in_m2         81892 non-null   float64\n",
      " 16  surface_covered_in_m2       101313 non-null  float64\n",
      " 17  price_usd_per_m2            68617 non-null   float64\n",
      " 18  price_per_m2                87658 non-null   float64\n",
      " 19  floor                       7899 non-null    float64\n",
      " 20  rooms                       47390 non-null   float64\n",
      " 21  expenses                    14262 non-null   float64\n",
      " 22  properati_url               121220 non-null  object \n",
      " 23  description                 121218 non-null  object \n",
      " 24  title                       121220 non-null  object \n",
      " 25  image_thumbnail             118108 non-null  object \n",
      "dtypes: float64(13), int64(1), object(12)\n",
      "memory usage: 24.0+ MB\n"
     ]
    }
   ],
   "source": [
    "data=pd.read_csv('./properatti.csv')\n",
    "data.info()"
   ]
  },
  {
   "cell_type": "code",
   "execution_count": 88,
   "metadata": {
    "collapsed": false,
    "pycharm": {
     "name": "#%%\n"
    }
   },
   "outputs": [
    {
     "data": {
      "text/plain": "        Unnamed: 0 operation property_type       place_name  \\\n0                0      sell            PH        Mataderos   \n2                2      sell     apartment        Mataderos   \n3                3      sell            PH          Liniers   \n7                7      sell     apartment         Belgrano   \n8                8      sell     apartment         Belgrano   \n...            ...       ...           ...              ...   \n121160      121160      sell     apartment         Belgrano   \n121209      121209      sell     apartment         Belgrano   \n121215      121215      sell     apartment         Belgrano   \n121217      121217      sell     apartment    Villa Urquiza   \n121219      121219      sell     apartment  Capital Federal   \n\n                          place_with_parent_names country_name  \\\n0           |Argentina|Capital Federal|Mataderos|    Argentina   \n2           |Argentina|Capital Federal|Mataderos|    Argentina   \n3             |Argentina|Capital Federal|Liniers|    Argentina   \n7            |Argentina|Capital Federal|Belgrano|    Argentina   \n8            |Argentina|Capital Federal|Belgrano|    Argentina   \n...                                           ...          ...   \n121160       |Argentina|Capital Federal|Belgrano|    Argentina   \n121209       |Argentina|Capital Federal|Belgrano|    Argentina   \n121215       |Argentina|Capital Federal|Belgrano|    Argentina   \n121217  |Argentina|Capital Federal|Villa Urquiza|    Argentina   \n121219                |Argentina|Capital Federal|    Argentina   \n\n             state_name  geonames_id                        lat-lon  \\\n0       Capital Federal    3430787.0        -34.6618237,-58.5088387   \n2       Capital Federal    3430787.0        -34.6522615,-58.5229825   \n3       Capital Federal    3431333.0        -34.6477969,-58.5164244   \n7       Capital Federal    3436077.0         -34.5598729,-58.443362   \n8       Capital Federal    3436077.0         -34.5598729,-58.443362   \n...                 ...          ...                            ...   \n121160  Capital Federal    3436077.0   -34.563685346,-58.4426825896   \n121209  Capital Federal    3436077.0   -34.563685346,-58.4426825896   \n121215  Capital Federal    3436077.0                            NaN   \n121217  Capital Federal    3433775.0  -34.5706388726,-58.4755963355   \n121219  Capital Federal    3433955.0                            NaN   \n\n              lat  ...  surface_covered_in_m2  price_usd_per_m2 price_per_m2  \\\n0      -34.661824  ...                   40.0       1127.272727  1550.000000   \n2      -34.652262  ...                   55.0       1309.090909  1309.090909   \n3      -34.647797  ...                    NaN               NaN          NaN   \n7      -34.559873  ...                   40.0       3066.666667  3450.000000   \n8      -34.559873  ...                   60.0       3000.000000  3250.000000   \n...           ...  ...                    ...               ...          ...   \n121160 -34.563685  ...                    NaN       2611.464968          NaN   \n121209 -34.563685  ...                    NaN       2611.464968          NaN   \n121215        NaN  ...                   93.0       7699.115044  9354.838710   \n121217 -34.570639  ...                   39.0       2858.695652  3371.794872   \n121219        NaN  ...                   77.0       1675.324675  1675.324675   \n\n        floor  rooms  expenses  \\\n0         NaN    NaN       NaN   \n2         NaN    NaN       NaN   \n3         NaN    NaN       NaN   \n7         NaN    NaN       NaN   \n8         NaN    NaN       NaN   \n...       ...    ...       ...   \n121160    NaN    NaN    6300.0   \n121209    NaN    NaN    6300.0   \n121215    NaN    NaN   10000.0   \n121217    NaN    NaN       NaN   \n121219    NaN    NaN    3500.0   \n\n                                            properati_url  \\\n0       http://www.properati.com.ar/15bo8_venta_ph_mat...   \n2       http://www.properati.com.ar/15bod_venta_depart...   \n3       http://www.properati.com.ar/15boh_venta_ph_lin...   \n7       http://www.properati.com.ar/15bot_venta_depart...   \n8       http://www.properati.com.ar/15bou_venta_depart...   \n...                                                   ...   \n121160  http://www.properati.com.ar/1cj5v_venta_depart...   \n121209  http://www.properati.com.ar/1cj7c_venta_depart...   \n121215  http://www.properati.com.ar/1cja2_venta_depart...   \n121217  http://www.properati.com.ar/1cja7_venta_depart...   \n121219  http://www.properati.com.ar/1cjaa_venta_depart...   \n\n                                              description  \\\n0       2 AMBIENTES TIPO CASA PLANTA BAJA POR PASILLO,...   \n2       2 AMBIENTES 3ER PISO LATERAL LIVING COMEDOR AM...   \n3       PH 3 ambientes con patio. Hay 3 deptos en lote...   \n7       EXCELENTE MONOAMBIENTE A ESTRENAR AMPLIO SUPER...   \n8       EXCELENTE DOS AMBIENTES  ESTRENAR AMPLIO SUPER...   \n...                                                   ...   \n121160  Edificio en esquina de muy buena categoría de ...   \n121209  Edificio en esquina de muy buena categoría de ...   \n121215  TORRE FORUM ALCORTA - MÁXIMA CATEGORÍA.Impecab...   \n121217  VENTA DEPARTAMENTO AMBIENTE DIVISIBLE A ESTREN...   \n121219  Departamento de 77 m2 apto profesional. Edific...   \n\n                                                    title  \\\n0                      2 AMB TIPO CASA SIN EXPENSAS EN PB   \n2                2 AMB 3ER PISO CON ASCENSOR APTO CREDITO   \n3                            PH 3 amb. cfte. reciclado      \n7       JOSE HERNANDEZ 1400 MONOAMBIENTE  ESTRENAR CAT...   \n8       JOSE HERNANDEZ   1400 DOS AMBIENTES ESTRENAR ,...   \n...                                                   ...   \n121160  Av .Luis Maria Campos 1400- Belgrano-Capital F...   \n121209  Av .Luis Maria Campos 1400- Belgrano-Capital F...   \n121215         Torre Forum Alcorta- Impecable 3 ambientes   \n121217  VENTA DEPARTAMENTO AMBIENTE DIVISIBLE A ESTREN...   \n121219         Departamento apto profesional en el Centro   \n\n                                          image_thumbnail  \n0       https://thumbs4.properati.com/8/BluUYiHJLhgIIK...  \n2       https://thumbs4.properati.com/5/SXKr34F_IwG3W_...  \n3       https://thumbs4.properati.com/3/DgIfX-85Mog5SP...  \n7       https://thumbs4.properati.com/1/IHxARynlr8sPEW...  \n8       https://thumbs4.properati.com/2/J3zOjgaFHrkvnv...  \n...                                                   ...  \n121160  https://thumbs4.properati.com/0/zeLNBuyylOJL7z...  \n121209  https://thumbs4.properati.com/0/zeLNBuyylOJL7z...  \n121215  https://thumbs4.properati.com/1/bjms0KnaAnlNoQ...  \n121217  https://thumbs4.properati.com/9/YAe_-2gRVykADP...  \n121219  https://thumbs4.properati.com/8/mNEsnQWqB7joBF...  \n\n[32316 rows x 26 columns]",
      "text/html": "<div>\n<style scoped>\n    .dataframe tbody tr th:only-of-type {\n        vertical-align: middle;\n    }\n\n    .dataframe tbody tr th {\n        vertical-align: top;\n    }\n\n    .dataframe thead th {\n        text-align: right;\n    }\n</style>\n<table border=\"1\" class=\"dataframe\">\n  <thead>\n    <tr style=\"text-align: right;\">\n      <th></th>\n      <th>Unnamed: 0</th>\n      <th>operation</th>\n      <th>property_type</th>\n      <th>place_name</th>\n      <th>place_with_parent_names</th>\n      <th>country_name</th>\n      <th>state_name</th>\n      <th>geonames_id</th>\n      <th>lat-lon</th>\n      <th>lat</th>\n      <th>...</th>\n      <th>surface_covered_in_m2</th>\n      <th>price_usd_per_m2</th>\n      <th>price_per_m2</th>\n      <th>floor</th>\n      <th>rooms</th>\n      <th>expenses</th>\n      <th>properati_url</th>\n      <th>description</th>\n      <th>title</th>\n      <th>image_thumbnail</th>\n    </tr>\n  </thead>\n  <tbody>\n    <tr>\n      <th>0</th>\n      <td>0</td>\n      <td>sell</td>\n      <td>PH</td>\n      <td>Mataderos</td>\n      <td>|Argentina|Capital Federal|Mataderos|</td>\n      <td>Argentina</td>\n      <td>Capital Federal</td>\n      <td>3430787.0</td>\n      <td>-34.6618237,-58.5088387</td>\n      <td>-34.661824</td>\n      <td>...</td>\n      <td>40.0</td>\n      <td>1127.272727</td>\n      <td>1550.000000</td>\n      <td>NaN</td>\n      <td>NaN</td>\n      <td>NaN</td>\n      <td>http://www.properati.com.ar/15bo8_venta_ph_mat...</td>\n      <td>2 AMBIENTES TIPO CASA PLANTA BAJA POR PASILLO,...</td>\n      <td>2 AMB TIPO CASA SIN EXPENSAS EN PB</td>\n      <td>https://thumbs4.properati.com/8/BluUYiHJLhgIIK...</td>\n    </tr>\n    <tr>\n      <th>2</th>\n      <td>2</td>\n      <td>sell</td>\n      <td>apartment</td>\n      <td>Mataderos</td>\n      <td>|Argentina|Capital Federal|Mataderos|</td>\n      <td>Argentina</td>\n      <td>Capital Federal</td>\n      <td>3430787.0</td>\n      <td>-34.6522615,-58.5229825</td>\n      <td>-34.652262</td>\n      <td>...</td>\n      <td>55.0</td>\n      <td>1309.090909</td>\n      <td>1309.090909</td>\n      <td>NaN</td>\n      <td>NaN</td>\n      <td>NaN</td>\n      <td>http://www.properati.com.ar/15bod_venta_depart...</td>\n      <td>2 AMBIENTES 3ER PISO LATERAL LIVING COMEDOR AM...</td>\n      <td>2 AMB 3ER PISO CON ASCENSOR APTO CREDITO</td>\n      <td>https://thumbs4.properati.com/5/SXKr34F_IwG3W_...</td>\n    </tr>\n    <tr>\n      <th>3</th>\n      <td>3</td>\n      <td>sell</td>\n      <td>PH</td>\n      <td>Liniers</td>\n      <td>|Argentina|Capital Federal|Liniers|</td>\n      <td>Argentina</td>\n      <td>Capital Federal</td>\n      <td>3431333.0</td>\n      <td>-34.6477969,-58.5164244</td>\n      <td>-34.647797</td>\n      <td>...</td>\n      <td>NaN</td>\n      <td>NaN</td>\n      <td>NaN</td>\n      <td>NaN</td>\n      <td>NaN</td>\n      <td>NaN</td>\n      <td>http://www.properati.com.ar/15boh_venta_ph_lin...</td>\n      <td>PH 3 ambientes con patio. Hay 3 deptos en lote...</td>\n      <td>PH 3 amb. cfte. reciclado</td>\n      <td>https://thumbs4.properati.com/3/DgIfX-85Mog5SP...</td>\n    </tr>\n    <tr>\n      <th>7</th>\n      <td>7</td>\n      <td>sell</td>\n      <td>apartment</td>\n      <td>Belgrano</td>\n      <td>|Argentina|Capital Federal|Belgrano|</td>\n      <td>Argentina</td>\n      <td>Capital Federal</td>\n      <td>3436077.0</td>\n      <td>-34.5598729,-58.443362</td>\n      <td>-34.559873</td>\n      <td>...</td>\n      <td>40.0</td>\n      <td>3066.666667</td>\n      <td>3450.000000</td>\n      <td>NaN</td>\n      <td>NaN</td>\n      <td>NaN</td>\n      <td>http://www.properati.com.ar/15bot_venta_depart...</td>\n      <td>EXCELENTE MONOAMBIENTE A ESTRENAR AMPLIO SUPER...</td>\n      <td>JOSE HERNANDEZ 1400 MONOAMBIENTE  ESTRENAR CAT...</td>\n      <td>https://thumbs4.properati.com/1/IHxARynlr8sPEW...</td>\n    </tr>\n    <tr>\n      <th>8</th>\n      <td>8</td>\n      <td>sell</td>\n      <td>apartment</td>\n      <td>Belgrano</td>\n      <td>|Argentina|Capital Federal|Belgrano|</td>\n      <td>Argentina</td>\n      <td>Capital Federal</td>\n      <td>3436077.0</td>\n      <td>-34.5598729,-58.443362</td>\n      <td>-34.559873</td>\n      <td>...</td>\n      <td>60.0</td>\n      <td>3000.000000</td>\n      <td>3250.000000</td>\n      <td>NaN</td>\n      <td>NaN</td>\n      <td>NaN</td>\n      <td>http://www.properati.com.ar/15bou_venta_depart...</td>\n      <td>EXCELENTE DOS AMBIENTES  ESTRENAR AMPLIO SUPER...</td>\n      <td>JOSE HERNANDEZ   1400 DOS AMBIENTES ESTRENAR ,...</td>\n      <td>https://thumbs4.properati.com/2/J3zOjgaFHrkvnv...</td>\n    </tr>\n    <tr>\n      <th>...</th>\n      <td>...</td>\n      <td>...</td>\n      <td>...</td>\n      <td>...</td>\n      <td>...</td>\n      <td>...</td>\n      <td>...</td>\n      <td>...</td>\n      <td>...</td>\n      <td>...</td>\n      <td>...</td>\n      <td>...</td>\n      <td>...</td>\n      <td>...</td>\n      <td>...</td>\n      <td>...</td>\n      <td>...</td>\n      <td>...</td>\n      <td>...</td>\n      <td>...</td>\n      <td>...</td>\n    </tr>\n    <tr>\n      <th>121160</th>\n      <td>121160</td>\n      <td>sell</td>\n      <td>apartment</td>\n      <td>Belgrano</td>\n      <td>|Argentina|Capital Federal|Belgrano|</td>\n      <td>Argentina</td>\n      <td>Capital Federal</td>\n      <td>3436077.0</td>\n      <td>-34.563685346,-58.4426825896</td>\n      <td>-34.563685</td>\n      <td>...</td>\n      <td>NaN</td>\n      <td>2611.464968</td>\n      <td>NaN</td>\n      <td>NaN</td>\n      <td>NaN</td>\n      <td>6300.0</td>\n      <td>http://www.properati.com.ar/1cj5v_venta_depart...</td>\n      <td>Edificio en esquina de muy buena categoría de ...</td>\n      <td>Av .Luis Maria Campos 1400- Belgrano-Capital F...</td>\n      <td>https://thumbs4.properati.com/0/zeLNBuyylOJL7z...</td>\n    </tr>\n    <tr>\n      <th>121209</th>\n      <td>121209</td>\n      <td>sell</td>\n      <td>apartment</td>\n      <td>Belgrano</td>\n      <td>|Argentina|Capital Federal|Belgrano|</td>\n      <td>Argentina</td>\n      <td>Capital Federal</td>\n      <td>3436077.0</td>\n      <td>-34.563685346,-58.4426825896</td>\n      <td>-34.563685</td>\n      <td>...</td>\n      <td>NaN</td>\n      <td>2611.464968</td>\n      <td>NaN</td>\n      <td>NaN</td>\n      <td>NaN</td>\n      <td>6300.0</td>\n      <td>http://www.properati.com.ar/1cj7c_venta_depart...</td>\n      <td>Edificio en esquina de muy buena categoría de ...</td>\n      <td>Av .Luis Maria Campos 1400- Belgrano-Capital F...</td>\n      <td>https://thumbs4.properati.com/0/zeLNBuyylOJL7z...</td>\n    </tr>\n    <tr>\n      <th>121215</th>\n      <td>121215</td>\n      <td>sell</td>\n      <td>apartment</td>\n      <td>Belgrano</td>\n      <td>|Argentina|Capital Federal|Belgrano|</td>\n      <td>Argentina</td>\n      <td>Capital Federal</td>\n      <td>3436077.0</td>\n      <td>NaN</td>\n      <td>NaN</td>\n      <td>...</td>\n      <td>93.0</td>\n      <td>7699.115044</td>\n      <td>9354.838710</td>\n      <td>NaN</td>\n      <td>NaN</td>\n      <td>10000.0</td>\n      <td>http://www.properati.com.ar/1cja2_venta_depart...</td>\n      <td>TORRE FORUM ALCORTA - MÁXIMA CATEGORÍA.Impecab...</td>\n      <td>Torre Forum Alcorta- Impecable 3 ambientes</td>\n      <td>https://thumbs4.properati.com/1/bjms0KnaAnlNoQ...</td>\n    </tr>\n    <tr>\n      <th>121217</th>\n      <td>121217</td>\n      <td>sell</td>\n      <td>apartment</td>\n      <td>Villa Urquiza</td>\n      <td>|Argentina|Capital Federal|Villa Urquiza|</td>\n      <td>Argentina</td>\n      <td>Capital Federal</td>\n      <td>3433775.0</td>\n      <td>-34.5706388726,-58.4755963355</td>\n      <td>-34.570639</td>\n      <td>...</td>\n      <td>39.0</td>\n      <td>2858.695652</td>\n      <td>3371.794872</td>\n      <td>NaN</td>\n      <td>NaN</td>\n      <td>NaN</td>\n      <td>http://www.properati.com.ar/1cja7_venta_depart...</td>\n      <td>VENTA DEPARTAMENTO AMBIENTE DIVISIBLE A ESTREN...</td>\n      <td>VENTA DEPARTAMENTO AMBIENTE DIVISIBLE A ESTREN...</td>\n      <td>https://thumbs4.properati.com/9/YAe_-2gRVykADP...</td>\n    </tr>\n    <tr>\n      <th>121219</th>\n      <td>121219</td>\n      <td>sell</td>\n      <td>apartment</td>\n      <td>Capital Federal</td>\n      <td>|Argentina|Capital Federal|</td>\n      <td>Argentina</td>\n      <td>Capital Federal</td>\n      <td>3433955.0</td>\n      <td>NaN</td>\n      <td>NaN</td>\n      <td>...</td>\n      <td>77.0</td>\n      <td>1675.324675</td>\n      <td>1675.324675</td>\n      <td>NaN</td>\n      <td>NaN</td>\n      <td>3500.0</td>\n      <td>http://www.properati.com.ar/1cjaa_venta_depart...</td>\n      <td>Departamento de 77 m2 apto profesional. Edific...</td>\n      <td>Departamento apto profesional en el Centro</td>\n      <td>https://thumbs4.properati.com/8/mNEsnQWqB7joBF...</td>\n    </tr>\n  </tbody>\n</table>\n<p>32316 rows × 26 columns</p>\n</div>"
     },
     "execution_count": 88,
     "metadata": {},
     "output_type": "execute_result"
    }
   ],
   "source": [
    "capital_federal_mask = data.state_name==\"Capital Federal\"\n",
    "capital_federal = data[capital_federal_mask]\n",
    "capital_federal"
   ]
  },
  {
   "cell_type": "code",
   "execution_count": 89,
   "metadata": {
    "collapsed": false,
    "pycharm": {
     "name": "#%%\n"
    }
   },
   "outputs": [
    {
     "data": {
      "text/plain": "       property_type       place_name  surface_total_in_m2  \\\n0                 PH        Mataderos                 55.0   \n2          apartment        Mataderos                 55.0   \n3                 PH          Liniers                  NaN   \n7          apartment         Belgrano                 45.0   \n8          apartment         Belgrano                 65.0   \n...              ...              ...                  ...   \n121160     apartment         Belgrano                157.0   \n121209     apartment         Belgrano                157.0   \n121215     apartment         Belgrano                113.0   \n121217     apartment    Villa Urquiza                 46.0   \n121219     apartment  Capital Federal                 77.0   \n\n        surface_covered_in_m2     price  \n0                        40.0   62000.0  \n2                        55.0   72000.0  \n3                         NaN   95000.0  \n7                        40.0  138000.0  \n8                        60.0  195000.0  \n...                       ...       ...  \n121160                    NaN  410000.0  \n121209                    NaN  410000.0  \n121215                   93.0  870000.0  \n121217                   39.0  131500.0  \n121219                   77.0  129000.0  \n\n[32316 rows x 5 columns]",
      "text/html": "<div>\n<style scoped>\n    .dataframe tbody tr th:only-of-type {\n        vertical-align: middle;\n    }\n\n    .dataframe tbody tr th {\n        vertical-align: top;\n    }\n\n    .dataframe thead th {\n        text-align: right;\n    }\n</style>\n<table border=\"1\" class=\"dataframe\">\n  <thead>\n    <tr style=\"text-align: right;\">\n      <th></th>\n      <th>property_type</th>\n      <th>place_name</th>\n      <th>surface_total_in_m2</th>\n      <th>surface_covered_in_m2</th>\n      <th>price</th>\n    </tr>\n  </thead>\n  <tbody>\n    <tr>\n      <th>0</th>\n      <td>PH</td>\n      <td>Mataderos</td>\n      <td>55.0</td>\n      <td>40.0</td>\n      <td>62000.0</td>\n    </tr>\n    <tr>\n      <th>2</th>\n      <td>apartment</td>\n      <td>Mataderos</td>\n      <td>55.0</td>\n      <td>55.0</td>\n      <td>72000.0</td>\n    </tr>\n    <tr>\n      <th>3</th>\n      <td>PH</td>\n      <td>Liniers</td>\n      <td>NaN</td>\n      <td>NaN</td>\n      <td>95000.0</td>\n    </tr>\n    <tr>\n      <th>7</th>\n      <td>apartment</td>\n      <td>Belgrano</td>\n      <td>45.0</td>\n      <td>40.0</td>\n      <td>138000.0</td>\n    </tr>\n    <tr>\n      <th>8</th>\n      <td>apartment</td>\n      <td>Belgrano</td>\n      <td>65.0</td>\n      <td>60.0</td>\n      <td>195000.0</td>\n    </tr>\n    <tr>\n      <th>...</th>\n      <td>...</td>\n      <td>...</td>\n      <td>...</td>\n      <td>...</td>\n      <td>...</td>\n    </tr>\n    <tr>\n      <th>121160</th>\n      <td>apartment</td>\n      <td>Belgrano</td>\n      <td>157.0</td>\n      <td>NaN</td>\n      <td>410000.0</td>\n    </tr>\n    <tr>\n      <th>121209</th>\n      <td>apartment</td>\n      <td>Belgrano</td>\n      <td>157.0</td>\n      <td>NaN</td>\n      <td>410000.0</td>\n    </tr>\n    <tr>\n      <th>121215</th>\n      <td>apartment</td>\n      <td>Belgrano</td>\n      <td>113.0</td>\n      <td>93.0</td>\n      <td>870000.0</td>\n    </tr>\n    <tr>\n      <th>121217</th>\n      <td>apartment</td>\n      <td>Villa Urquiza</td>\n      <td>46.0</td>\n      <td>39.0</td>\n      <td>131500.0</td>\n    </tr>\n    <tr>\n      <th>121219</th>\n      <td>apartment</td>\n      <td>Capital Federal</td>\n      <td>77.0</td>\n      <td>77.0</td>\n      <td>129000.0</td>\n    </tr>\n  </tbody>\n</table>\n<p>32316 rows × 5 columns</p>\n</div>"
     },
     "execution_count": 89,
     "metadata": {},
     "output_type": "execute_result"
    }
   ],
   "source": [
    "capital_federal_dos = capital_federal.loc[:,('property_type','place_name','surface_total_in_m2','surface_covered_in_m2', 'price')]\n",
    "capital_federal_dos"
   ]
  },
  {
   "cell_type": "code",
   "execution_count": 90,
   "metadata": {
    "collapsed": false,
    "pycharm": {
     "name": "#%%\n"
    }
   },
   "outputs": [
    {
     "data": {
      "text/plain": "       property_type       place_name  surface_total_in_m2  \\\n2          apartment        Mataderos                 55.0   \n7          apartment         Belgrano                 45.0   \n8          apartment         Belgrano                 65.0   \n13         apartment     Palermo Soho                 50.0   \n14         apartment     Palermo Soho                 42.0   \n...              ...              ...                  ...   \n121160     apartment         Belgrano                157.0   \n121209     apartment         Belgrano                157.0   \n121215     apartment         Belgrano                113.0   \n121217     apartment    Villa Urquiza                 46.0   \n121219     apartment  Capital Federal                 77.0   \n\n        surface_covered_in_m2     price  \n2                        55.0   72000.0  \n7                        40.0  138000.0  \n8                        60.0  195000.0  \n13                       30.0  111700.0  \n14                       31.0  147900.0  \n...                       ...       ...  \n121160                    NaN  410000.0  \n121209                    NaN  410000.0  \n121215                   93.0  870000.0  \n121217                   39.0  131500.0  \n121219                   77.0  129000.0  \n\n[27037 rows x 5 columns]",
      "text/html": "<div>\n<style scoped>\n    .dataframe tbody tr th:only-of-type {\n        vertical-align: middle;\n    }\n\n    .dataframe tbody tr th {\n        vertical-align: top;\n    }\n\n    .dataframe thead th {\n        text-align: right;\n    }\n</style>\n<table border=\"1\" class=\"dataframe\">\n  <thead>\n    <tr style=\"text-align: right;\">\n      <th></th>\n      <th>property_type</th>\n      <th>place_name</th>\n      <th>surface_total_in_m2</th>\n      <th>surface_covered_in_m2</th>\n      <th>price</th>\n    </tr>\n  </thead>\n  <tbody>\n    <tr>\n      <th>2</th>\n      <td>apartment</td>\n      <td>Mataderos</td>\n      <td>55.0</td>\n      <td>55.0</td>\n      <td>72000.0</td>\n    </tr>\n    <tr>\n      <th>7</th>\n      <td>apartment</td>\n      <td>Belgrano</td>\n      <td>45.0</td>\n      <td>40.0</td>\n      <td>138000.0</td>\n    </tr>\n    <tr>\n      <th>8</th>\n      <td>apartment</td>\n      <td>Belgrano</td>\n      <td>65.0</td>\n      <td>60.0</td>\n      <td>195000.0</td>\n    </tr>\n    <tr>\n      <th>13</th>\n      <td>apartment</td>\n      <td>Palermo Soho</td>\n      <td>50.0</td>\n      <td>30.0</td>\n      <td>111700.0</td>\n    </tr>\n    <tr>\n      <th>14</th>\n      <td>apartment</td>\n      <td>Palermo Soho</td>\n      <td>42.0</td>\n      <td>31.0</td>\n      <td>147900.0</td>\n    </tr>\n    <tr>\n      <th>...</th>\n      <td>...</td>\n      <td>...</td>\n      <td>...</td>\n      <td>...</td>\n      <td>...</td>\n    </tr>\n    <tr>\n      <th>121160</th>\n      <td>apartment</td>\n      <td>Belgrano</td>\n      <td>157.0</td>\n      <td>NaN</td>\n      <td>410000.0</td>\n    </tr>\n    <tr>\n      <th>121209</th>\n      <td>apartment</td>\n      <td>Belgrano</td>\n      <td>157.0</td>\n      <td>NaN</td>\n      <td>410000.0</td>\n    </tr>\n    <tr>\n      <th>121215</th>\n      <td>apartment</td>\n      <td>Belgrano</td>\n      <td>113.0</td>\n      <td>93.0</td>\n      <td>870000.0</td>\n    </tr>\n    <tr>\n      <th>121217</th>\n      <td>apartment</td>\n      <td>Villa Urquiza</td>\n      <td>46.0</td>\n      <td>39.0</td>\n      <td>131500.0</td>\n    </tr>\n    <tr>\n      <th>121219</th>\n      <td>apartment</td>\n      <td>Capital Federal</td>\n      <td>77.0</td>\n      <td>77.0</td>\n      <td>129000.0</td>\n    </tr>\n  </tbody>\n</table>\n<p>27037 rows × 5 columns</p>\n</div>"
     },
     "execution_count": 90,
     "metadata": {},
     "output_type": "execute_result"
    }
   ],
   "source": [
    "capital_federal_apartment_mask = capital_federal.property_type=='apartment'\n",
    "capital_federal_apartment = capital_federal_dos[capital_federal_apartment_mask]\n",
    "capital_federal_apartment"
   ]
  },
  {
   "cell_type": "code",
   "execution_count": 91,
   "metadata": {
    "collapsed": false,
    "pycharm": {
     "name": "#%%\n"
    }
   },
   "outputs": [
    {
     "data": {
      "text/plain": "                                 column_name  percent_missing\nsurface_total_in_m2      surface_total_in_m2        16.484817\nprice                                  price        10.663165\nsurface_covered_in_m2  surface_covered_in_m2         6.646447\nproperty_type                  property_type         0.000000\nplace_name                        place_name         0.000000",
      "text/html": "<div>\n<style scoped>\n    .dataframe tbody tr th:only-of-type {\n        vertical-align: middle;\n    }\n\n    .dataframe tbody tr th {\n        vertical-align: top;\n    }\n\n    .dataframe thead th {\n        text-align: right;\n    }\n</style>\n<table border=\"1\" class=\"dataframe\">\n  <thead>\n    <tr style=\"text-align: right;\">\n      <th></th>\n      <th>column_name</th>\n      <th>percent_missing</th>\n    </tr>\n  </thead>\n  <tbody>\n    <tr>\n      <th>surface_total_in_m2</th>\n      <td>surface_total_in_m2</td>\n      <td>16.484817</td>\n    </tr>\n    <tr>\n      <th>price</th>\n      <td>price</td>\n      <td>10.663165</td>\n    </tr>\n    <tr>\n      <th>surface_covered_in_m2</th>\n      <td>surface_covered_in_m2</td>\n      <td>6.646447</td>\n    </tr>\n    <tr>\n      <th>property_type</th>\n      <td>property_type</td>\n      <td>0.000000</td>\n    </tr>\n    <tr>\n      <th>place_name</th>\n      <td>place_name</td>\n      <td>0.000000</td>\n    </tr>\n  </tbody>\n</table>\n</div>"
     },
     "execution_count": 91,
     "metadata": {},
     "output_type": "execute_result"
    }
   ],
   "source": [
    "#Porcentaje de nulls respecto al total del dataset por columna\n",
    "\n",
    "percent_missing = capital_federal_apartment.isnull().sum() * 100 / len(capital_federal_apartment)\n",
    "missing_value_df = pd.DataFrame({'column_name': capital_federal_apartment.columns,\n",
    "                                 'percent_missing': percent_missing})\n",
    "\n",
    "missing_value_df.sort_values('percent_missing', inplace=True, ascending=False)\n",
    "missing_value_df"
   ]
  },
  {
   "cell_type": "code",
   "execution_count": 92,
   "metadata": {
    "collapsed": false,
    "pycharm": {
     "name": "#%%\n"
    }
   },
   "outputs": [
    {
     "name": "stderr",
     "output_type": "stream",
     "text": [
      "/var/folders/_n/jd2g51ps29j_lml05lw1fzrh0000gp/T/ipykernel_81056/3128688942.py:1: SettingWithCopyWarning: \n",
      "A value is trying to be set on a copy of a slice from a DataFrame\n",
      "\n",
      "See the caveats in the documentation: https://pandas.pydata.org/pandas-docs/stable/user_guide/indexing.html#returning-a-view-versus-a-copy\n",
      "  capital_federal_apartment.surface_total_in_m2.fillna(capital_federal_apartment.surface_covered_in_m2, inplace=True)\n"
     ]
    }
   ],
   "source": [
    "capital_federal_apartment.surface_total_in_m2.fillna(capital_federal_apartment.surface_covered_in_m2, inplace=True)\n"
   ]
  },
  {
   "cell_type": "code",
   "execution_count": 93,
   "metadata": {
    "collapsed": false,
    "pycharm": {
     "name": "#%%\n"
    }
   },
   "outputs": [
    {
     "name": "stderr",
     "output_type": "stream",
     "text": [
      "/var/folders/_n/jd2g51ps29j_lml05lw1fzrh0000gp/T/ipykernel_81056/3450111080.py:1: SettingWithCopyWarning: \n",
      "A value is trying to be set on a copy of a slice from a DataFrame.\n",
      "Try using .loc[row_indexer,col_indexer] = value instead\n",
      "\n",
      "See the caveats in the documentation: https://pandas.pydata.org/pandas-docs/stable/user_guide/indexing.html#returning-a-view-versus-a-copy\n",
      "  capital_federal_apartment['surface_uncovered_in_m2'] = capital_federal_apartment.surface_total_in_m2 - capital_federal_apartment.surface_covered_in_m2\n"
     ]
    },
    {
     "data": {
      "text/plain": "       property_type       place_name  surface_total_in_m2  \\\n2          apartment        Mataderos                 55.0   \n7          apartment         Belgrano                 45.0   \n8          apartment         Belgrano                 65.0   \n13         apartment     Palermo Soho                 50.0   \n14         apartment     Palermo Soho                 42.0   \n...              ...              ...                  ...   \n121160     apartment         Belgrano                157.0   \n121209     apartment         Belgrano                157.0   \n121215     apartment         Belgrano                113.0   \n121217     apartment    Villa Urquiza                 46.0   \n121219     apartment  Capital Federal                 77.0   \n\n        surface_covered_in_m2     price  surface_uncovered_in_m2  \n2                        55.0   72000.0                      0.0  \n7                        40.0  138000.0                      5.0  \n8                        60.0  195000.0                      5.0  \n13                       30.0  111700.0                     20.0  \n14                       31.0  147900.0                     11.0  \n...                       ...       ...                      ...  \n121160                    NaN  410000.0                      NaN  \n121209                    NaN  410000.0                      NaN  \n121215                   93.0  870000.0                     20.0  \n121217                   39.0  131500.0                      7.0  \n121219                   77.0  129000.0                      0.0  \n\n[27037 rows x 6 columns]",
      "text/html": "<div>\n<style scoped>\n    .dataframe tbody tr th:only-of-type {\n        vertical-align: middle;\n    }\n\n    .dataframe tbody tr th {\n        vertical-align: top;\n    }\n\n    .dataframe thead th {\n        text-align: right;\n    }\n</style>\n<table border=\"1\" class=\"dataframe\">\n  <thead>\n    <tr style=\"text-align: right;\">\n      <th></th>\n      <th>property_type</th>\n      <th>place_name</th>\n      <th>surface_total_in_m2</th>\n      <th>surface_covered_in_m2</th>\n      <th>price</th>\n      <th>surface_uncovered_in_m2</th>\n    </tr>\n  </thead>\n  <tbody>\n    <tr>\n      <th>2</th>\n      <td>apartment</td>\n      <td>Mataderos</td>\n      <td>55.0</td>\n      <td>55.0</td>\n      <td>72000.0</td>\n      <td>0.0</td>\n    </tr>\n    <tr>\n      <th>7</th>\n      <td>apartment</td>\n      <td>Belgrano</td>\n      <td>45.0</td>\n      <td>40.0</td>\n      <td>138000.0</td>\n      <td>5.0</td>\n    </tr>\n    <tr>\n      <th>8</th>\n      <td>apartment</td>\n      <td>Belgrano</td>\n      <td>65.0</td>\n      <td>60.0</td>\n      <td>195000.0</td>\n      <td>5.0</td>\n    </tr>\n    <tr>\n      <th>13</th>\n      <td>apartment</td>\n      <td>Palermo Soho</td>\n      <td>50.0</td>\n      <td>30.0</td>\n      <td>111700.0</td>\n      <td>20.0</td>\n    </tr>\n    <tr>\n      <th>14</th>\n      <td>apartment</td>\n      <td>Palermo Soho</td>\n      <td>42.0</td>\n      <td>31.0</td>\n      <td>147900.0</td>\n      <td>11.0</td>\n    </tr>\n    <tr>\n      <th>...</th>\n      <td>...</td>\n      <td>...</td>\n      <td>...</td>\n      <td>...</td>\n      <td>...</td>\n      <td>...</td>\n    </tr>\n    <tr>\n      <th>121160</th>\n      <td>apartment</td>\n      <td>Belgrano</td>\n      <td>157.0</td>\n      <td>NaN</td>\n      <td>410000.0</td>\n      <td>NaN</td>\n    </tr>\n    <tr>\n      <th>121209</th>\n      <td>apartment</td>\n      <td>Belgrano</td>\n      <td>157.0</td>\n      <td>NaN</td>\n      <td>410000.0</td>\n      <td>NaN</td>\n    </tr>\n    <tr>\n      <th>121215</th>\n      <td>apartment</td>\n      <td>Belgrano</td>\n      <td>113.0</td>\n      <td>93.0</td>\n      <td>870000.0</td>\n      <td>20.0</td>\n    </tr>\n    <tr>\n      <th>121217</th>\n      <td>apartment</td>\n      <td>Villa Urquiza</td>\n      <td>46.0</td>\n      <td>39.0</td>\n      <td>131500.0</td>\n      <td>7.0</td>\n    </tr>\n    <tr>\n      <th>121219</th>\n      <td>apartment</td>\n      <td>Capital Federal</td>\n      <td>77.0</td>\n      <td>77.0</td>\n      <td>129000.0</td>\n      <td>0.0</td>\n    </tr>\n  </tbody>\n</table>\n<p>27037 rows × 6 columns</p>\n</div>"
     },
     "execution_count": 93,
     "metadata": {},
     "output_type": "execute_result"
    }
   ],
   "source": [
    "capital_federal_apartment['surface_uncovered_in_m2'] = capital_federal_apartment.surface_total_in_m2 - capital_federal_apartment.surface_covered_in_m2\n",
    "capital_federal_apartment"
   ]
  },
  {
   "cell_type": "code",
   "execution_count": 94,
   "metadata": {
    "pycharm": {
     "name": "#%%\n"
    }
   },
   "outputs": [
    {
     "data": {
      "text/plain": "[(0.0, 500.0)]"
     },
     "execution_count": 94,
     "metadata": {},
     "output_type": "execute_result"
    },
    {
     "data": {
      "text/plain": "<Figure size 432x288 with 1 Axes>",
      "image/png": "[encoded data removed]"
     },
     "metadata": {},
     "output_type": "display_data"
    }
   ],
   "source": [
    "g=sns.boxplot(data=capital_federal_apartment,y='surface_total_in_m2')\n",
    "\n",
    "g.set(ylim=(0,500))"
   ]
  },
  {
   "cell_type": "code",
   "execution_count": 95,
   "metadata": {
    "pycharm": {
     "name": "#%%\n"
    }
   },
   "outputs": [
    {
     "data": {
      "text/plain": "Int64Index([  1276,   5907,   6508,   6676,   7100,   8413,  13037,  13065,\n             14022,  14859,  17288,  24159,  24379,  24384,  24548,  28563,\n             31184,  34696,  34702,  45122,  45486,  46392,  46709,  46948,\n             47109,  47399,  51824,  51995,  52788,  52789,  53048,  53116,\n             53896,  54806,  55316,  56484,  57173,  57469,  58045,  58175,\n             61820,  62863,  63093,  64104,  64643,  64645,  69472,  71875,\n             71887,  73029,  73511,  76012,  76891,  78877,  88136,  88562,\n             89003,  95810,  96392,  96438,  96778,  96836, 106459, 109632,\n            109722, 109840, 114174, 117183, 118206],\n           dtype='int64')"
     },
     "execution_count": 95,
     "metadata": {},
     "output_type": "execute_result"
    }
   ],
   "source": [
    "indice=capital_federal_apartment[capital_federal_apartment['surface_total_in_m2'] > 500]\n",
    "\n",
    "indice.index\n"
   ]
  },
  {
   "cell_type": "code",
   "execution_count": 96,
   "metadata": {
    "pycharm": {
     "name": "#%%\n"
    }
   },
   "outputs": [
    {
     "name": "stderr",
     "output_type": "stream",
     "text": [
      "/var/folders/_n/jd2g51ps29j_lml05lw1fzrh0000gp/T/ipykernel_81056/2980280860.py:1: SettingWithCopyWarning: \n",
      "A value is trying to be set on a copy of a slice from a DataFrame\n",
      "\n",
      "See the caveats in the documentation: https://pandas.pydata.org/pandas-docs/stable/user_guide/indexing.html#returning-a-view-versus-a-copy\n",
      "  capital_federal_apartment.drop(indice.index, axis=0, inplace=True)\n"
     ]
    },
    {
     "data": {
      "text/plain": "       property_type       place_name  surface_total_in_m2  \\\n2          apartment        Mataderos                 55.0   \n7          apartment         Belgrano                 45.0   \n8          apartment         Belgrano                 65.0   \n13         apartment     Palermo Soho                 50.0   \n14         apartment     Palermo Soho                 42.0   \n...              ...              ...                  ...   \n121160     apartment         Belgrano                157.0   \n121209     apartment         Belgrano                157.0   \n121215     apartment         Belgrano                113.0   \n121217     apartment    Villa Urquiza                 46.0   \n121219     apartment  Capital Federal                 77.0   \n\n        surface_covered_in_m2     price  surface_uncovered_in_m2  \n2                        55.0   72000.0                      0.0  \n7                        40.0  138000.0                      5.0  \n8                        60.0  195000.0                      5.0  \n13                       30.0  111700.0                     20.0  \n14                       31.0  147900.0                     11.0  \n...                       ...       ...                      ...  \n121160                    NaN  410000.0                      NaN  \n121209                    NaN  410000.0                      NaN  \n121215                   93.0  870000.0                     20.0  \n121217                   39.0  131500.0                      7.0  \n121219                   77.0  129000.0                      0.0  \n\n[26968 rows x 6 columns]",
      "text/html": "<div>\n<style scoped>\n    .dataframe tbody tr th:only-of-type {\n        vertical-align: middle;\n    }\n\n    .dataframe tbody tr th {\n        vertical-align: top;\n    }\n\n    .dataframe thead th {\n        text-align: right;\n    }\n</style>\n<table border=\"1\" class=\"dataframe\">\n  <thead>\n    <tr style=\"text-align: right;\">\n      <th></th>\n      <th>property_type</th>\n      <th>place_name</th>\n      <th>surface_total_in_m2</th>\n      <th>surface_covered_in_m2</th>\n      <th>price</th>\n      <th>surface_uncovered_in_m2</th>\n    </tr>\n  </thead>\n  <tbody>\n    <tr>\n      <th>2</th>\n      <td>apartment</td>\n      <td>Mataderos</td>\n      <td>55.0</td>\n      <td>55.0</td>\n      <td>72000.0</td>\n      <td>0.0</td>\n    </tr>\n    <tr>\n      <th>7</th>\n      <td>apartment</td>\n      <td>Belgrano</td>\n      <td>45.0</td>\n      <td>40.0</td>\n      <td>138000.0</td>\n      <td>5.0</td>\n    </tr>\n    <tr>\n      <th>8</th>\n      <td>apartment</td>\n      <td>Belgrano</td>\n      <td>65.0</td>\n      <td>60.0</td>\n      <td>195000.0</td>\n      <td>5.0</td>\n    </tr>\n    <tr>\n      <th>13</th>\n      <td>apartment</td>\n      <td>Palermo Soho</td>\n      <td>50.0</td>\n      <td>30.0</td>\n      <td>111700.0</td>\n      <td>20.0</td>\n    </tr>\n    <tr>\n      <th>14</th>\n      <td>apartment</td>\n      <td>Palermo Soho</td>\n      <td>42.0</td>\n      <td>31.0</td>\n      <td>147900.0</td>\n      <td>11.0</td>\n    </tr>\n    <tr>\n      <th>...</th>\n      <td>...</td>\n      <td>...</td>\n      <td>...</td>\n      <td>...</td>\n      <td>...</td>\n      <td>...</td>\n    </tr>\n    <tr>\n      <th>121160</th>\n      <td>apartment</td>\n      <td>Belgrano</td>\n      <td>157.0</td>\n      <td>NaN</td>\n      <td>410000.0</td>\n      <td>NaN</td>\n    </tr>\n    <tr>\n      <th>121209</th>\n      <td>apartment</td>\n      <td>Belgrano</td>\n      <td>157.0</td>\n      <td>NaN</td>\n      <td>410000.0</td>\n      <td>NaN</td>\n    </tr>\n    <tr>\n      <th>121215</th>\n      <td>apartment</td>\n      <td>Belgrano</td>\n      <td>113.0</td>\n      <td>93.0</td>\n      <td>870000.0</td>\n      <td>20.0</td>\n    </tr>\n    <tr>\n      <th>121217</th>\n      <td>apartment</td>\n      <td>Villa Urquiza</td>\n      <td>46.0</td>\n      <td>39.0</td>\n      <td>131500.0</td>\n      <td>7.0</td>\n    </tr>\n    <tr>\n      <th>121219</th>\n      <td>apartment</td>\n      <td>Capital Federal</td>\n      <td>77.0</td>\n      <td>77.0</td>\n      <td>129000.0</td>\n      <td>0.0</td>\n    </tr>\n  </tbody>\n</table>\n<p>26968 rows × 6 columns</p>\n</div>"
     },
     "execution_count": 96,
     "metadata": {},
     "output_type": "execute_result"
    }
   ],
   "source": [
    "capital_federal_apartment.drop(indice.index, axis=0, inplace=True)\n",
    "\n",
    "capital_federal_apartment"
   ]
  },
  {
   "cell_type": "code",
   "execution_count": 97,
   "metadata": {
    "pycharm": {
     "name": "#%%\n"
    }
   },
   "outputs": [
    {
     "data": {
      "text/plain": "[(0.0, 550.0)]"
     },
     "execution_count": 97,
     "metadata": {},
     "output_type": "execute_result"
    },
    {
     "data": {
      "text/plain": "<Figure size 432x288 with 1 Axes>",
      "image/png": "[encoded data removed]"
     },
     "metadata": {},
     "output_type": "display_data"
    }
   ],
   "source": [
    "g=sns.boxplot(data=capital_federal_apartment,y='surface_total_in_m2')\n",
    "\n",
    "g.set(ylim=(0,550))"
   ]
  },
  {
   "cell_type": "code",
   "execution_count": 98,
   "metadata": {
    "collapsed": false,
    "pycharm": {
     "name": "#%%\n"
    }
   },
   "outputs": [
    {
     "name": "stderr",
     "output_type": "stream",
     "text": [
      "/var/folders/_n/jd2g51ps29j_lml05lw1fzrh0000gp/T/ipykernel_81056/573191145.py:1: SettingWithCopyWarning: \n",
      "A value is trying to be set on a copy of a slice from a DataFrame\n",
      "\n",
      "See the caveats in the documentation: https://pandas.pydata.org/pandas-docs/stable/user_guide/indexing.html#returning-a-view-versus-a-copy\n",
      "  capital_federal_apartment.drop('surface_total_in_m2', axis=1, inplace=True)\n"
     ]
    }
   ],
   "source": [
    "capital_federal_apartment.drop('surface_total_in_m2', axis=1, inplace=True)\n"
   ]
  },
  {
   "cell_type": "code",
   "execution_count": 99,
   "metadata": {
    "collapsed": false,
    "pycharm": {
     "name": "#%%\n"
    }
   },
   "outputs": [
    {
     "data": {
      "text/plain": "                                     column_name  percent_missing\nprice                                      price        10.660783\nsurface_covered_in_m2      surface_covered_in_m2         6.641204\nsurface_uncovered_in_m2  surface_uncovered_in_m2         6.641204\nproperty_type                      property_type         0.000000\nplace_name                            place_name         0.000000",
      "text/html": "<div>\n<style scoped>\n    .dataframe tbody tr th:only-of-type {\n        vertical-align: middle;\n    }\n\n    .dataframe tbody tr th {\n        vertical-align: top;\n    }\n\n    .dataframe thead th {\n        text-align: right;\n    }\n</style>\n<table border=\"1\" class=\"dataframe\">\n  <thead>\n    <tr style=\"text-align: right;\">\n      <th></th>\n      <th>column_name</th>\n      <th>percent_missing</th>\n    </tr>\n  </thead>\n  <tbody>\n    <tr>\n      <th>price</th>\n      <td>price</td>\n      <td>10.660783</td>\n    </tr>\n    <tr>\n      <th>surface_covered_in_m2</th>\n      <td>surface_covered_in_m2</td>\n      <td>6.641204</td>\n    </tr>\n    <tr>\n      <th>surface_uncovered_in_m2</th>\n      <td>surface_uncovered_in_m2</td>\n      <td>6.641204</td>\n    </tr>\n    <tr>\n      <th>property_type</th>\n      <td>property_type</td>\n      <td>0.000000</td>\n    </tr>\n    <tr>\n      <th>place_name</th>\n      <td>place_name</td>\n      <td>0.000000</td>\n    </tr>\n  </tbody>\n</table>\n</div>"
     },
     "execution_count": 99,
     "metadata": {},
     "output_type": "execute_result"
    }
   ],
   "source": [
    "percent_missing = capital_federal_apartment.isnull().sum() * 100 / len(capital_federal_apartment)\n",
    "missing_value_df = pd.DataFrame({'column_name': capital_federal_apartment.columns,\n",
    "                                 'percent_missing': percent_missing})\n",
    "\n",
    "missing_value_df.sort_values('percent_missing', inplace=True, ascending=False)\n",
    "missing_value_df"
   ]
  },
  {
   "cell_type": "code",
   "execution_count": 100,
   "metadata": {
    "collapsed": false,
    "pycharm": {
     "name": "#%%\n"
    }
   },
   "outputs": [
    {
     "data": {
      "text/plain": "       property_type       place_name  surface_covered_in_m2     price  \\\n2          apartment        Mataderos                   55.0   72000.0   \n7          apartment         Belgrano                   40.0  138000.0   \n8          apartment         Belgrano                   60.0  195000.0   \n13         apartment     Palermo Soho                   30.0  111700.0   \n14         apartment     Palermo Soho                   31.0  147900.0   \n...              ...              ...                    ...       ...   \n121157     apartment         Belgrano                   35.0  128000.0   \n121158     apartment         Recoleta                   39.0  165000.0   \n121215     apartment         Belgrano                   93.0  870000.0   \n121217     apartment    Villa Urquiza                   39.0  131500.0   \n121219     apartment  Capital Federal                   77.0  129000.0   \n\n        surface_uncovered_in_m2  \n2                           0.0  \n7                           5.0  \n8                           5.0  \n13                         20.0  \n14                         11.0  \n...                         ...  \n121157                      3.0  \n121158                      5.0  \n121215                     20.0  \n121217                      7.0  \n121219                      0.0  \n\n[22823 rows x 5 columns]",
      "text/html": "<div>\n<style scoped>\n    .dataframe tbody tr th:only-of-type {\n        vertical-align: middle;\n    }\n\n    .dataframe tbody tr th {\n        vertical-align: top;\n    }\n\n    .dataframe thead th {\n        text-align: right;\n    }\n</style>\n<table border=\"1\" class=\"dataframe\">\n  <thead>\n    <tr style=\"text-align: right;\">\n      <th></th>\n      <th>property_type</th>\n      <th>place_name</th>\n      <th>surface_covered_in_m2</th>\n      <th>price</th>\n      <th>surface_uncovered_in_m2</th>\n    </tr>\n  </thead>\n  <tbody>\n    <tr>\n      <th>2</th>\n      <td>apartment</td>\n      <td>Mataderos</td>\n      <td>55.0</td>\n      <td>72000.0</td>\n      <td>0.0</td>\n    </tr>\n    <tr>\n      <th>7</th>\n      <td>apartment</td>\n      <td>Belgrano</td>\n      <td>40.0</td>\n      <td>138000.0</td>\n      <td>5.0</td>\n    </tr>\n    <tr>\n      <th>8</th>\n      <td>apartment</td>\n      <td>Belgrano</td>\n      <td>60.0</td>\n      <td>195000.0</td>\n      <td>5.0</td>\n    </tr>\n    <tr>\n      <th>13</th>\n      <td>apartment</td>\n      <td>Palermo Soho</td>\n      <td>30.0</td>\n      <td>111700.0</td>\n      <td>20.0</td>\n    </tr>\n    <tr>\n      <th>14</th>\n      <td>apartment</td>\n      <td>Palermo Soho</td>\n      <td>31.0</td>\n      <td>147900.0</td>\n      <td>11.0</td>\n    </tr>\n    <tr>\n      <th>...</th>\n      <td>...</td>\n      <td>...</td>\n      <td>...</td>\n      <td>...</td>\n      <td>...</td>\n    </tr>\n    <tr>\n      <th>121157</th>\n      <td>apartment</td>\n      <td>Belgrano</td>\n      <td>35.0</td>\n      <td>128000.0</td>\n      <td>3.0</td>\n    </tr>\n    <tr>\n      <th>121158</th>\n      <td>apartment</td>\n      <td>Recoleta</td>\n      <td>39.0</td>\n      <td>165000.0</td>\n      <td>5.0</td>\n    </tr>\n    <tr>\n      <th>121215</th>\n      <td>apartment</td>\n      <td>Belgrano</td>\n      <td>93.0</td>\n      <td>870000.0</td>\n      <td>20.0</td>\n    </tr>\n    <tr>\n      <th>121217</th>\n      <td>apartment</td>\n      <td>Villa Urquiza</td>\n      <td>39.0</td>\n      <td>131500.0</td>\n      <td>7.0</td>\n    </tr>\n    <tr>\n      <th>121219</th>\n      <td>apartment</td>\n      <td>Capital Federal</td>\n      <td>77.0</td>\n      <td>129000.0</td>\n      <td>0.0</td>\n    </tr>\n  </tbody>\n</table>\n<p>22823 rows × 5 columns</p>\n</div>"
     },
     "execution_count": 100,
     "metadata": {},
     "output_type": "execute_result"
    }
   ],
   "source": [
    "capital_federal_apartment_clean = capital_federal_apartment.dropna()\n",
    "capital_federal_apartment_clean"
   ]
  },
  {
   "cell_type": "code",
   "execution_count": 101,
   "metadata": {
    "collapsed": false,
    "pycharm": {
     "name": "#%%\n"
    }
   },
   "outputs": [
    {
     "data": {
      "text/plain": "                                     column_name  percent_missing\nproperty_type                      property_type              0.0\nplace_name                            place_name              0.0\nsurface_covered_in_m2      surface_covered_in_m2              0.0\nprice                                      price              0.0\nsurface_uncovered_in_m2  surface_uncovered_in_m2              0.0",
      "text/html": "<div>\n<style scoped>\n    .dataframe tbody tr th:only-of-type {\n        vertical-align: middle;\n    }\n\n    .dataframe tbody tr th {\n        vertical-align: top;\n    }\n\n    .dataframe thead th {\n        text-align: right;\n    }\n</style>\n<table border=\"1\" class=\"dataframe\">\n  <thead>\n    <tr style=\"text-align: right;\">\n      <th></th>\n      <th>column_name</th>\n      <th>percent_missing</th>\n    </tr>\n  </thead>\n  <tbody>\n    <tr>\n      <th>property_type</th>\n      <td>property_type</td>\n      <td>0.0</td>\n    </tr>\n    <tr>\n      <th>place_name</th>\n      <td>place_name</td>\n      <td>0.0</td>\n    </tr>\n    <tr>\n      <th>surface_covered_in_m2</th>\n      <td>surface_covered_in_m2</td>\n      <td>0.0</td>\n    </tr>\n    <tr>\n      <th>price</th>\n      <td>price</td>\n      <td>0.0</td>\n    </tr>\n    <tr>\n      <th>surface_uncovered_in_m2</th>\n      <td>surface_uncovered_in_m2</td>\n      <td>0.0</td>\n    </tr>\n  </tbody>\n</table>\n</div>"
     },
     "execution_count": 101,
     "metadata": {},
     "output_type": "execute_result"
    }
   ],
   "source": [
    "percent_missing = capital_federal_apartment_clean.isnull().sum() * 100 / len(capital_federal_apartment_clean)\n",
    "missing_value_df = pd.DataFrame({'column_name': capital_federal_apartment_clean.columns,\n",
    "                                 'percent_missing': percent_missing})\n",
    "\n",
    "missing_value_df.sort_values('percent_missing', inplace=True, ascending=False)\n",
    "missing_value_df"
   ]
  },
  {
   "cell_type": "code",
   "execution_count": 102,
   "metadata": {
    "collapsed": false,
    "pycharm": {
     "name": "#%%\n"
    }
   },
   "outputs": [
    {
     "name": "stderr",
     "output_type": "stream",
     "text": [
      "/var/folders/_n/jd2g51ps29j_lml05lw1fzrh0000gp/T/ipykernel_81056/3058871001.py:1: SettingWithCopyWarning: \n",
      "A value is trying to be set on a copy of a slice from a DataFrame\n",
      "\n",
      "See the caveats in the documentation: https://pandas.pydata.org/pandas-docs/stable/user_guide/indexing.html#returning-a-view-versus-a-copy\n",
      "  capital_federal_apartment_clean.drop('property_type', inplace=True, axis=1)\n"
     ]
    },
    {
     "data": {
      "text/plain": "             place_name  surface_covered_in_m2     price  \\\n2             Mataderos                   55.0   72000.0   \n7              Belgrano                   40.0  138000.0   \n8              Belgrano                   60.0  195000.0   \n13         Palermo Soho                   30.0  111700.0   \n14         Palermo Soho                   31.0  147900.0   \n...                 ...                    ...       ...   \n121157         Belgrano                   35.0  128000.0   \n121158         Recoleta                   39.0  165000.0   \n121215         Belgrano                   93.0  870000.0   \n121217    Villa Urquiza                   39.0  131500.0   \n121219  Capital Federal                   77.0  129000.0   \n\n        surface_uncovered_in_m2  \n2                           0.0  \n7                           5.0  \n8                           5.0  \n13                         20.0  \n14                         11.0  \n...                         ...  \n121157                      3.0  \n121158                      5.0  \n121215                     20.0  \n121217                      7.0  \n121219                      0.0  \n\n[22823 rows x 4 columns]",
      "text/html": "<div>\n<style scoped>\n    .dataframe tbody tr th:only-of-type {\n        vertical-align: middle;\n    }\n\n    .dataframe tbody tr th {\n        vertical-align: top;\n    }\n\n    .dataframe thead th {\n        text-align: right;\n    }\n</style>\n<table border=\"1\" class=\"dataframe\">\n  <thead>\n    <tr style=\"text-align: right;\">\n      <th></th>\n      <th>place_name</th>\n      <th>surface_covered_in_m2</th>\n      <th>price</th>\n      <th>surface_uncovered_in_m2</th>\n    </tr>\n  </thead>\n  <tbody>\n    <tr>\n      <th>2</th>\n      <td>Mataderos</td>\n      <td>55.0</td>\n      <td>72000.0</td>\n      <td>0.0</td>\n    </tr>\n    <tr>\n      <th>7</th>\n      <td>Belgrano</td>\n      <td>40.0</td>\n      <td>138000.0</td>\n      <td>5.0</td>\n    </tr>\n    <tr>\n      <th>8</th>\n      <td>Belgrano</td>\n      <td>60.0</td>\n      <td>195000.0</td>\n      <td>5.0</td>\n    </tr>\n    <tr>\n      <th>13</th>\n      <td>Palermo Soho</td>\n      <td>30.0</td>\n      <td>111700.0</td>\n      <td>20.0</td>\n    </tr>\n    <tr>\n      <th>14</th>\n      <td>Palermo Soho</td>\n      <td>31.0</td>\n      <td>147900.0</td>\n      <td>11.0</td>\n    </tr>\n    <tr>\n      <th>...</th>\n      <td>...</td>\n      <td>...</td>\n      <td>...</td>\n      <td>...</td>\n    </tr>\n    <tr>\n      <th>121157</th>\n      <td>Belgrano</td>\n      <td>35.0</td>\n      <td>128000.0</td>\n      <td>3.0</td>\n    </tr>\n    <tr>\n      <th>121158</th>\n      <td>Recoleta</td>\n      <td>39.0</td>\n      <td>165000.0</td>\n      <td>5.0</td>\n    </tr>\n    <tr>\n      <th>121215</th>\n      <td>Belgrano</td>\n      <td>93.0</td>\n      <td>870000.0</td>\n      <td>20.0</td>\n    </tr>\n    <tr>\n      <th>121217</th>\n      <td>Villa Urquiza</td>\n      <td>39.0</td>\n      <td>131500.0</td>\n      <td>7.0</td>\n    </tr>\n    <tr>\n      <th>121219</th>\n      <td>Capital Federal</td>\n      <td>77.0</td>\n      <td>129000.0</td>\n      <td>0.0</td>\n    </tr>\n  </tbody>\n</table>\n<p>22823 rows × 4 columns</p>\n</div>"
     },
     "execution_count": 102,
     "metadata": {},
     "output_type": "execute_result"
    }
   ],
   "source": [
    "capital_federal_apartment_clean.drop('property_type', inplace=True, axis=1)\n",
    "capital_federal_apartment_clean"
   ]
  },
  {
   "cell_type": "code",
   "execution_count": 103,
   "outputs": [
    {
     "data": {
      "text/plain": "Int64Index([   219,    252,    351,    352,    353,    354,    355,    356,\n               357,    358,\n            ...\n            120420, 120421, 120422, 120423, 120424, 120425, 120426, 120427,\n            120428, 121215],\n           dtype='int64', length=2060)"
     },
     "execution_count": 103,
     "metadata": {},
     "output_type": "execute_result"
    }
   ],
   "source": [
    "indice=capital_federal_apartment_clean[capital_federal_apartment_clean['price'] > 800000]\n",
    "\n",
    "indice.index"
   ],
   "metadata": {
    "collapsed": false,
    "pycharm": {
     "name": "#%%\n"
    }
   }
  },
  {
   "cell_type": "code",
   "execution_count": 104,
   "outputs": [
    {
     "name": "stderr",
     "output_type": "stream",
     "text": [
      "/var/folders/_n/jd2g51ps29j_lml05lw1fzrh0000gp/T/ipykernel_81056/971147271.py:1: SettingWithCopyWarning: \n",
      "A value is trying to be set on a copy of a slice from a DataFrame\n",
      "\n",
      "See the caveats in the documentation: https://pandas.pydata.org/pandas-docs/stable/user_guide/indexing.html#returning-a-view-versus-a-copy\n",
      "  capital_federal_apartment_clean.drop(indice.index, axis=0, inplace=True)\n"
     ]
    },
    {
     "data": {
      "text/plain": "             place_name  surface_covered_in_m2     price  \\\n2             Mataderos                   55.0   72000.0   \n7              Belgrano                   40.0  138000.0   \n8              Belgrano                   60.0  195000.0   \n13         Palermo Soho                   30.0  111700.0   \n14         Palermo Soho                   31.0  147900.0   \n...                 ...                    ...       ...   \n121153     Barrio Norte                   65.0  165000.0   \n121157         Belgrano                   35.0  128000.0   \n121158         Recoleta                   39.0  165000.0   \n121217    Villa Urquiza                   39.0  131500.0   \n121219  Capital Federal                   77.0  129000.0   \n\n        surface_uncovered_in_m2  \n2                           0.0  \n7                           5.0  \n8                           5.0  \n13                         20.0  \n14                         11.0  \n...                         ...  \n121153                     26.0  \n121157                      3.0  \n121158                      5.0  \n121217                      7.0  \n121219                      0.0  \n\n[20763 rows x 4 columns]",
      "text/html": "<div>\n<style scoped>\n    .dataframe tbody tr th:only-of-type {\n        vertical-align: middle;\n    }\n\n    .dataframe tbody tr th {\n        vertical-align: top;\n    }\n\n    .dataframe thead th {\n        text-align: right;\n    }\n</style>\n<table border=\"1\" class=\"dataframe\">\n  <thead>\n    <tr style=\"text-align: right;\">\n      <th></th>\n      <th>place_name</th>\n      <th>surface_covered_in_m2</th>\n      <th>price</th>\n      <th>surface_uncovered_in_m2</th>\n    </tr>\n  </thead>\n  <tbody>\n    <tr>\n      <th>2</th>\n      <td>Mataderos</td>\n      <td>55.0</td>\n      <td>72000.0</td>\n      <td>0.0</td>\n    </tr>\n    <tr>\n      <th>7</th>\n      <td>Belgrano</td>\n      <td>40.0</td>\n      <td>138000.0</td>\n      <td>5.0</td>\n    </tr>\n    <tr>\n      <th>8</th>\n      <td>Belgrano</td>\n      <td>60.0</td>\n      <td>195000.0</td>\n      <td>5.0</td>\n    </tr>\n    <tr>\n      <th>13</th>\n      <td>Palermo Soho</td>\n      <td>30.0</td>\n      <td>111700.0</td>\n      <td>20.0</td>\n    </tr>\n    <tr>\n      <th>14</th>\n      <td>Palermo Soho</td>\n      <td>31.0</td>\n      <td>147900.0</td>\n      <td>11.0</td>\n    </tr>\n    <tr>\n      <th>...</th>\n      <td>...</td>\n      <td>...</td>\n      <td>...</td>\n      <td>...</td>\n    </tr>\n    <tr>\n      <th>121153</th>\n      <td>Barrio Norte</td>\n      <td>65.0</td>\n      <td>165000.0</td>\n      <td>26.0</td>\n    </tr>\n    <tr>\n      <th>121157</th>\n      <td>Belgrano</td>\n      <td>35.0</td>\n      <td>128000.0</td>\n      <td>3.0</td>\n    </tr>\n    <tr>\n      <th>121158</th>\n      <td>Recoleta</td>\n      <td>39.0</td>\n      <td>165000.0</td>\n      <td>5.0</td>\n    </tr>\n    <tr>\n      <th>121217</th>\n      <td>Villa Urquiza</td>\n      <td>39.0</td>\n      <td>131500.0</td>\n      <td>7.0</td>\n    </tr>\n    <tr>\n      <th>121219</th>\n      <td>Capital Federal</td>\n      <td>77.0</td>\n      <td>129000.0</td>\n      <td>0.0</td>\n    </tr>\n  </tbody>\n</table>\n<p>20763 rows × 4 columns</p>\n</div>"
     },
     "execution_count": 104,
     "metadata": {},
     "output_type": "execute_result"
    }
   ],
   "source": [
    "capital_federal_apartment_clean.drop(indice.index, axis=0, inplace=True)\n",
    "\n",
    "capital_federal_apartment_clean"
   ],
   "metadata": {
    "collapsed": false,
    "pycharm": {
     "name": "#%%\n"
    }
   }
  },
  {
   "cell_type": "code",
   "execution_count": 105,
   "metadata": {
    "collapsed": false,
    "pycharm": {
     "name": "#%%\n"
    }
   },
   "outputs": [
    {
     "data": {
      "text/plain": "        Barrio_Abasto  Barrio_Agronomía  Barrio_Almagro  Barrio_Balvanera  \\\n2                   0                 0               0                 0   \n7                   0                 0               0                 0   \n8                   0                 0               0                 0   \n13                  0                 0               0                 0   \n14                  0                 0               0                 0   \n...               ...               ...             ...               ...   \n121153              0                 0               0                 0   \n121157              0                 0               0                 0   \n121158              0                 0               0                 0   \n121217              0                 0               0                 0   \n121219              0                 0               0                 0   \n\n        Barrio_Barracas  Barrio_Barrio Norte  Barrio_Belgrano  Barrio_Boca  \\\n2                     0                    0                0            0   \n7                     0                    0                1            0   \n8                     0                    0                1            0   \n13                    0                    0                0            0   \n14                    0                    0                0            0   \n...                 ...                  ...              ...          ...   \n121153                0                    1                0            0   \n121157                0                    0                1            0   \n121158                0                    0                0            0   \n121217                0                    0                0            0   \n121219                0                    0                0            0   \n\n        Barrio_Boedo  Barrio_Caballito  ...  Barrio_Villa Lugano  \\\n2                  0                 0  ...                    0   \n7                  0                 0  ...                    0   \n8                  0                 0  ...                    0   \n13                 0                 0  ...                    0   \n14                 0                 0  ...                    0   \n...              ...               ...  ...                  ...   \n121153             0                 0  ...                    0   \n121157             0                 0  ...                    0   \n121158             0                 0  ...                    0   \n121217             0                 0  ...                    0   \n121219             0                 0  ...                    0   \n\n        Barrio_Villa Luro  Barrio_Villa Ortuzar  Barrio_Villa Pueyrredón  \\\n2                       0                     0                        0   \n7                       0                     0                        0   \n8                       0                     0                        0   \n13                      0                     0                        0   \n14                      0                     0                        0   \n...                   ...                   ...                      ...   \n121153                  0                     0                        0   \n121157                  0                     0                        0   \n121158                  0                     0                        0   \n121217                  0                     0                        0   \n121219                  0                     0                        0   \n\n        Barrio_Villa Real  Barrio_Villa Riachuelo  Barrio_Villa Santa Rita  \\\n2                       0                       0                        0   \n7                       0                       0                        0   \n8                       0                       0                        0   \n13                      0                       0                        0   \n14                      0                       0                        0   \n...                   ...                     ...                      ...   \n121153                  0                       0                        0   \n121157                  0                       0                        0   \n121158                  0                       0                        0   \n121217                  0                       0                        0   \n121219                  0                       0                        0   \n\n        Barrio_Villa Soldati  Barrio_Villa Urquiza  Barrio_Villa del Parque  \n2                          0                     0                        0  \n7                          0                     0                        0  \n8                          0                     0                        0  \n13                         0                     0                        0  \n14                         0                     0                        0  \n...                      ...                   ...                      ...  \n121153                     0                     0                        0  \n121157                     0                     0                        0  \n121158                     0                     0                        0  \n121217                     0                     1                        0  \n121219                     0                     0                        0  \n\n[20763 rows x 62 columns]",
      "text/html": "<div>\n<style scoped>\n    .dataframe tbody tr th:only-of-type {\n        vertical-align: middle;\n    }\n\n    .dataframe tbody tr th {\n        vertical-align: top;\n    }\n\n    .dataframe thead th {\n        text-align: right;\n    }\n</style>\n<table border=\"1\" class=\"dataframe\">\n  <thead>\n    <tr style=\"text-align: right;\">\n      <th></th>\n      <th>Barrio_Abasto</th>\n      <th>Barrio_Agronomía</th>\n      <th>Barrio_Almagro</th>\n      <th>Barrio_Balvanera</th>\n      <th>Barrio_Barracas</th>\n      <th>Barrio_Barrio Norte</th>\n      <th>Barrio_Belgrano</th>\n      <th>Barrio_Boca</th>\n      <th>Barrio_Boedo</th>\n      <th>Barrio_Caballito</th>\n      <th>...</th>\n      <th>Barrio_Villa Lugano</th>\n      <th>Barrio_Villa Luro</th>\n      <th>Barrio_Villa Ortuzar</th>\n      <th>Barrio_Villa Pueyrredón</th>\n      <th>Barrio_Villa Real</th>\n      <th>Barrio_Villa Riachuelo</th>\n      <th>Barrio_Villa Santa Rita</th>\n      <th>Barrio_Villa Soldati</th>\n      <th>Barrio_Villa Urquiza</th>\n      <th>Barrio_Villa del Parque</th>\n    </tr>\n  </thead>\n  <tbody>\n    <tr>\n      <th>2</th>\n      <td>0</td>\n      <td>0</td>\n      <td>0</td>\n      <td>0</td>\n      <td>0</td>\n      <td>0</td>\n      <td>0</td>\n      <td>0</td>\n      <td>0</td>\n      <td>0</td>\n      <td>...</td>\n      <td>0</td>\n      <td>0</td>\n      <td>0</td>\n      <td>0</td>\n      <td>0</td>\n      <td>0</td>\n      <td>0</td>\n      <td>0</td>\n      <td>0</td>\n      <td>0</td>\n    </tr>\n    <tr>\n      <th>7</th>\n      <td>0</td>\n      <td>0</td>\n      <td>0</td>\n      <td>0</td>\n      <td>0</td>\n      <td>0</td>\n      <td>1</td>\n      <td>0</td>\n      <td>0</td>\n      <td>0</td>\n      <td>...</td>\n      <td>0</td>\n      <td>0</td>\n      <td>0</td>\n      <td>0</td>\n      <td>0</td>\n      <td>0</td>\n      <td>0</td>\n      <td>0</td>\n      <td>0</td>\n      <td>0</td>\n    </tr>\n    <tr>\n      <th>8</th>\n      <td>0</td>\n      <td>0</td>\n      <td>0</td>\n      <td>0</td>\n      <td>0</td>\n      <td>0</td>\n      <td>1</td>\n      <td>0</td>\n      <td>0</td>\n      <td>0</td>\n      <td>...</td>\n      <td>0</td>\n      <td>0</td>\n      <td>0</td>\n      <td>0</td>\n      <td>0</td>\n      <td>0</td>\n      <td>0</td>\n      <td>0</td>\n      <td>0</td>\n      <td>0</td>\n    </tr>\n    <tr>\n      <th>13</th>\n      <td>0</td>\n      <td>0</td>\n      <td>0</td>\n      <td>0</td>\n      <td>0</td>\n      <td>0</td>\n      <td>0</td>\n      <td>0</td>\n      <td>0</td>\n      <td>0</td>\n      <td>...</td>\n      <td>0</td>\n      <td>0</td>\n      <td>0</td>\n      <td>0</td>\n      <td>0</td>\n      <td>0</td>\n      <td>0</td>\n      <td>0</td>\n      <td>0</td>\n      <td>0</td>\n    </tr>\n    <tr>\n      <th>14</th>\n      <td>0</td>\n      <td>0</td>\n      <td>0</td>\n      <td>0</td>\n      <td>0</td>\n      <td>0</td>\n      <td>0</td>\n      <td>0</td>\n      <td>0</td>\n      <td>0</td>\n      <td>...</td>\n      <td>0</td>\n      <td>0</td>\n      <td>0</td>\n      <td>0</td>\n      <td>0</td>\n      <td>0</td>\n      <td>0</td>\n      <td>0</td>\n      <td>0</td>\n      <td>0</td>\n    </tr>\n    <tr>\n      <th>...</th>\n      <td>...</td>\n      <td>...</td>\n      <td>...</td>\n      <td>...</td>\n      <td>...</td>\n      <td>...</td>\n      <td>...</td>\n      <td>...</td>\n      <td>...</td>\n      <td>...</td>\n      <td>...</td>\n      <td>...</td>\n      <td>...</td>\n      <td>...</td>\n      <td>...</td>\n      <td>...</td>\n      <td>...</td>\n      <td>...</td>\n      <td>...</td>\n      <td>...</td>\n      <td>...</td>\n    </tr>\n    <tr>\n      <th>121153</th>\n      <td>0</td>\n      <td>0</td>\n      <td>0</td>\n      <td>0</td>\n      <td>0</td>\n      <td>1</td>\n      <td>0</td>\n      <td>0</td>\n      <td>0</td>\n      <td>0</td>\n      <td>...</td>\n      <td>0</td>\n      <td>0</td>\n      <td>0</td>\n      <td>0</td>\n      <td>0</td>\n      <td>0</td>\n      <td>0</td>\n      <td>0</td>\n      <td>0</td>\n      <td>0</td>\n    </tr>\n    <tr>\n      <th>121157</th>\n      <td>0</td>\n      <td>0</td>\n      <td>0</td>\n      <td>0</td>\n      <td>0</td>\n      <td>0</td>\n      <td>1</td>\n      <td>0</td>\n      <td>0</td>\n      <td>0</td>\n      <td>...</td>\n      <td>0</td>\n      <td>0</td>\n      <td>0</td>\n      <td>0</td>\n      <td>0</td>\n      <td>0</td>\n      <td>0</td>\n      <td>0</td>\n      <td>0</td>\n      <td>0</td>\n    </tr>\n    <tr>\n      <th>121158</th>\n      <td>0</td>\n      <td>0</td>\n      <td>0</td>\n      <td>0</td>\n      <td>0</td>\n      <td>0</td>\n      <td>0</td>\n      <td>0</td>\n      <td>0</td>\n      <td>0</td>\n      <td>...</td>\n      <td>0</td>\n      <td>0</td>\n      <td>0</td>\n      <td>0</td>\n      <td>0</td>\n      <td>0</td>\n      <td>0</td>\n      <td>0</td>\n      <td>0</td>\n      <td>0</td>\n    </tr>\n    <tr>\n      <th>121217</th>\n      <td>0</td>\n      <td>0</td>\n      <td>0</td>\n      <td>0</td>\n      <td>0</td>\n      <td>0</td>\n      <td>0</td>\n      <td>0</td>\n      <td>0</td>\n      <td>0</td>\n      <td>...</td>\n      <td>0</td>\n      <td>0</td>\n      <td>0</td>\n      <td>0</td>\n      <td>0</td>\n      <td>0</td>\n      <td>0</td>\n      <td>0</td>\n      <td>1</td>\n      <td>0</td>\n    </tr>\n    <tr>\n      <th>121219</th>\n      <td>0</td>\n      <td>0</td>\n      <td>0</td>\n      <td>0</td>\n      <td>0</td>\n      <td>0</td>\n      <td>0</td>\n      <td>0</td>\n      <td>0</td>\n      <td>0</td>\n      <td>...</td>\n      <td>0</td>\n      <td>0</td>\n      <td>0</td>\n      <td>0</td>\n      <td>0</td>\n      <td>0</td>\n      <td>0</td>\n      <td>0</td>\n      <td>0</td>\n      <td>0</td>\n    </tr>\n  </tbody>\n</table>\n<p>20763 rows × 62 columns</p>\n</div>"
     },
     "execution_count": 105,
     "metadata": {},
     "output_type": "execute_result"
    }
   ],
   "source": [
    "dummies = pd.get_dummies(capital_federal_apartment_clean['place_name']).rename(columns=lambda x: 'Barrio_' + str(x))\n",
    "dummies\n",
    "\n",
    "# X = pd.concat([dummies, std_df], axis = 1)"
   ]
  },
  {
   "cell_type": "code",
   "execution_count": 106,
   "metadata": {
    "collapsed": false,
    "pycharm": {
     "name": "#%%\n"
    }
   },
   "outputs": [
    {
     "data": {
      "text/plain": "        surface_uncovered_in_m2_std  surface_covered_in_m2_std\n2                         -0.243468                  -0.189478\n7                         -0.073575                  -0.495963\n8                         -0.073575                  -0.087316\n13                         0.436104                  -0.700286\n14                         0.130296                  -0.679854\n...                             ...                        ...\n121153                     0.639976                   0.014846\n121157                    -0.141533                  -0.598125\n121158                    -0.073575                  -0.516395\n121217                    -0.005618                  -0.516395\n121219                    -0.243468                   0.260034\n\n[20763 rows x 2 columns]",
      "text/html": "<div>\n<style scoped>\n    .dataframe tbody tr th:only-of-type {\n        vertical-align: middle;\n    }\n\n    .dataframe tbody tr th {\n        vertical-align: top;\n    }\n\n    .dataframe thead th {\n        text-align: right;\n    }\n</style>\n<table border=\"1\" class=\"dataframe\">\n  <thead>\n    <tr style=\"text-align: right;\">\n      <th></th>\n      <th>surface_uncovered_in_m2_std</th>\n      <th>surface_covered_in_m2_std</th>\n    </tr>\n  </thead>\n  <tbody>\n    <tr>\n      <th>2</th>\n      <td>-0.243468</td>\n      <td>-0.189478</td>\n    </tr>\n    <tr>\n      <th>7</th>\n      <td>-0.073575</td>\n      <td>-0.495963</td>\n    </tr>\n    <tr>\n      <th>8</th>\n      <td>-0.073575</td>\n      <td>-0.087316</td>\n    </tr>\n    <tr>\n      <th>13</th>\n      <td>0.436104</td>\n      <td>-0.700286</td>\n    </tr>\n    <tr>\n      <th>14</th>\n      <td>0.130296</td>\n      <td>-0.679854</td>\n    </tr>\n    <tr>\n      <th>...</th>\n      <td>...</td>\n      <td>...</td>\n    </tr>\n    <tr>\n      <th>121153</th>\n      <td>0.639976</td>\n      <td>0.014846</td>\n    </tr>\n    <tr>\n      <th>121157</th>\n      <td>-0.141533</td>\n      <td>-0.598125</td>\n    </tr>\n    <tr>\n      <th>121158</th>\n      <td>-0.073575</td>\n      <td>-0.516395</td>\n    </tr>\n    <tr>\n      <th>121217</th>\n      <td>-0.005618</td>\n      <td>-0.516395</td>\n    </tr>\n    <tr>\n      <th>121219</th>\n      <td>-0.243468</td>\n      <td>0.260034</td>\n    </tr>\n  </tbody>\n</table>\n<p>20763 rows × 2 columns</p>\n</div>"
     },
     "execution_count": 106,
     "metadata": {},
     "output_type": "execute_result"
    }
   ],
   "source": [
    "numericals = ['surface_uncovered_in_m2', 'surface_covered_in_m2']\n",
    "\n",
    "X = capital_federal_apartment_clean[numericals]\n",
    "\n",
    "scaler = StandardScaler()\n",
    "scaler.fit(X)\n",
    "\n",
    "std_numerical_data = scaler.transform(X)\n",
    "std_df = pd.DataFrame(std_numerical_data, index=capital_federal_apartment_clean.index)\n",
    "std_df.columns = [i + '_std' for i in numericals]\n",
    "\n",
    "std_df\n",
    "#data_scaled = pd.DataFrame(scaled_features, index=df.index, columns=df.columns)\n"
   ]
  },
  {
   "cell_type": "code",
   "execution_count": 107,
   "metadata": {
    "collapsed": false,
    "pycharm": {
     "name": "#%%\n"
    }
   },
   "outputs": [
    {
     "data": {
      "text/plain": "        Barrio_Abasto  Barrio_Agronomía  Barrio_Almagro  Barrio_Balvanera  \\\n2                   0                 0               0                 0   \n7                   0                 0               0                 0   \n8                   0                 0               0                 0   \n13                  0                 0               0                 0   \n14                  0                 0               0                 0   \n...               ...               ...             ...               ...   \n121153              0                 0               0                 0   \n121157              0                 0               0                 0   \n121158              0                 0               0                 0   \n121217              0                 0               0                 0   \n121219              0                 0               0                 0   \n\n        Barrio_Barracas  Barrio_Barrio Norte  Barrio_Belgrano  Barrio_Boca  \\\n2                     0                    0                0            0   \n7                     0                    0                1            0   \n8                     0                    0                1            0   \n13                    0                    0                0            0   \n14                    0                    0                0            0   \n...                 ...                  ...              ...          ...   \n121153                0                    1                0            0   \n121157                0                    0                1            0   \n121158                0                    0                0            0   \n121217                0                    0                0            0   \n121219                0                    0                0            0   \n\n        Barrio_Boedo  Barrio_Caballito  ...  Barrio_Villa Ortuzar  \\\n2                  0                 0  ...                     0   \n7                  0                 0  ...                     0   \n8                  0                 0  ...                     0   \n13                 0                 0  ...                     0   \n14                 0                 0  ...                     0   \n...              ...               ...  ...                   ...   \n121153             0                 0  ...                     0   \n121157             0                 0  ...                     0   \n121158             0                 0  ...                     0   \n121217             0                 0  ...                     0   \n121219             0                 0  ...                     0   \n\n        Barrio_Villa Pueyrredón  Barrio_Villa Real  Barrio_Villa Riachuelo  \\\n2                             0                  0                       0   \n7                             0                  0                       0   \n8                             0                  0                       0   \n13                            0                  0                       0   \n14                            0                  0                       0   \n...                         ...                ...                     ...   \n121153                        0                  0                       0   \n121157                        0                  0                       0   \n121158                        0                  0                       0   \n121217                        0                  0                       0   \n121219                        0                  0                       0   \n\n        Barrio_Villa Santa Rita  Barrio_Villa Soldati  Barrio_Villa Urquiza  \\\n2                             0                     0                     0   \n7                             0                     0                     0   \n8                             0                     0                     0   \n13                            0                     0                     0   \n14                            0                     0                     0   \n...                         ...                   ...                   ...   \n121153                        0                     0                     0   \n121157                        0                     0                     0   \n121158                        0                     0                     0   \n121217                        0                     0                     1   \n121219                        0                     0                     0   \n\n        Barrio_Villa del Parque  surface_uncovered_in_m2_std  \\\n2                             0                    -0.243468   \n7                             0                    -0.073575   \n8                             0                    -0.073575   \n13                            0                     0.436104   \n14                            0                     0.130296   \n...                         ...                          ...   \n121153                        0                     0.639976   \n121157                        0                    -0.141533   \n121158                        0                    -0.073575   \n121217                        0                    -0.005618   \n121219                        0                    -0.243468   \n\n        surface_covered_in_m2_std  \n2                       -0.189478  \n7                       -0.495963  \n8                       -0.087316  \n13                      -0.700286  \n14                      -0.679854  \n...                           ...  \n121153                   0.014846  \n121157                  -0.598125  \n121158                  -0.516395  \n121217                  -0.516395  \n121219                   0.260034  \n\n[20763 rows x 64 columns]",
      "text/html": "<div>\n<style scoped>\n    .dataframe tbody tr th:only-of-type {\n        vertical-align: middle;\n    }\n\n    .dataframe tbody tr th {\n        vertical-align: top;\n    }\n\n    .dataframe thead th {\n        text-align: right;\n    }\n</style>\n<table border=\"1\" class=\"dataframe\">\n  <thead>\n    <tr style=\"text-align: right;\">\n      <th></th>\n      <th>Barrio_Abasto</th>\n      <th>Barrio_Agronomía</th>\n      <th>Barrio_Almagro</th>\n      <th>Barrio_Balvanera</th>\n      <th>Barrio_Barracas</th>\n      <th>Barrio_Barrio Norte</th>\n      <th>Barrio_Belgrano</th>\n      <th>Barrio_Boca</th>\n      <th>Barrio_Boedo</th>\n      <th>Barrio_Caballito</th>\n      <th>...</th>\n      <th>Barrio_Villa Ortuzar</th>\n      <th>Barrio_Villa Pueyrredón</th>\n      <th>Barrio_Villa Real</th>\n      <th>Barrio_Villa Riachuelo</th>\n      <th>Barrio_Villa Santa Rita</th>\n      <th>Barrio_Villa Soldati</th>\n      <th>Barrio_Villa Urquiza</th>\n      <th>Barrio_Villa del Parque</th>\n      <th>surface_uncovered_in_m2_std</th>\n      <th>surface_covered_in_m2_std</th>\n    </tr>\n  </thead>\n  <tbody>\n    <tr>\n      <th>2</th>\n      <td>0</td>\n      <td>0</td>\n      <td>0</td>\n      <td>0</td>\n      <td>0</td>\n      <td>0</td>\n      <td>0</td>\n      <td>0</td>\n      <td>0</td>\n      <td>0</td>\n      <td>...</td>\n      <td>0</td>\n      <td>0</td>\n      <td>0</td>\n      <td>0</td>\n      <td>0</td>\n      <td>0</td>\n      <td>0</td>\n      <td>0</td>\n      <td>-0.243468</td>\n      <td>-0.189478</td>\n    </tr>\n    <tr>\n      <th>7</th>\n      <td>0</td>\n      <td>0</td>\n      <td>0</td>\n      <td>0</td>\n      <td>0</td>\n      <td>0</td>\n      <td>1</td>\n      <td>0</td>\n      <td>0</td>\n      <td>0</td>\n      <td>...</td>\n      <td>0</td>\n      <td>0</td>\n      <td>0</td>\n      <td>0</td>\n      <td>0</td>\n      <td>0</td>\n      <td>0</td>\n      <td>0</td>\n      <td>-0.073575</td>\n      <td>-0.495963</td>\n    </tr>\n    <tr>\n      <th>8</th>\n      <td>0</td>\n      <td>0</td>\n      <td>0</td>\n      <td>0</td>\n      <td>0</td>\n      <td>0</td>\n      <td>1</td>\n      <td>0</td>\n      <td>0</td>\n      <td>0</td>\n      <td>...</td>\n      <td>0</td>\n      <td>0</td>\n      <td>0</td>\n      <td>0</td>\n      <td>0</td>\n      <td>0</td>\n      <td>0</td>\n      <td>0</td>\n      <td>-0.073575</td>\n      <td>-0.087316</td>\n    </tr>\n    <tr>\n      <th>13</th>\n      <td>0</td>\n      <td>0</td>\n      <td>0</td>\n      <td>0</td>\n      <td>0</td>\n      <td>0</td>\n      <td>0</td>\n      <td>0</td>\n      <td>0</td>\n      <td>0</td>\n      <td>...</td>\n      <td>0</td>\n      <td>0</td>\n      <td>0</td>\n      <td>0</td>\n      <td>0</td>\n      <td>0</td>\n      <td>0</td>\n      <td>0</td>\n      <td>0.436104</td>\n      <td>-0.700286</td>\n    </tr>\n    <tr>\n      <th>14</th>\n      <td>0</td>\n      <td>0</td>\n      <td>0</td>\n      <td>0</td>\n      <td>0</td>\n      <td>0</td>\n      <td>0</td>\n      <td>0</td>\n      <td>0</td>\n      <td>0</td>\n      <td>...</td>\n      <td>0</td>\n      <td>0</td>\n      <td>0</td>\n      <td>0</td>\n      <td>0</td>\n      <td>0</td>\n      <td>0</td>\n      <td>0</td>\n      <td>0.130296</td>\n      <td>-0.679854</td>\n    </tr>\n    <tr>\n      <th>...</th>\n      <td>...</td>\n      <td>...</td>\n      <td>...</td>\n      <td>...</td>\n      <td>...</td>\n      <td>...</td>\n      <td>...</td>\n      <td>...</td>\n      <td>...</td>\n      <td>...</td>\n      <td>...</td>\n      <td>...</td>\n      <td>...</td>\n      <td>...</td>\n      <td>...</td>\n      <td>...</td>\n      <td>...</td>\n      <td>...</td>\n      <td>...</td>\n      <td>...</td>\n      <td>...</td>\n    </tr>\n    <tr>\n      <th>121153</th>\n      <td>0</td>\n      <td>0</td>\n      <td>0</td>\n      <td>0</td>\n      <td>0</td>\n      <td>1</td>\n      <td>0</td>\n      <td>0</td>\n      <td>0</td>\n      <td>0</td>\n      <td>...</td>\n      <td>0</td>\n      <td>0</td>\n      <td>0</td>\n      <td>0</td>\n      <td>0</td>\n      <td>0</td>\n      <td>0</td>\n      <td>0</td>\n      <td>0.639976</td>\n      <td>0.014846</td>\n    </tr>\n    <tr>\n      <th>121157</th>\n      <td>0</td>\n      <td>0</td>\n      <td>0</td>\n      <td>0</td>\n      <td>0</td>\n      <td>0</td>\n      <td>1</td>\n      <td>0</td>\n      <td>0</td>\n      <td>0</td>\n      <td>...</td>\n      <td>0</td>\n      <td>0</td>\n      <td>0</td>\n      <td>0</td>\n      <td>0</td>\n      <td>0</td>\n      <td>0</td>\n      <td>0</td>\n      <td>-0.141533</td>\n      <td>-0.598125</td>\n    </tr>\n    <tr>\n      <th>121158</th>\n      <td>0</td>\n      <td>0</td>\n      <td>0</td>\n      <td>0</td>\n      <td>0</td>\n      <td>0</td>\n      <td>0</td>\n      <td>0</td>\n      <td>0</td>\n      <td>0</td>\n      <td>...</td>\n      <td>0</td>\n      <td>0</td>\n      <td>0</td>\n      <td>0</td>\n      <td>0</td>\n      <td>0</td>\n      <td>0</td>\n      <td>0</td>\n      <td>-0.073575</td>\n      <td>-0.516395</td>\n    </tr>\n    <tr>\n      <th>121217</th>\n      <td>0</td>\n      <td>0</td>\n      <td>0</td>\n      <td>0</td>\n      <td>0</td>\n      <td>0</td>\n      <td>0</td>\n      <td>0</td>\n      <td>0</td>\n      <td>0</td>\n      <td>...</td>\n      <td>0</td>\n      <td>0</td>\n      <td>0</td>\n      <td>0</td>\n      <td>0</td>\n      <td>0</td>\n      <td>1</td>\n      <td>0</td>\n      <td>-0.005618</td>\n      <td>-0.516395</td>\n    </tr>\n    <tr>\n      <th>121219</th>\n      <td>0</td>\n      <td>0</td>\n      <td>0</td>\n      <td>0</td>\n      <td>0</td>\n      <td>0</td>\n      <td>0</td>\n      <td>0</td>\n      <td>0</td>\n      <td>0</td>\n      <td>...</td>\n      <td>0</td>\n      <td>0</td>\n      <td>0</td>\n      <td>0</td>\n      <td>0</td>\n      <td>0</td>\n      <td>0</td>\n      <td>0</td>\n      <td>-0.243468</td>\n      <td>0.260034</td>\n    </tr>\n  </tbody>\n</table>\n<p>20763 rows × 64 columns</p>\n</div>"
     },
     "execution_count": 107,
     "metadata": {},
     "output_type": "execute_result"
    }
   ],
   "source": [
    "X = pd.concat([dummies, std_df], axis = 1)\n",
    "X"
   ]
  },
  {
   "cell_type": "code",
   "execution_count": 108,
   "metadata": {
    "collapsed": false,
    "pycharm": {
     "name": "#%%\n"
    }
   },
   "outputs": [],
   "source": [
    "y = capital_federal_apartment_clean.price"
   ]
  },
  {
   "cell_type": "code",
   "execution_count": 109,
   "metadata": {
    "collapsed": false,
    "pycharm": {
     "name": "#%%\n"
    }
   },
   "outputs": [],
   "source": [
    "X_train, X_test, y_train, y_test = train_test_split(X, y, test_size = 0.3, random_state = 117)\n"
   ]
  },
  {
   "cell_type": "code",
   "execution_count": 139,
   "metadata": {
    "collapsed": false,
    "pycharm": {
     "name": "#%%\n"
    }
   },
   "outputs": [
    {
     "data": {
      "text/plain": "<class 'statsmodels.iolib.summary.Summary'>\n\"\"\"\n                            OLS Regression Results                            \n==============================================================================\nDep. Variable:                  price   R-squared:                       0.638\nModel:                            OLS   Adj. R-squared:                  0.636\nMethod:                 Least Squares   F-statistic:                     417.3\nDate:                Thu, 01 Dec 2022   Prob (F-statistic):               0.00\nTime:                        19:06:04   Log-Likelihood:            -1.8623e+05\nNo. Observations:               14534   AIC:                         3.726e+05\nDf Residuals:                   14472   BIC:                         3.731e+05\nDf Model:                          61                                         \nCovariance Type:            nonrobust                                         \n===============================================================================================\n                                  coef    std err          t      P>|t|      [0.025      0.975]\n-----------------------------------------------------------------------------------------------\nconst                       -2.241e+15    1.6e+16     -0.140      0.889   -3.36e+16    2.91e+16\nBarrio_Abasto                2.241e+15    1.6e+16      0.140      0.889   -2.91e+16    3.36e+16\nBarrio_Agronomía             2.241e+15    1.6e+16      0.140      0.889   -2.91e+16    3.36e+16\nBarrio_Almagro               2.241e+15    1.6e+16      0.140      0.889   -2.91e+16    3.36e+16\nBarrio_Balvanera             2.241e+15    1.6e+16      0.140      0.889   -2.91e+16    3.36e+16\nBarrio_Barracas              2.241e+15    1.6e+16      0.140      0.889   -2.91e+16    3.36e+16\nBarrio_Barrio Norte          2.241e+15    1.6e+16      0.140      0.889   -2.91e+16    3.36e+16\nBarrio_Belgrano              2.241e+15    1.6e+16      0.140      0.889   -2.91e+16    3.36e+16\nBarrio_Boca                  2.241e+15    1.6e+16      0.140      0.889   -2.91e+16    3.36e+16\nBarrio_Boedo                 2.241e+15    1.6e+16      0.140      0.889   -2.91e+16    3.36e+16\nBarrio_Caballito             2.241e+15    1.6e+16      0.140      0.889   -2.91e+16    3.36e+16\nBarrio_Capital Federal       2.241e+15    1.6e+16      0.140      0.889   -2.91e+16    3.36e+16\nBarrio_Catalinas                1.4577     10.398      0.140      0.889     -18.925      21.840\nBarrio_Centro / Microcentro  2.241e+15    1.6e+16      0.140      0.889   -2.91e+16    3.36e+16\nBarrio_Chacarita             2.241e+15    1.6e+16      0.140      0.889   -2.91e+16    3.36e+16\nBarrio_Coghlan               2.241e+15    1.6e+16      0.140      0.889   -2.91e+16    3.36e+16\nBarrio_Colegiales            2.241e+15    1.6e+16      0.140      0.889   -2.91e+16    3.36e+16\nBarrio_Congreso              2.241e+15    1.6e+16      0.140      0.889   -2.91e+16    3.36e+16\nBarrio_Constitución          2.241e+15    1.6e+16      0.140      0.889   -2.91e+16    3.36e+16\nBarrio_Flores                2.241e+15    1.6e+16      0.140      0.889   -2.91e+16    3.36e+16\nBarrio_Floresta              2.241e+15    1.6e+16      0.140      0.889   -2.91e+16    3.36e+16\nBarrio_Las Cañitas           2.241e+15    1.6e+16      0.140      0.889   -2.91e+16    3.36e+16\nBarrio_Liniers               2.241e+15    1.6e+16      0.140      0.889   -2.91e+16    3.36e+16\nBarrio_Mataderos             2.241e+15    1.6e+16      0.140      0.889   -2.91e+16    3.36e+16\nBarrio_Monserrat             2.241e+15    1.6e+16      0.140      0.889   -2.91e+16    3.36e+16\nBarrio_Monte Castro          2.241e+15    1.6e+16      0.140      0.889   -2.91e+16    3.36e+16\nBarrio_Nuñez                 2.241e+15    1.6e+16      0.140      0.889   -2.91e+16    3.36e+16\nBarrio_Once                  2.241e+15    1.6e+16      0.140      0.889   -2.91e+16    3.36e+16\nBarrio_Palermo               2.241e+15    1.6e+16      0.140      0.889   -2.91e+16    3.36e+16\nBarrio_Palermo Chico         2.241e+15    1.6e+16      0.140      0.889   -2.91e+16    3.36e+16\nBarrio_Palermo Hollywood     2.241e+15    1.6e+16      0.140      0.889   -2.91e+16    3.36e+16\nBarrio_Palermo Soho          2.241e+15    1.6e+16      0.140      0.889   -2.91e+16    3.36e+16\nBarrio_Palermo Viejo         2.241e+15    1.6e+16      0.140      0.889   -2.91e+16    3.36e+16\nBarrio_Parque Avellaneda     2.241e+15    1.6e+16      0.140      0.889   -2.91e+16    3.36e+16\nBarrio_Parque Centenario     2.241e+15    1.6e+16      0.140      0.889   -2.91e+16    3.36e+16\nBarrio_Parque Chacabuco      2.241e+15    1.6e+16      0.140      0.889   -2.91e+16    3.36e+16\nBarrio_Parque Chas           2.241e+15    1.6e+16      0.140      0.889   -2.91e+16    3.36e+16\nBarrio_Parque Patricios      2.241e+15    1.6e+16      0.140      0.889   -2.91e+16    3.36e+16\nBarrio_Paternal              2.241e+15    1.6e+16      0.140      0.889   -2.91e+16    3.36e+16\nBarrio_Pompeya               2.241e+15    1.6e+16      0.140      0.889   -2.91e+16    3.36e+16\nBarrio_Puerto Madero         2.241e+15    1.6e+16      0.140      0.889   -2.91e+16    3.36e+16\nBarrio_Recoleta              2.241e+15    1.6e+16      0.140      0.889   -2.91e+16    3.36e+16\nBarrio_Retiro                2.241e+15    1.6e+16      0.140      0.889   -2.91e+16    3.36e+16\nBarrio_Saavedra              2.241e+15    1.6e+16      0.140      0.889   -2.91e+16    3.36e+16\nBarrio_San Cristobal         2.241e+15    1.6e+16      0.140      0.889   -2.91e+16    3.36e+16\nBarrio_San Nicolás           2.241e+15    1.6e+16      0.140      0.889   -2.91e+16    3.36e+16\nBarrio_San Telmo             2.241e+15    1.6e+16      0.140      0.889   -2.91e+16    3.36e+16\nBarrio_Tribunales            2.241e+15    1.6e+16      0.140      0.889   -2.91e+16    3.36e+16\nBarrio_Velez Sarsfield       2.241e+15    1.6e+16      0.140      0.889   -2.91e+16    3.36e+16\nBarrio_Versalles             2.241e+15    1.6e+16      0.140      0.889   -2.91e+16    3.36e+16\nBarrio_Villa Crespo          2.241e+15    1.6e+16      0.140      0.889   -2.91e+16    3.36e+16\nBarrio_Villa Devoto          2.241e+15    1.6e+16      0.140      0.889   -2.91e+16    3.36e+16\nBarrio_Villa General Mitre   2.241e+15    1.6e+16      0.140      0.889   -2.91e+16    3.36e+16\nBarrio_Villa Lugano          2.241e+15    1.6e+16      0.140      0.889   -2.91e+16    3.36e+16\nBarrio_Villa Luro            2.241e+15    1.6e+16      0.140      0.889   -2.91e+16    3.36e+16\nBarrio_Villa Ortuzar         2.241e+15    1.6e+16      0.140      0.889   -2.91e+16    3.36e+16\nBarrio_Villa Pueyrredón      2.241e+15    1.6e+16      0.140      0.889   -2.91e+16    3.36e+16\nBarrio_Villa Real            2.241e+15    1.6e+16      0.140      0.889   -2.91e+16    3.36e+16\nBarrio_Villa Riachuelo       3.625e-09   2.58e-08      0.140      0.888    -4.7e-08    5.42e-08\nBarrio_Villa Santa Rita      2.241e+15    1.6e+16      0.140      0.889   -2.91e+16    3.36e+16\nBarrio_Villa Soldati         2.241e+15    1.6e+16      0.140      0.889   -2.91e+16    3.36e+16\nBarrio_Villa Urquiza         2.241e+15    1.6e+16      0.140      0.889   -2.91e+16    3.36e+16\nBarrio_Villa del Parque      2.241e+15    1.6e+16      0.140      0.889   -2.91e+16    3.36e+16\nsurface_uncovered_in_m2_std  2.956e+04   1412.412     20.930      0.000    2.68e+04    3.23e+04\nsurface_covered_in_m2_std    1.092e+05    926.335    117.894      0.000    1.07e+05    1.11e+05\n==============================================================================\nOmnibus:                     5719.081   Durbin-Watson:                   2.011\nProb(Omnibus):                  0.000   Jarque-Bera (JB):            82719.147\nSkew:                           1.493   Prob(JB):                         0.00\nKurtosis:                      14.300   Cond. No.                     1.02e+16\n==============================================================================\n\nNotes:\n[1] Standard Errors assume that the covariance matrix of the errors is correctly specified.\n[2] The smallest eigenvalue is 1.45e-28. This might indicate that there are\nstrong multicollinearity problems or that the design matrix is singular.\n\"\"\"",
      "text/html": "<table class=\"simpletable\">\n<caption>OLS Regression Results</caption>\n<tr>\n  <th>Dep. Variable:</th>          <td>price</td>      <th>  R-squared:         </th>  <td>   0.638</td>  \n</tr>\n<tr>\n  <th>Model:</th>                   <td>OLS</td>       <th>  Adj. R-squared:    </th>  <td>   0.636</td>  \n</tr>\n<tr>\n  <th>Method:</th>             <td>Least Squares</td>  <th>  F-statistic:       </th>  <td>   417.3</td>  \n</tr>\n<tr>\n  <th>Date:</th>             <td>Thu, 01 Dec 2022</td> <th>  Prob (F-statistic):</th>   <td>  0.00</td>   \n</tr>\n<tr>\n  <th>Time:</th>                 <td>19:06:04</td>     <th>  Log-Likelihood:    </th> <td>-1.8623e+05</td>\n</tr>\n<tr>\n  <th>No. Observations:</th>      <td> 14534</td>      <th>  AIC:               </th>  <td>3.726e+05</td> \n</tr>\n<tr>\n  <th>Df Residuals:</th>          <td> 14472</td>      <th>  BIC:               </th>  <td>3.731e+05</td> \n</tr>\n<tr>\n  <th>Df Model:</th>              <td>    61</td>      <th>                     </th>      <td> </td>     \n</tr>\n<tr>\n  <th>Covariance Type:</th>      <td>nonrobust</td>    <th>                     </th>      <td> </td>     \n</tr>\n</table>\n<table class=\"simpletable\">\n<tr>\n               <td></td>                  <th>coef</th>     <th>std err</th>      <th>t</th>      <th>P>|t|</th>  <th>[0.025</th>    <th>0.975]</th>  \n</tr>\n<tr>\n  <th>const</th>                       <td>-2.241e+15</td> <td>  1.6e+16</td> <td>   -0.140</td> <td> 0.889</td> <td>-3.36e+16</td> <td> 2.91e+16</td>\n</tr>\n<tr>\n  <th>Barrio_Abasto</th>               <td> 2.241e+15</td> <td>  1.6e+16</td> <td>    0.140</td> <td> 0.889</td> <td>-2.91e+16</td> <td> 3.36e+16</td>\n</tr>\n<tr>\n  <th>Barrio_Agronomía</th>            <td> 2.241e+15</td> <td>  1.6e+16</td> <td>    0.140</td> <td> 0.889</td> <td>-2.91e+16</td> <td> 3.36e+16</td>\n</tr>\n<tr>\n  <th>Barrio_Almagro</th>              <td> 2.241e+15</td> <td>  1.6e+16</td> <td>    0.140</td> <td> 0.889</td> <td>-2.91e+16</td> <td> 3.36e+16</td>\n</tr>\n<tr>\n  <th>Barrio_Balvanera</th>            <td> 2.241e+15</td> <td>  1.6e+16</td> <td>    0.140</td> <td> 0.889</td> <td>-2.91e+16</td> <td> 3.36e+16</td>\n</tr>\n<tr>\n  <th>Barrio_Barracas</th>             <td> 2.241e+15</td> <td>  1.6e+16</td> <td>    0.140</td> <td> 0.889</td> <td>-2.91e+16</td> <td> 3.36e+16</td>\n</tr>\n<tr>\n  <th>Barrio_Barrio Norte</th>         <td> 2.241e+15</td> <td>  1.6e+16</td> <td>    0.140</td> <td> 0.889</td> <td>-2.91e+16</td> <td> 3.36e+16</td>\n</tr>\n<tr>\n  <th>Barrio_Belgrano</th>             <td> 2.241e+15</td> <td>  1.6e+16</td> <td>    0.140</td> <td> 0.889</td> <td>-2.91e+16</td> <td> 3.36e+16</td>\n</tr>\n<tr>\n  <th>Barrio_Boca</th>                 <td> 2.241e+15</td> <td>  1.6e+16</td> <td>    0.140</td> <td> 0.889</td> <td>-2.91e+16</td> <td> 3.36e+16</td>\n</tr>\n<tr>\n  <th>Barrio_Boedo</th>                <td> 2.241e+15</td> <td>  1.6e+16</td> <td>    0.140</td> <td> 0.889</td> <td>-2.91e+16</td> <td> 3.36e+16</td>\n</tr>\n<tr>\n  <th>Barrio_Caballito</th>            <td> 2.241e+15</td> <td>  1.6e+16</td> <td>    0.140</td> <td> 0.889</td> <td>-2.91e+16</td> <td> 3.36e+16</td>\n</tr>\n<tr>\n  <th>Barrio_Capital Federal</th>      <td> 2.241e+15</td> <td>  1.6e+16</td> <td>    0.140</td> <td> 0.889</td> <td>-2.91e+16</td> <td> 3.36e+16</td>\n</tr>\n<tr>\n  <th>Barrio_Catalinas</th>            <td>    1.4577</td> <td>   10.398</td> <td>    0.140</td> <td> 0.889</td> <td>  -18.925</td> <td>   21.840</td>\n</tr>\n<tr>\n  <th>Barrio_Centro / Microcentro</th> <td> 2.241e+15</td> <td>  1.6e+16</td> <td>    0.140</td> <td> 0.889</td> <td>-2.91e+16</td> <td> 3.36e+16</td>\n</tr>\n<tr>\n  <th>Barrio_Chacarita</th>            <td> 2.241e+15</td> <td>  1.6e+16</td> <td>    0.140</td> <td> 0.889</td> <td>-2.91e+16</td> <td> 3.36e+16</td>\n</tr>\n<tr>\n  <th>Barrio_Coghlan</th>              <td> 2.241e+15</td> <td>  1.6e+16</td> <td>    0.140</td> <td> 0.889</td> <td>-2.91e+16</td> <td> 3.36e+16</td>\n</tr>\n<tr>\n  <th>Barrio_Colegiales</th>           <td> 2.241e+15</td> <td>  1.6e+16</td> <td>    0.140</td> <td> 0.889</td> <td>-2.91e+16</td> <td> 3.36e+16</td>\n</tr>\n<tr>\n  <th>Barrio_Congreso</th>             <td> 2.241e+15</td> <td>  1.6e+16</td> <td>    0.140</td> <td> 0.889</td> <td>-2.91e+16</td> <td> 3.36e+16</td>\n</tr>\n<tr>\n  <th>Barrio_Constitución</th>         <td> 2.241e+15</td> <td>  1.6e+16</td> <td>    0.140</td> <td> 0.889</td> <td>-2.91e+16</td> <td> 3.36e+16</td>\n</tr>\n<tr>\n  <th>Barrio_Flores</th>               <td> 2.241e+15</td> <td>  1.6e+16</td> <td>    0.140</td> <td> 0.889</td> <td>-2.91e+16</td> <td> 3.36e+16</td>\n</tr>\n<tr>\n  <th>Barrio_Floresta</th>             <td> 2.241e+15</td> <td>  1.6e+16</td> <td>    0.140</td> <td> 0.889</td> <td>-2.91e+16</td> <td> 3.36e+16</td>\n</tr>\n<tr>\n  <th>Barrio_Las Cañitas</th>          <td> 2.241e+15</td> <td>  1.6e+16</td> <td>    0.140</td> <td> 0.889</td> <td>-2.91e+16</td> <td> 3.36e+16</td>\n</tr>\n<tr>\n  <th>Barrio_Liniers</th>              <td> 2.241e+15</td> <td>  1.6e+16</td> <td>    0.140</td> <td> 0.889</td> <td>-2.91e+16</td> <td> 3.36e+16</td>\n</tr>\n<tr>\n  <th>Barrio_Mataderos</th>            <td> 2.241e+15</td> <td>  1.6e+16</td> <td>    0.140</td> <td> 0.889</td> <td>-2.91e+16</td> <td> 3.36e+16</td>\n</tr>\n<tr>\n  <th>Barrio_Monserrat</th>            <td> 2.241e+15</td> <td>  1.6e+16</td> <td>    0.140</td> <td> 0.889</td> <td>-2.91e+16</td> <td> 3.36e+16</td>\n</tr>\n<tr>\n  <th>Barrio_Monte Castro</th>         <td> 2.241e+15</td> <td>  1.6e+16</td> <td>    0.140</td> <td> 0.889</td> <td>-2.91e+16</td> <td> 3.36e+16</td>\n</tr>\n<tr>\n  <th>Barrio_Nuñez</th>                <td> 2.241e+15</td> <td>  1.6e+16</td> <td>    0.140</td> <td> 0.889</td> <td>-2.91e+16</td> <td> 3.36e+16</td>\n</tr>\n<tr>\n  <th>Barrio_Once</th>                 <td> 2.241e+15</td> <td>  1.6e+16</td> <td>    0.140</td> <td> 0.889</td> <td>-2.91e+16</td> <td> 3.36e+16</td>\n</tr>\n<tr>\n  <th>Barrio_Palermo</th>              <td> 2.241e+15</td> <td>  1.6e+16</td> <td>    0.140</td> <td> 0.889</td> <td>-2.91e+16</td> <td> 3.36e+16</td>\n</tr>\n<tr>\n  <th>Barrio_Palermo Chico</th>        <td> 2.241e+15</td> <td>  1.6e+16</td> <td>    0.140</td> <td> 0.889</td> <td>-2.91e+16</td> <td> 3.36e+16</td>\n</tr>\n<tr>\n  <th>Barrio_Palermo Hollywood</th>    <td> 2.241e+15</td> <td>  1.6e+16</td> <td>    0.140</td> <td> 0.889</td> <td>-2.91e+16</td> <td> 3.36e+16</td>\n</tr>\n<tr>\n  <th>Barrio_Palermo Soho</th>         <td> 2.241e+15</td> <td>  1.6e+16</td> <td>    0.140</td> <td> 0.889</td> <td>-2.91e+16</td> <td> 3.36e+16</td>\n</tr>\n<tr>\n  <th>Barrio_Palermo Viejo</th>        <td> 2.241e+15</td> <td>  1.6e+16</td> <td>    0.140</td> <td> 0.889</td> <td>-2.91e+16</td> <td> 3.36e+16</td>\n</tr>\n<tr>\n  <th>Barrio_Parque Avellaneda</th>    <td> 2.241e+15</td> <td>  1.6e+16</td> <td>    0.140</td> <td> 0.889</td> <td>-2.91e+16</td> <td> 3.36e+16</td>\n</tr>\n<tr>\n  <th>Barrio_Parque Centenario</th>    <td> 2.241e+15</td> <td>  1.6e+16</td> <td>    0.140</td> <td> 0.889</td> <td>-2.91e+16</td> <td> 3.36e+16</td>\n</tr>\n<tr>\n  <th>Barrio_Parque Chacabuco</th>     <td> 2.241e+15</td> <td>  1.6e+16</td> <td>    0.140</td> <td> 0.889</td> <td>-2.91e+16</td> <td> 3.36e+16</td>\n</tr>\n<tr>\n  <th>Barrio_Parque Chas</th>          <td> 2.241e+15</td> <td>  1.6e+16</td> <td>    0.140</td> <td> 0.889</td> <td>-2.91e+16</td> <td> 3.36e+16</td>\n</tr>\n<tr>\n  <th>Barrio_Parque Patricios</th>     <td> 2.241e+15</td> <td>  1.6e+16</td> <td>    0.140</td> <td> 0.889</td> <td>-2.91e+16</td> <td> 3.36e+16</td>\n</tr>\n<tr>\n  <th>Barrio_Paternal</th>             <td> 2.241e+15</td> <td>  1.6e+16</td> <td>    0.140</td> <td> 0.889</td> <td>-2.91e+16</td> <td> 3.36e+16</td>\n</tr>\n<tr>\n  <th>Barrio_Pompeya</th>              <td> 2.241e+15</td> <td>  1.6e+16</td> <td>    0.140</td> <td> 0.889</td> <td>-2.91e+16</td> <td> 3.36e+16</td>\n</tr>\n<tr>\n  <th>Barrio_Puerto Madero</th>        <td> 2.241e+15</td> <td>  1.6e+16</td> <td>    0.140</td> <td> 0.889</td> <td>-2.91e+16</td> <td> 3.36e+16</td>\n</tr>\n<tr>\n  <th>Barrio_Recoleta</th>             <td> 2.241e+15</td> <td>  1.6e+16</td> <td>    0.140</td> <td> 0.889</td> <td>-2.91e+16</td> <td> 3.36e+16</td>\n</tr>\n<tr>\n  <th>Barrio_Retiro</th>               <td> 2.241e+15</td> <td>  1.6e+16</td> <td>    0.140</td> <td> 0.889</td> <td>-2.91e+16</td> <td> 3.36e+16</td>\n</tr>\n<tr>\n  <th>Barrio_Saavedra</th>             <td> 2.241e+15</td> <td>  1.6e+16</td> <td>    0.140</td> <td> 0.889</td> <td>-2.91e+16</td> <td> 3.36e+16</td>\n</tr>\n<tr>\n  <th>Barrio_San Cristobal</th>        <td> 2.241e+15</td> <td>  1.6e+16</td> <td>    0.140</td> <td> 0.889</td> <td>-2.91e+16</td> <td> 3.36e+16</td>\n</tr>\n<tr>\n  <th>Barrio_San Nicolás</th>          <td> 2.241e+15</td> <td>  1.6e+16</td> <td>    0.140</td> <td> 0.889</td> <td>-2.91e+16</td> <td> 3.36e+16</td>\n</tr>\n<tr>\n  <th>Barrio_San Telmo</th>            <td> 2.241e+15</td> <td>  1.6e+16</td> <td>    0.140</td> <td> 0.889</td> <td>-2.91e+16</td> <td> 3.36e+16</td>\n</tr>\n<tr>\n  <th>Barrio_Tribunales</th>           <td> 2.241e+15</td> <td>  1.6e+16</td> <td>    0.140</td> <td> 0.889</td> <td>-2.91e+16</td> <td> 3.36e+16</td>\n</tr>\n<tr>\n  <th>Barrio_Velez Sarsfield</th>      <td> 2.241e+15</td> <td>  1.6e+16</td> <td>    0.140</td> <td> 0.889</td> <td>-2.91e+16</td> <td> 3.36e+16</td>\n</tr>\n<tr>\n  <th>Barrio_Versalles</th>            <td> 2.241e+15</td> <td>  1.6e+16</td> <td>    0.140</td> <td> 0.889</td> <td>-2.91e+16</td> <td> 3.36e+16</td>\n</tr>\n<tr>\n  <th>Barrio_Villa Crespo</th>         <td> 2.241e+15</td> <td>  1.6e+16</td> <td>    0.140</td> <td> 0.889</td> <td>-2.91e+16</td> <td> 3.36e+16</td>\n</tr>\n<tr>\n  <th>Barrio_Villa Devoto</th>         <td> 2.241e+15</td> <td>  1.6e+16</td> <td>    0.140</td> <td> 0.889</td> <td>-2.91e+16</td> <td> 3.36e+16</td>\n</tr>\n<tr>\n  <th>Barrio_Villa General Mitre</th>  <td> 2.241e+15</td> <td>  1.6e+16</td> <td>    0.140</td> <td> 0.889</td> <td>-2.91e+16</td> <td> 3.36e+16</td>\n</tr>\n<tr>\n  <th>Barrio_Villa Lugano</th>         <td> 2.241e+15</td> <td>  1.6e+16</td> <td>    0.140</td> <td> 0.889</td> <td>-2.91e+16</td> <td> 3.36e+16</td>\n</tr>\n<tr>\n  <th>Barrio_Villa Luro</th>           <td> 2.241e+15</td> <td>  1.6e+16</td> <td>    0.140</td> <td> 0.889</td> <td>-2.91e+16</td> <td> 3.36e+16</td>\n</tr>\n<tr>\n  <th>Barrio_Villa Ortuzar</th>        <td> 2.241e+15</td> <td>  1.6e+16</td> <td>    0.140</td> <td> 0.889</td> <td>-2.91e+16</td> <td> 3.36e+16</td>\n</tr>\n<tr>\n  <th>Barrio_Villa Pueyrredón</th>     <td> 2.241e+15</td> <td>  1.6e+16</td> <td>    0.140</td> <td> 0.889</td> <td>-2.91e+16</td> <td> 3.36e+16</td>\n</tr>\n<tr>\n  <th>Barrio_Villa Real</th>           <td> 2.241e+15</td> <td>  1.6e+16</td> <td>    0.140</td> <td> 0.889</td> <td>-2.91e+16</td> <td> 3.36e+16</td>\n</tr>\n<tr>\n  <th>Barrio_Villa Riachuelo</th>      <td> 3.625e-09</td> <td> 2.58e-08</td> <td>    0.140</td> <td> 0.888</td> <td> -4.7e-08</td> <td> 5.42e-08</td>\n</tr>\n<tr>\n  <th>Barrio_Villa Santa Rita</th>     <td> 2.241e+15</td> <td>  1.6e+16</td> <td>    0.140</td> <td> 0.889</td> <td>-2.91e+16</td> <td> 3.36e+16</td>\n</tr>\n<tr>\n  <th>Barrio_Villa Soldati</th>        <td> 2.241e+15</td> <td>  1.6e+16</td> <td>    0.140</td> <td> 0.889</td> <td>-2.91e+16</td> <td> 3.36e+16</td>\n</tr>\n<tr>\n  <th>Barrio_Villa Urquiza</th>        <td> 2.241e+15</td> <td>  1.6e+16</td> <td>    0.140</td> <td> 0.889</td> <td>-2.91e+16</td> <td> 3.36e+16</td>\n</tr>\n<tr>\n  <th>Barrio_Villa del Parque</th>     <td> 2.241e+15</td> <td>  1.6e+16</td> <td>    0.140</td> <td> 0.889</td> <td>-2.91e+16</td> <td> 3.36e+16</td>\n</tr>\n<tr>\n  <th>surface_uncovered_in_m2_std</th> <td> 2.956e+04</td> <td> 1412.412</td> <td>   20.930</td> <td> 0.000</td> <td> 2.68e+04</td> <td> 3.23e+04</td>\n</tr>\n<tr>\n  <th>surface_covered_in_m2_std</th>   <td> 1.092e+05</td> <td>  926.335</td> <td>  117.894</td> <td> 0.000</td> <td> 1.07e+05</td> <td> 1.11e+05</td>\n</tr>\n</table>\n<table class=\"simpletable\">\n<tr>\n  <th>Omnibus:</th>       <td>5719.081</td> <th>  Durbin-Watson:     </th> <td>   2.011</td> \n</tr>\n<tr>\n  <th>Prob(Omnibus):</th>  <td> 0.000</td>  <th>  Jarque-Bera (JB):  </th> <td>82719.147</td>\n</tr>\n<tr>\n  <th>Skew:</th>           <td> 1.493</td>  <th>  Prob(JB):          </th> <td>    0.00</td> \n</tr>\n<tr>\n  <th>Kurtosis:</th>       <td>14.300</td>  <th>  Cond. No.          </th> <td>1.02e+16</td> \n</tr>\n</table><br/><br/>Notes:<br/>[1] Standard Errors assume that the covariance matrix of the errors is correctly specified.<br/>[2] The smallest eigenvalue is 1.45e-28. This might indicate that there are<br/>strong multicollinearity problems or that the design matrix is singular."
     },
     "execution_count": 139,
     "metadata": {},
     "output_type": "execute_result"
    }
   ],
   "source": [
    " #Tenemos que agregar explícitamente a una constante:\n",
    "X_train_sm = sm.add_constant(X_train)\n",
    "\n",
    "model = sm.OLS(y_train, X_train_sm)\n",
    "results = model.fit()\n",
    "\n",
    "\n",
    "results.summary()"
   ]
  },
  {
   "cell_type": "code",
   "execution_count": 140,
   "outputs": [
    {
     "ename": "ValueError",
     "evalue": "shapes (65,65) and (14534,64) not aligned: 65 (dim 1) != 14534 (dim 0)",
     "output_type": "error",
     "traceback": [
      "\u001B[0;31m---------------------------------------------------------------------------\u001B[0m",
      "\u001B[0;31mValueError\u001B[0m                                Traceback (most recent call last)",
      "Input \u001B[0;32mIn [140]\u001B[0m, in \u001B[0;36m<cell line: 1>\u001B[0;34m()\u001B[0m\n\u001B[0;32m----> 1\u001B[0m \u001B[38;5;28mprint\u001B[39m(\u001B[38;5;124mf\u001B[39m\u001B[38;5;124m\"\u001B[39m\u001B[38;5;124mScore R2 en train de modelo es: \u001B[39m\u001B[38;5;132;01m{\u001B[39;00mmodel\u001B[38;5;241m.\u001B[39mscore(X_train, y_train)\u001B[38;5;132;01m}\u001B[39;00m\u001B[38;5;124m y en test es \u001B[39m\u001B[38;5;132;01m{\u001B[39;00mmodel\u001B[38;5;241m.\u001B[39mscore(X_test, y_test)\u001B[38;5;132;01m}\u001B[39;00m\u001B[38;5;124m\"\u001B[39m)\n",
      "File \u001B[0;32m~/opt/anaconda3/lib/python3.9/site-packages/statsmodels/regression/linear_model.py:977\u001B[0m, in \u001B[0;36mOLS.score\u001B[0;34m(self, params, scale)\u001B[0m\n\u001B[1;32m    974\u001B[0m \u001B[38;5;28;01mif\u001B[39;00m \u001B[38;5;129;01mnot\u001B[39;00m \u001B[38;5;28mhasattr\u001B[39m(\u001B[38;5;28mself\u001B[39m, \u001B[38;5;124m\"\u001B[39m\u001B[38;5;124m_wexog_xprod\u001B[39m\u001B[38;5;124m\"\u001B[39m):\n\u001B[1;32m    975\u001B[0m     \u001B[38;5;28mself\u001B[39m\u001B[38;5;241m.\u001B[39m_setup_score_hess()\n\u001B[0;32m--> 977\u001B[0m xtxb \u001B[38;5;241m=\u001B[39m \u001B[43mnp\u001B[49m\u001B[38;5;241;43m.\u001B[39;49m\u001B[43mdot\u001B[49m\u001B[43m(\u001B[49m\u001B[38;5;28;43mself\u001B[39;49m\u001B[38;5;241;43m.\u001B[39;49m\u001B[43m_wexog_xprod\u001B[49m\u001B[43m,\u001B[49m\u001B[43m \u001B[49m\u001B[43mparams\u001B[49m\u001B[43m)\u001B[49m\n\u001B[1;32m    978\u001B[0m sdr \u001B[38;5;241m=\u001B[39m \u001B[38;5;241m-\u001B[39m\u001B[38;5;28mself\u001B[39m\u001B[38;5;241m.\u001B[39m_wexog_x_wendog \u001B[38;5;241m+\u001B[39m xtxb\n\u001B[1;32m    980\u001B[0m \u001B[38;5;28;01mif\u001B[39;00m scale \u001B[38;5;129;01mis\u001B[39;00m \u001B[38;5;28;01mNone\u001B[39;00m:\n",
      "File \u001B[0;32m<__array_function__ internals>:5\u001B[0m, in \u001B[0;36mdot\u001B[0;34m(*args, **kwargs)\u001B[0m\n",
      "\u001B[0;31mValueError\u001B[0m: shapes (65,65) and (14534,64) not aligned: 65 (dim 1) != 14534 (dim 0)"
     ]
    }
   ],
   "source": [
    "print(f\"Score R2 en train de modelo es: {model.score(X_train, y_train)} y en test es {model.score(X_test, y_test)}\")"
   ],
   "metadata": {
    "collapsed": false,
    "pycharm": {
     "name": "#%%\n"
    }
   }
  },
  {
   "cell_type": "code",
   "execution_count": 111,
   "outputs": [],
   "source": [
    "no_reg_model_params = model.params\n"
   ],
   "metadata": {
    "collapsed": false,
    "pycharm": {
     "name": "#%%\n"
    }
   }
  },
  {
   "cell_type": "code",
   "execution_count": 112,
   "outputs": [
    {
     "name": "stdout",
     "output_type": "stream",
     "text": [
      "88857.97137416767\n",
      "40163119605224.62\n"
     ]
    }
   ],
   "source": [
    "sm_prediction_train = model.predict(X_train_sm)\n",
    "print(eval_measures.rmse(y_train, sm_prediction_train))\n",
    "\n",
    "X_test_sm = sm.add_constant(X_test)\n",
    "sm_prediction_test = model.predict(X_test_sm)\n",
    "print(eval_measures.rmse(y_test, sm_prediction_test))"
   ],
   "metadata": {
    "collapsed": false,
    "pycharm": {
     "name": "#%%\n"
    }
   }
  },
  {
   "cell_type": "code",
   "execution_count": 113,
   "outputs": [
    {
     "name": "stderr",
     "output_type": "stream",
     "text": [
      "/Users/juanmartingarcia/opt/anaconda3/lib/python3.9/site-packages/sklearn/linear_model/_base.py:148: FutureWarning: 'normalize' was deprecated in version 1.0 and will be removed in 1.2. Please leave the normalize parameter to its default value to silence this warning. The default behavior of this estimator is to not do any normalization. If normalization is needed please use sklearn.preprocessing.StandardScaler instead.\n",
      "  warnings.warn(\n"
     ]
    },
    {
     "data": {
      "text/plain": "0.6374545384734125"
     },
     "execution_count": 113,
     "metadata": {},
     "output_type": "execute_result"
    }
   ],
   "source": [
    "# Definimos el rango de de búsqueda del hiperparametro explicitamente\n",
    "lm_lasso = linear_model.LassoCV(alphas=[0.00001, 0.00005, 0.0001, 0.0005, 0.001, 0.005, 0.01,\\\n",
    "                                        0.05, 0.1, 1, 5, 10],\\\n",
    "                                        normalize = False, cv = 5)\n",
    "\n",
    "model_cv = lm_lasso.fit(X_train, y_train)\n",
    "\n",
    "model_cv.score(X_train, y_train)"
   ],
   "metadata": {
    "collapsed": false,
    "pycharm": {
     "name": "#%%\n"
    }
   }
  },
  {
   "cell_type": "code",
   "execution_count": 114,
   "outputs": [
    {
     "data": {
      "text/plain": "array([ -1352.47483255,     -0.        ,   8836.74387597, -29691.75127538,\n       -10510.42176436,  61989.42007031,  63143.84831499, -10027.07723679,\n       234332.75116651,  17785.54329472,  12838.4907444 ,      0.        ,\n        -4521.28469837,      0.        ,  16751.90447268,  26609.99106354,\n       -30870.49792806, -39156.74292337, -11479.8790604 , -24949.0336538 ,\n       126132.45192168, -20305.75604688, -17644.40797973, -22006.21254698,\n       -15135.47344616,  53645.96860122, -30316.18201096,  79324.96955424,\n       184370.05106005,  65798.85805281,  59304.49027711,  53772.70817985,\n       -35042.29615782,    474.08782582, -17836.41406196,      0.        ,\n        -6646.17770556, -16154.95634662,      0.        , 276174.82183423,\n        91106.65663994,  41191.54421597,  15225.86305199,  79700.0246443 ,\n       -21923.22536504,  -1259.8298434 , -21978.70939364,     -0.        ,\n        -8441.36493908,  14226.59338008,  16335.13491902,  -5347.08969679,\n       -76386.2756992 ,   1010.92815397,   7094.21818733,  -2822.66063131,\n        -2388.61867933,      0.        ,  -8026.13197241, -72176.19141784,\n        20041.87334615,   6296.04323813,  29587.50722865, 109231.19709317])"
     },
     "execution_count": 114,
     "metadata": {},
     "output_type": "execute_result"
    }
   ],
   "source": [
    "model_cv.coef_"
   ],
   "metadata": {
    "collapsed": false,
    "pycharm": {
     "name": "#%%\n"
    }
   }
  },
  {
   "cell_type": "code",
   "execution_count": 115,
   "outputs": [
    {
     "data": {
      "text/plain": "156515.29912376625"
     },
     "execution_count": 115,
     "metadata": {},
     "output_type": "execute_result"
    }
   ],
   "source": [
    "model_cv.intercept_"
   ],
   "metadata": {
    "collapsed": false,
    "pycharm": {
     "name": "#%%\n"
    }
   }
  },
  {
   "cell_type": "code",
   "execution_count": 116,
   "outputs": [
    {
     "data": {
      "text/plain": "10.0"
     },
     "execution_count": 116,
     "metadata": {},
     "output_type": "execute_result"
    }
   ],
   "source": [
    "model_cv.alpha_"
   ],
   "metadata": {
    "collapsed": false,
    "pycharm": {
     "name": "#%%\n"
    }
   }
  },
  {
   "cell_type": "code",
   "execution_count": 117,
   "outputs": [
    {
     "data": {
      "text/plain": "0.6374545384734125"
     },
     "execution_count": 117,
     "metadata": {},
     "output_type": "execute_result"
    }
   ],
   "source": [
    "model_cv.score(X_train, y_train)"
   ],
   "metadata": {
    "collapsed": false,
    "pycharm": {
     "name": "#%%\n"
    }
   }
  },
  {
   "cell_type": "code",
   "execution_count": 118,
   "outputs": [],
   "source": [
    "best_alpha = model_cv.alpha_\n",
    "\n",
    "#L1_wt : 0, the fit is ridge regression. 1, the fit is the lasso\n",
    "\n",
    "no_reg_model = sm.OLS(y_train, X_train_sm)\n",
    "\n",
    "reg_model = no_reg_model.fit_regularized(alpha = best_alpha, L1_wt = 1)"
   ],
   "metadata": {
    "collapsed": false,
    "pycharm": {
     "name": "#%%\n"
    }
   }
  },
  {
   "cell_type": "code",
   "execution_count": 119,
   "outputs": [
    {
     "data": {
      "text/plain": "const                          180343.076874\nBarrio_Abasto                  -25167.987034\nBarrio_Agronomía               -15768.826411\nBarrio_Almagro                 -14460.757450\nBarrio_Balvanera               -53524.023270\n                                   ...      \nBarrio_Villa Soldati           -96024.190832\nBarrio_Villa Urquiza            -3369.197720\nBarrio_Villa del Parque        -16237.128888\nsurface_uncovered_in_m2_std     29531.824319\nsurface_covered_in_m2_std      109297.809237\nLength: 65, dtype: float64"
     },
     "execution_count": 119,
     "metadata": {},
     "output_type": "execute_result"
    }
   ],
   "source": [
    " reg_model.params"
   ],
   "metadata": {
    "collapsed": false,
    "pycharm": {
     "name": "#%%\n"
    }
   }
  },
  {
   "cell_type": "code",
   "execution_count": 120,
   "outputs": [
    {
     "data": {
      "text/plain": "<Figure size 432x288 with 1 Axes>",
      "image/png": "[encoded data removed]"
     },
     "metadata": {},
     "output_type": "display_data"
    }
   ],
   "source": [
    "sns.scatterplot(x=reg_model.params, y=no_reg_model_params);"
   ],
   "metadata": {
    "collapsed": false,
    "pycharm": {
     "name": "#%%\n"
    }
   }
  },
  {
   "cell_type": "code",
   "execution_count": 125,
   "outputs": [
    {
     "data": {
      "text/plain": "<AxesSubplot:>"
     },
     "execution_count": 125,
     "metadata": {},
     "output_type": "execute_result"
    },
    {
     "data": {
      "text/plain": "<Figure size 432x288 with 1 Axes>",
      "image/png": "[encoded data removed]"
     },
     "metadata": {},
     "output_type": "display_data"
    }
   ],
   "source": [
    "reg_residuals = y_train - reg_model.fittedvalues\n",
    "\n",
    "linear_residuals = y_train - model.fittedvalues\n",
    "\n",
    "sns.scatterplot(x = reg_residuals, y = linear_residuals)"
   ],
   "metadata": {
    "collapsed": false,
    "pycharm": {
     "name": "#%%\n"
    }
   }
  },
  {
   "cell_type": "code",
   "execution_count": 126,
   "outputs": [
    {
     "data": {
      "text/plain": "53129     348949.301226\n119092    145634.648695\n119687    220328.327049\n31937     143172.437005\n86009     192303.069101\n              ...      \n110795    126002.492638\n119868    236967.280096\n95727      81732.294942\n45677     146270.529882\n32879     182137.438276\nLength: 6229, dtype: float64"
     },
     "execution_count": 126,
     "metadata": {},
     "output_type": "execute_result"
    }
   ],
   "source": [
    "sm_prediction = reg_model.predict(X_test_sm)\n",
    "sm_prediction"
   ],
   "metadata": {
    "collapsed": false,
    "pycharm": {
     "name": "#%%\n"
    }
   }
  },
  {
   "cell_type": "code",
   "execution_count": 127,
   "outputs": [
    {
     "name": "stderr",
     "output_type": "stream",
     "text": [
      "/Users/juanmartingarcia/opt/anaconda3/lib/python3.9/site-packages/sklearn/linear_model/_base.py:148: FutureWarning: 'normalize' was deprecated in version 1.0 and will be removed in 1.2. Please leave the normalize parameter to its default value to silence this warning. The default behavior of this estimator is to not do any normalization. If normalization is needed please use sklearn.preprocessing.StandardScaler instead.\n",
      "  warnings.warn(\n"
     ]
    }
   ],
   "source": [
    "skl_lasso = linear_model.Lasso(alpha = best_alpha, fit_intercept=True, normalize=False)\n",
    "\n",
    "skl_lasso = skl_lasso.fit(X= X_train, y = y_train)\n",
    "\n",
    "skl_prediction = skl_lasso.predict(X_test)\n"
   ],
   "metadata": {
    "collapsed": false,
    "pycharm": {
     "name": "#%%\n"
    }
   }
  },
  {
   "cell_type": "code",
   "execution_count": 128,
   "outputs": [
    {
     "data": {
      "text/plain": "<AxesSubplot:xlabel='price'>"
     },
     "execution_count": 128,
     "metadata": {},
     "output_type": "execute_result"
    },
    {
     "data": {
      "text/plain": "<Figure size 432x288 with 1 Axes>",
      "image/png": "[encoded data removed]"
     },
     "metadata": {},
     "output_type": "display_data"
    }
   ],
   "source": [
    "skl_residuals = y_test - skl_prediction\n",
    "\n",
    "sm_residuals = y_test - sm_prediction\n",
    "\n",
    "sns.scatterplot(x = skl_residuals, y = sm_residuals)"
   ],
   "metadata": {
    "collapsed": false,
    "pycharm": {
     "name": "#%%\n"
    }
   }
  },
  {
   "cell_type": "code",
   "execution_count": 129,
   "outputs": [
    {
     "data": {
      "text/plain": "<Figure size 432x288 with 1 Axes>",
      "image/png": "[encoded data removed]"
     },
     "metadata": {},
     "output_type": "display_data"
    }
   ],
   "source": [
    "lasso_coef = np.insert(skl_lasso.coef_, 0, skl_lasso.intercept_)\n",
    "\n",
    "sns.scatterplot(x = lasso_coef, y = reg_model.params);"
   ],
   "metadata": {
    "collapsed": false,
    "pycharm": {
     "name": "#%%\n"
    }
   }
  },
  {
   "cell_type": "code",
   "execution_count": 130,
   "outputs": [
    {
     "data": {
      "text/plain": "array([156515.29912377,  -1352.47483255,     -0.        ,   8836.74387597,\n       -29691.75127538, -10510.42176436,  61989.42007031,  63143.84831499,\n       -10027.07723679, 234332.75116651,  17785.54329472,  12838.4907444 ,\n            0.        ,  -4521.28469837,      0.        ,  16751.90447268,\n        26609.99106354, -30870.49792806, -39156.74292337, -11479.8790604 ,\n       -24949.0336538 , 126132.45192168, -20305.75604688, -17644.40797973,\n       -22006.21254698, -15135.47344616,  53645.96860122, -30316.18201096,\n        79324.96955424, 184370.05106005,  65798.85805281,  59304.49027711,\n        53772.70817985, -35042.29615782,    474.08782582, -17836.41406196,\n            0.        ,  -6646.17770556, -16154.95634662,      0.        ,\n       276174.82183423,  91106.65663994,  41191.54421597,  15225.86305199,\n        79700.0246443 , -21923.22536504,  -1259.8298434 , -21978.70939364,\n           -0.        ,  -8441.36493908,  14226.59338008,  16335.13491902,\n        -5347.08969679, -76386.2756992 ,   1010.92815397,   7094.21818733,\n        -2822.66063131,  -2388.61867933,      0.        ,  -8026.13197241,\n       -72176.19141784,  20041.87334615,   6296.04323813,  29587.50722865,\n       109231.19709317])"
     },
     "execution_count": 130,
     "metadata": {},
     "output_type": "execute_result"
    }
   ],
   "source": [
    "lasso_coef"
   ],
   "metadata": {
    "collapsed": false,
    "pycharm": {
     "name": "#%%\n"
    }
   }
  },
  {
   "cell_type": "code",
   "execution_count": 131,
   "outputs": [
    {
     "data": {
      "text/plain": "const                          180343.076874\nBarrio_Abasto                  -25167.987034\nBarrio_Agronomía               -15768.826411\nBarrio_Almagro                 -14460.757450\nBarrio_Balvanera               -53524.023270\n                                   ...      \nBarrio_Villa Soldati           -96024.190832\nBarrio_Villa Urquiza            -3369.197720\nBarrio_Villa del Parque        -16237.128888\nsurface_uncovered_in_m2_std     29531.824319\nsurface_covered_in_m2_std      109297.809237\nLength: 65, dtype: float64"
     },
     "execution_count": 131,
     "metadata": {},
     "output_type": "execute_result"
    }
   ],
   "source": [
    "reg_model.params"
   ],
   "metadata": {
    "collapsed": false,
    "pycharm": {
     "name": "#%%\n"
    }
   }
  },
  {
   "cell_type": "code",
   "execution_count": 132,
   "outputs": [
    {
     "data": {
      "text/plain": "105808.97924585796"
     },
     "execution_count": 132,
     "metadata": {},
     "output_type": "execute_result"
    }
   ],
   "source": [
    "eval_measures.rmse(y_test, sm_prediction)"
   ],
   "metadata": {
    "collapsed": false,
    "pycharm": {
     "name": "#%%\n"
    }
   }
  },
  {
   "cell_type": "code",
   "execution_count": 133,
   "outputs": [
    {
     "data": {
      "text/plain": "52045.604708629"
     },
     "execution_count": 133,
     "metadata": {},
     "output_type": "execute_result"
    }
   ],
   "source": [
    "eval_measures.meanabs(y_test, sm_prediction)\n"
   ],
   "metadata": {
    "collapsed": false,
    "pycharm": {
     "name": "#%%\n"
    }
   }
  },
  {
   "cell_type": "code",
   "execution_count": 134,
   "outputs": [
    {
     "data": {
      "text/plain": "0.48616234849297035"
     },
     "execution_count": 134,
     "metadata": {},
     "output_type": "execute_result"
    }
   ],
   "source": [
    "metrics.r2_score(y_test, sm_prediction)\n"
   ],
   "metadata": {
    "collapsed": false,
    "pycharm": {
     "name": "#%%\n"
    }
   }
  },
  {
   "cell_type": "code",
   "execution_count": 135,
   "outputs": [
    {
     "data": {
      "text/plain": "105696.8958903369"
     },
     "execution_count": 135,
     "metadata": {},
     "output_type": "execute_result"
    }
   ],
   "source": [
    "np.sqrt(metrics.mean_squared_error(y_test, skl_prediction))"
   ],
   "metadata": {
    "collapsed": false,
    "pycharm": {
     "name": "#%%\n"
    }
   }
  },
  {
   "cell_type": "code",
   "execution_count": 136,
   "outputs": [
    {
     "data": {
      "text/plain": "51970.00810390419"
     },
     "execution_count": 136,
     "metadata": {},
     "output_type": "execute_result"
    }
   ],
   "source": [
    "metrics.mean_absolute_error(y_test, skl_prediction)"
   ],
   "metadata": {
    "collapsed": false,
    "pycharm": {
     "name": "#%%\n"
    }
   }
  },
  {
   "cell_type": "code",
   "execution_count": 137,
   "outputs": [
    {
     "data": {
      "text/plain": "0.48725038742245075"
     },
     "execution_count": 137,
     "metadata": {},
     "output_type": "execute_result"
    }
   ],
   "source": [
    "metrics.r2_score(y_test, skl_prediction)"
   ],
   "metadata": {
    "collapsed": false,
    "pycharm": {
     "name": "#%%\n"
    }
   }
  },
  {
   "cell_type": "code",
   "execution_count": 121,
   "metadata": {
    "collapsed": false,
    "pycharm": {
     "name": "#%%\n"
    }
   },
   "outputs": [
    {
     "data": {
      "text/plain": "[(100.0, 1000000.0)]"
     },
     "execution_count": 121,
     "metadata": {},
     "output_type": "execute_result"
    },
    {
     "data": {
      "text/plain": "<Figure size 432x288 with 1 Axes>",
      "image/png": "[encoded data removed]"
     },
     "metadata": {},
     "output_type": "display_data"
    }
   ],
   "source": [
    "g=sns.boxplot(data=capital_federal_apartment_clean,y=\"price\")\n",
    "\n",
    "g.set(ylim=(100,1000000))"
   ]
  },
  {
   "cell_type": "code",
   "execution_count": 122,
   "metadata": {
    "pycharm": {
     "name": "#%%\n"
    }
   },
   "outputs": [
    {
     "data": {
      "text/plain": "Int64Index([], dtype='int64')"
     },
     "execution_count": 122,
     "metadata": {},
     "output_type": "execute_result"
    }
   ],
   "source": [
    "indice=capital_federal_apartment_clean[capital_federal_apartment_clean['price'] > 800000]\n",
    "\n",
    "indice.index"
   ]
  },
  {
   "cell_type": "code",
   "execution_count": 123,
   "metadata": {
    "pycharm": {
     "name": "#%%\n"
    }
   },
   "outputs": [
    {
     "name": "stderr",
     "output_type": "stream",
     "text": [
      "/var/folders/_n/jd2g51ps29j_lml05lw1fzrh0000gp/T/ipykernel_81056/971147271.py:1: SettingWithCopyWarning: \n",
      "A value is trying to be set on a copy of a slice from a DataFrame\n",
      "\n",
      "See the caveats in the documentation: https://pandas.pydata.org/pandas-docs/stable/user_guide/indexing.html#returning-a-view-versus-a-copy\n",
      "  capital_federal_apartment_clean.drop(indice.index, axis=0, inplace=True)\n"
     ]
    },
    {
     "data": {
      "text/plain": "             place_name  surface_covered_in_m2     price  \\\n2             Mataderos                   55.0   72000.0   \n7              Belgrano                   40.0  138000.0   \n8              Belgrano                   60.0  195000.0   \n13         Palermo Soho                   30.0  111700.0   \n14         Palermo Soho                   31.0  147900.0   \n...                 ...                    ...       ...   \n121153     Barrio Norte                   65.0  165000.0   \n121157         Belgrano                   35.0  128000.0   \n121158         Recoleta                   39.0  165000.0   \n121217    Villa Urquiza                   39.0  131500.0   \n121219  Capital Federal                   77.0  129000.0   \n\n        surface_uncovered_in_m2  \n2                           0.0  \n7                           5.0  \n8                           5.0  \n13                         20.0  \n14                         11.0  \n...                         ...  \n121153                     26.0  \n121157                      3.0  \n121158                      5.0  \n121217                      7.0  \n121219                      0.0  \n\n[20763 rows x 4 columns]",
      "text/html": "<div>\n<style scoped>\n    .dataframe tbody tr th:only-of-type {\n        vertical-align: middle;\n    }\n\n    .dataframe tbody tr th {\n        vertical-align: top;\n    }\n\n    .dataframe thead th {\n        text-align: right;\n    }\n</style>\n<table border=\"1\" class=\"dataframe\">\n  <thead>\n    <tr style=\"text-align: right;\">\n      <th></th>\n      <th>place_name</th>\n      <th>surface_covered_in_m2</th>\n      <th>price</th>\n      <th>surface_uncovered_in_m2</th>\n    </tr>\n  </thead>\n  <tbody>\n    <tr>\n      <th>2</th>\n      <td>Mataderos</td>\n      <td>55.0</td>\n      <td>72000.0</td>\n      <td>0.0</td>\n    </tr>\n    <tr>\n      <th>7</th>\n      <td>Belgrano</td>\n      <td>40.0</td>\n      <td>138000.0</td>\n      <td>5.0</td>\n    </tr>\n    <tr>\n      <th>8</th>\n      <td>Belgrano</td>\n      <td>60.0</td>\n      <td>195000.0</td>\n      <td>5.0</td>\n    </tr>\n    <tr>\n      <th>13</th>\n      <td>Palermo Soho</td>\n      <td>30.0</td>\n      <td>111700.0</td>\n      <td>20.0</td>\n    </tr>\n    <tr>\n      <th>14</th>\n      <td>Palermo Soho</td>\n      <td>31.0</td>\n      <td>147900.0</td>\n      <td>11.0</td>\n    </tr>\n    <tr>\n      <th>...</th>\n      <td>...</td>\n      <td>...</td>\n      <td>...</td>\n      <td>...</td>\n    </tr>\n    <tr>\n      <th>121153</th>\n      <td>Barrio Norte</td>\n      <td>65.0</td>\n      <td>165000.0</td>\n      <td>26.0</td>\n    </tr>\n    <tr>\n      <th>121157</th>\n      <td>Belgrano</td>\n      <td>35.0</td>\n      <td>128000.0</td>\n      <td>3.0</td>\n    </tr>\n    <tr>\n      <th>121158</th>\n      <td>Recoleta</td>\n      <td>39.0</td>\n      <td>165000.0</td>\n      <td>5.0</td>\n    </tr>\n    <tr>\n      <th>121217</th>\n      <td>Villa Urquiza</td>\n      <td>39.0</td>\n      <td>131500.0</td>\n      <td>7.0</td>\n    </tr>\n    <tr>\n      <th>121219</th>\n      <td>Capital Federal</td>\n      <td>77.0</td>\n      <td>129000.0</td>\n      <td>0.0</td>\n    </tr>\n  </tbody>\n</table>\n<p>20763 rows × 4 columns</p>\n</div>"
     },
     "execution_count": 123,
     "metadata": {},
     "output_type": "execute_result"
    }
   ],
   "source": [
    "capital_federal_apartment_clean.drop(indice.index, axis=0, inplace=True)\n",
    "\n",
    "capital_federal_apartment_clean"
   ]
  },
  {
   "cell_type": "code",
   "execution_count": 124,
   "metadata": {
    "pycharm": {
     "name": "#%%\n"
    }
   },
   "outputs": [
    {
     "data": {
      "text/plain": "[(100.0, 1000000.0)]"
     },
     "execution_count": 124,
     "metadata": {},
     "output_type": "execute_result"
    },
    {
     "data": {
      "text/plain": "<Figure size 432x288 with 1 Axes>",
      "image/png": "[encoded data removed]"
     },
     "metadata": {},
     "output_type": "display_data"
    }
   ],
   "source": [
    "g=sns.boxplot(data=capital_federal_apartment_clean,y=\"price\")\n",
    "\n",
    "g.set(ylim=(100,1000000))"
   ]
  }
 ],
 "metadata": {
  "kernelspec": {
   "display_name": "Python 3.10.6 ('dh')",
   "language": "python",
   "name": "python3"
  },
  "language_info": {
   "codemirror_mode": {
    "name": "ipython",
    "version": 3
   },
   "file_extension": ".py",
   "mimetype": "text/x-python",
   "name": "python",
   "nbconvert_exporter": "python",
   "pygments_lexer": "ipython3",
   "version": "3.10.6"
  },
  "vscode": {
   "interpreter": {
    "hash": "f2eea5dc5d61fddae8c1ddaf2edee40dee68c81ba816c4813f75c201c4a9f954"
   }
  }
 },
 "nbformat": 4,
 "nbformat_minor": 0
}