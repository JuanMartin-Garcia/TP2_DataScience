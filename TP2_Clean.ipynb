{
 "cells": [
  {
   "cell_type": "code",
   "execution_count": 33,
   "metadata": {
    "collapsed": true,
    "pycharm": {
     "name": "#%%\n"
    }
   },
   "outputs": [],
   "source": [
    "import matplotlib.pyplot as plt\n",
    "import pandas as pd\n",
    "import numpy as np\n",
    "import seaborn as sns\n",
    "\n",
    "from sklearn.model_selection import train_test_split\n",
    "from sklearn.preprocessing import OneHotEncoder\n",
    "from sklearn.preprocessing import StandardScaler\n",
    "from sklearn import linear_model\n",
    "from sklearn import metrics\n",
    "\n",
    "import statsmodels.api as sm\n",
    "from statsmodels.tools import eval_measures"
   ]
  },
  {
   "cell_type": "code",
   "execution_count": 34,
   "outputs": [
    {
     "name": "stdout",
     "output_type": "stream",
     "text": [
      "<class 'pandas.core.frame.DataFrame'>\n",
      "RangeIndex: 121220 entries, 0 to 121219\n",
      "Data columns (total 26 columns):\n",
      " #   Column                      Non-Null Count   Dtype  \n",
      "---  ------                      --------------   -----  \n",
      " 0   Unnamed: 0                  121220 non-null  int64  \n",
      " 1   operation                   121220 non-null  object \n",
      " 2   property_type               121220 non-null  object \n",
      " 3   place_name                  121197 non-null  object \n",
      " 4   place_with_parent_names     121220 non-null  object \n",
      " 5   country_name                121220 non-null  object \n",
      " 6   state_name                  121220 non-null  object \n",
      " 7   geonames_id                 102503 non-null  float64\n",
      " 8   lat-lon                     69670 non-null   object \n",
      " 9   lat                         69670 non-null   float64\n",
      " 10  lon                         69670 non-null   float64\n",
      " 11  price                       100810 non-null  float64\n",
      " 12  currency                    100809 non-null  object \n",
      " 13  price_aprox_local_currency  100810 non-null  float64\n",
      " 14  price_aprox_usd             100810 non-null  float64\n",
      " 15  surface_total_in_m2         81892 non-null   float64\n",
      " 16  surface_covered_in_m2       101313 non-null  float64\n",
      " 17  price_usd_per_m2            68617 non-null   float64\n",
      " 18  price_per_m2                87658 non-null   float64\n",
      " 19  floor                       7899 non-null    float64\n",
      " 20  rooms                       47390 non-null   float64\n",
      " 21  expenses                    14262 non-null   float64\n",
      " 22  properati_url               121220 non-null  object \n",
      " 23  description                 121218 non-null  object \n",
      " 24  title                       121220 non-null  object \n",
      " 25  image_thumbnail             118108 non-null  object \n",
      "dtypes: float64(13), int64(1), object(12)\n",
      "memory usage: 24.0+ MB\n"
     ]
    }
   ],
   "source": [
    "data=pd.read_csv('./properatti.csv')\n",
    "data.info()"
   ],
   "metadata": {
    "collapsed": false,
    "pycharm": {
     "name": "#%%\n"
    }
   }
  },
  {
   "cell_type": "code",
   "execution_count": 35,
   "outputs": [
    {
     "data": {
      "text/plain": "        Unnamed: 0 operation property_type       place_name  \\\n0                0      sell            PH        Mataderos   \n2                2      sell     apartment        Mataderos   \n3                3      sell            PH          Liniers   \n7                7      sell     apartment         Belgrano   \n8                8      sell     apartment         Belgrano   \n...            ...       ...           ...              ...   \n121160      121160      sell     apartment         Belgrano   \n121209      121209      sell     apartment         Belgrano   \n121215      121215      sell     apartment         Belgrano   \n121217      121217      sell     apartment    Villa Urquiza   \n121219      121219      sell     apartment  Capital Federal   \n\n                          place_with_parent_names country_name  \\\n0           |Argentina|Capital Federal|Mataderos|    Argentina   \n2           |Argentina|Capital Federal|Mataderos|    Argentina   \n3             |Argentina|Capital Federal|Liniers|    Argentina   \n7            |Argentina|Capital Federal|Belgrano|    Argentina   \n8            |Argentina|Capital Federal|Belgrano|    Argentina   \n...                                           ...          ...   \n121160       |Argentina|Capital Federal|Belgrano|    Argentina   \n121209       |Argentina|Capital Federal|Belgrano|    Argentina   \n121215       |Argentina|Capital Federal|Belgrano|    Argentina   \n121217  |Argentina|Capital Federal|Villa Urquiza|    Argentina   \n121219                |Argentina|Capital Federal|    Argentina   \n\n             state_name  geonames_id                        lat-lon  \\\n0       Capital Federal    3430787.0        -34.6618237,-58.5088387   \n2       Capital Federal    3430787.0        -34.6522615,-58.5229825   \n3       Capital Federal    3431333.0        -34.6477969,-58.5164244   \n7       Capital Federal    3436077.0         -34.5598729,-58.443362   \n8       Capital Federal    3436077.0         -34.5598729,-58.443362   \n...                 ...          ...                            ...   \n121160  Capital Federal    3436077.0   -34.563685346,-58.4426825896   \n121209  Capital Federal    3436077.0   -34.563685346,-58.4426825896   \n121215  Capital Federal    3436077.0                            NaN   \n121217  Capital Federal    3433775.0  -34.5706388726,-58.4755963355   \n121219  Capital Federal    3433955.0                            NaN   \n\n              lat  ...  surface_covered_in_m2  price_usd_per_m2 price_per_m2  \\\n0      -34.661824  ...                   40.0       1127.272727  1550.000000   \n2      -34.652262  ...                   55.0       1309.090909  1309.090909   \n3      -34.647797  ...                    NaN               NaN          NaN   \n7      -34.559873  ...                   40.0       3066.666667  3450.000000   \n8      -34.559873  ...                   60.0       3000.000000  3250.000000   \n...           ...  ...                    ...               ...          ...   \n121160 -34.563685  ...                    NaN       2611.464968          NaN   \n121209 -34.563685  ...                    NaN       2611.464968          NaN   \n121215        NaN  ...                   93.0       7699.115044  9354.838710   \n121217 -34.570639  ...                   39.0       2858.695652  3371.794872   \n121219        NaN  ...                   77.0       1675.324675  1675.324675   \n\n        floor  rooms  expenses  \\\n0         NaN    NaN       NaN   \n2         NaN    NaN       NaN   \n3         NaN    NaN       NaN   \n7         NaN    NaN       NaN   \n8         NaN    NaN       NaN   \n...       ...    ...       ...   \n121160    NaN    NaN    6300.0   \n121209    NaN    NaN    6300.0   \n121215    NaN    NaN   10000.0   \n121217    NaN    NaN       NaN   \n121219    NaN    NaN    3500.0   \n\n                                            properati_url  \\\n0       http://www.properati.com.ar/15bo8_venta_ph_mat...   \n2       http://www.properati.com.ar/15bod_venta_depart...   \n3       http://www.properati.com.ar/15boh_venta_ph_lin...   \n7       http://www.properati.com.ar/15bot_venta_depart...   \n8       http://www.properati.com.ar/15bou_venta_depart...   \n...                                                   ...   \n121160  http://www.properati.com.ar/1cj5v_venta_depart...   \n121209  http://www.properati.com.ar/1cj7c_venta_depart...   \n121215  http://www.properati.com.ar/1cja2_venta_depart...   \n121217  http://www.properati.com.ar/1cja7_venta_depart...   \n121219  http://www.properati.com.ar/1cjaa_venta_depart...   \n\n                                              description  \\\n0       2 AMBIENTES TIPO CASA PLANTA BAJA POR PASILLO,...   \n2       2 AMBIENTES 3ER PISO LATERAL LIVING COMEDOR AM...   \n3       PH 3 ambientes con patio. Hay 3 deptos en lote...   \n7       EXCELENTE MONOAMBIENTE A ESTRENAR AMPLIO SUPER...   \n8       EXCELENTE DOS AMBIENTES  ESTRENAR AMPLIO SUPER...   \n...                                                   ...   \n121160  Edificio en esquina de muy buena categoría de ...   \n121209  Edificio en esquina de muy buena categoría de ...   \n121215  TORRE FORUM ALCORTA - MÁXIMA CATEGORÍA.Impecab...   \n121217  VENTA DEPARTAMENTO AMBIENTE DIVISIBLE A ESTREN...   \n121219  Departamento de 77 m2 apto profesional. Edific...   \n\n                                                    title  \\\n0                      2 AMB TIPO CASA SIN EXPENSAS EN PB   \n2                2 AMB 3ER PISO CON ASCENSOR APTO CREDITO   \n3                            PH 3 amb. cfte. reciclado      \n7       JOSE HERNANDEZ 1400 MONOAMBIENTE  ESTRENAR CAT...   \n8       JOSE HERNANDEZ   1400 DOS AMBIENTES ESTRENAR ,...   \n...                                                   ...   \n121160  Av .Luis Maria Campos 1400- Belgrano-Capital F...   \n121209  Av .Luis Maria Campos 1400- Belgrano-Capital F...   \n121215         Torre Forum Alcorta- Impecable 3 ambientes   \n121217  VENTA DEPARTAMENTO AMBIENTE DIVISIBLE A ESTREN...   \n121219         Departamento apto profesional en el Centro   \n\n                                          image_thumbnail  \n0       https://thumbs4.properati.com/8/BluUYiHJLhgIIK...  \n2       https://thumbs4.properati.com/5/SXKr34F_IwG3W_...  \n3       https://thumbs4.properati.com/3/DgIfX-85Mog5SP...  \n7       https://thumbs4.properati.com/1/IHxARynlr8sPEW...  \n8       https://thumbs4.properati.com/2/J3zOjgaFHrkvnv...  \n...                                                   ...  \n121160  https://thumbs4.properati.com/0/zeLNBuyylOJL7z...  \n121209  https://thumbs4.properati.com/0/zeLNBuyylOJL7z...  \n121215  https://thumbs4.properati.com/1/bjms0KnaAnlNoQ...  \n121217  https://thumbs4.properati.com/9/YAe_-2gRVykADP...  \n121219  https://thumbs4.properati.com/8/mNEsnQWqB7joBF...  \n\n[32316 rows x 26 columns]",
      "text/html": "<div>\n<style scoped>\n    .dataframe tbody tr th:only-of-type {\n        vertical-align: middle;\n    }\n\n    .dataframe tbody tr th {\n        vertical-align: top;\n    }\n\n    .dataframe thead th {\n        text-align: right;\n    }\n</style>\n<table border=\"1\" class=\"dataframe\">\n  <thead>\n    <tr style=\"text-align: right;\">\n      <th></th>\n      <th>Unnamed: 0</th>\n      <th>operation</th>\n      <th>property_type</th>\n      <th>place_name</th>\n      <th>place_with_parent_names</th>\n      <th>country_name</th>\n      <th>state_name</th>\n      <th>geonames_id</th>\n      <th>lat-lon</th>\n      <th>lat</th>\n      <th>...</th>\n      <th>surface_covered_in_m2</th>\n      <th>price_usd_per_m2</th>\n      <th>price_per_m2</th>\n      <th>floor</th>\n      <th>rooms</th>\n      <th>expenses</th>\n      <th>properati_url</th>\n      <th>description</th>\n      <th>title</th>\n      <th>image_thumbnail</th>\n    </tr>\n  </thead>\n  <tbody>\n    <tr>\n      <th>0</th>\n      <td>0</td>\n      <td>sell</td>\n      <td>PH</td>\n      <td>Mataderos</td>\n      <td>|Argentina|Capital Federal|Mataderos|</td>\n      <td>Argentina</td>\n      <td>Capital Federal</td>\n      <td>3430787.0</td>\n      <td>-34.6618237,-58.5088387</td>\n      <td>-34.661824</td>\n      <td>...</td>\n      <td>40.0</td>\n      <td>1127.272727</td>\n      <td>1550.000000</td>\n      <td>NaN</td>\n      <td>NaN</td>\n      <td>NaN</td>\n      <td>http://www.properati.com.ar/15bo8_venta_ph_mat...</td>\n      <td>2 AMBIENTES TIPO CASA PLANTA BAJA POR PASILLO,...</td>\n      <td>2 AMB TIPO CASA SIN EXPENSAS EN PB</td>\n      <td>https://thumbs4.properati.com/8/BluUYiHJLhgIIK...</td>\n    </tr>\n    <tr>\n      <th>2</th>\n      <td>2</td>\n      <td>sell</td>\n      <td>apartment</td>\n      <td>Mataderos</td>\n      <td>|Argentina|Capital Federal|Mataderos|</td>\n      <td>Argentina</td>\n      <td>Capital Federal</td>\n      <td>3430787.0</td>\n      <td>-34.6522615,-58.5229825</td>\n      <td>-34.652262</td>\n      <td>...</td>\n      <td>55.0</td>\n      <td>1309.090909</td>\n      <td>1309.090909</td>\n      <td>NaN</td>\n      <td>NaN</td>\n      <td>NaN</td>\n      <td>http://www.properati.com.ar/15bod_venta_depart...</td>\n      <td>2 AMBIENTES 3ER PISO LATERAL LIVING COMEDOR AM...</td>\n      <td>2 AMB 3ER PISO CON ASCENSOR APTO CREDITO</td>\n      <td>https://thumbs4.properati.com/5/SXKr34F_IwG3W_...</td>\n    </tr>\n    <tr>\n      <th>3</th>\n      <td>3</td>\n      <td>sell</td>\n      <td>PH</td>\n      <td>Liniers</td>\n      <td>|Argentina|Capital Federal|Liniers|</td>\n      <td>Argentina</td>\n      <td>Capital Federal</td>\n      <td>3431333.0</td>\n      <td>-34.6477969,-58.5164244</td>\n      <td>-34.647797</td>\n      <td>...</td>\n      <td>NaN</td>\n      <td>NaN</td>\n      <td>NaN</td>\n      <td>NaN</td>\n      <td>NaN</td>\n      <td>NaN</td>\n      <td>http://www.properati.com.ar/15boh_venta_ph_lin...</td>\n      <td>PH 3 ambientes con patio. Hay 3 deptos en lote...</td>\n      <td>PH 3 amb. cfte. reciclado</td>\n      <td>https://thumbs4.properati.com/3/DgIfX-85Mog5SP...</td>\n    </tr>\n    <tr>\n      <th>7</th>\n      <td>7</td>\n      <td>sell</td>\n      <td>apartment</td>\n      <td>Belgrano</td>\n      <td>|Argentina|Capital Federal|Belgrano|</td>\n      <td>Argentina</td>\n      <td>Capital Federal</td>\n      <td>3436077.0</td>\n      <td>-34.5598729,-58.443362</td>\n      <td>-34.559873</td>\n      <td>...</td>\n      <td>40.0</td>\n      <td>3066.666667</td>\n      <td>3450.000000</td>\n      <td>NaN</td>\n      <td>NaN</td>\n      <td>NaN</td>\n      <td>http://www.properati.com.ar/15bot_venta_depart...</td>\n      <td>EXCELENTE MONOAMBIENTE A ESTRENAR AMPLIO SUPER...</td>\n      <td>JOSE HERNANDEZ 1400 MONOAMBIENTE  ESTRENAR CAT...</td>\n      <td>https://thumbs4.properati.com/1/IHxARynlr8sPEW...</td>\n    </tr>\n    <tr>\n      <th>8</th>\n      <td>8</td>\n      <td>sell</td>\n      <td>apartment</td>\n      <td>Belgrano</td>\n      <td>|Argentina|Capital Federal|Belgrano|</td>\n      <td>Argentina</td>\n      <td>Capital Federal</td>\n      <td>3436077.0</td>\n      <td>-34.5598729,-58.443362</td>\n      <td>-34.559873</td>\n      <td>...</td>\n      <td>60.0</td>\n      <td>3000.000000</td>\n      <td>3250.000000</td>\n      <td>NaN</td>\n      <td>NaN</td>\n      <td>NaN</td>\n      <td>http://www.properati.com.ar/15bou_venta_depart...</td>\n      <td>EXCELENTE DOS AMBIENTES  ESTRENAR AMPLIO SUPER...</td>\n      <td>JOSE HERNANDEZ   1400 DOS AMBIENTES ESTRENAR ,...</td>\n      <td>https://thumbs4.properati.com/2/J3zOjgaFHrkvnv...</td>\n    </tr>\n    <tr>\n      <th>...</th>\n      <td>...</td>\n      <td>...</td>\n      <td>...</td>\n      <td>...</td>\n      <td>...</td>\n      <td>...</td>\n      <td>...</td>\n      <td>...</td>\n      <td>...</td>\n      <td>...</td>\n      <td>...</td>\n      <td>...</td>\n      <td>...</td>\n      <td>...</td>\n      <td>...</td>\n      <td>...</td>\n      <td>...</td>\n      <td>...</td>\n      <td>...</td>\n      <td>...</td>\n      <td>...</td>\n    </tr>\n    <tr>\n      <th>121160</th>\n      <td>121160</td>\n      <td>sell</td>\n      <td>apartment</td>\n      <td>Belgrano</td>\n      <td>|Argentina|Capital Federal|Belgrano|</td>\n      <td>Argentina</td>\n      <td>Capital Federal</td>\n      <td>3436077.0</td>\n      <td>-34.563685346,-58.4426825896</td>\n      <td>-34.563685</td>\n      <td>...</td>\n      <td>NaN</td>\n      <td>2611.464968</td>\n      <td>NaN</td>\n      <td>NaN</td>\n      <td>NaN</td>\n      <td>6300.0</td>\n      <td>http://www.properati.com.ar/1cj5v_venta_depart...</td>\n      <td>Edificio en esquina de muy buena categoría de ...</td>\n      <td>Av .Luis Maria Campos 1400- Belgrano-Capital F...</td>\n      <td>https://thumbs4.properati.com/0/zeLNBuyylOJL7z...</td>\n    </tr>\n    <tr>\n      <th>121209</th>\n      <td>121209</td>\n      <td>sell</td>\n      <td>apartment</td>\n      <td>Belgrano</td>\n      <td>|Argentina|Capital Federal|Belgrano|</td>\n      <td>Argentina</td>\n      <td>Capital Federal</td>\n      <td>3436077.0</td>\n      <td>-34.563685346,-58.4426825896</td>\n      <td>-34.563685</td>\n      <td>...</td>\n      <td>NaN</td>\n      <td>2611.464968</td>\n      <td>NaN</td>\n      <td>NaN</td>\n      <td>NaN</td>\n      <td>6300.0</td>\n      <td>http://www.properati.com.ar/1cj7c_venta_depart...</td>\n      <td>Edificio en esquina de muy buena categoría de ...</td>\n      <td>Av .Luis Maria Campos 1400- Belgrano-Capital F...</td>\n      <td>https://thumbs4.properati.com/0/zeLNBuyylOJL7z...</td>\n    </tr>\n    <tr>\n      <th>121215</th>\n      <td>121215</td>\n      <td>sell</td>\n      <td>apartment</td>\n      <td>Belgrano</td>\n      <td>|Argentina|Capital Federal|Belgrano|</td>\n      <td>Argentina</td>\n      <td>Capital Federal</td>\n      <td>3436077.0</td>\n      <td>NaN</td>\n      <td>NaN</td>\n      <td>...</td>\n      <td>93.0</td>\n      <td>7699.115044</td>\n      <td>9354.838710</td>\n      <td>NaN</td>\n      <td>NaN</td>\n      <td>10000.0</td>\n      <td>http://www.properati.com.ar/1cja2_venta_depart...</td>\n      <td>TORRE FORUM ALCORTA - MÁXIMA CATEGORÍA.Impecab...</td>\n      <td>Torre Forum Alcorta- Impecable 3 ambientes</td>\n      <td>https://thumbs4.properati.com/1/bjms0KnaAnlNoQ...</td>\n    </tr>\n    <tr>\n      <th>121217</th>\n      <td>121217</td>\n      <td>sell</td>\n      <td>apartment</td>\n      <td>Villa Urquiza</td>\n      <td>|Argentina|Capital Federal|Villa Urquiza|</td>\n      <td>Argentina</td>\n      <td>Capital Federal</td>\n      <td>3433775.0</td>\n      <td>-34.5706388726,-58.4755963355</td>\n      <td>-34.570639</td>\n      <td>...</td>\n      <td>39.0</td>\n      <td>2858.695652</td>\n      <td>3371.794872</td>\n      <td>NaN</td>\n      <td>NaN</td>\n      <td>NaN</td>\n      <td>http://www.properati.com.ar/1cja7_venta_depart...</td>\n      <td>VENTA DEPARTAMENTO AMBIENTE DIVISIBLE A ESTREN...</td>\n      <td>VENTA DEPARTAMENTO AMBIENTE DIVISIBLE A ESTREN...</td>\n      <td>https://thumbs4.properati.com/9/YAe_-2gRVykADP...</td>\n    </tr>\n    <tr>\n      <th>121219</th>\n      <td>121219</td>\n      <td>sell</td>\n      <td>apartment</td>\n      <td>Capital Federal</td>\n      <td>|Argentina|Capital Federal|</td>\n      <td>Argentina</td>\n      <td>Capital Federal</td>\n      <td>3433955.0</td>\n      <td>NaN</td>\n      <td>NaN</td>\n      <td>...</td>\n      <td>77.0</td>\n      <td>1675.324675</td>\n      <td>1675.324675</td>\n      <td>NaN</td>\n      <td>NaN</td>\n      <td>3500.0</td>\n      <td>http://www.properati.com.ar/1cjaa_venta_depart...</td>\n      <td>Departamento de 77 m2 apto profesional. Edific...</td>\n      <td>Departamento apto profesional en el Centro</td>\n      <td>https://thumbs4.properati.com/8/mNEsnQWqB7joBF...</td>\n    </tr>\n  </tbody>\n</table>\n<p>32316 rows × 26 columns</p>\n</div>"
     },
     "execution_count": 35,
     "metadata": {},
     "output_type": "execute_result"
    }
   ],
   "source": [
    "capital_federal_mask = data.state_name==\"Capital Federal\"\n",
    "capital_federal = data[capital_federal_mask]\n",
    "capital_federal"
   ],
   "metadata": {
    "collapsed": false,
    "pycharm": {
     "name": "#%%\n"
    }
   }
  },
  {
   "cell_type": "code",
   "execution_count": 36,
   "outputs": [
    {
     "data": {
      "text/plain": "       property_type       place_name  surface_total_in_m2  \\\n0                 PH        Mataderos                 55.0   \n2          apartment        Mataderos                 55.0   \n3                 PH          Liniers                  NaN   \n7          apartment         Belgrano                 45.0   \n8          apartment         Belgrano                 65.0   \n...              ...              ...                  ...   \n121160     apartment         Belgrano                157.0   \n121209     apartment         Belgrano                157.0   \n121215     apartment         Belgrano                113.0   \n121217     apartment    Villa Urquiza                 46.0   \n121219     apartment  Capital Federal                 77.0   \n\n        surface_covered_in_m2     price  \n0                        40.0   62000.0  \n2                        55.0   72000.0  \n3                         NaN   95000.0  \n7                        40.0  138000.0  \n8                        60.0  195000.0  \n...                       ...       ...  \n121160                    NaN  410000.0  \n121209                    NaN  410000.0  \n121215                   93.0  870000.0  \n121217                   39.0  131500.0  \n121219                   77.0  129000.0  \n\n[32316 rows x 5 columns]",
      "text/html": "<div>\n<style scoped>\n    .dataframe tbody tr th:only-of-type {\n        vertical-align: middle;\n    }\n\n    .dataframe tbody tr th {\n        vertical-align: top;\n    }\n\n    .dataframe thead th {\n        text-align: right;\n    }\n</style>\n<table border=\"1\" class=\"dataframe\">\n  <thead>\n    <tr style=\"text-align: right;\">\n      <th></th>\n      <th>property_type</th>\n      <th>place_name</th>\n      <th>surface_total_in_m2</th>\n      <th>surface_covered_in_m2</th>\n      <th>price</th>\n    </tr>\n  </thead>\n  <tbody>\n    <tr>\n      <th>0</th>\n      <td>PH</td>\n      <td>Mataderos</td>\n      <td>55.0</td>\n      <td>40.0</td>\n      <td>62000.0</td>\n    </tr>\n    <tr>\n      <th>2</th>\n      <td>apartment</td>\n      <td>Mataderos</td>\n      <td>55.0</td>\n      <td>55.0</td>\n      <td>72000.0</td>\n    </tr>\n    <tr>\n      <th>3</th>\n      <td>PH</td>\n      <td>Liniers</td>\n      <td>NaN</td>\n      <td>NaN</td>\n      <td>95000.0</td>\n    </tr>\n    <tr>\n      <th>7</th>\n      <td>apartment</td>\n      <td>Belgrano</td>\n      <td>45.0</td>\n      <td>40.0</td>\n      <td>138000.0</td>\n    </tr>\n    <tr>\n      <th>8</th>\n      <td>apartment</td>\n      <td>Belgrano</td>\n      <td>65.0</td>\n      <td>60.0</td>\n      <td>195000.0</td>\n    </tr>\n    <tr>\n      <th>...</th>\n      <td>...</td>\n      <td>...</td>\n      <td>...</td>\n      <td>...</td>\n      <td>...</td>\n    </tr>\n    <tr>\n      <th>121160</th>\n      <td>apartment</td>\n      <td>Belgrano</td>\n      <td>157.0</td>\n      <td>NaN</td>\n      <td>410000.0</td>\n    </tr>\n    <tr>\n      <th>121209</th>\n      <td>apartment</td>\n      <td>Belgrano</td>\n      <td>157.0</td>\n      <td>NaN</td>\n      <td>410000.0</td>\n    </tr>\n    <tr>\n      <th>121215</th>\n      <td>apartment</td>\n      <td>Belgrano</td>\n      <td>113.0</td>\n      <td>93.0</td>\n      <td>870000.0</td>\n    </tr>\n    <tr>\n      <th>121217</th>\n      <td>apartment</td>\n      <td>Villa Urquiza</td>\n      <td>46.0</td>\n      <td>39.0</td>\n      <td>131500.0</td>\n    </tr>\n    <tr>\n      <th>121219</th>\n      <td>apartment</td>\n      <td>Capital Federal</td>\n      <td>77.0</td>\n      <td>77.0</td>\n      <td>129000.0</td>\n    </tr>\n  </tbody>\n</table>\n<p>32316 rows × 5 columns</p>\n</div>"
     },
     "execution_count": 36,
     "metadata": {},
     "output_type": "execute_result"
    }
   ],
   "source": [
    "capital_federal_dos = capital_federal.loc[:,('property_type','place_name','surface_total_in_m2','surface_covered_in_m2', 'price')]\n",
    "capital_federal_dos"
   ],
   "metadata": {
    "collapsed": false,
    "pycharm": {
     "name": "#%%\n"
    }
   }
  },
  {
   "cell_type": "code",
   "execution_count": 37,
   "outputs": [
    {
     "data": {
      "text/plain": "       property_type       place_name  surface_total_in_m2  \\\n2          apartment        Mataderos                 55.0   \n7          apartment         Belgrano                 45.0   \n8          apartment         Belgrano                 65.0   \n13         apartment     Palermo Soho                 50.0   \n14         apartment     Palermo Soho                 42.0   \n...              ...              ...                  ...   \n121160     apartment         Belgrano                157.0   \n121209     apartment         Belgrano                157.0   \n121215     apartment         Belgrano                113.0   \n121217     apartment    Villa Urquiza                 46.0   \n121219     apartment  Capital Federal                 77.0   \n\n        surface_covered_in_m2     price  \n2                        55.0   72000.0  \n7                        40.0  138000.0  \n8                        60.0  195000.0  \n13                       30.0  111700.0  \n14                       31.0  147900.0  \n...                       ...       ...  \n121160                    NaN  410000.0  \n121209                    NaN  410000.0  \n121215                   93.0  870000.0  \n121217                   39.0  131500.0  \n121219                   77.0  129000.0  \n\n[27037 rows x 5 columns]",
      "text/html": "<div>\n<style scoped>\n    .dataframe tbody tr th:only-of-type {\n        vertical-align: middle;\n    }\n\n    .dataframe tbody tr th {\n        vertical-align: top;\n    }\n\n    .dataframe thead th {\n        text-align: right;\n    }\n</style>\n<table border=\"1\" class=\"dataframe\">\n  <thead>\n    <tr style=\"text-align: right;\">\n      <th></th>\n      <th>property_type</th>\n      <th>place_name</th>\n      <th>surface_total_in_m2</th>\n      <th>surface_covered_in_m2</th>\n      <th>price</th>\n    </tr>\n  </thead>\n  <tbody>\n    <tr>\n      <th>2</th>\n      <td>apartment</td>\n      <td>Mataderos</td>\n      <td>55.0</td>\n      <td>55.0</td>\n      <td>72000.0</td>\n    </tr>\n    <tr>\n      <th>7</th>\n      <td>apartment</td>\n      <td>Belgrano</td>\n      <td>45.0</td>\n      <td>40.0</td>\n      <td>138000.0</td>\n    </tr>\n    <tr>\n      <th>8</th>\n      <td>apartment</td>\n      <td>Belgrano</td>\n      <td>65.0</td>\n      <td>60.0</td>\n      <td>195000.0</td>\n    </tr>\n    <tr>\n      <th>13</th>\n      <td>apartment</td>\n      <td>Palermo Soho</td>\n      <td>50.0</td>\n      <td>30.0</td>\n      <td>111700.0</td>\n    </tr>\n    <tr>\n      <th>14</th>\n      <td>apartment</td>\n      <td>Palermo Soho</td>\n      <td>42.0</td>\n      <td>31.0</td>\n      <td>147900.0</td>\n    </tr>\n    <tr>\n      <th>...</th>\n      <td>...</td>\n      <td>...</td>\n      <td>...</td>\n      <td>...</td>\n      <td>...</td>\n    </tr>\n    <tr>\n      <th>121160</th>\n      <td>apartment</td>\n      <td>Belgrano</td>\n      <td>157.0</td>\n      <td>NaN</td>\n      <td>410000.0</td>\n    </tr>\n    <tr>\n      <th>121209</th>\n      <td>apartment</td>\n      <td>Belgrano</td>\n      <td>157.0</td>\n      <td>NaN</td>\n      <td>410000.0</td>\n    </tr>\n    <tr>\n      <th>121215</th>\n      <td>apartment</td>\n      <td>Belgrano</td>\n      <td>113.0</td>\n      <td>93.0</td>\n      <td>870000.0</td>\n    </tr>\n    <tr>\n      <th>121217</th>\n      <td>apartment</td>\n      <td>Villa Urquiza</td>\n      <td>46.0</td>\n      <td>39.0</td>\n      <td>131500.0</td>\n    </tr>\n    <tr>\n      <th>121219</th>\n      <td>apartment</td>\n      <td>Capital Federal</td>\n      <td>77.0</td>\n      <td>77.0</td>\n      <td>129000.0</td>\n    </tr>\n  </tbody>\n</table>\n<p>27037 rows × 5 columns</p>\n</div>"
     },
     "execution_count": 37,
     "metadata": {},
     "output_type": "execute_result"
    }
   ],
   "source": [
    "capital_federal_apartment_mask = capital_federal.property_type=='apartment'\n",
    "capital_federal_apartment = capital_federal_dos[capital_federal_apartment_mask]\n",
    "capital_federal_apartment"
   ],
   "metadata": {
    "collapsed": false,
    "pycharm": {
     "name": "#%%\n"
    }
   }
  },
  {
   "cell_type": "code",
   "execution_count": 38,
   "outputs": [
    {
     "data": {
      "text/plain": "                                 column_name  percent_missing\nsurface_total_in_m2      surface_total_in_m2        16.484817\nprice                                  price        10.663165\nsurface_covered_in_m2  surface_covered_in_m2         6.646447\nproperty_type                  property_type         0.000000\nplace_name                        place_name         0.000000",
      "text/html": "<div>\n<style scoped>\n    .dataframe tbody tr th:only-of-type {\n        vertical-align: middle;\n    }\n\n    .dataframe tbody tr th {\n        vertical-align: top;\n    }\n\n    .dataframe thead th {\n        text-align: right;\n    }\n</style>\n<table border=\"1\" class=\"dataframe\">\n  <thead>\n    <tr style=\"text-align: right;\">\n      <th></th>\n      <th>column_name</th>\n      <th>percent_missing</th>\n    </tr>\n  </thead>\n  <tbody>\n    <tr>\n      <th>surface_total_in_m2</th>\n      <td>surface_total_in_m2</td>\n      <td>16.484817</td>\n    </tr>\n    <tr>\n      <th>price</th>\n      <td>price</td>\n      <td>10.663165</td>\n    </tr>\n    <tr>\n      <th>surface_covered_in_m2</th>\n      <td>surface_covered_in_m2</td>\n      <td>6.646447</td>\n    </tr>\n    <tr>\n      <th>property_type</th>\n      <td>property_type</td>\n      <td>0.000000</td>\n    </tr>\n    <tr>\n      <th>place_name</th>\n      <td>place_name</td>\n      <td>0.000000</td>\n    </tr>\n  </tbody>\n</table>\n</div>"
     },
     "execution_count": 38,
     "metadata": {},
     "output_type": "execute_result"
    }
   ],
   "source": [
    "#Porcentaje de nulls respecto al total del dataset por columna\n",
    "\n",
    "percent_missing = capital_federal_apartment.isnull().sum() * 100 / len(capital_federal_apartment)\n",
    "missing_value_df = pd.DataFrame({'column_name': capital_federal_apartment.columns,\n",
    "                                 'percent_missing': percent_missing})\n",
    "\n",
    "missing_value_df.sort_values('percent_missing', inplace=True, ascending=False)\n",
    "missing_value_df"
   ],
   "metadata": {
    "collapsed": false,
    "pycharm": {
     "name": "#%%\n"
    }
   }
  },
  {
   "cell_type": "code",
   "execution_count": 39,
   "outputs": [
    {
     "name": "stderr",
     "output_type": "stream",
     "text": [
      "C:\\Users\\Juan\\AppData\\Local\\Temp\\ipykernel_18232\\3128688942.py:1: SettingWithCopyWarning: \n",
      "A value is trying to be set on a copy of a slice from a DataFrame\n",
      "\n",
      "See the caveats in the documentation: https://pandas.pydata.org/pandas-docs/stable/user_guide/indexing.html#returning-a-view-versus-a-copy\n",
      "  capital_federal_apartment.surface_total_in_m2.fillna(capital_federal_apartment.surface_covered_in_m2, inplace=True)\n"
     ]
    }
   ],
   "source": [
    "capital_federal_apartment.surface_total_in_m2.fillna(capital_federal_apartment.surface_covered_in_m2, inplace=True)\n"
   ],
   "metadata": {
    "collapsed": false,
    "pycharm": {
     "name": "#%%\n"
    }
   }
  },
  {
   "cell_type": "code",
   "execution_count": 40,
   "outputs": [
    {
     "name": "stderr",
     "output_type": "stream",
     "text": [
      "C:\\Users\\Juan\\AppData\\Local\\Temp\\ipykernel_18232\\3450111080.py:1: SettingWithCopyWarning: \n",
      "A value is trying to be set on a copy of a slice from a DataFrame.\n",
      "Try using .loc[row_indexer,col_indexer] = value instead\n",
      "\n",
      "See the caveats in the documentation: https://pandas.pydata.org/pandas-docs/stable/user_guide/indexing.html#returning-a-view-versus-a-copy\n",
      "  capital_federal_apartment['surface_uncovered_in_m2'] = capital_federal_apartment.surface_total_in_m2 - capital_federal_apartment.surface_covered_in_m2\n"
     ]
    },
    {
     "data": {
      "text/plain": "       property_type       place_name  surface_total_in_m2  \\\n2          apartment        Mataderos                 55.0   \n7          apartment         Belgrano                 45.0   \n8          apartment         Belgrano                 65.0   \n13         apartment     Palermo Soho                 50.0   \n14         apartment     Palermo Soho                 42.0   \n...              ...              ...                  ...   \n121160     apartment         Belgrano                157.0   \n121209     apartment         Belgrano                157.0   \n121215     apartment         Belgrano                113.0   \n121217     apartment    Villa Urquiza                 46.0   \n121219     apartment  Capital Federal                 77.0   \n\n        surface_covered_in_m2     price  surface_uncovered_in_m2  \n2                        55.0   72000.0                      0.0  \n7                        40.0  138000.0                      5.0  \n8                        60.0  195000.0                      5.0  \n13                       30.0  111700.0                     20.0  \n14                       31.0  147900.0                     11.0  \n...                       ...       ...                      ...  \n121160                    NaN  410000.0                      NaN  \n121209                    NaN  410000.0                      NaN  \n121215                   93.0  870000.0                     20.0  \n121217                   39.0  131500.0                      7.0  \n121219                   77.0  129000.0                      0.0  \n\n[27037 rows x 6 columns]",
      "text/html": "<div>\n<style scoped>\n    .dataframe tbody tr th:only-of-type {\n        vertical-align: middle;\n    }\n\n    .dataframe tbody tr th {\n        vertical-align: top;\n    }\n\n    .dataframe thead th {\n        text-align: right;\n    }\n</style>\n<table border=\"1\" class=\"dataframe\">\n  <thead>\n    <tr style=\"text-align: right;\">\n      <th></th>\n      <th>property_type</th>\n      <th>place_name</th>\n      <th>surface_total_in_m2</th>\n      <th>surface_covered_in_m2</th>\n      <th>price</th>\n      <th>surface_uncovered_in_m2</th>\n    </tr>\n  </thead>\n  <tbody>\n    <tr>\n      <th>2</th>\n      <td>apartment</td>\n      <td>Mataderos</td>\n      <td>55.0</td>\n      <td>55.0</td>\n      <td>72000.0</td>\n      <td>0.0</td>\n    </tr>\n    <tr>\n      <th>7</th>\n      <td>apartment</td>\n      <td>Belgrano</td>\n      <td>45.0</td>\n      <td>40.0</td>\n      <td>138000.0</td>\n      <td>5.0</td>\n    </tr>\n    <tr>\n      <th>8</th>\n      <td>apartment</td>\n      <td>Belgrano</td>\n      <td>65.0</td>\n      <td>60.0</td>\n      <td>195000.0</td>\n      <td>5.0</td>\n    </tr>\n    <tr>\n      <th>13</th>\n      <td>apartment</td>\n      <td>Palermo Soho</td>\n      <td>50.0</td>\n      <td>30.0</td>\n      <td>111700.0</td>\n      <td>20.0</td>\n    </tr>\n    <tr>\n      <th>14</th>\n      <td>apartment</td>\n      <td>Palermo Soho</td>\n      <td>42.0</td>\n      <td>31.0</td>\n      <td>147900.0</td>\n      <td>11.0</td>\n    </tr>\n    <tr>\n      <th>...</th>\n      <td>...</td>\n      <td>...</td>\n      <td>...</td>\n      <td>...</td>\n      <td>...</td>\n      <td>...</td>\n    </tr>\n    <tr>\n      <th>121160</th>\n      <td>apartment</td>\n      <td>Belgrano</td>\n      <td>157.0</td>\n      <td>NaN</td>\n      <td>410000.0</td>\n      <td>NaN</td>\n    </tr>\n    <tr>\n      <th>121209</th>\n      <td>apartment</td>\n      <td>Belgrano</td>\n      <td>157.0</td>\n      <td>NaN</td>\n      <td>410000.0</td>\n      <td>NaN</td>\n    </tr>\n    <tr>\n      <th>121215</th>\n      <td>apartment</td>\n      <td>Belgrano</td>\n      <td>113.0</td>\n      <td>93.0</td>\n      <td>870000.0</td>\n      <td>20.0</td>\n    </tr>\n    <tr>\n      <th>121217</th>\n      <td>apartment</td>\n      <td>Villa Urquiza</td>\n      <td>46.0</td>\n      <td>39.0</td>\n      <td>131500.0</td>\n      <td>7.0</td>\n    </tr>\n    <tr>\n      <th>121219</th>\n      <td>apartment</td>\n      <td>Capital Federal</td>\n      <td>77.0</td>\n      <td>77.0</td>\n      <td>129000.0</td>\n      <td>0.0</td>\n    </tr>\n  </tbody>\n</table>\n<p>27037 rows × 6 columns</p>\n</div>"
     },
     "execution_count": 40,
     "metadata": {},
     "output_type": "execute_result"
    }
   ],
   "source": [
    "capital_federal_apartment['surface_uncovered_in_m2'] = capital_federal_apartment.surface_total_in_m2 - capital_federal_apartment.surface_covered_in_m2\n",
    "capital_federal_apartment"
   ],
   "metadata": {
    "collapsed": false,
    "pycharm": {
     "name": "#%%\n"
    }
   }
  },
  {
   "cell_type": "code",
   "execution_count": 41,
   "outputs": [
    {
     "name": "stderr",
     "output_type": "stream",
     "text": [
      "C:\\Users\\Juan\\AppData\\Local\\Temp\\ipykernel_18232\\573191145.py:1: SettingWithCopyWarning: \n",
      "A value is trying to be set on a copy of a slice from a DataFrame\n",
      "\n",
      "See the caveats in the documentation: https://pandas.pydata.org/pandas-docs/stable/user_guide/indexing.html#returning-a-view-versus-a-copy\n",
      "  capital_federal_apartment.drop('surface_total_in_m2', axis=1, inplace=True)\n"
     ]
    }
   ],
   "source": [
    "capital_federal_apartment.drop('surface_total_in_m2', axis=1, inplace=True)\n"
   ],
   "metadata": {
    "collapsed": false,
    "pycharm": {
     "name": "#%%\n"
    }
   }
  },
  {
   "cell_type": "code",
   "execution_count": 42,
   "outputs": [
    {
     "data": {
      "text/plain": "                                     column_name  percent_missing\nprice                                      price        10.663165\nsurface_covered_in_m2      surface_covered_in_m2         6.646447\nsurface_uncovered_in_m2  surface_uncovered_in_m2         6.646447\nproperty_type                      property_type         0.000000\nplace_name                            place_name         0.000000",
      "text/html": "<div>\n<style scoped>\n    .dataframe tbody tr th:only-of-type {\n        vertical-align: middle;\n    }\n\n    .dataframe tbody tr th {\n        vertical-align: top;\n    }\n\n    .dataframe thead th {\n        text-align: right;\n    }\n</style>\n<table border=\"1\" class=\"dataframe\">\n  <thead>\n    <tr style=\"text-align: right;\">\n      <th></th>\n      <th>column_name</th>\n      <th>percent_missing</th>\n    </tr>\n  </thead>\n  <tbody>\n    <tr>\n      <th>price</th>\n      <td>price</td>\n      <td>10.663165</td>\n    </tr>\n    <tr>\n      <th>surface_covered_in_m2</th>\n      <td>surface_covered_in_m2</td>\n      <td>6.646447</td>\n    </tr>\n    <tr>\n      <th>surface_uncovered_in_m2</th>\n      <td>surface_uncovered_in_m2</td>\n      <td>6.646447</td>\n    </tr>\n    <tr>\n      <th>property_type</th>\n      <td>property_type</td>\n      <td>0.000000</td>\n    </tr>\n    <tr>\n      <th>place_name</th>\n      <td>place_name</td>\n      <td>0.000000</td>\n    </tr>\n  </tbody>\n</table>\n</div>"
     },
     "execution_count": 42,
     "metadata": {},
     "output_type": "execute_result"
    }
   ],
   "source": [
    "percent_missing = capital_federal_apartment.isnull().sum() * 100 / len(capital_federal_apartment)\n",
    "missing_value_df = pd.DataFrame({'column_name': capital_federal_apartment.columns,\n",
    "                                 'percent_missing': percent_missing})\n",
    "\n",
    "missing_value_df.sort_values('percent_missing', inplace=True, ascending=False)\n",
    "missing_value_df"
   ],
   "metadata": {
    "collapsed": false,
    "pycharm": {
     "name": "#%%\n"
    }
   }
  },
  {
   "cell_type": "code",
   "execution_count": 43,
   "outputs": [
    {
     "data": {
      "text/plain": "       property_type       place_name  surface_covered_in_m2     price  \\\n2          apartment        Mataderos                   55.0   72000.0   \n7          apartment         Belgrano                   40.0  138000.0   \n8          apartment         Belgrano                   60.0  195000.0   \n13         apartment     Palermo Soho                   30.0  111700.0   \n14         apartment     Palermo Soho                   31.0  147900.0   \n...              ...              ...                    ...       ...   \n121157     apartment         Belgrano                   35.0  128000.0   \n121158     apartment         Recoleta                   39.0  165000.0   \n121215     apartment         Belgrano                   93.0  870000.0   \n121217     apartment    Villa Urquiza                   39.0  131500.0   \n121219     apartment  Capital Federal                   77.0  129000.0   \n\n        surface_uncovered_in_m2  \n2                           0.0  \n7                           5.0  \n8                           5.0  \n13                         20.0  \n14                         11.0  \n...                         ...  \n121157                      3.0  \n121158                      5.0  \n121215                     20.0  \n121217                      7.0  \n121219                      0.0  \n\n[22880 rows x 5 columns]",
      "text/html": "<div>\n<style scoped>\n    .dataframe tbody tr th:only-of-type {\n        vertical-align: middle;\n    }\n\n    .dataframe tbody tr th {\n        vertical-align: top;\n    }\n\n    .dataframe thead th {\n        text-align: right;\n    }\n</style>\n<table border=\"1\" class=\"dataframe\">\n  <thead>\n    <tr style=\"text-align: right;\">\n      <th></th>\n      <th>property_type</th>\n      <th>place_name</th>\n      <th>surface_covered_in_m2</th>\n      <th>price</th>\n      <th>surface_uncovered_in_m2</th>\n    </tr>\n  </thead>\n  <tbody>\n    <tr>\n      <th>2</th>\n      <td>apartment</td>\n      <td>Mataderos</td>\n      <td>55.0</td>\n      <td>72000.0</td>\n      <td>0.0</td>\n    </tr>\n    <tr>\n      <th>7</th>\n      <td>apartment</td>\n      <td>Belgrano</td>\n      <td>40.0</td>\n      <td>138000.0</td>\n      <td>5.0</td>\n    </tr>\n    <tr>\n      <th>8</th>\n      <td>apartment</td>\n      <td>Belgrano</td>\n      <td>60.0</td>\n      <td>195000.0</td>\n      <td>5.0</td>\n    </tr>\n    <tr>\n      <th>13</th>\n      <td>apartment</td>\n      <td>Palermo Soho</td>\n      <td>30.0</td>\n      <td>111700.0</td>\n      <td>20.0</td>\n    </tr>\n    <tr>\n      <th>14</th>\n      <td>apartment</td>\n      <td>Palermo Soho</td>\n      <td>31.0</td>\n      <td>147900.0</td>\n      <td>11.0</td>\n    </tr>\n    <tr>\n      <th>...</th>\n      <td>...</td>\n      <td>...</td>\n      <td>...</td>\n      <td>...</td>\n      <td>...</td>\n    </tr>\n    <tr>\n      <th>121157</th>\n      <td>apartment</td>\n      <td>Belgrano</td>\n      <td>35.0</td>\n      <td>128000.0</td>\n      <td>3.0</td>\n    </tr>\n    <tr>\n      <th>121158</th>\n      <td>apartment</td>\n      <td>Recoleta</td>\n      <td>39.0</td>\n      <td>165000.0</td>\n      <td>5.0</td>\n    </tr>\n    <tr>\n      <th>121215</th>\n      <td>apartment</td>\n      <td>Belgrano</td>\n      <td>93.0</td>\n      <td>870000.0</td>\n      <td>20.0</td>\n    </tr>\n    <tr>\n      <th>121217</th>\n      <td>apartment</td>\n      <td>Villa Urquiza</td>\n      <td>39.0</td>\n      <td>131500.0</td>\n      <td>7.0</td>\n    </tr>\n    <tr>\n      <th>121219</th>\n      <td>apartment</td>\n      <td>Capital Federal</td>\n      <td>77.0</td>\n      <td>129000.0</td>\n      <td>0.0</td>\n    </tr>\n  </tbody>\n</table>\n<p>22880 rows × 5 columns</p>\n</div>"
     },
     "execution_count": 43,
     "metadata": {},
     "output_type": "execute_result"
    }
   ],
   "source": [
    "capital_federal_apartment_clean = capital_federal_apartment.dropna()\n",
    "capital_federal_apartment_clean"
   ],
   "metadata": {
    "collapsed": false,
    "pycharm": {
     "name": "#%%\n"
    }
   }
  },
  {
   "cell_type": "code",
   "execution_count": 44,
   "outputs": [
    {
     "data": {
      "text/plain": "                                     column_name  percent_missing\nproperty_type                      property_type              0.0\nplace_name                            place_name              0.0\nsurface_covered_in_m2      surface_covered_in_m2              0.0\nprice                                      price              0.0\nsurface_uncovered_in_m2  surface_uncovered_in_m2              0.0",
      "text/html": "<div>\n<style scoped>\n    .dataframe tbody tr th:only-of-type {\n        vertical-align: middle;\n    }\n\n    .dataframe tbody tr th {\n        vertical-align: top;\n    }\n\n    .dataframe thead th {\n        text-align: right;\n    }\n</style>\n<table border=\"1\" class=\"dataframe\">\n  <thead>\n    <tr style=\"text-align: right;\">\n      <th></th>\n      <th>column_name</th>\n      <th>percent_missing</th>\n    </tr>\n  </thead>\n  <tbody>\n    <tr>\n      <th>property_type</th>\n      <td>property_type</td>\n      <td>0.0</td>\n    </tr>\n    <tr>\n      <th>place_name</th>\n      <td>place_name</td>\n      <td>0.0</td>\n    </tr>\n    <tr>\n      <th>surface_covered_in_m2</th>\n      <td>surface_covered_in_m2</td>\n      <td>0.0</td>\n    </tr>\n    <tr>\n      <th>price</th>\n      <td>price</td>\n      <td>0.0</td>\n    </tr>\n    <tr>\n      <th>surface_uncovered_in_m2</th>\n      <td>surface_uncovered_in_m2</td>\n      <td>0.0</td>\n    </tr>\n  </tbody>\n</table>\n</div>"
     },
     "execution_count": 44,
     "metadata": {},
     "output_type": "execute_result"
    }
   ],
   "source": [
    "percent_missing = capital_federal_apartment_clean.isnull().sum() * 100 / len(capital_federal_apartment_clean)\n",
    "missing_value_df = pd.DataFrame({'column_name': capital_federal_apartment_clean.columns,\n",
    "                                 'percent_missing': percent_missing})\n",
    "\n",
    "missing_value_df.sort_values('percent_missing', inplace=True, ascending=False)\n",
    "missing_value_df"
   ],
   "metadata": {
    "collapsed": false,
    "pycharm": {
     "name": "#%%\n"
    }
   }
  },
  {
   "cell_type": "code",
   "execution_count": 45,
   "outputs": [
    {
     "name": "stderr",
     "output_type": "stream",
     "text": [
      "C:\\Users\\Juan\\AppData\\Local\\Temp\\ipykernel_18232\\3058871001.py:1: SettingWithCopyWarning: \n",
      "A value is trying to be set on a copy of a slice from a DataFrame\n",
      "\n",
      "See the caveats in the documentation: https://pandas.pydata.org/pandas-docs/stable/user_guide/indexing.html#returning-a-view-versus-a-copy\n",
      "  capital_federal_apartment_clean.drop('property_type', inplace=True, axis=1)\n"
     ]
    },
    {
     "data": {
      "text/plain": "             place_name  surface_covered_in_m2     price  \\\n2             Mataderos                   55.0   72000.0   \n7              Belgrano                   40.0  138000.0   \n8              Belgrano                   60.0  195000.0   \n13         Palermo Soho                   30.0  111700.0   \n14         Palermo Soho                   31.0  147900.0   \n...                 ...                    ...       ...   \n121157         Belgrano                   35.0  128000.0   \n121158         Recoleta                   39.0  165000.0   \n121215         Belgrano                   93.0  870000.0   \n121217    Villa Urquiza                   39.0  131500.0   \n121219  Capital Federal                   77.0  129000.0   \n\n        surface_uncovered_in_m2  \n2                           0.0  \n7                           5.0  \n8                           5.0  \n13                         20.0  \n14                         11.0  \n...                         ...  \n121157                      3.0  \n121158                      5.0  \n121215                     20.0  \n121217                      7.0  \n121219                      0.0  \n\n[22880 rows x 4 columns]",
      "text/html": "<div>\n<style scoped>\n    .dataframe tbody tr th:only-of-type {\n        vertical-align: middle;\n    }\n\n    .dataframe tbody tr th {\n        vertical-align: top;\n    }\n\n    .dataframe thead th {\n        text-align: right;\n    }\n</style>\n<table border=\"1\" class=\"dataframe\">\n  <thead>\n    <tr style=\"text-align: right;\">\n      <th></th>\n      <th>place_name</th>\n      <th>surface_covered_in_m2</th>\n      <th>price</th>\n      <th>surface_uncovered_in_m2</th>\n    </tr>\n  </thead>\n  <tbody>\n    <tr>\n      <th>2</th>\n      <td>Mataderos</td>\n      <td>55.0</td>\n      <td>72000.0</td>\n      <td>0.0</td>\n    </tr>\n    <tr>\n      <th>7</th>\n      <td>Belgrano</td>\n      <td>40.0</td>\n      <td>138000.0</td>\n      <td>5.0</td>\n    </tr>\n    <tr>\n      <th>8</th>\n      <td>Belgrano</td>\n      <td>60.0</td>\n      <td>195000.0</td>\n      <td>5.0</td>\n    </tr>\n    <tr>\n      <th>13</th>\n      <td>Palermo Soho</td>\n      <td>30.0</td>\n      <td>111700.0</td>\n      <td>20.0</td>\n    </tr>\n    <tr>\n      <th>14</th>\n      <td>Palermo Soho</td>\n      <td>31.0</td>\n      <td>147900.0</td>\n      <td>11.0</td>\n    </tr>\n    <tr>\n      <th>...</th>\n      <td>...</td>\n      <td>...</td>\n      <td>...</td>\n      <td>...</td>\n    </tr>\n    <tr>\n      <th>121157</th>\n      <td>Belgrano</td>\n      <td>35.0</td>\n      <td>128000.0</td>\n      <td>3.0</td>\n    </tr>\n    <tr>\n      <th>121158</th>\n      <td>Recoleta</td>\n      <td>39.0</td>\n      <td>165000.0</td>\n      <td>5.0</td>\n    </tr>\n    <tr>\n      <th>121215</th>\n      <td>Belgrano</td>\n      <td>93.0</td>\n      <td>870000.0</td>\n      <td>20.0</td>\n    </tr>\n    <tr>\n      <th>121217</th>\n      <td>Villa Urquiza</td>\n      <td>39.0</td>\n      <td>131500.0</td>\n      <td>7.0</td>\n    </tr>\n    <tr>\n      <th>121219</th>\n      <td>Capital Federal</td>\n      <td>77.0</td>\n      <td>129000.0</td>\n      <td>0.0</td>\n    </tr>\n  </tbody>\n</table>\n<p>22880 rows × 4 columns</p>\n</div>"
     },
     "execution_count": 45,
     "metadata": {},
     "output_type": "execute_result"
    }
   ],
   "source": [
    "capital_federal_apartment_clean.drop('property_type', inplace=True, axis=1)\n",
    "capital_federal_apartment_clean"
   ],
   "metadata": {
    "collapsed": false,
    "pycharm": {
     "name": "#%%\n"
    }
   }
  },
  {
   "cell_type": "code",
   "execution_count": 46,
   "outputs": [
    {
     "data": {
      "text/plain": "        Barrio_Abasto  Barrio_Agronomía  Barrio_Almagro  Barrio_Balvanera  \\\n2                   0                 0               0                 0   \n7                   0                 0               0                 0   \n8                   0                 0               0                 0   \n13                  0                 0               0                 0   \n14                  0                 0               0                 0   \n...               ...               ...             ...               ...   \n121157              0                 0               0                 0   \n121158              0                 0               0                 0   \n121215              0                 0               0                 0   \n121217              0                 0               0                 0   \n121219              0                 0               0                 0   \n\n        Barrio_Barracas  Barrio_Barrio Norte  Barrio_Belgrano  Barrio_Boca  \\\n2                     0                    0                0            0   \n7                     0                    0                1            0   \n8                     0                    0                1            0   \n13                    0                    0                0            0   \n14                    0                    0                0            0   \n...                 ...                  ...              ...          ...   \n121157                0                    0                1            0   \n121158                0                    0                0            0   \n121215                0                    0                1            0   \n121217                0                    0                0            0   \n121219                0                    0                0            0   \n\n        Barrio_Boedo  Barrio_Caballito  ...  Barrio_Villa Lugano  \\\n2                  0                 0  ...                    0   \n7                  0                 0  ...                    0   \n8                  0                 0  ...                    0   \n13                 0                 0  ...                    0   \n14                 0                 0  ...                    0   \n...              ...               ...  ...                  ...   \n121157             0                 0  ...                    0   \n121158             0                 0  ...                    0   \n121215             0                 0  ...                    0   \n121217             0                 0  ...                    0   \n121219             0                 0  ...                    0   \n\n        Barrio_Villa Luro  Barrio_Villa Ortuzar  Barrio_Villa Pueyrredón  \\\n2                       0                     0                        0   \n7                       0                     0                        0   \n8                       0                     0                        0   \n13                      0                     0                        0   \n14                      0                     0                        0   \n...                   ...                   ...                      ...   \n121157                  0                     0                        0   \n121158                  0                     0                        0   \n121215                  0                     0                        0   \n121217                  0                     0                        0   \n121219                  0                     0                        0   \n\n        Barrio_Villa Real  Barrio_Villa Riachuelo  Barrio_Villa Santa Rita  \\\n2                       0                       0                        0   \n7                       0                       0                        0   \n8                       0                       0                        0   \n13                      0                       0                        0   \n14                      0                       0                        0   \n...                   ...                     ...                      ...   \n121157                  0                       0                        0   \n121158                  0                       0                        0   \n121215                  0                       0                        0   \n121217                  0                       0                        0   \n121219                  0                       0                        0   \n\n        Barrio_Villa Soldati  Barrio_Villa Urquiza  Barrio_Villa del Parque  \n2                          0                     0                        0  \n7                          0                     0                        0  \n8                          0                     0                        0  \n13                         0                     0                        0  \n14                         0                     0                        0  \n...                      ...                   ...                      ...  \n121157                     0                     0                        0  \n121158                     0                     0                        0  \n121215                     0                     0                        0  \n121217                     0                     1                        0  \n121219                     0                     0                        0  \n\n[22880 rows x 62 columns]",
      "text/html": "<div>\n<style scoped>\n    .dataframe tbody tr th:only-of-type {\n        vertical-align: middle;\n    }\n\n    .dataframe tbody tr th {\n        vertical-align: top;\n    }\n\n    .dataframe thead th {\n        text-align: right;\n    }\n</style>\n<table border=\"1\" class=\"dataframe\">\n  <thead>\n    <tr style=\"text-align: right;\">\n      <th></th>\n      <th>Barrio_Abasto</th>\n      <th>Barrio_Agronomía</th>\n      <th>Barrio_Almagro</th>\n      <th>Barrio_Balvanera</th>\n      <th>Barrio_Barracas</th>\n      <th>Barrio_Barrio Norte</th>\n      <th>Barrio_Belgrano</th>\n      <th>Barrio_Boca</th>\n      <th>Barrio_Boedo</th>\n      <th>Barrio_Caballito</th>\n      <th>...</th>\n      <th>Barrio_Villa Lugano</th>\n      <th>Barrio_Villa Luro</th>\n      <th>Barrio_Villa Ortuzar</th>\n      <th>Barrio_Villa Pueyrredón</th>\n      <th>Barrio_Villa Real</th>\n      <th>Barrio_Villa Riachuelo</th>\n      <th>Barrio_Villa Santa Rita</th>\n      <th>Barrio_Villa Soldati</th>\n      <th>Barrio_Villa Urquiza</th>\n      <th>Barrio_Villa del Parque</th>\n    </tr>\n  </thead>\n  <tbody>\n    <tr>\n      <th>2</th>\n      <td>0</td>\n      <td>0</td>\n      <td>0</td>\n      <td>0</td>\n      <td>0</td>\n      <td>0</td>\n      <td>0</td>\n      <td>0</td>\n      <td>0</td>\n      <td>0</td>\n      <td>...</td>\n      <td>0</td>\n      <td>0</td>\n      <td>0</td>\n      <td>0</td>\n      <td>0</td>\n      <td>0</td>\n      <td>0</td>\n      <td>0</td>\n      <td>0</td>\n      <td>0</td>\n    </tr>\n    <tr>\n      <th>7</th>\n      <td>0</td>\n      <td>0</td>\n      <td>0</td>\n      <td>0</td>\n      <td>0</td>\n      <td>0</td>\n      <td>1</td>\n      <td>0</td>\n      <td>0</td>\n      <td>0</td>\n      <td>...</td>\n      <td>0</td>\n      <td>0</td>\n      <td>0</td>\n      <td>0</td>\n      <td>0</td>\n      <td>0</td>\n      <td>0</td>\n      <td>0</td>\n      <td>0</td>\n      <td>0</td>\n    </tr>\n    <tr>\n      <th>8</th>\n      <td>0</td>\n      <td>0</td>\n      <td>0</td>\n      <td>0</td>\n      <td>0</td>\n      <td>0</td>\n      <td>1</td>\n      <td>0</td>\n      <td>0</td>\n      <td>0</td>\n      <td>...</td>\n      <td>0</td>\n      <td>0</td>\n      <td>0</td>\n      <td>0</td>\n      <td>0</td>\n      <td>0</td>\n      <td>0</td>\n      <td>0</td>\n      <td>0</td>\n      <td>0</td>\n    </tr>\n    <tr>\n      <th>13</th>\n      <td>0</td>\n      <td>0</td>\n      <td>0</td>\n      <td>0</td>\n      <td>0</td>\n      <td>0</td>\n      <td>0</td>\n      <td>0</td>\n      <td>0</td>\n      <td>0</td>\n      <td>...</td>\n      <td>0</td>\n      <td>0</td>\n      <td>0</td>\n      <td>0</td>\n      <td>0</td>\n      <td>0</td>\n      <td>0</td>\n      <td>0</td>\n      <td>0</td>\n      <td>0</td>\n    </tr>\n    <tr>\n      <th>14</th>\n      <td>0</td>\n      <td>0</td>\n      <td>0</td>\n      <td>0</td>\n      <td>0</td>\n      <td>0</td>\n      <td>0</td>\n      <td>0</td>\n      <td>0</td>\n      <td>0</td>\n      <td>...</td>\n      <td>0</td>\n      <td>0</td>\n      <td>0</td>\n      <td>0</td>\n      <td>0</td>\n      <td>0</td>\n      <td>0</td>\n      <td>0</td>\n      <td>0</td>\n      <td>0</td>\n    </tr>\n    <tr>\n      <th>...</th>\n      <td>...</td>\n      <td>...</td>\n      <td>...</td>\n      <td>...</td>\n      <td>...</td>\n      <td>...</td>\n      <td>...</td>\n      <td>...</td>\n      <td>...</td>\n      <td>...</td>\n      <td>...</td>\n      <td>...</td>\n      <td>...</td>\n      <td>...</td>\n      <td>...</td>\n      <td>...</td>\n      <td>...</td>\n      <td>...</td>\n      <td>...</td>\n      <td>...</td>\n      <td>...</td>\n    </tr>\n    <tr>\n      <th>121157</th>\n      <td>0</td>\n      <td>0</td>\n      <td>0</td>\n      <td>0</td>\n      <td>0</td>\n      <td>0</td>\n      <td>1</td>\n      <td>0</td>\n      <td>0</td>\n      <td>0</td>\n      <td>...</td>\n      <td>0</td>\n      <td>0</td>\n      <td>0</td>\n      <td>0</td>\n      <td>0</td>\n      <td>0</td>\n      <td>0</td>\n      <td>0</td>\n      <td>0</td>\n      <td>0</td>\n    </tr>\n    <tr>\n      <th>121158</th>\n      <td>0</td>\n      <td>0</td>\n      <td>0</td>\n      <td>0</td>\n      <td>0</td>\n      <td>0</td>\n      <td>0</td>\n      <td>0</td>\n      <td>0</td>\n      <td>0</td>\n      <td>...</td>\n      <td>0</td>\n      <td>0</td>\n      <td>0</td>\n      <td>0</td>\n      <td>0</td>\n      <td>0</td>\n      <td>0</td>\n      <td>0</td>\n      <td>0</td>\n      <td>0</td>\n    </tr>\n    <tr>\n      <th>121215</th>\n      <td>0</td>\n      <td>0</td>\n      <td>0</td>\n      <td>0</td>\n      <td>0</td>\n      <td>0</td>\n      <td>1</td>\n      <td>0</td>\n      <td>0</td>\n      <td>0</td>\n      <td>...</td>\n      <td>0</td>\n      <td>0</td>\n      <td>0</td>\n      <td>0</td>\n      <td>0</td>\n      <td>0</td>\n      <td>0</td>\n      <td>0</td>\n      <td>0</td>\n      <td>0</td>\n    </tr>\n    <tr>\n      <th>121217</th>\n      <td>0</td>\n      <td>0</td>\n      <td>0</td>\n      <td>0</td>\n      <td>0</td>\n      <td>0</td>\n      <td>0</td>\n      <td>0</td>\n      <td>0</td>\n      <td>0</td>\n      <td>...</td>\n      <td>0</td>\n      <td>0</td>\n      <td>0</td>\n      <td>0</td>\n      <td>0</td>\n      <td>0</td>\n      <td>0</td>\n      <td>0</td>\n      <td>1</td>\n      <td>0</td>\n    </tr>\n    <tr>\n      <th>121219</th>\n      <td>0</td>\n      <td>0</td>\n      <td>0</td>\n      <td>0</td>\n      <td>0</td>\n      <td>0</td>\n      <td>0</td>\n      <td>0</td>\n      <td>0</td>\n      <td>0</td>\n      <td>...</td>\n      <td>0</td>\n      <td>0</td>\n      <td>0</td>\n      <td>0</td>\n      <td>0</td>\n      <td>0</td>\n      <td>0</td>\n      <td>0</td>\n      <td>0</td>\n      <td>0</td>\n    </tr>\n  </tbody>\n</table>\n<p>22880 rows × 62 columns</p>\n</div>"
     },
     "execution_count": 46,
     "metadata": {},
     "output_type": "execute_result"
    }
   ],
   "source": [
    "dummies = pd.get_dummies(capital_federal_apartment_clean['place_name']).rename(columns=lambda x: 'Barrio_' + str(x))\n",
    "dummies\n",
    "\n",
    "# X = pd.concat([dummies, std_df], axis = 1)"
   ],
   "metadata": {
    "collapsed": false,
    "pycharm": {
     "name": "#%%\n"
    }
   }
  },
  {
   "cell_type": "code",
   "execution_count": 47,
   "outputs": [
    {
     "data": {
      "text/plain": "        surface_uncovered_in_m2_std  surface_covered_in_m2_std\n2                         -0.251288                  -0.020559\n7                         -0.089812                  -0.032630\n8                         -0.089812                  -0.016536\n13                         0.394614                  -0.040677\n14                         0.103958                  -0.039873\n...                             ...                        ...\n121157                    -0.154402                  -0.036654\n121158                    -0.089812                  -0.033435\n121215                     0.394614                   0.010020\n121217                    -0.025222                  -0.033435\n121219                    -0.251288                  -0.002856\n\n[22880 rows x 2 columns]",
      "text/html": "<div>\n<style scoped>\n    .dataframe tbody tr th:only-of-type {\n        vertical-align: middle;\n    }\n\n    .dataframe tbody tr th {\n        vertical-align: top;\n    }\n\n    .dataframe thead th {\n        text-align: right;\n    }\n</style>\n<table border=\"1\" class=\"dataframe\">\n  <thead>\n    <tr style=\"text-align: right;\">\n      <th></th>\n      <th>surface_uncovered_in_m2_std</th>\n      <th>surface_covered_in_m2_std</th>\n    </tr>\n  </thead>\n  <tbody>\n    <tr>\n      <th>2</th>\n      <td>-0.251288</td>\n      <td>-0.020559</td>\n    </tr>\n    <tr>\n      <th>7</th>\n      <td>-0.089812</td>\n      <td>-0.032630</td>\n    </tr>\n    <tr>\n      <th>8</th>\n      <td>-0.089812</td>\n      <td>-0.016536</td>\n    </tr>\n    <tr>\n      <th>13</th>\n      <td>0.394614</td>\n      <td>-0.040677</td>\n    </tr>\n    <tr>\n      <th>14</th>\n      <td>0.103958</td>\n      <td>-0.039873</td>\n    </tr>\n    <tr>\n      <th>...</th>\n      <td>...</td>\n      <td>...</td>\n    </tr>\n    <tr>\n      <th>121157</th>\n      <td>-0.154402</td>\n      <td>-0.036654</td>\n    </tr>\n    <tr>\n      <th>121158</th>\n      <td>-0.089812</td>\n      <td>-0.033435</td>\n    </tr>\n    <tr>\n      <th>121215</th>\n      <td>0.394614</td>\n      <td>0.010020</td>\n    </tr>\n    <tr>\n      <th>121217</th>\n      <td>-0.025222</td>\n      <td>-0.033435</td>\n    </tr>\n    <tr>\n      <th>121219</th>\n      <td>-0.251288</td>\n      <td>-0.002856</td>\n    </tr>\n  </tbody>\n</table>\n<p>22880 rows × 2 columns</p>\n</div>"
     },
     "execution_count": 47,
     "metadata": {},
     "output_type": "execute_result"
    }
   ],
   "source": [
    "numericals = ['surface_uncovered_in_m2', 'surface_covered_in_m2']\n",
    "\n",
    "X = capital_federal_apartment_clean[numericals]\n",
    "\n",
    "scaler = StandardScaler()\n",
    "scaler.fit(X)\n",
    "\n",
    "std_numerical_data = scaler.transform(X)\n",
    "std_df = pd.DataFrame(std_numerical_data, index=capital_federal_apartment_clean.index)\n",
    "std_df.columns = [i + '_std' for i in numericals]\n",
    "\n",
    "std_df\n",
    "#data_scaled = pd.DataFrame(scaled_features, index=df.index, columns=df.columns)\n"
   ],
   "metadata": {
    "collapsed": false,
    "pycharm": {
     "name": "#%%\n"
    }
   }
  },
  {
   "cell_type": "code",
   "execution_count": 48,
   "outputs": [
    {
     "data": {
      "text/plain": "        Barrio_Abasto  Barrio_Agronomía  Barrio_Almagro  Barrio_Balvanera  \\\n2                   0                 0               0                 0   \n7                   0                 0               0                 0   \n8                   0                 0               0                 0   \n13                  0                 0               0                 0   \n14                  0                 0               0                 0   \n...               ...               ...             ...               ...   \n121157              0                 0               0                 0   \n121158              0                 0               0                 0   \n121215              0                 0               0                 0   \n121217              0                 0               0                 0   \n121219              0                 0               0                 0   \n\n        Barrio_Barracas  Barrio_Barrio Norte  Barrio_Belgrano  Barrio_Boca  \\\n2                     0                    0                0            0   \n7                     0                    0                1            0   \n8                     0                    0                1            0   \n13                    0                    0                0            0   \n14                    0                    0                0            0   \n...                 ...                  ...              ...          ...   \n121157                0                    0                1            0   \n121158                0                    0                0            0   \n121215                0                    0                1            0   \n121217                0                    0                0            0   \n121219                0                    0                0            0   \n\n        Barrio_Boedo  Barrio_Caballito  ...  Barrio_Villa Ortuzar  \\\n2                  0                 0  ...                     0   \n7                  0                 0  ...                     0   \n8                  0                 0  ...                     0   \n13                 0                 0  ...                     0   \n14                 0                 0  ...                     0   \n...              ...               ...  ...                   ...   \n121157             0                 0  ...                     0   \n121158             0                 0  ...                     0   \n121215             0                 0  ...                     0   \n121217             0                 0  ...                     0   \n121219             0                 0  ...                     0   \n\n        Barrio_Villa Pueyrredón  Barrio_Villa Real  Barrio_Villa Riachuelo  \\\n2                             0                  0                       0   \n7                             0                  0                       0   \n8                             0                  0                       0   \n13                            0                  0                       0   \n14                            0                  0                       0   \n...                         ...                ...                     ...   \n121157                        0                  0                       0   \n121158                        0                  0                       0   \n121215                        0                  0                       0   \n121217                        0                  0                       0   \n121219                        0                  0                       0   \n\n        Barrio_Villa Santa Rita  Barrio_Villa Soldati  Barrio_Villa Urquiza  \\\n2                             0                     0                     0   \n7                             0                     0                     0   \n8                             0                     0                     0   \n13                            0                     0                     0   \n14                            0                     0                     0   \n...                         ...                   ...                   ...   \n121157                        0                     0                     0   \n121158                        0                     0                     0   \n121215                        0                     0                     0   \n121217                        0                     0                     1   \n121219                        0                     0                     0   \n\n        Barrio_Villa del Parque  surface_uncovered_in_m2_std  \\\n2                             0                    -0.251288   \n7                             0                    -0.089812   \n8                             0                    -0.089812   \n13                            0                     0.394614   \n14                            0                     0.103958   \n...                         ...                          ...   \n121157                        0                    -0.154402   \n121158                        0                    -0.089812   \n121215                        0                     0.394614   \n121217                        0                    -0.025222   \n121219                        0                    -0.251288   \n\n        surface_covered_in_m2_std  \n2                       -0.020559  \n7                       -0.032630  \n8                       -0.016536  \n13                      -0.040677  \n14                      -0.039873  \n...                           ...  \n121157                  -0.036654  \n121158                  -0.033435  \n121215                   0.010020  \n121217                  -0.033435  \n121219                  -0.002856  \n\n[22880 rows x 64 columns]",
      "text/html": "<div>\n<style scoped>\n    .dataframe tbody tr th:only-of-type {\n        vertical-align: middle;\n    }\n\n    .dataframe tbody tr th {\n        vertical-align: top;\n    }\n\n    .dataframe thead th {\n        text-align: right;\n    }\n</style>\n<table border=\"1\" class=\"dataframe\">\n  <thead>\n    <tr style=\"text-align: right;\">\n      <th></th>\n      <th>Barrio_Abasto</th>\n      <th>Barrio_Agronomía</th>\n      <th>Barrio_Almagro</th>\n      <th>Barrio_Balvanera</th>\n      <th>Barrio_Barracas</th>\n      <th>Barrio_Barrio Norte</th>\n      <th>Barrio_Belgrano</th>\n      <th>Barrio_Boca</th>\n      <th>Barrio_Boedo</th>\n      <th>Barrio_Caballito</th>\n      <th>...</th>\n      <th>Barrio_Villa Ortuzar</th>\n      <th>Barrio_Villa Pueyrredón</th>\n      <th>Barrio_Villa Real</th>\n      <th>Barrio_Villa Riachuelo</th>\n      <th>Barrio_Villa Santa Rita</th>\n      <th>Barrio_Villa Soldati</th>\n      <th>Barrio_Villa Urquiza</th>\n      <th>Barrio_Villa del Parque</th>\n      <th>surface_uncovered_in_m2_std</th>\n      <th>surface_covered_in_m2_std</th>\n    </tr>\n  </thead>\n  <tbody>\n    <tr>\n      <th>2</th>\n      <td>0</td>\n      <td>0</td>\n      <td>0</td>\n      <td>0</td>\n      <td>0</td>\n      <td>0</td>\n      <td>0</td>\n      <td>0</td>\n      <td>0</td>\n      <td>0</td>\n      <td>...</td>\n      <td>0</td>\n      <td>0</td>\n      <td>0</td>\n      <td>0</td>\n      <td>0</td>\n      <td>0</td>\n      <td>0</td>\n      <td>0</td>\n      <td>-0.251288</td>\n      <td>-0.020559</td>\n    </tr>\n    <tr>\n      <th>7</th>\n      <td>0</td>\n      <td>0</td>\n      <td>0</td>\n      <td>0</td>\n      <td>0</td>\n      <td>0</td>\n      <td>1</td>\n      <td>0</td>\n      <td>0</td>\n      <td>0</td>\n      <td>...</td>\n      <td>0</td>\n      <td>0</td>\n      <td>0</td>\n      <td>0</td>\n      <td>0</td>\n      <td>0</td>\n      <td>0</td>\n      <td>0</td>\n      <td>-0.089812</td>\n      <td>-0.032630</td>\n    </tr>\n    <tr>\n      <th>8</th>\n      <td>0</td>\n      <td>0</td>\n      <td>0</td>\n      <td>0</td>\n      <td>0</td>\n      <td>0</td>\n      <td>1</td>\n      <td>0</td>\n      <td>0</td>\n      <td>0</td>\n      <td>...</td>\n      <td>0</td>\n      <td>0</td>\n      <td>0</td>\n      <td>0</td>\n      <td>0</td>\n      <td>0</td>\n      <td>0</td>\n      <td>0</td>\n      <td>-0.089812</td>\n      <td>-0.016536</td>\n    </tr>\n    <tr>\n      <th>13</th>\n      <td>0</td>\n      <td>0</td>\n      <td>0</td>\n      <td>0</td>\n      <td>0</td>\n      <td>0</td>\n      <td>0</td>\n      <td>0</td>\n      <td>0</td>\n      <td>0</td>\n      <td>...</td>\n      <td>0</td>\n      <td>0</td>\n      <td>0</td>\n      <td>0</td>\n      <td>0</td>\n      <td>0</td>\n      <td>0</td>\n      <td>0</td>\n      <td>0.394614</td>\n      <td>-0.040677</td>\n    </tr>\n    <tr>\n      <th>14</th>\n      <td>0</td>\n      <td>0</td>\n      <td>0</td>\n      <td>0</td>\n      <td>0</td>\n      <td>0</td>\n      <td>0</td>\n      <td>0</td>\n      <td>0</td>\n      <td>0</td>\n      <td>...</td>\n      <td>0</td>\n      <td>0</td>\n      <td>0</td>\n      <td>0</td>\n      <td>0</td>\n      <td>0</td>\n      <td>0</td>\n      <td>0</td>\n      <td>0.103958</td>\n      <td>-0.039873</td>\n    </tr>\n    <tr>\n      <th>...</th>\n      <td>...</td>\n      <td>...</td>\n      <td>...</td>\n      <td>...</td>\n      <td>...</td>\n      <td>...</td>\n      <td>...</td>\n      <td>...</td>\n      <td>...</td>\n      <td>...</td>\n      <td>...</td>\n      <td>...</td>\n      <td>...</td>\n      <td>...</td>\n      <td>...</td>\n      <td>...</td>\n      <td>...</td>\n      <td>...</td>\n      <td>...</td>\n      <td>...</td>\n      <td>...</td>\n    </tr>\n    <tr>\n      <th>121157</th>\n      <td>0</td>\n      <td>0</td>\n      <td>0</td>\n      <td>0</td>\n      <td>0</td>\n      <td>0</td>\n      <td>1</td>\n      <td>0</td>\n      <td>0</td>\n      <td>0</td>\n      <td>...</td>\n      <td>0</td>\n      <td>0</td>\n      <td>0</td>\n      <td>0</td>\n      <td>0</td>\n      <td>0</td>\n      <td>0</td>\n      <td>0</td>\n      <td>-0.154402</td>\n      <td>-0.036654</td>\n    </tr>\n    <tr>\n      <th>121158</th>\n      <td>0</td>\n      <td>0</td>\n      <td>0</td>\n      <td>0</td>\n      <td>0</td>\n      <td>0</td>\n      <td>0</td>\n      <td>0</td>\n      <td>0</td>\n      <td>0</td>\n      <td>...</td>\n      <td>0</td>\n      <td>0</td>\n      <td>0</td>\n      <td>0</td>\n      <td>0</td>\n      <td>0</td>\n      <td>0</td>\n      <td>0</td>\n      <td>-0.089812</td>\n      <td>-0.033435</td>\n    </tr>\n    <tr>\n      <th>121215</th>\n      <td>0</td>\n      <td>0</td>\n      <td>0</td>\n      <td>0</td>\n      <td>0</td>\n      <td>0</td>\n      <td>1</td>\n      <td>0</td>\n      <td>0</td>\n      <td>0</td>\n      <td>...</td>\n      <td>0</td>\n      <td>0</td>\n      <td>0</td>\n      <td>0</td>\n      <td>0</td>\n      <td>0</td>\n      <td>0</td>\n      <td>0</td>\n      <td>0.394614</td>\n      <td>0.010020</td>\n    </tr>\n    <tr>\n      <th>121217</th>\n      <td>0</td>\n      <td>0</td>\n      <td>0</td>\n      <td>0</td>\n      <td>0</td>\n      <td>0</td>\n      <td>0</td>\n      <td>0</td>\n      <td>0</td>\n      <td>0</td>\n      <td>...</td>\n      <td>0</td>\n      <td>0</td>\n      <td>0</td>\n      <td>0</td>\n      <td>0</td>\n      <td>0</td>\n      <td>1</td>\n      <td>0</td>\n      <td>-0.025222</td>\n      <td>-0.033435</td>\n    </tr>\n    <tr>\n      <th>121219</th>\n      <td>0</td>\n      <td>0</td>\n      <td>0</td>\n      <td>0</td>\n      <td>0</td>\n      <td>0</td>\n      <td>0</td>\n      <td>0</td>\n      <td>0</td>\n      <td>0</td>\n      <td>...</td>\n      <td>0</td>\n      <td>0</td>\n      <td>0</td>\n      <td>0</td>\n      <td>0</td>\n      <td>0</td>\n      <td>0</td>\n      <td>0</td>\n      <td>-0.251288</td>\n      <td>-0.002856</td>\n    </tr>\n  </tbody>\n</table>\n<p>22880 rows × 64 columns</p>\n</div>"
     },
     "execution_count": 48,
     "metadata": {},
     "output_type": "execute_result"
    }
   ],
   "source": [
    "X = pd.concat([dummies, std_df], axis = 1)\n",
    "X"
   ],
   "metadata": {
    "collapsed": false,
    "pycharm": {
     "name": "#%%\n"
    }
   }
  },
  {
   "cell_type": "code",
   "execution_count": 49,
   "outputs": [],
   "source": [
    "y = capital_federal_apartment_clean.price"
   ],
   "metadata": {
    "collapsed": false,
    "pycharm": {
     "name": "#%%\n"
    }
   }
  },
  {
   "cell_type": "code",
   "execution_count": 50,
   "outputs": [],
   "source": [
    "X_train, X_test, y_train, y_test = train_test_split(X, y, test_size = 0.3, random_state = 117)\n"
   ],
   "metadata": {
    "collapsed": false,
    "pycharm": {
     "name": "#%%\n"
    }
   }
  },
  {
   "cell_type": "code",
   "execution_count": 51,
   "outputs": [
    {
     "data": {
      "text/plain": "<class 'statsmodels.iolib.summary.Summary'>\n\"\"\"\n                            OLS Regression Results                            \n==============================================================================\nDep. Variable:                  price   R-squared:                       0.084\nModel:                            OLS   Adj. R-squared:                  0.081\nMethod:                 Least Squares   F-statistic:                     23.72\nDate:                Tue, 29 Nov 2022   Prob (F-statistic):          1.09e-253\nTime:                        12:49:06   Log-Likelihood:            -2.4260e+05\nNo. Observations:               16016   AIC:                         4.853e+05\nDf Residuals:                   15953   BIC:                         4.858e+05\nDf Model:                          62                                         \nCovariance Type:            nonrobust                                         \n===============================================================================================\n                                  coef    std err          t      P>|t|      [0.025      0.975]\n-----------------------------------------------------------------------------------------------\nconst                        2.831e+05   2.29e+04     12.358      0.000    2.38e+05    3.28e+05\nBarrio_Abasto               -1.165e+05   1.26e+05     -0.923      0.356   -3.64e+05    1.31e+05\nBarrio_Agronomía            -1.447e+05    2.2e+05     -0.657      0.511   -5.77e+05    2.87e+05\nBarrio_Almagro               -5.82e+04   4.38e+04     -1.327      0.184   -1.44e+05    2.77e+04\nBarrio_Balvanera            -1.217e+05   5.15e+04     -2.361      0.018   -2.23e+05   -2.07e+04\nBarrio_Barracas             -1.326e+05   6.83e+04     -1.940      0.052   -2.67e+05    1349.182\nBarrio_Barrio Norte          2.863e+04   4.24e+04      0.675      0.500   -5.45e+04    1.12e+05\nBarrio_Belgrano              3.457e+05   3.25e+04     10.639      0.000    2.82e+05    4.09e+05\nBarrio_Boca                  3.423e+05   8.56e+04      3.999      0.000    1.75e+05     5.1e+05\nBarrio_Boedo                 1.853e+05   4.55e+04      4.076      0.000    9.62e+04    2.74e+05\nBarrio_Caballito            -1.008e+05   3.41e+04     -2.953      0.003   -1.68e+05   -3.39e+04\nBarrio_Capital Federal      -4.028e+04   5.77e+04     -0.698      0.485   -1.53e+05    7.29e+04\nBarrio_Catalinas             1.944e+05   9.04e+05      0.215      0.830   -1.58e+06    1.97e+06\nBarrio_Centro / Microcentro -1.169e+05    8.8e+04     -1.328      0.184   -2.89e+05    5.56e+04\nBarrio_Chacarita            -4.673e+04    8.8e+04     -0.531      0.595   -2.19e+05    1.26e+05\nBarrio_Coghlan              -1319.7650   8.13e+04     -0.016      0.987   -1.61e+05    1.58e+05\nBarrio_Colegiales            1.418e+05   6.98e+04      2.033      0.042    5084.431    2.79e+05\nBarrio_Congreso             -1.105e+05   7.17e+04     -1.542      0.123   -2.51e+05       3e+04\nBarrio_Constitución         -4.796e+04   8.99e+04     -0.533      0.594   -2.24e+05    1.28e+05\nBarrio_Flores               -2.911e+04   4.11e+04     -0.709      0.478    -1.1e+05    5.14e+04\nBarrio_Floresta             -1.399e+05    6.9e+04     -2.029      0.043   -2.75e+05   -4715.816\nBarrio_Las Cañitas          -3799.4664   1.07e+05     -0.036      0.972   -2.13e+05    2.06e+05\nBarrio_Liniers              -1.707e+05    9.6e+04     -1.779      0.075   -3.59e+05    1.74e+04\nBarrio_Mataderos            -1.843e+05   1.13e+05     -1.635      0.102   -4.05e+05    3.67e+04\nBarrio_Monserrat            -1.198e+05   5.68e+04     -2.108      0.035   -2.31e+05   -8407.062\nBarrio_Monte Castro         -1.713e+05   1.82e+05     -0.940      0.347   -5.28e+05    1.86e+05\nBarrio_Nuñez                   2.4e+05   5.05e+04      4.750      0.000    1.41e+05    3.39e+05\nBarrio_Once                 -1.643e+04   9.85e+04     -0.167      0.868   -2.09e+05    1.77e+05\nBarrio_Palermo               1.221e+05   3.28e+04      3.721      0.000    5.78e+04    1.86e+05\nBarrio_Palermo Chico         5.748e+05   8.56e+04      6.713      0.000    4.07e+05    7.43e+05\nBarrio_Palermo Hollywood    -8116.6699   5.79e+04     -0.140      0.888   -1.22e+05    1.05e+05\nBarrio_Palermo Soho         -8.944e+04   6.94e+04     -1.288      0.198   -2.26e+05    4.67e+04\nBarrio_Palermo Viejo         1.821e+05   1.98e+05      0.917      0.359   -2.07e+05    5.71e+05\nBarrio_Parque Avellaneda    -1.409e+05   2.14e+05     -0.658      0.511   -5.61e+05    2.79e+05\nBarrio_Parque Centenario    -1.059e+05   1.45e+05     -0.732      0.464   -3.89e+05    1.78e+05\nBarrio_Parque Chacabuco      1.497e+05   1.31e+05      1.142      0.254   -1.07e+05    4.07e+05\nBarrio_Parque Chas          -1.473e+05   1.98e+05     -0.742      0.458   -5.36e+05    2.42e+05\nBarrio_Parque Patricios     -4.426e+04   8.08e+04     -0.548      0.584   -2.03e+05    1.14e+05\nBarrio_Paternal              1.372e+05   1.13e+05      1.217      0.224   -8.38e+04    3.58e+05\nBarrio_Pompeya              -1.261e+05   2.62e+05     -0.482      0.630   -6.39e+05    3.87e+05\nBarrio_Puerto Madero         5.678e+05   5.43e+04     10.459      0.000    4.61e+05    6.74e+05\nBarrio_Recoleta              1.397e+05   3.82e+04      3.653      0.000    6.47e+04    2.15e+05\nBarrio_Retiro                4.736e+05   8.22e+04      5.761      0.000    3.12e+05    6.35e+05\nBarrio_Saavedra             -1.427e+05   5.74e+04     -2.486      0.013   -2.55e+05   -3.02e+04\nBarrio_San Cristobal         1.746e+05    5.5e+04      3.176      0.001    6.68e+04    2.82e+05\nBarrio_San Nicolás          -1.248e+05   9.15e+04     -1.364      0.173   -3.04e+05    5.46e+04\nBarrio_San Telmo             3.991e+05   4.05e+04      9.860      0.000     3.2e+05    4.78e+05\nBarrio_Tribunales           -1.027e+05   1.37e+05     -0.751      0.452    -3.7e+05    1.65e+05\nBarrio_Velez Sarsfield      -1.353e+05   3.42e+05     -0.395      0.693   -8.06e+05    5.36e+05\nBarrio_Versalles            -1.831e+05   2.73e+05     -0.670      0.503   -7.19e+05    3.53e+05\nBarrio_Villa Crespo          1.482e+04   4.18e+04      0.354      0.723   -6.72e+04    9.68e+04\nBarrio_Villa Devoto         -1.243e+05   7.42e+04     -1.675      0.094    -2.7e+05    2.11e+04\nBarrio_Villa General Mitre  -1.734e+05    1.9e+05     -0.914      0.361   -5.45e+05    1.99e+05\nBarrio_Villa Lugano          -1.22e+05   1.31e+05     -0.930      0.352   -3.79e+05    1.35e+05\nBarrio_Villa Luro           -8.478e+04   7.17e+04     -1.183      0.237   -2.25e+05    5.57e+04\nBarrio_Villa Ortuzar        -1.511e+05   1.35e+05     -1.118      0.264   -4.16e+05    1.14e+05\nBarrio_Villa Pueyrredón     -1.442e+05    1.1e+05     -1.316      0.188   -3.59e+05    7.07e+04\nBarrio_Villa Real           -1.773e+05   4.05e+05     -0.438      0.661   -9.71e+05    6.16e+05\nBarrio_Villa Riachuelo       8.119e-11   4.29e-11      1.891      0.059   -2.95e-12    1.65e-10\nBarrio_Villa Santa Rita     -1.126e+05   2.03e+05     -0.554      0.580   -5.11e+05    2.86e+05\nBarrio_Villa Soldati         9101.7974    3.7e+05      0.025      0.980   -7.15e+05    7.33e+05\nBarrio_Villa Urquiza         2.641e+05   3.87e+04      6.816      0.000    1.88e+05     3.4e+05\nBarrio_Villa del Parque     -9.022e+04   6.35e+04     -1.422      0.155   -2.15e+05    3.42e+04\nsurface_uncovered_in_m2_std  3.055e+05   1.13e+04     26.989      0.000    2.83e+05    3.28e+05\nsurface_covered_in_m2_std    7767.9572   6092.079      1.275      0.202   -4173.204    1.97e+04\n==============================================================================\nOmnibus:                    35224.783   Durbin-Watson:                   2.008\nProb(Omnibus):                  0.000   Jarque-Bera (JB):        441621198.456\nSkew:                          19.807   Prob(JB):                         0.00\nKurtosis:                     815.527   Cond. No.                     1.19e+16\n==============================================================================\n\nNotes:\n[1] Standard Errors assume that the covariance matrix of the errors is correctly specified.\n[2] The smallest eigenvalue is 1.6e-28. This might indicate that there are\nstrong multicollinearity problems or that the design matrix is singular.\n\"\"\"",
      "text/html": "<table class=\"simpletable\">\n<caption>OLS Regression Results</caption>\n<tr>\n  <th>Dep. Variable:</th>          <td>price</td>      <th>  R-squared:         </th>  <td>   0.084</td>  \n</tr>\n<tr>\n  <th>Model:</th>                   <td>OLS</td>       <th>  Adj. R-squared:    </th>  <td>   0.081</td>  \n</tr>\n<tr>\n  <th>Method:</th>             <td>Least Squares</td>  <th>  F-statistic:       </th>  <td>   23.72</td>  \n</tr>\n<tr>\n  <th>Date:</th>             <td>Tue, 29 Nov 2022</td> <th>  Prob (F-statistic):</th>  <td>1.09e-253</td> \n</tr>\n<tr>\n  <th>Time:</th>                 <td>12:49:06</td>     <th>  Log-Likelihood:    </th> <td>-2.4260e+05</td>\n</tr>\n<tr>\n  <th>No. Observations:</th>      <td> 16016</td>      <th>  AIC:               </th>  <td>4.853e+05</td> \n</tr>\n<tr>\n  <th>Df Residuals:</th>          <td> 15953</td>      <th>  BIC:               </th>  <td>4.858e+05</td> \n</tr>\n<tr>\n  <th>Df Model:</th>              <td>    62</td>      <th>                     </th>      <td> </td>     \n</tr>\n<tr>\n  <th>Covariance Type:</th>      <td>nonrobust</td>    <th>                     </th>      <td> </td>     \n</tr>\n</table>\n<table class=\"simpletable\">\n<tr>\n               <td></td>                  <th>coef</th>     <th>std err</th>      <th>t</th>      <th>P>|t|</th>  <th>[0.025</th>    <th>0.975]</th>  \n</tr>\n<tr>\n  <th>const</th>                       <td> 2.831e+05</td> <td> 2.29e+04</td> <td>   12.358</td> <td> 0.000</td> <td> 2.38e+05</td> <td> 3.28e+05</td>\n</tr>\n<tr>\n  <th>Barrio_Abasto</th>               <td>-1.165e+05</td> <td> 1.26e+05</td> <td>   -0.923</td> <td> 0.356</td> <td>-3.64e+05</td> <td> 1.31e+05</td>\n</tr>\n<tr>\n  <th>Barrio_Agronomía</th>            <td>-1.447e+05</td> <td>  2.2e+05</td> <td>   -0.657</td> <td> 0.511</td> <td>-5.77e+05</td> <td> 2.87e+05</td>\n</tr>\n<tr>\n  <th>Barrio_Almagro</th>              <td> -5.82e+04</td> <td> 4.38e+04</td> <td>   -1.327</td> <td> 0.184</td> <td>-1.44e+05</td> <td> 2.77e+04</td>\n</tr>\n<tr>\n  <th>Barrio_Balvanera</th>            <td>-1.217e+05</td> <td> 5.15e+04</td> <td>   -2.361</td> <td> 0.018</td> <td>-2.23e+05</td> <td>-2.07e+04</td>\n</tr>\n<tr>\n  <th>Barrio_Barracas</th>             <td>-1.326e+05</td> <td> 6.83e+04</td> <td>   -1.940</td> <td> 0.052</td> <td>-2.67e+05</td> <td> 1349.182</td>\n</tr>\n<tr>\n  <th>Barrio_Barrio Norte</th>         <td> 2.863e+04</td> <td> 4.24e+04</td> <td>    0.675</td> <td> 0.500</td> <td>-5.45e+04</td> <td> 1.12e+05</td>\n</tr>\n<tr>\n  <th>Barrio_Belgrano</th>             <td> 3.457e+05</td> <td> 3.25e+04</td> <td>   10.639</td> <td> 0.000</td> <td> 2.82e+05</td> <td> 4.09e+05</td>\n</tr>\n<tr>\n  <th>Barrio_Boca</th>                 <td> 3.423e+05</td> <td> 8.56e+04</td> <td>    3.999</td> <td> 0.000</td> <td> 1.75e+05</td> <td>  5.1e+05</td>\n</tr>\n<tr>\n  <th>Barrio_Boedo</th>                <td> 1.853e+05</td> <td> 4.55e+04</td> <td>    4.076</td> <td> 0.000</td> <td> 9.62e+04</td> <td> 2.74e+05</td>\n</tr>\n<tr>\n  <th>Barrio_Caballito</th>            <td>-1.008e+05</td> <td> 3.41e+04</td> <td>   -2.953</td> <td> 0.003</td> <td>-1.68e+05</td> <td>-3.39e+04</td>\n</tr>\n<tr>\n  <th>Barrio_Capital Federal</th>      <td>-4.028e+04</td> <td> 5.77e+04</td> <td>   -0.698</td> <td> 0.485</td> <td>-1.53e+05</td> <td> 7.29e+04</td>\n</tr>\n<tr>\n  <th>Barrio_Catalinas</th>            <td> 1.944e+05</td> <td> 9.04e+05</td> <td>    0.215</td> <td> 0.830</td> <td>-1.58e+06</td> <td> 1.97e+06</td>\n</tr>\n<tr>\n  <th>Barrio_Centro / Microcentro</th> <td>-1.169e+05</td> <td>  8.8e+04</td> <td>   -1.328</td> <td> 0.184</td> <td>-2.89e+05</td> <td> 5.56e+04</td>\n</tr>\n<tr>\n  <th>Barrio_Chacarita</th>            <td>-4.673e+04</td> <td>  8.8e+04</td> <td>   -0.531</td> <td> 0.595</td> <td>-2.19e+05</td> <td> 1.26e+05</td>\n</tr>\n<tr>\n  <th>Barrio_Coghlan</th>              <td>-1319.7650</td> <td> 8.13e+04</td> <td>   -0.016</td> <td> 0.987</td> <td>-1.61e+05</td> <td> 1.58e+05</td>\n</tr>\n<tr>\n  <th>Barrio_Colegiales</th>           <td> 1.418e+05</td> <td> 6.98e+04</td> <td>    2.033</td> <td> 0.042</td> <td> 5084.431</td> <td> 2.79e+05</td>\n</tr>\n<tr>\n  <th>Barrio_Congreso</th>             <td>-1.105e+05</td> <td> 7.17e+04</td> <td>   -1.542</td> <td> 0.123</td> <td>-2.51e+05</td> <td>    3e+04</td>\n</tr>\n<tr>\n  <th>Barrio_Constitución</th>         <td>-4.796e+04</td> <td> 8.99e+04</td> <td>   -0.533</td> <td> 0.594</td> <td>-2.24e+05</td> <td> 1.28e+05</td>\n</tr>\n<tr>\n  <th>Barrio_Flores</th>               <td>-2.911e+04</td> <td> 4.11e+04</td> <td>   -0.709</td> <td> 0.478</td> <td> -1.1e+05</td> <td> 5.14e+04</td>\n</tr>\n<tr>\n  <th>Barrio_Floresta</th>             <td>-1.399e+05</td> <td>  6.9e+04</td> <td>   -2.029</td> <td> 0.043</td> <td>-2.75e+05</td> <td>-4715.816</td>\n</tr>\n<tr>\n  <th>Barrio_Las Cañitas</th>          <td>-3799.4664</td> <td> 1.07e+05</td> <td>   -0.036</td> <td> 0.972</td> <td>-2.13e+05</td> <td> 2.06e+05</td>\n</tr>\n<tr>\n  <th>Barrio_Liniers</th>              <td>-1.707e+05</td> <td>  9.6e+04</td> <td>   -1.779</td> <td> 0.075</td> <td>-3.59e+05</td> <td> 1.74e+04</td>\n</tr>\n<tr>\n  <th>Barrio_Mataderos</th>            <td>-1.843e+05</td> <td> 1.13e+05</td> <td>   -1.635</td> <td> 0.102</td> <td>-4.05e+05</td> <td> 3.67e+04</td>\n</tr>\n<tr>\n  <th>Barrio_Monserrat</th>            <td>-1.198e+05</td> <td> 5.68e+04</td> <td>   -2.108</td> <td> 0.035</td> <td>-2.31e+05</td> <td>-8407.062</td>\n</tr>\n<tr>\n  <th>Barrio_Monte Castro</th>         <td>-1.713e+05</td> <td> 1.82e+05</td> <td>   -0.940</td> <td> 0.347</td> <td>-5.28e+05</td> <td> 1.86e+05</td>\n</tr>\n<tr>\n  <th>Barrio_Nuñez</th>                <td>   2.4e+05</td> <td> 5.05e+04</td> <td>    4.750</td> <td> 0.000</td> <td> 1.41e+05</td> <td> 3.39e+05</td>\n</tr>\n<tr>\n  <th>Barrio_Once</th>                 <td>-1.643e+04</td> <td> 9.85e+04</td> <td>   -0.167</td> <td> 0.868</td> <td>-2.09e+05</td> <td> 1.77e+05</td>\n</tr>\n<tr>\n  <th>Barrio_Palermo</th>              <td> 1.221e+05</td> <td> 3.28e+04</td> <td>    3.721</td> <td> 0.000</td> <td> 5.78e+04</td> <td> 1.86e+05</td>\n</tr>\n<tr>\n  <th>Barrio_Palermo Chico</th>        <td> 5.748e+05</td> <td> 8.56e+04</td> <td>    6.713</td> <td> 0.000</td> <td> 4.07e+05</td> <td> 7.43e+05</td>\n</tr>\n<tr>\n  <th>Barrio_Palermo Hollywood</th>    <td>-8116.6699</td> <td> 5.79e+04</td> <td>   -0.140</td> <td> 0.888</td> <td>-1.22e+05</td> <td> 1.05e+05</td>\n</tr>\n<tr>\n  <th>Barrio_Palermo Soho</th>         <td>-8.944e+04</td> <td> 6.94e+04</td> <td>   -1.288</td> <td> 0.198</td> <td>-2.26e+05</td> <td> 4.67e+04</td>\n</tr>\n<tr>\n  <th>Barrio_Palermo Viejo</th>        <td> 1.821e+05</td> <td> 1.98e+05</td> <td>    0.917</td> <td> 0.359</td> <td>-2.07e+05</td> <td> 5.71e+05</td>\n</tr>\n<tr>\n  <th>Barrio_Parque Avellaneda</th>    <td>-1.409e+05</td> <td> 2.14e+05</td> <td>   -0.658</td> <td> 0.511</td> <td>-5.61e+05</td> <td> 2.79e+05</td>\n</tr>\n<tr>\n  <th>Barrio_Parque Centenario</th>    <td>-1.059e+05</td> <td> 1.45e+05</td> <td>   -0.732</td> <td> 0.464</td> <td>-3.89e+05</td> <td> 1.78e+05</td>\n</tr>\n<tr>\n  <th>Barrio_Parque Chacabuco</th>     <td> 1.497e+05</td> <td> 1.31e+05</td> <td>    1.142</td> <td> 0.254</td> <td>-1.07e+05</td> <td> 4.07e+05</td>\n</tr>\n<tr>\n  <th>Barrio_Parque Chas</th>          <td>-1.473e+05</td> <td> 1.98e+05</td> <td>   -0.742</td> <td> 0.458</td> <td>-5.36e+05</td> <td> 2.42e+05</td>\n</tr>\n<tr>\n  <th>Barrio_Parque Patricios</th>     <td>-4.426e+04</td> <td> 8.08e+04</td> <td>   -0.548</td> <td> 0.584</td> <td>-2.03e+05</td> <td> 1.14e+05</td>\n</tr>\n<tr>\n  <th>Barrio_Paternal</th>             <td> 1.372e+05</td> <td> 1.13e+05</td> <td>    1.217</td> <td> 0.224</td> <td>-8.38e+04</td> <td> 3.58e+05</td>\n</tr>\n<tr>\n  <th>Barrio_Pompeya</th>              <td>-1.261e+05</td> <td> 2.62e+05</td> <td>   -0.482</td> <td> 0.630</td> <td>-6.39e+05</td> <td> 3.87e+05</td>\n</tr>\n<tr>\n  <th>Barrio_Puerto Madero</th>        <td> 5.678e+05</td> <td> 5.43e+04</td> <td>   10.459</td> <td> 0.000</td> <td> 4.61e+05</td> <td> 6.74e+05</td>\n</tr>\n<tr>\n  <th>Barrio_Recoleta</th>             <td> 1.397e+05</td> <td> 3.82e+04</td> <td>    3.653</td> <td> 0.000</td> <td> 6.47e+04</td> <td> 2.15e+05</td>\n</tr>\n<tr>\n  <th>Barrio_Retiro</th>               <td> 4.736e+05</td> <td> 8.22e+04</td> <td>    5.761</td> <td> 0.000</td> <td> 3.12e+05</td> <td> 6.35e+05</td>\n</tr>\n<tr>\n  <th>Barrio_Saavedra</th>             <td>-1.427e+05</td> <td> 5.74e+04</td> <td>   -2.486</td> <td> 0.013</td> <td>-2.55e+05</td> <td>-3.02e+04</td>\n</tr>\n<tr>\n  <th>Barrio_San Cristobal</th>        <td> 1.746e+05</td> <td>  5.5e+04</td> <td>    3.176</td> <td> 0.001</td> <td> 6.68e+04</td> <td> 2.82e+05</td>\n</tr>\n<tr>\n  <th>Barrio_San Nicolás</th>          <td>-1.248e+05</td> <td> 9.15e+04</td> <td>   -1.364</td> <td> 0.173</td> <td>-3.04e+05</td> <td> 5.46e+04</td>\n</tr>\n<tr>\n  <th>Barrio_San Telmo</th>            <td> 3.991e+05</td> <td> 4.05e+04</td> <td>    9.860</td> <td> 0.000</td> <td>  3.2e+05</td> <td> 4.78e+05</td>\n</tr>\n<tr>\n  <th>Barrio_Tribunales</th>           <td>-1.027e+05</td> <td> 1.37e+05</td> <td>   -0.751</td> <td> 0.452</td> <td> -3.7e+05</td> <td> 1.65e+05</td>\n</tr>\n<tr>\n  <th>Barrio_Velez Sarsfield</th>      <td>-1.353e+05</td> <td> 3.42e+05</td> <td>   -0.395</td> <td> 0.693</td> <td>-8.06e+05</td> <td> 5.36e+05</td>\n</tr>\n<tr>\n  <th>Barrio_Versalles</th>            <td>-1.831e+05</td> <td> 2.73e+05</td> <td>   -0.670</td> <td> 0.503</td> <td>-7.19e+05</td> <td> 3.53e+05</td>\n</tr>\n<tr>\n  <th>Barrio_Villa Crespo</th>         <td> 1.482e+04</td> <td> 4.18e+04</td> <td>    0.354</td> <td> 0.723</td> <td>-6.72e+04</td> <td> 9.68e+04</td>\n</tr>\n<tr>\n  <th>Barrio_Villa Devoto</th>         <td>-1.243e+05</td> <td> 7.42e+04</td> <td>   -1.675</td> <td> 0.094</td> <td> -2.7e+05</td> <td> 2.11e+04</td>\n</tr>\n<tr>\n  <th>Barrio_Villa General Mitre</th>  <td>-1.734e+05</td> <td>  1.9e+05</td> <td>   -0.914</td> <td> 0.361</td> <td>-5.45e+05</td> <td> 1.99e+05</td>\n</tr>\n<tr>\n  <th>Barrio_Villa Lugano</th>         <td> -1.22e+05</td> <td> 1.31e+05</td> <td>   -0.930</td> <td> 0.352</td> <td>-3.79e+05</td> <td> 1.35e+05</td>\n</tr>\n<tr>\n  <th>Barrio_Villa Luro</th>           <td>-8.478e+04</td> <td> 7.17e+04</td> <td>   -1.183</td> <td> 0.237</td> <td>-2.25e+05</td> <td> 5.57e+04</td>\n</tr>\n<tr>\n  <th>Barrio_Villa Ortuzar</th>        <td>-1.511e+05</td> <td> 1.35e+05</td> <td>   -1.118</td> <td> 0.264</td> <td>-4.16e+05</td> <td> 1.14e+05</td>\n</tr>\n<tr>\n  <th>Barrio_Villa Pueyrredón</th>     <td>-1.442e+05</td> <td>  1.1e+05</td> <td>   -1.316</td> <td> 0.188</td> <td>-3.59e+05</td> <td> 7.07e+04</td>\n</tr>\n<tr>\n  <th>Barrio_Villa Real</th>           <td>-1.773e+05</td> <td> 4.05e+05</td> <td>   -0.438</td> <td> 0.661</td> <td>-9.71e+05</td> <td> 6.16e+05</td>\n</tr>\n<tr>\n  <th>Barrio_Villa Riachuelo</th>      <td> 8.119e-11</td> <td> 4.29e-11</td> <td>    1.891</td> <td> 0.059</td> <td>-2.95e-12</td> <td> 1.65e-10</td>\n</tr>\n<tr>\n  <th>Barrio_Villa Santa Rita</th>     <td>-1.126e+05</td> <td> 2.03e+05</td> <td>   -0.554</td> <td> 0.580</td> <td>-5.11e+05</td> <td> 2.86e+05</td>\n</tr>\n<tr>\n  <th>Barrio_Villa Soldati</th>        <td> 9101.7974</td> <td>  3.7e+05</td> <td>    0.025</td> <td> 0.980</td> <td>-7.15e+05</td> <td> 7.33e+05</td>\n</tr>\n<tr>\n  <th>Barrio_Villa Urquiza</th>        <td> 2.641e+05</td> <td> 3.87e+04</td> <td>    6.816</td> <td> 0.000</td> <td> 1.88e+05</td> <td>  3.4e+05</td>\n</tr>\n<tr>\n  <th>Barrio_Villa del Parque</th>     <td>-9.022e+04</td> <td> 6.35e+04</td> <td>   -1.422</td> <td> 0.155</td> <td>-2.15e+05</td> <td> 3.42e+04</td>\n</tr>\n<tr>\n  <th>surface_uncovered_in_m2_std</th> <td> 3.055e+05</td> <td> 1.13e+04</td> <td>   26.989</td> <td> 0.000</td> <td> 2.83e+05</td> <td> 3.28e+05</td>\n</tr>\n<tr>\n  <th>surface_covered_in_m2_std</th>   <td> 7767.9572</td> <td> 6092.079</td> <td>    1.275</td> <td> 0.202</td> <td>-4173.204</td> <td> 1.97e+04</td>\n</tr>\n</table>\n<table class=\"simpletable\">\n<tr>\n  <th>Omnibus:</th>       <td>35224.783</td> <th>  Durbin-Watson:     </th>   <td>   2.008</td>   \n</tr>\n<tr>\n  <th>Prob(Omnibus):</th>  <td> 0.000</td>   <th>  Jarque-Bera (JB):  </th> <td>441621198.456</td>\n</tr>\n<tr>\n  <th>Skew:</th>           <td>19.807</td>   <th>  Prob(JB):          </th>   <td>    0.00</td>   \n</tr>\n<tr>\n  <th>Kurtosis:</th>       <td>815.527</td>  <th>  Cond. No.          </th>   <td>1.19e+16</td>   \n</tr>\n</table><br/><br/>Notes:<br/>[1] Standard Errors assume that the covariance matrix of the errors is correctly specified.<br/>[2] The smallest eigenvalue is 1.6e-28. This might indicate that there are<br/>strong multicollinearity problems or that the design matrix is singular."
     },
     "execution_count": 51,
     "metadata": {},
     "output_type": "execute_result"
    }
   ],
   "source": [
    "# Tenemos que agregar explícitamente a una constante:\n",
    "X_train_sm = sm.add_constant(X_train)\n",
    "\n",
    "model = sm.OLS(y_train, X_train_sm).fit()\n",
    "\n",
    "model.summary()"
   ],
   "metadata": {
    "collapsed": false,
    "pycharm": {
     "name": "#%%\n"
    }
   }
  },
  {
   "cell_type": "code",
   "execution_count": null,
   "outputs": [],
   "source": [],
   "metadata": {
    "collapsed": false,
    "pycharm": {
     "name": "#%%\n"
    }
   }
  }
 ],
 "metadata": {
  "kernelspec": {
   "display_name": "Python 3",
   "language": "python",
   "name": "python3"
  },
  "language_info": {
   "codemirror_mode": {
    "name": "ipython",
    "version": 2
   },
   "file_extension": ".py",
   "mimetype": "text/x-python",
   "name": "python",
   "nbconvert_exporter": "python",
   "pygments_lexer": "ipython2",
   "version": "2.7.6"
  }
 },
 "nbformat": 4,
 "nbformat_minor": 0
}