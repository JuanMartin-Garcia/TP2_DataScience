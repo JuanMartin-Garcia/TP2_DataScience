{
 "cells": [
  {
   "cell_type": "code",
   "execution_count": 8,
   "metadata": {
    "collapsed": true,
    "pycharm": {
     "name": "#%%\n"
    }
   },
   "outputs": [],
   "source": [
    "import matplotlib.pyplot as plt\n",
    "import pandas as pd\n",
    "import numpy as np\n",
    "import seaborn as sns\n",
    "\n",
    "from sklearn.model_selection import train_test_split\n",
    "from sklearn.preprocessing import OneHotEncoder\n",
    "from sklearn.preprocessing import MinMaxScaler\n",
    "from sklearn import linear_model\n",
    "from sklearn import metrics\n",
    "\n",
    "import statsmodels.api as sm\n",
    "from statsmodels.tools import eval_measures"
   ]
  },
  {
   "cell_type": "code",
   "execution_count": 9,
   "outputs": [
    {
     "name": "stdout",
     "output_type": "stream",
     "text": [
      "<class 'pandas.core.frame.DataFrame'>\n",
      "RangeIndex: 121220 entries, 0 to 121219\n",
      "Data columns (total 26 columns):\n",
      " #   Column                      Non-Null Count   Dtype  \n",
      "---  ------                      --------------   -----  \n",
      " 0   Unnamed: 0                  121220 non-null  int64  \n",
      " 1   operation                   121220 non-null  object \n",
      " 2   property_type               121220 non-null  object \n",
      " 3   place_name                  121197 non-null  object \n",
      " 4   place_with_parent_names     121220 non-null  object \n",
      " 5   country_name                121220 non-null  object \n",
      " 6   state_name                  121220 non-null  object \n",
      " 7   geonames_id                 102503 non-null  float64\n",
      " 8   lat-lon                     69670 non-null   object \n",
      " 9   lat                         69670 non-null   float64\n",
      " 10  lon                         69670 non-null   float64\n",
      " 11  price                       100810 non-null  float64\n",
      " 12  currency                    100809 non-null  object \n",
      " 13  price_aprox_local_currency  100810 non-null  float64\n",
      " 14  price_aprox_usd             100810 non-null  float64\n",
      " 15  surface_total_in_m2         81892 non-null   float64\n",
      " 16  surface_covered_in_m2       101313 non-null  float64\n",
      " 17  price_usd_per_m2            68617 non-null   float64\n",
      " 18  price_per_m2                87658 non-null   float64\n",
      " 19  floor                       7899 non-null    float64\n",
      " 20  rooms                       47390 non-null   float64\n",
      " 21  expenses                    14262 non-null   float64\n",
      " 22  properati_url               121220 non-null  object \n",
      " 23  description                 121218 non-null  object \n",
      " 24  title                       121220 non-null  object \n",
      " 25  image_thumbnail             118108 non-null  object \n",
      "dtypes: float64(13), int64(1), object(12)\n",
      "memory usage: 24.0+ MB\n"
     ]
    }
   ],
   "source": [
    "data=pd.read_csv('./properatti.csv')\n",
    "data.info()"
   ],
   "metadata": {
    "collapsed": false,
    "pycharm": {
     "name": "#%%\n"
    }
   }
  },
  {
   "cell_type": "code",
   "execution_count": 10,
   "outputs": [
    {
     "data": {
      "text/plain": "        Unnamed: 0 operation property_type       place_name  \\\n0                0      sell            PH        Mataderos   \n2                2      sell     apartment        Mataderos   \n3                3      sell            PH          Liniers   \n7                7      sell     apartment         Belgrano   \n8                8      sell     apartment         Belgrano   \n...            ...       ...           ...              ...   \n121160      121160      sell     apartment         Belgrano   \n121209      121209      sell     apartment         Belgrano   \n121215      121215      sell     apartment         Belgrano   \n121217      121217      sell     apartment    Villa Urquiza   \n121219      121219      sell     apartment  Capital Federal   \n\n                          place_with_parent_names country_name  \\\n0           |Argentina|Capital Federal|Mataderos|    Argentina   \n2           |Argentina|Capital Federal|Mataderos|    Argentina   \n3             |Argentina|Capital Federal|Liniers|    Argentina   \n7            |Argentina|Capital Federal|Belgrano|    Argentina   \n8            |Argentina|Capital Federal|Belgrano|    Argentina   \n...                                           ...          ...   \n121160       |Argentina|Capital Federal|Belgrano|    Argentina   \n121209       |Argentina|Capital Federal|Belgrano|    Argentina   \n121215       |Argentina|Capital Federal|Belgrano|    Argentina   \n121217  |Argentina|Capital Federal|Villa Urquiza|    Argentina   \n121219                |Argentina|Capital Federal|    Argentina   \n\n             state_name  geonames_id                        lat-lon  \\\n0       Capital Federal    3430787.0        -34.6618237,-58.5088387   \n2       Capital Federal    3430787.0        -34.6522615,-58.5229825   \n3       Capital Federal    3431333.0        -34.6477969,-58.5164244   \n7       Capital Federal    3436077.0         -34.5598729,-58.443362   \n8       Capital Federal    3436077.0         -34.5598729,-58.443362   \n...                 ...          ...                            ...   \n121160  Capital Federal    3436077.0   -34.563685346,-58.4426825896   \n121209  Capital Federal    3436077.0   -34.563685346,-58.4426825896   \n121215  Capital Federal    3436077.0                            NaN   \n121217  Capital Federal    3433775.0  -34.5706388726,-58.4755963355   \n121219  Capital Federal    3433955.0                            NaN   \n\n              lat  ...  surface_covered_in_m2  price_usd_per_m2 price_per_m2  \\\n0      -34.661824  ...                   40.0       1127.272727  1550.000000   \n2      -34.652262  ...                   55.0       1309.090909  1309.090909   \n3      -34.647797  ...                    NaN               NaN          NaN   \n7      -34.559873  ...                   40.0       3066.666667  3450.000000   \n8      -34.559873  ...                   60.0       3000.000000  3250.000000   \n...           ...  ...                    ...               ...          ...   \n121160 -34.563685  ...                    NaN       2611.464968          NaN   \n121209 -34.563685  ...                    NaN       2611.464968          NaN   \n121215        NaN  ...                   93.0       7699.115044  9354.838710   \n121217 -34.570639  ...                   39.0       2858.695652  3371.794872   \n121219        NaN  ...                   77.0       1675.324675  1675.324675   \n\n        floor  rooms  expenses  \\\n0         NaN    NaN       NaN   \n2         NaN    NaN       NaN   \n3         NaN    NaN       NaN   \n7         NaN    NaN       NaN   \n8         NaN    NaN       NaN   \n...       ...    ...       ...   \n121160    NaN    NaN    6300.0   \n121209    NaN    NaN    6300.0   \n121215    NaN    NaN   10000.0   \n121217    NaN    NaN       NaN   \n121219    NaN    NaN    3500.0   \n\n                                            properati_url  \\\n0       http://www.properati.com.ar/15bo8_venta_ph_mat...   \n2       http://www.properati.com.ar/15bod_venta_depart...   \n3       http://www.properati.com.ar/15boh_venta_ph_lin...   \n7       http://www.properati.com.ar/15bot_venta_depart...   \n8       http://www.properati.com.ar/15bou_venta_depart...   \n...                                                   ...   \n121160  http://www.properati.com.ar/1cj5v_venta_depart...   \n121209  http://www.properati.com.ar/1cj7c_venta_depart...   \n121215  http://www.properati.com.ar/1cja2_venta_depart...   \n121217  http://www.properati.com.ar/1cja7_venta_depart...   \n121219  http://www.properati.com.ar/1cjaa_venta_depart...   \n\n                                              description  \\\n0       2 AMBIENTES TIPO CASA PLANTA BAJA POR PASILLO,...   \n2       2 AMBIENTES 3ER PISO LATERAL LIVING COMEDOR AM...   \n3       PH 3 ambientes con patio. Hay 3 deptos en lote...   \n7       EXCELENTE MONOAMBIENTE A ESTRENAR AMPLIO SUPER...   \n8       EXCELENTE DOS AMBIENTES  ESTRENAR AMPLIO SUPER...   \n...                                                   ...   \n121160  Edificio en esquina de muy buena categoría de ...   \n121209  Edificio en esquina de muy buena categoría de ...   \n121215  TORRE FORUM ALCORTA - MÁXIMA CATEGORÍA.Impecab...   \n121217  VENTA DEPARTAMENTO AMBIENTE DIVISIBLE A ESTREN...   \n121219  Departamento de 77 m2 apto profesional. Edific...   \n\n                                                    title  \\\n0                      2 AMB TIPO CASA SIN EXPENSAS EN PB   \n2                2 AMB 3ER PISO CON ASCENSOR APTO CREDITO   \n3                            PH 3 amb. cfte. reciclado      \n7       JOSE HERNANDEZ 1400 MONOAMBIENTE  ESTRENAR CAT...   \n8       JOSE HERNANDEZ   1400 DOS AMBIENTES ESTRENAR ,...   \n...                                                   ...   \n121160  Av .Luis Maria Campos 1400- Belgrano-Capital F...   \n121209  Av .Luis Maria Campos 1400- Belgrano-Capital F...   \n121215         Torre Forum Alcorta- Impecable 3 ambientes   \n121217  VENTA DEPARTAMENTO AMBIENTE DIVISIBLE A ESTREN...   \n121219         Departamento apto profesional en el Centro   \n\n                                          image_thumbnail  \n0       https://thumbs4.properati.com/8/BluUYiHJLhgIIK...  \n2       https://thumbs4.properati.com/5/SXKr34F_IwG3W_...  \n3       https://thumbs4.properati.com/3/DgIfX-85Mog5SP...  \n7       https://thumbs4.properati.com/1/IHxARynlr8sPEW...  \n8       https://thumbs4.properati.com/2/J3zOjgaFHrkvnv...  \n...                                                   ...  \n121160  https://thumbs4.properati.com/0/zeLNBuyylOJL7z...  \n121209  https://thumbs4.properati.com/0/zeLNBuyylOJL7z...  \n121215  https://thumbs4.properati.com/1/bjms0KnaAnlNoQ...  \n121217  https://thumbs4.properati.com/9/YAe_-2gRVykADP...  \n121219  https://thumbs4.properati.com/8/mNEsnQWqB7joBF...  \n\n[32316 rows x 26 columns]",
      "text/html": "<div>\n<style scoped>\n    .dataframe tbody tr th:only-of-type {\n        vertical-align: middle;\n    }\n\n    .dataframe tbody tr th {\n        vertical-align: top;\n    }\n\n    .dataframe thead th {\n        text-align: right;\n    }\n</style>\n<table border=\"1\" class=\"dataframe\">\n  <thead>\n    <tr style=\"text-align: right;\">\n      <th></th>\n      <th>Unnamed: 0</th>\n      <th>operation</th>\n      <th>property_type</th>\n      <th>place_name</th>\n      <th>place_with_parent_names</th>\n      <th>country_name</th>\n      <th>state_name</th>\n      <th>geonames_id</th>\n      <th>lat-lon</th>\n      <th>lat</th>\n      <th>...</th>\n      <th>surface_covered_in_m2</th>\n      <th>price_usd_per_m2</th>\n      <th>price_per_m2</th>\n      <th>floor</th>\n      <th>rooms</th>\n      <th>expenses</th>\n      <th>properati_url</th>\n      <th>description</th>\n      <th>title</th>\n      <th>image_thumbnail</th>\n    </tr>\n  </thead>\n  <tbody>\n    <tr>\n      <th>0</th>\n      <td>0</td>\n      <td>sell</td>\n      <td>PH</td>\n      <td>Mataderos</td>\n      <td>|Argentina|Capital Federal|Mataderos|</td>\n      <td>Argentina</td>\n      <td>Capital Federal</td>\n      <td>3430787.0</td>\n      <td>-34.6618237,-58.5088387</td>\n      <td>-34.661824</td>\n      <td>...</td>\n      <td>40.0</td>\n      <td>1127.272727</td>\n      <td>1550.000000</td>\n      <td>NaN</td>\n      <td>NaN</td>\n      <td>NaN</td>\n      <td>http://www.properati.com.ar/15bo8_venta_ph_mat...</td>\n      <td>2 AMBIENTES TIPO CASA PLANTA BAJA POR PASILLO,...</td>\n      <td>2 AMB TIPO CASA SIN EXPENSAS EN PB</td>\n      <td>https://thumbs4.properati.com/8/BluUYiHJLhgIIK...</td>\n    </tr>\n    <tr>\n      <th>2</th>\n      <td>2</td>\n      <td>sell</td>\n      <td>apartment</td>\n      <td>Mataderos</td>\n      <td>|Argentina|Capital Federal|Mataderos|</td>\n      <td>Argentina</td>\n      <td>Capital Federal</td>\n      <td>3430787.0</td>\n      <td>-34.6522615,-58.5229825</td>\n      <td>-34.652262</td>\n      <td>...</td>\n      <td>55.0</td>\n      <td>1309.090909</td>\n      <td>1309.090909</td>\n      <td>NaN</td>\n      <td>NaN</td>\n      <td>NaN</td>\n      <td>http://www.properati.com.ar/15bod_venta_depart...</td>\n      <td>2 AMBIENTES 3ER PISO LATERAL LIVING COMEDOR AM...</td>\n      <td>2 AMB 3ER PISO CON ASCENSOR APTO CREDITO</td>\n      <td>https://thumbs4.properati.com/5/SXKr34F_IwG3W_...</td>\n    </tr>\n    <tr>\n      <th>3</th>\n      <td>3</td>\n      <td>sell</td>\n      <td>PH</td>\n      <td>Liniers</td>\n      <td>|Argentina|Capital Federal|Liniers|</td>\n      <td>Argentina</td>\n      <td>Capital Federal</td>\n      <td>3431333.0</td>\n      <td>-34.6477969,-58.5164244</td>\n      <td>-34.647797</td>\n      <td>...</td>\n      <td>NaN</td>\n      <td>NaN</td>\n      <td>NaN</td>\n      <td>NaN</td>\n      <td>NaN</td>\n      <td>NaN</td>\n      <td>http://www.properati.com.ar/15boh_venta_ph_lin...</td>\n      <td>PH 3 ambientes con patio. Hay 3 deptos en lote...</td>\n      <td>PH 3 amb. cfte. reciclado</td>\n      <td>https://thumbs4.properati.com/3/DgIfX-85Mog5SP...</td>\n    </tr>\n    <tr>\n      <th>7</th>\n      <td>7</td>\n      <td>sell</td>\n      <td>apartment</td>\n      <td>Belgrano</td>\n      <td>|Argentina|Capital Federal|Belgrano|</td>\n      <td>Argentina</td>\n      <td>Capital Federal</td>\n      <td>3436077.0</td>\n      <td>-34.5598729,-58.443362</td>\n      <td>-34.559873</td>\n      <td>...</td>\n      <td>40.0</td>\n      <td>3066.666667</td>\n      <td>3450.000000</td>\n      <td>NaN</td>\n      <td>NaN</td>\n      <td>NaN</td>\n      <td>http://www.properati.com.ar/15bot_venta_depart...</td>\n      <td>EXCELENTE MONOAMBIENTE A ESTRENAR AMPLIO SUPER...</td>\n      <td>JOSE HERNANDEZ 1400 MONOAMBIENTE  ESTRENAR CAT...</td>\n      <td>https://thumbs4.properati.com/1/IHxARynlr8sPEW...</td>\n    </tr>\n    <tr>\n      <th>8</th>\n      <td>8</td>\n      <td>sell</td>\n      <td>apartment</td>\n      <td>Belgrano</td>\n      <td>|Argentina|Capital Federal|Belgrano|</td>\n      <td>Argentina</td>\n      <td>Capital Federal</td>\n      <td>3436077.0</td>\n      <td>-34.5598729,-58.443362</td>\n      <td>-34.559873</td>\n      <td>...</td>\n      <td>60.0</td>\n      <td>3000.000000</td>\n      <td>3250.000000</td>\n      <td>NaN</td>\n      <td>NaN</td>\n      <td>NaN</td>\n      <td>http://www.properati.com.ar/15bou_venta_depart...</td>\n      <td>EXCELENTE DOS AMBIENTES  ESTRENAR AMPLIO SUPER...</td>\n      <td>JOSE HERNANDEZ   1400 DOS AMBIENTES ESTRENAR ,...</td>\n      <td>https://thumbs4.properati.com/2/J3zOjgaFHrkvnv...</td>\n    </tr>\n    <tr>\n      <th>...</th>\n      <td>...</td>\n      <td>...</td>\n      <td>...</td>\n      <td>...</td>\n      <td>...</td>\n      <td>...</td>\n      <td>...</td>\n      <td>...</td>\n      <td>...</td>\n      <td>...</td>\n      <td>...</td>\n      <td>...</td>\n      <td>...</td>\n      <td>...</td>\n      <td>...</td>\n      <td>...</td>\n      <td>...</td>\n      <td>...</td>\n      <td>...</td>\n      <td>...</td>\n      <td>...</td>\n    </tr>\n    <tr>\n      <th>121160</th>\n      <td>121160</td>\n      <td>sell</td>\n      <td>apartment</td>\n      <td>Belgrano</td>\n      <td>|Argentina|Capital Federal|Belgrano|</td>\n      <td>Argentina</td>\n      <td>Capital Federal</td>\n      <td>3436077.0</td>\n      <td>-34.563685346,-58.4426825896</td>\n      <td>-34.563685</td>\n      <td>...</td>\n      <td>NaN</td>\n      <td>2611.464968</td>\n      <td>NaN</td>\n      <td>NaN</td>\n      <td>NaN</td>\n      <td>6300.0</td>\n      <td>http://www.properati.com.ar/1cj5v_venta_depart...</td>\n      <td>Edificio en esquina de muy buena categoría de ...</td>\n      <td>Av .Luis Maria Campos 1400- Belgrano-Capital F...</td>\n      <td>https://thumbs4.properati.com/0/zeLNBuyylOJL7z...</td>\n    </tr>\n    <tr>\n      <th>121209</th>\n      <td>121209</td>\n      <td>sell</td>\n      <td>apartment</td>\n      <td>Belgrano</td>\n      <td>|Argentina|Capital Federal|Belgrano|</td>\n      <td>Argentina</td>\n      <td>Capital Federal</td>\n      <td>3436077.0</td>\n      <td>-34.563685346,-58.4426825896</td>\n      <td>-34.563685</td>\n      <td>...</td>\n      <td>NaN</td>\n      <td>2611.464968</td>\n      <td>NaN</td>\n      <td>NaN</td>\n      <td>NaN</td>\n      <td>6300.0</td>\n      <td>http://www.properati.com.ar/1cj7c_venta_depart...</td>\n      <td>Edificio en esquina de muy buena categoría de ...</td>\n      <td>Av .Luis Maria Campos 1400- Belgrano-Capital F...</td>\n      <td>https://thumbs4.properati.com/0/zeLNBuyylOJL7z...</td>\n    </tr>\n    <tr>\n      <th>121215</th>\n      <td>121215</td>\n      <td>sell</td>\n      <td>apartment</td>\n      <td>Belgrano</td>\n      <td>|Argentina|Capital Federal|Belgrano|</td>\n      <td>Argentina</td>\n      <td>Capital Federal</td>\n      <td>3436077.0</td>\n      <td>NaN</td>\n      <td>NaN</td>\n      <td>...</td>\n      <td>93.0</td>\n      <td>7699.115044</td>\n      <td>9354.838710</td>\n      <td>NaN</td>\n      <td>NaN</td>\n      <td>10000.0</td>\n      <td>http://www.properati.com.ar/1cja2_venta_depart...</td>\n      <td>TORRE FORUM ALCORTA - MÁXIMA CATEGORÍA.Impecab...</td>\n      <td>Torre Forum Alcorta- Impecable 3 ambientes</td>\n      <td>https://thumbs4.properati.com/1/bjms0KnaAnlNoQ...</td>\n    </tr>\n    <tr>\n      <th>121217</th>\n      <td>121217</td>\n      <td>sell</td>\n      <td>apartment</td>\n      <td>Villa Urquiza</td>\n      <td>|Argentina|Capital Federal|Villa Urquiza|</td>\n      <td>Argentina</td>\n      <td>Capital Federal</td>\n      <td>3433775.0</td>\n      <td>-34.5706388726,-58.4755963355</td>\n      <td>-34.570639</td>\n      <td>...</td>\n      <td>39.0</td>\n      <td>2858.695652</td>\n      <td>3371.794872</td>\n      <td>NaN</td>\n      <td>NaN</td>\n      <td>NaN</td>\n      <td>http://www.properati.com.ar/1cja7_venta_depart...</td>\n      <td>VENTA DEPARTAMENTO AMBIENTE DIVISIBLE A ESTREN...</td>\n      <td>VENTA DEPARTAMENTO AMBIENTE DIVISIBLE A ESTREN...</td>\n      <td>https://thumbs4.properati.com/9/YAe_-2gRVykADP...</td>\n    </tr>\n    <tr>\n      <th>121219</th>\n      <td>121219</td>\n      <td>sell</td>\n      <td>apartment</td>\n      <td>Capital Federal</td>\n      <td>|Argentina|Capital Federal|</td>\n      <td>Argentina</td>\n      <td>Capital Federal</td>\n      <td>3433955.0</td>\n      <td>NaN</td>\n      <td>NaN</td>\n      <td>...</td>\n      <td>77.0</td>\n      <td>1675.324675</td>\n      <td>1675.324675</td>\n      <td>NaN</td>\n      <td>NaN</td>\n      <td>3500.0</td>\n      <td>http://www.properati.com.ar/1cjaa_venta_depart...</td>\n      <td>Departamento de 77 m2 apto profesional. Edific...</td>\n      <td>Departamento apto profesional en el Centro</td>\n      <td>https://thumbs4.properati.com/8/mNEsnQWqB7joBF...</td>\n    </tr>\n  </tbody>\n</table>\n<p>32316 rows × 26 columns</p>\n</div>"
     },
     "execution_count": 10,
     "metadata": {},
     "output_type": "execute_result"
    }
   ],
   "source": [
    "capital_federal_mask = data.state_name==\"Capital Federal\"\n",
    "capital_federal = data[capital_federal_mask]\n",
    "capital_federal"
   ],
   "metadata": {
    "collapsed": false,
    "pycharm": {
     "name": "#%%\n"
    }
   }
  },
  {
   "cell_type": "code",
   "execution_count": 11,
   "outputs": [
    {
     "data": {
      "text/plain": "       property_type       place_name  surface_total_in_m2  \\\n0                 PH        Mataderos                 55.0   \n2          apartment        Mataderos                 55.0   \n3                 PH          Liniers                  NaN   \n7          apartment         Belgrano                 45.0   \n8          apartment         Belgrano                 65.0   \n...              ...              ...                  ...   \n121160     apartment         Belgrano                157.0   \n121209     apartment         Belgrano                157.0   \n121215     apartment         Belgrano                113.0   \n121217     apartment    Villa Urquiza                 46.0   \n121219     apartment  Capital Federal                 77.0   \n\n        surface_covered_in_m2  \n0                        40.0  \n2                        55.0  \n3                         NaN  \n7                        40.0  \n8                        60.0  \n...                       ...  \n121160                    NaN  \n121209                    NaN  \n121215                   93.0  \n121217                   39.0  \n121219                   77.0  \n\n[32316 rows x 4 columns]",
      "text/html": "<div>\n<style scoped>\n    .dataframe tbody tr th:only-of-type {\n        vertical-align: middle;\n    }\n\n    .dataframe tbody tr th {\n        vertical-align: top;\n    }\n\n    .dataframe thead th {\n        text-align: right;\n    }\n</style>\n<table border=\"1\" class=\"dataframe\">\n  <thead>\n    <tr style=\"text-align: right;\">\n      <th></th>\n      <th>property_type</th>\n      <th>place_name</th>\n      <th>surface_total_in_m2</th>\n      <th>surface_covered_in_m2</th>\n    </tr>\n  </thead>\n  <tbody>\n    <tr>\n      <th>0</th>\n      <td>PH</td>\n      <td>Mataderos</td>\n      <td>55.0</td>\n      <td>40.0</td>\n    </tr>\n    <tr>\n      <th>2</th>\n      <td>apartment</td>\n      <td>Mataderos</td>\n      <td>55.0</td>\n      <td>55.0</td>\n    </tr>\n    <tr>\n      <th>3</th>\n      <td>PH</td>\n      <td>Liniers</td>\n      <td>NaN</td>\n      <td>NaN</td>\n    </tr>\n    <tr>\n      <th>7</th>\n      <td>apartment</td>\n      <td>Belgrano</td>\n      <td>45.0</td>\n      <td>40.0</td>\n    </tr>\n    <tr>\n      <th>8</th>\n      <td>apartment</td>\n      <td>Belgrano</td>\n      <td>65.0</td>\n      <td>60.0</td>\n    </tr>\n    <tr>\n      <th>...</th>\n      <td>...</td>\n      <td>...</td>\n      <td>...</td>\n      <td>...</td>\n    </tr>\n    <tr>\n      <th>121160</th>\n      <td>apartment</td>\n      <td>Belgrano</td>\n      <td>157.0</td>\n      <td>NaN</td>\n    </tr>\n    <tr>\n      <th>121209</th>\n      <td>apartment</td>\n      <td>Belgrano</td>\n      <td>157.0</td>\n      <td>NaN</td>\n    </tr>\n    <tr>\n      <th>121215</th>\n      <td>apartment</td>\n      <td>Belgrano</td>\n      <td>113.0</td>\n      <td>93.0</td>\n    </tr>\n    <tr>\n      <th>121217</th>\n      <td>apartment</td>\n      <td>Villa Urquiza</td>\n      <td>46.0</td>\n      <td>39.0</td>\n    </tr>\n    <tr>\n      <th>121219</th>\n      <td>apartment</td>\n      <td>Capital Federal</td>\n      <td>77.0</td>\n      <td>77.0</td>\n    </tr>\n  </tbody>\n</table>\n<p>32316 rows × 4 columns</p>\n</div>"
     },
     "execution_count": 11,
     "metadata": {},
     "output_type": "execute_result"
    }
   ],
   "source": [
    "capital_federal_dos = capital_federal.loc[:,('property_type','place_name','surface_total_in_m2','surface_covered_in_m2')]\n",
    "capital_federal_dos"
   ],
   "metadata": {
    "collapsed": false,
    "pycharm": {
     "name": "#%%\n"
    }
   }
  },
  {
   "cell_type": "code",
   "execution_count": 12,
   "outputs": [
    {
     "data": {
      "text/plain": "       property_type       place_name  surface_total_in_m2  \\\n2          apartment        Mataderos                 55.0   \n7          apartment         Belgrano                 45.0   \n8          apartment         Belgrano                 65.0   \n13         apartment     Palermo Soho                 50.0   \n14         apartment     Palermo Soho                 42.0   \n...              ...              ...                  ...   \n121160     apartment         Belgrano                157.0   \n121209     apartment         Belgrano                157.0   \n121215     apartment         Belgrano                113.0   \n121217     apartment    Villa Urquiza                 46.0   \n121219     apartment  Capital Federal                 77.0   \n\n        surface_covered_in_m2  \n2                        55.0  \n7                        40.0  \n8                        60.0  \n13                       30.0  \n14                       31.0  \n...                       ...  \n121160                    NaN  \n121209                    NaN  \n121215                   93.0  \n121217                   39.0  \n121219                   77.0  \n\n[27037 rows x 4 columns]",
      "text/html": "<div>\n<style scoped>\n    .dataframe tbody tr th:only-of-type {\n        vertical-align: middle;\n    }\n\n    .dataframe tbody tr th {\n        vertical-align: top;\n    }\n\n    .dataframe thead th {\n        text-align: right;\n    }\n</style>\n<table border=\"1\" class=\"dataframe\">\n  <thead>\n    <tr style=\"text-align: right;\">\n      <th></th>\n      <th>property_type</th>\n      <th>place_name</th>\n      <th>surface_total_in_m2</th>\n      <th>surface_covered_in_m2</th>\n    </tr>\n  </thead>\n  <tbody>\n    <tr>\n      <th>2</th>\n      <td>apartment</td>\n      <td>Mataderos</td>\n      <td>55.0</td>\n      <td>55.0</td>\n    </tr>\n    <tr>\n      <th>7</th>\n      <td>apartment</td>\n      <td>Belgrano</td>\n      <td>45.0</td>\n      <td>40.0</td>\n    </tr>\n    <tr>\n      <th>8</th>\n      <td>apartment</td>\n      <td>Belgrano</td>\n      <td>65.0</td>\n      <td>60.0</td>\n    </tr>\n    <tr>\n      <th>13</th>\n      <td>apartment</td>\n      <td>Palermo Soho</td>\n      <td>50.0</td>\n      <td>30.0</td>\n    </tr>\n    <tr>\n      <th>14</th>\n      <td>apartment</td>\n      <td>Palermo Soho</td>\n      <td>42.0</td>\n      <td>31.0</td>\n    </tr>\n    <tr>\n      <th>...</th>\n      <td>...</td>\n      <td>...</td>\n      <td>...</td>\n      <td>...</td>\n    </tr>\n    <tr>\n      <th>121160</th>\n      <td>apartment</td>\n      <td>Belgrano</td>\n      <td>157.0</td>\n      <td>NaN</td>\n    </tr>\n    <tr>\n      <th>121209</th>\n      <td>apartment</td>\n      <td>Belgrano</td>\n      <td>157.0</td>\n      <td>NaN</td>\n    </tr>\n    <tr>\n      <th>121215</th>\n      <td>apartment</td>\n      <td>Belgrano</td>\n      <td>113.0</td>\n      <td>93.0</td>\n    </tr>\n    <tr>\n      <th>121217</th>\n      <td>apartment</td>\n      <td>Villa Urquiza</td>\n      <td>46.0</td>\n      <td>39.0</td>\n    </tr>\n    <tr>\n      <th>121219</th>\n      <td>apartment</td>\n      <td>Capital Federal</td>\n      <td>77.0</td>\n      <td>77.0</td>\n    </tr>\n  </tbody>\n</table>\n<p>27037 rows × 4 columns</p>\n</div>"
     },
     "execution_count": 12,
     "metadata": {},
     "output_type": "execute_result"
    }
   ],
   "source": [
    "capital_federal_apartment_mask = capital_federal.property_type=='apartment'\n",
    "capital_federal_apartment = capital_federal_dos[capital_federal_apartment_mask]\n",
    "capital_federal_apartment\n"
   ],
   "metadata": {
    "collapsed": false,
    "pycharm": {
     "name": "#%%\n"
    }
   }
  },
  {
   "cell_type": "code",
   "execution_count": 13,
   "outputs": [
    {
     "data": {
      "text/plain": "        Category_Abasto  Category_Agronomía  Category_Almagro  \\\n2                     0                   0                 0   \n7                     0                   0                 0   \n8                     0                   0                 0   \n13                    0                   0                 0   \n14                    0                   0                 0   \n...                 ...                 ...               ...   \n121160                0                   0                 0   \n121209                0                   0                 0   \n121215                0                   0                 0   \n121217                0                   0                 0   \n121219                0                   0                 0   \n\n        Category_Balvanera  Category_Barracas  Category_Barrio Norte  \\\n2                        0                  0                      0   \n7                        0                  0                      0   \n8                        0                  0                      0   \n13                       0                  0                      0   \n14                       0                  0                      0   \n...                    ...                ...                    ...   \n121160                   0                  0                      0   \n121209                   0                  0                      0   \n121215                   0                  0                      0   \n121217                   0                  0                      0   \n121219                   0                  0                      0   \n\n        Category_Belgrano  Category_Boca  Category_Boedo  Category_Caballito  \\\n2                       0              0               0                   0   \n7                       1              0               0                   0   \n8                       1              0               0                   0   \n13                      0              0               0                   0   \n14                      0              0               0                   0   \n...                   ...            ...             ...                 ...   \n121160                  1              0               0                   0   \n121209                  1              0               0                   0   \n121215                  1              0               0                   0   \n121217                  0              0               0                   0   \n121219                  0              0               0                   0   \n\n        ...  Category_Villa Lugano  Category_Villa Luro  \\\n2       ...                      0                    0   \n7       ...                      0                    0   \n8       ...                      0                    0   \n13      ...                      0                    0   \n14      ...                      0                    0   \n...     ...                    ...                  ...   \n121160  ...                      0                    0   \n121209  ...                      0                    0   \n121215  ...                      0                    0   \n121217  ...                      0                    0   \n121219  ...                      0                    0   \n\n        Category_Villa Ortuzar  Category_Villa Pueyrredón  \\\n2                            0                          0   \n7                            0                          0   \n8                            0                          0   \n13                           0                          0   \n14                           0                          0   \n...                        ...                        ...   \n121160                       0                          0   \n121209                       0                          0   \n121215                       0                          0   \n121217                       0                          0   \n121219                       0                          0   \n\n        Category_Villa Real  Category_Villa Riachuelo  \\\n2                         0                         0   \n7                         0                         0   \n8                         0                         0   \n13                        0                         0   \n14                        0                         0   \n...                     ...                       ...   \n121160                    0                         0   \n121209                    0                         0   \n121215                    0                         0   \n121217                    0                         0   \n121219                    0                         0   \n\n        Category_Villa Santa Rita  Category_Villa Soldati  \\\n2                               0                       0   \n7                               0                       0   \n8                               0                       0   \n13                              0                       0   \n14                              0                       0   \n...                           ...                     ...   \n121160                          0                       0   \n121209                          0                       0   \n121215                          0                       0   \n121217                          0                       0   \n121219                          0                       0   \n\n        Category_Villa Urquiza  Category_Villa del Parque  \n2                            0                          0  \n7                            0                          0  \n8                            0                          0  \n13                           0                          0  \n14                           0                          0  \n...                        ...                        ...  \n121160                       0                          0  \n121209                       0                          0  \n121215                       0                          0  \n121217                       1                          0  \n121219                       0                          0  \n\n[27037 rows x 62 columns]",
      "text/html": "<div>\n<style scoped>\n    .dataframe tbody tr th:only-of-type {\n        vertical-align: middle;\n    }\n\n    .dataframe tbody tr th {\n        vertical-align: top;\n    }\n\n    .dataframe thead th {\n        text-align: right;\n    }\n</style>\n<table border=\"1\" class=\"dataframe\">\n  <thead>\n    <tr style=\"text-align: right;\">\n      <th></th>\n      <th>Category_Abasto</th>\n      <th>Category_Agronomía</th>\n      <th>Category_Almagro</th>\n      <th>Category_Balvanera</th>\n      <th>Category_Barracas</th>\n      <th>Category_Barrio Norte</th>\n      <th>Category_Belgrano</th>\n      <th>Category_Boca</th>\n      <th>Category_Boedo</th>\n      <th>Category_Caballito</th>\n      <th>...</th>\n      <th>Category_Villa Lugano</th>\n      <th>Category_Villa Luro</th>\n      <th>Category_Villa Ortuzar</th>\n      <th>Category_Villa Pueyrredón</th>\n      <th>Category_Villa Real</th>\n      <th>Category_Villa Riachuelo</th>\n      <th>Category_Villa Santa Rita</th>\n      <th>Category_Villa Soldati</th>\n      <th>Category_Villa Urquiza</th>\n      <th>Category_Villa del Parque</th>\n    </tr>\n  </thead>\n  <tbody>\n    <tr>\n      <th>2</th>\n      <td>0</td>\n      <td>0</td>\n      <td>0</td>\n      <td>0</td>\n      <td>0</td>\n      <td>0</td>\n      <td>0</td>\n      <td>0</td>\n      <td>0</td>\n      <td>0</td>\n      <td>...</td>\n      <td>0</td>\n      <td>0</td>\n      <td>0</td>\n      <td>0</td>\n      <td>0</td>\n      <td>0</td>\n      <td>0</td>\n      <td>0</td>\n      <td>0</td>\n      <td>0</td>\n    </tr>\n    <tr>\n      <th>7</th>\n      <td>0</td>\n      <td>0</td>\n      <td>0</td>\n      <td>0</td>\n      <td>0</td>\n      <td>0</td>\n      <td>1</td>\n      <td>0</td>\n      <td>0</td>\n      <td>0</td>\n      <td>...</td>\n      <td>0</td>\n      <td>0</td>\n      <td>0</td>\n      <td>0</td>\n      <td>0</td>\n      <td>0</td>\n      <td>0</td>\n      <td>0</td>\n      <td>0</td>\n      <td>0</td>\n    </tr>\n    <tr>\n      <th>8</th>\n      <td>0</td>\n      <td>0</td>\n      <td>0</td>\n      <td>0</td>\n      <td>0</td>\n      <td>0</td>\n      <td>1</td>\n      <td>0</td>\n      <td>0</td>\n      <td>0</td>\n      <td>...</td>\n      <td>0</td>\n      <td>0</td>\n      <td>0</td>\n      <td>0</td>\n      <td>0</td>\n      <td>0</td>\n      <td>0</td>\n      <td>0</td>\n      <td>0</td>\n      <td>0</td>\n    </tr>\n    <tr>\n      <th>13</th>\n      <td>0</td>\n      <td>0</td>\n      <td>0</td>\n      <td>0</td>\n      <td>0</td>\n      <td>0</td>\n      <td>0</td>\n      <td>0</td>\n      <td>0</td>\n      <td>0</td>\n      <td>...</td>\n      <td>0</td>\n      <td>0</td>\n      <td>0</td>\n      <td>0</td>\n      <td>0</td>\n      <td>0</td>\n      <td>0</td>\n      <td>0</td>\n      <td>0</td>\n      <td>0</td>\n    </tr>\n    <tr>\n      <th>14</th>\n      <td>0</td>\n      <td>0</td>\n      <td>0</td>\n      <td>0</td>\n      <td>0</td>\n      <td>0</td>\n      <td>0</td>\n      <td>0</td>\n      <td>0</td>\n      <td>0</td>\n      <td>...</td>\n      <td>0</td>\n      <td>0</td>\n      <td>0</td>\n      <td>0</td>\n      <td>0</td>\n      <td>0</td>\n      <td>0</td>\n      <td>0</td>\n      <td>0</td>\n      <td>0</td>\n    </tr>\n    <tr>\n      <th>...</th>\n      <td>...</td>\n      <td>...</td>\n      <td>...</td>\n      <td>...</td>\n      <td>...</td>\n      <td>...</td>\n      <td>...</td>\n      <td>...</td>\n      <td>...</td>\n      <td>...</td>\n      <td>...</td>\n      <td>...</td>\n      <td>...</td>\n      <td>...</td>\n      <td>...</td>\n      <td>...</td>\n      <td>...</td>\n      <td>...</td>\n      <td>...</td>\n      <td>...</td>\n      <td>...</td>\n    </tr>\n    <tr>\n      <th>121160</th>\n      <td>0</td>\n      <td>0</td>\n      <td>0</td>\n      <td>0</td>\n      <td>0</td>\n      <td>0</td>\n      <td>1</td>\n      <td>0</td>\n      <td>0</td>\n      <td>0</td>\n      <td>...</td>\n      <td>0</td>\n      <td>0</td>\n      <td>0</td>\n      <td>0</td>\n      <td>0</td>\n      <td>0</td>\n      <td>0</td>\n      <td>0</td>\n      <td>0</td>\n      <td>0</td>\n    </tr>\n    <tr>\n      <th>121209</th>\n      <td>0</td>\n      <td>0</td>\n      <td>0</td>\n      <td>0</td>\n      <td>0</td>\n      <td>0</td>\n      <td>1</td>\n      <td>0</td>\n      <td>0</td>\n      <td>0</td>\n      <td>...</td>\n      <td>0</td>\n      <td>0</td>\n      <td>0</td>\n      <td>0</td>\n      <td>0</td>\n      <td>0</td>\n      <td>0</td>\n      <td>0</td>\n      <td>0</td>\n      <td>0</td>\n    </tr>\n    <tr>\n      <th>121215</th>\n      <td>0</td>\n      <td>0</td>\n      <td>0</td>\n      <td>0</td>\n      <td>0</td>\n      <td>0</td>\n      <td>1</td>\n      <td>0</td>\n      <td>0</td>\n      <td>0</td>\n      <td>...</td>\n      <td>0</td>\n      <td>0</td>\n      <td>0</td>\n      <td>0</td>\n      <td>0</td>\n      <td>0</td>\n      <td>0</td>\n      <td>0</td>\n      <td>0</td>\n      <td>0</td>\n    </tr>\n    <tr>\n      <th>121217</th>\n      <td>0</td>\n      <td>0</td>\n      <td>0</td>\n      <td>0</td>\n      <td>0</td>\n      <td>0</td>\n      <td>0</td>\n      <td>0</td>\n      <td>0</td>\n      <td>0</td>\n      <td>...</td>\n      <td>0</td>\n      <td>0</td>\n      <td>0</td>\n      <td>0</td>\n      <td>0</td>\n      <td>0</td>\n      <td>0</td>\n      <td>0</td>\n      <td>1</td>\n      <td>0</td>\n    </tr>\n    <tr>\n      <th>121219</th>\n      <td>0</td>\n      <td>0</td>\n      <td>0</td>\n      <td>0</td>\n      <td>0</td>\n      <td>0</td>\n      <td>0</td>\n      <td>0</td>\n      <td>0</td>\n      <td>0</td>\n      <td>...</td>\n      <td>0</td>\n      <td>0</td>\n      <td>0</td>\n      <td>0</td>\n      <td>0</td>\n      <td>0</td>\n      <td>0</td>\n      <td>0</td>\n      <td>0</td>\n      <td>0</td>\n    </tr>\n  </tbody>\n</table>\n<p>27037 rows × 62 columns</p>\n</div>"
     },
     "execution_count": 13,
     "metadata": {},
     "output_type": "execute_result"
    }
   ],
   "source": [
    "dummies = pd.get_dummies(capital_federal_apartment['place_name']).rename(columns=lambda x: 'Category_' + str(x))\n",
    "dummies\n",
    "#df = pd.concat([df, dummies], axis=1)\n",
    "#df = df.drop(['Category'], inplace=True, axis=1)"
   ],
   "metadata": {
    "collapsed": false,
    "pycharm": {
     "name": "#%%\n"
    }
   }
  },
  {
   "cell_type": "code",
   "execution_count": 14,
   "outputs": [
    {
     "data": {
      "text/plain": "                                 column_name  percent_missing\nsurface_total_in_m2      surface_total_in_m2        16.484817\nsurface_covered_in_m2  surface_covered_in_m2         6.646447\nproperty_type                  property_type         0.000000\nplace_name                        place_name         0.000000",
      "text/html": "<div>\n<style scoped>\n    .dataframe tbody tr th:only-of-type {\n        vertical-align: middle;\n    }\n\n    .dataframe tbody tr th {\n        vertical-align: top;\n    }\n\n    .dataframe thead th {\n        text-align: right;\n    }\n</style>\n<table border=\"1\" class=\"dataframe\">\n  <thead>\n    <tr style=\"text-align: right;\">\n      <th></th>\n      <th>column_name</th>\n      <th>percent_missing</th>\n    </tr>\n  </thead>\n  <tbody>\n    <tr>\n      <th>surface_total_in_m2</th>\n      <td>surface_total_in_m2</td>\n      <td>16.484817</td>\n    </tr>\n    <tr>\n      <th>surface_covered_in_m2</th>\n      <td>surface_covered_in_m2</td>\n      <td>6.646447</td>\n    </tr>\n    <tr>\n      <th>property_type</th>\n      <td>property_type</td>\n      <td>0.000000</td>\n    </tr>\n    <tr>\n      <th>place_name</th>\n      <td>place_name</td>\n      <td>0.000000</td>\n    </tr>\n  </tbody>\n</table>\n</div>"
     },
     "execution_count": 14,
     "metadata": {},
     "output_type": "execute_result"
    }
   ],
   "source": [
    "#Porcentaje de nulls respecto al total del dataset por columna\n",
    "\n",
    "percent_missing = capital_federal_apartment.isnull().sum() * 100 / len(capital_federal_apartment)\n",
    "missing_value_df = pd.DataFrame({'column_name': capital_federal_apartment.columns,\n",
    "                                 'percent_missing': percent_missing})\n",
    "\n",
    "missing_value_df.sort_values('percent_missing', inplace=True, ascending=False)\n",
    "missing_value_df"
   ],
   "metadata": {
    "collapsed": false,
    "pycharm": {
     "name": "#%%\n"
    }
   }
  },
  {
   "cell_type": "code",
   "execution_count": 15,
   "outputs": [
    {
     "name": "stderr",
     "output_type": "stream",
     "text": [
      "C:\\Users\\Juan\\AppData\\Local\\Temp\\ipykernel_12776\\3450111080.py:1: SettingWithCopyWarning: \n",
      "A value is trying to be set on a copy of a slice from a DataFrame.\n",
      "Try using .loc[row_indexer,col_indexer] = value instead\n",
      "\n",
      "See the caveats in the documentation: https://pandas.pydata.org/pandas-docs/stable/user_guide/indexing.html#returning-a-view-versus-a-copy\n",
      "  capital_federal_apartment['surface_uncovered_in_m2'] = capital_federal_apartment.surface_total_in_m2 - capital_federal_apartment.surface_covered_in_m2\n"
     ]
    },
    {
     "data": {
      "text/plain": "       property_type       place_name  surface_total_in_m2  \\\n2          apartment        Mataderos                 55.0   \n7          apartment         Belgrano                 45.0   \n8          apartment         Belgrano                 65.0   \n13         apartment     Palermo Soho                 50.0   \n14         apartment     Palermo Soho                 42.0   \n...              ...              ...                  ...   \n121160     apartment         Belgrano                157.0   \n121209     apartment         Belgrano                157.0   \n121215     apartment         Belgrano                113.0   \n121217     apartment    Villa Urquiza                 46.0   \n121219     apartment  Capital Federal                 77.0   \n\n        surface_covered_in_m2  surface_uncovered_in_m2  \n2                        55.0                      0.0  \n7                        40.0                      5.0  \n8                        60.0                      5.0  \n13                       30.0                     20.0  \n14                       31.0                     11.0  \n...                       ...                      ...  \n121160                    NaN                      NaN  \n121209                    NaN                      NaN  \n121215                   93.0                     20.0  \n121217                   39.0                      7.0  \n121219                   77.0                      0.0  \n\n[27037 rows x 5 columns]",
      "text/html": "<div>\n<style scoped>\n    .dataframe tbody tr th:only-of-type {\n        vertical-align: middle;\n    }\n\n    .dataframe tbody tr th {\n        vertical-align: top;\n    }\n\n    .dataframe thead th {\n        text-align: right;\n    }\n</style>\n<table border=\"1\" class=\"dataframe\">\n  <thead>\n    <tr style=\"text-align: right;\">\n      <th></th>\n      <th>property_type</th>\n      <th>place_name</th>\n      <th>surface_total_in_m2</th>\n      <th>surface_covered_in_m2</th>\n      <th>surface_uncovered_in_m2</th>\n    </tr>\n  </thead>\n  <tbody>\n    <tr>\n      <th>2</th>\n      <td>apartment</td>\n      <td>Mataderos</td>\n      <td>55.0</td>\n      <td>55.0</td>\n      <td>0.0</td>\n    </tr>\n    <tr>\n      <th>7</th>\n      <td>apartment</td>\n      <td>Belgrano</td>\n      <td>45.0</td>\n      <td>40.0</td>\n      <td>5.0</td>\n    </tr>\n    <tr>\n      <th>8</th>\n      <td>apartment</td>\n      <td>Belgrano</td>\n      <td>65.0</td>\n      <td>60.0</td>\n      <td>5.0</td>\n    </tr>\n    <tr>\n      <th>13</th>\n      <td>apartment</td>\n      <td>Palermo Soho</td>\n      <td>50.0</td>\n      <td>30.0</td>\n      <td>20.0</td>\n    </tr>\n    <tr>\n      <th>14</th>\n      <td>apartment</td>\n      <td>Palermo Soho</td>\n      <td>42.0</td>\n      <td>31.0</td>\n      <td>11.0</td>\n    </tr>\n    <tr>\n      <th>...</th>\n      <td>...</td>\n      <td>...</td>\n      <td>...</td>\n      <td>...</td>\n      <td>...</td>\n    </tr>\n    <tr>\n      <th>121160</th>\n      <td>apartment</td>\n      <td>Belgrano</td>\n      <td>157.0</td>\n      <td>NaN</td>\n      <td>NaN</td>\n    </tr>\n    <tr>\n      <th>121209</th>\n      <td>apartment</td>\n      <td>Belgrano</td>\n      <td>157.0</td>\n      <td>NaN</td>\n      <td>NaN</td>\n    </tr>\n    <tr>\n      <th>121215</th>\n      <td>apartment</td>\n      <td>Belgrano</td>\n      <td>113.0</td>\n      <td>93.0</td>\n      <td>20.0</td>\n    </tr>\n    <tr>\n      <th>121217</th>\n      <td>apartment</td>\n      <td>Villa Urquiza</td>\n      <td>46.0</td>\n      <td>39.0</td>\n      <td>7.0</td>\n    </tr>\n    <tr>\n      <th>121219</th>\n      <td>apartment</td>\n      <td>Capital Federal</td>\n      <td>77.0</td>\n      <td>77.0</td>\n      <td>0.0</td>\n    </tr>\n  </tbody>\n</table>\n<p>27037 rows × 5 columns</p>\n</div>"
     },
     "execution_count": 15,
     "metadata": {},
     "output_type": "execute_result"
    }
   ],
   "source": [
    "capital_federal_apartment['surface_uncovered_in_m2'] = capital_federal_apartment.surface_total_in_m2 - capital_federal_apartment.surface_covered_in_m2\n",
    "capital_federal_apartment"
   ],
   "metadata": {
    "collapsed": false,
    "pycharm": {
     "name": "#%%\n"
    }
   }
  },
  {
   "cell_type": "code",
   "execution_count": 16,
   "outputs": [
    {
     "data": {
      "text/plain": "                                     column_name  percent_missing\nsurface_uncovered_in_m2  surface_uncovered_in_m2        21.174687\nsurface_total_in_m2          surface_total_in_m2        16.484817\nsurface_covered_in_m2      surface_covered_in_m2         6.646447\nproperty_type                      property_type         0.000000\nplace_name                            place_name         0.000000",
      "text/html": "<div>\n<style scoped>\n    .dataframe tbody tr th:only-of-type {\n        vertical-align: middle;\n    }\n\n    .dataframe tbody tr th {\n        vertical-align: top;\n    }\n\n    .dataframe thead th {\n        text-align: right;\n    }\n</style>\n<table border=\"1\" class=\"dataframe\">\n  <thead>\n    <tr style=\"text-align: right;\">\n      <th></th>\n      <th>column_name</th>\n      <th>percent_missing</th>\n    </tr>\n  </thead>\n  <tbody>\n    <tr>\n      <th>surface_uncovered_in_m2</th>\n      <td>surface_uncovered_in_m2</td>\n      <td>21.174687</td>\n    </tr>\n    <tr>\n      <th>surface_total_in_m2</th>\n      <td>surface_total_in_m2</td>\n      <td>16.484817</td>\n    </tr>\n    <tr>\n      <th>surface_covered_in_m2</th>\n      <td>surface_covered_in_m2</td>\n      <td>6.646447</td>\n    </tr>\n    <tr>\n      <th>property_type</th>\n      <td>property_type</td>\n      <td>0.000000</td>\n    </tr>\n    <tr>\n      <th>place_name</th>\n      <td>place_name</td>\n      <td>0.000000</td>\n    </tr>\n  </tbody>\n</table>\n</div>"
     },
     "execution_count": 16,
     "metadata": {},
     "output_type": "execute_result"
    }
   ],
   "source": [
    "percent_missing = capital_federal_apartment.isnull().sum() * 100 / len(capital_federal_apartment)\n",
    "missing_value_df = pd.DataFrame({'column_name': capital_federal_apartment.columns,\n",
    "                                 'percent_missing': percent_missing})\n",
    "\n",
    "missing_value_df.sort_values('percent_missing', inplace=True, ascending=False)\n",
    "missing_value_df"
   ],
   "metadata": {
    "collapsed": false,
    "pycharm": {
     "name": "#%%\n"
    }
   }
  },
  {
   "cell_type": "code",
   "execution_count": 17,
   "outputs": [
    {
     "name": "stderr",
     "output_type": "stream",
     "text": [
      "C:\\Users\\Juan\\AppData\\Local\\Temp\\ipykernel_12776\\3128688942.py:1: SettingWithCopyWarning: \n",
      "A value is trying to be set on a copy of a slice from a DataFrame\n",
      "\n",
      "See the caveats in the documentation: https://pandas.pydata.org/pandas-docs/stable/user_guide/indexing.html#returning-a-view-versus-a-copy\n",
      "  capital_federal_apartment.surface_total_in_m2.fillna(capital_federal_apartment.surface_covered_in_m2, inplace=True)\n"
     ]
    }
   ],
   "source": [
    "capital_federal_apartment.surface_total_in_m2.fillna(capital_federal_apartment.surface_covered_in_m2, inplace=True)\n"
   ],
   "metadata": {
    "collapsed": false,
    "pycharm": {
     "name": "#%%\n"
    }
   }
  },
  {
   "cell_type": "code",
   "execution_count": 18,
   "outputs": [
    {
     "name": "stderr",
     "output_type": "stream",
     "text": [
      "C:\\Users\\Juan\\AppData\\Local\\Temp\\ipykernel_12776\\3450111080.py:1: SettingWithCopyWarning: \n",
      "A value is trying to be set on a copy of a slice from a DataFrame.\n",
      "Try using .loc[row_indexer,col_indexer] = value instead\n",
      "\n",
      "See the caveats in the documentation: https://pandas.pydata.org/pandas-docs/stable/user_guide/indexing.html#returning-a-view-versus-a-copy\n",
      "  capital_federal_apartment['surface_uncovered_in_m2'] = capital_federal_apartment.surface_total_in_m2 - capital_federal_apartment.surface_covered_in_m2\n"
     ]
    },
    {
     "data": {
      "text/plain": "       property_type       place_name  surface_total_in_m2  \\\n2          apartment        Mataderos                 55.0   \n7          apartment         Belgrano                 45.0   \n8          apartment         Belgrano                 65.0   \n13         apartment     Palermo Soho                 50.0   \n14         apartment     Palermo Soho                 42.0   \n...              ...              ...                  ...   \n121160     apartment         Belgrano                157.0   \n121209     apartment         Belgrano                157.0   \n121215     apartment         Belgrano                113.0   \n121217     apartment    Villa Urquiza                 46.0   \n121219     apartment  Capital Federal                 77.0   \n\n        surface_covered_in_m2  surface_uncovered_in_m2  \n2                        55.0                      0.0  \n7                        40.0                      5.0  \n8                        60.0                      5.0  \n13                       30.0                     20.0  \n14                       31.0                     11.0  \n...                       ...                      ...  \n121160                    NaN                      NaN  \n121209                    NaN                      NaN  \n121215                   93.0                     20.0  \n121217                   39.0                      7.0  \n121219                   77.0                      0.0  \n\n[27037 rows x 5 columns]",
      "text/html": "<div>\n<style scoped>\n    .dataframe tbody tr th:only-of-type {\n        vertical-align: middle;\n    }\n\n    .dataframe tbody tr th {\n        vertical-align: top;\n    }\n\n    .dataframe thead th {\n        text-align: right;\n    }\n</style>\n<table border=\"1\" class=\"dataframe\">\n  <thead>\n    <tr style=\"text-align: right;\">\n      <th></th>\n      <th>property_type</th>\n      <th>place_name</th>\n      <th>surface_total_in_m2</th>\n      <th>surface_covered_in_m2</th>\n      <th>surface_uncovered_in_m2</th>\n    </tr>\n  </thead>\n  <tbody>\n    <tr>\n      <th>2</th>\n      <td>apartment</td>\n      <td>Mataderos</td>\n      <td>55.0</td>\n      <td>55.0</td>\n      <td>0.0</td>\n    </tr>\n    <tr>\n      <th>7</th>\n      <td>apartment</td>\n      <td>Belgrano</td>\n      <td>45.0</td>\n      <td>40.0</td>\n      <td>5.0</td>\n    </tr>\n    <tr>\n      <th>8</th>\n      <td>apartment</td>\n      <td>Belgrano</td>\n      <td>65.0</td>\n      <td>60.0</td>\n      <td>5.0</td>\n    </tr>\n    <tr>\n      <th>13</th>\n      <td>apartment</td>\n      <td>Palermo Soho</td>\n      <td>50.0</td>\n      <td>30.0</td>\n      <td>20.0</td>\n    </tr>\n    <tr>\n      <th>14</th>\n      <td>apartment</td>\n      <td>Palermo Soho</td>\n      <td>42.0</td>\n      <td>31.0</td>\n      <td>11.0</td>\n    </tr>\n    <tr>\n      <th>...</th>\n      <td>...</td>\n      <td>...</td>\n      <td>...</td>\n      <td>...</td>\n      <td>...</td>\n    </tr>\n    <tr>\n      <th>121160</th>\n      <td>apartment</td>\n      <td>Belgrano</td>\n      <td>157.0</td>\n      <td>NaN</td>\n      <td>NaN</td>\n    </tr>\n    <tr>\n      <th>121209</th>\n      <td>apartment</td>\n      <td>Belgrano</td>\n      <td>157.0</td>\n      <td>NaN</td>\n      <td>NaN</td>\n    </tr>\n    <tr>\n      <th>121215</th>\n      <td>apartment</td>\n      <td>Belgrano</td>\n      <td>113.0</td>\n      <td>93.0</td>\n      <td>20.0</td>\n    </tr>\n    <tr>\n      <th>121217</th>\n      <td>apartment</td>\n      <td>Villa Urquiza</td>\n      <td>46.0</td>\n      <td>39.0</td>\n      <td>7.0</td>\n    </tr>\n    <tr>\n      <th>121219</th>\n      <td>apartment</td>\n      <td>Capital Federal</td>\n      <td>77.0</td>\n      <td>77.0</td>\n      <td>0.0</td>\n    </tr>\n  </tbody>\n</table>\n<p>27037 rows × 5 columns</p>\n</div>"
     },
     "execution_count": 18,
     "metadata": {},
     "output_type": "execute_result"
    }
   ],
   "source": [
    "capital_federal_apartment['surface_uncovered_in_m2'] = capital_federal_apartment.surface_total_in_m2 - capital_federal_apartment.surface_covered_in_m2\n",
    "capital_federal_apartment"
   ],
   "metadata": {
    "collapsed": false,
    "pycharm": {
     "name": "#%%\n"
    }
   }
  },
  {
   "cell_type": "code",
   "execution_count": 19,
   "outputs": [
    {
     "name": "stderr",
     "output_type": "stream",
     "text": [
      "C:\\Users\\Juan\\AppData\\Local\\Temp\\ipykernel_12776\\86561127.py:1: SettingWithCopyWarning: \n",
      "A value is trying to be set on a copy of a slice from a DataFrame\n",
      "\n",
      "See the caveats in the documentation: https://pandas.pydata.org/pandas-docs/stable/user_guide/indexing.html#returning-a-view-versus-a-copy\n",
      "  capital_federal_apartment.drop('surface_total_in_m2', axis=1, inplace=True)\n"
     ]
    }
   ],
   "source": [
    "capital_federal_apartment.drop('surface_total_in_m2', axis=1, inplace=True)"
   ],
   "metadata": {
    "collapsed": false,
    "pycharm": {
     "name": "#%%\n"
    }
   }
  },
  {
   "cell_type": "code",
   "execution_count": 20,
   "outputs": [
    {
     "data": {
      "text/plain": "                                     column_name  percent_missing\nsurface_covered_in_m2      surface_covered_in_m2         6.646447\nsurface_uncovered_in_m2  surface_uncovered_in_m2         6.646447\nproperty_type                      property_type         0.000000\nplace_name                            place_name         0.000000",
      "text/html": "<div>\n<style scoped>\n    .dataframe tbody tr th:only-of-type {\n        vertical-align: middle;\n    }\n\n    .dataframe tbody tr th {\n        vertical-align: top;\n    }\n\n    .dataframe thead th {\n        text-align: right;\n    }\n</style>\n<table border=\"1\" class=\"dataframe\">\n  <thead>\n    <tr style=\"text-align: right;\">\n      <th></th>\n      <th>column_name</th>\n      <th>percent_missing</th>\n    </tr>\n  </thead>\n  <tbody>\n    <tr>\n      <th>surface_covered_in_m2</th>\n      <td>surface_covered_in_m2</td>\n      <td>6.646447</td>\n    </tr>\n    <tr>\n      <th>surface_uncovered_in_m2</th>\n      <td>surface_uncovered_in_m2</td>\n      <td>6.646447</td>\n    </tr>\n    <tr>\n      <th>property_type</th>\n      <td>property_type</td>\n      <td>0.000000</td>\n    </tr>\n    <tr>\n      <th>place_name</th>\n      <td>place_name</td>\n      <td>0.000000</td>\n    </tr>\n  </tbody>\n</table>\n</div>"
     },
     "execution_count": 20,
     "metadata": {},
     "output_type": "execute_result"
    }
   ],
   "source": [
    "percent_missing = capital_federal_apartment.isnull().sum() * 100 / len(capital_federal_apartment)\n",
    "missing_value_df = pd.DataFrame({'column_name': capital_federal_apartment.columns,\n",
    "                                 'percent_missing': percent_missing})\n",
    "\n",
    "missing_value_df.sort_values('percent_missing', inplace=True, ascending=False)\n",
    "missing_value_df"
   ],
   "metadata": {
    "collapsed": false,
    "pycharm": {
     "name": "#%%\n"
    }
   }
  },
  {
   "cell_type": "code",
   "execution_count": 21,
   "outputs": [
    {
     "data": {
      "text/plain": "       property_type       place_name  surface_covered_in_m2  \\\n2          apartment        Mataderos                   55.0   \n7          apartment         Belgrano                   40.0   \n8          apartment         Belgrano                   60.0   \n13         apartment     Palermo Soho                   30.0   \n14         apartment     Palermo Soho                   31.0   \n...              ...              ...                    ...   \n121157     apartment         Belgrano                   35.0   \n121158     apartment         Recoleta                   39.0   \n121215     apartment         Belgrano                   93.0   \n121217     apartment    Villa Urquiza                   39.0   \n121219     apartment  Capital Federal                   77.0   \n\n        surface_uncovered_in_m2  \n2                           0.0  \n7                           5.0  \n8                           5.0  \n13                         20.0  \n14                         11.0  \n...                         ...  \n121157                      3.0  \n121158                      5.0  \n121215                     20.0  \n121217                      7.0  \n121219                      0.0  \n\n[25240 rows x 4 columns]",
      "text/html": "<div>\n<style scoped>\n    .dataframe tbody tr th:only-of-type {\n        vertical-align: middle;\n    }\n\n    .dataframe tbody tr th {\n        vertical-align: top;\n    }\n\n    .dataframe thead th {\n        text-align: right;\n    }\n</style>\n<table border=\"1\" class=\"dataframe\">\n  <thead>\n    <tr style=\"text-align: right;\">\n      <th></th>\n      <th>property_type</th>\n      <th>place_name</th>\n      <th>surface_covered_in_m2</th>\n      <th>surface_uncovered_in_m2</th>\n    </tr>\n  </thead>\n  <tbody>\n    <tr>\n      <th>2</th>\n      <td>apartment</td>\n      <td>Mataderos</td>\n      <td>55.0</td>\n      <td>0.0</td>\n    </tr>\n    <tr>\n      <th>7</th>\n      <td>apartment</td>\n      <td>Belgrano</td>\n      <td>40.0</td>\n      <td>5.0</td>\n    </tr>\n    <tr>\n      <th>8</th>\n      <td>apartment</td>\n      <td>Belgrano</td>\n      <td>60.0</td>\n      <td>5.0</td>\n    </tr>\n    <tr>\n      <th>13</th>\n      <td>apartment</td>\n      <td>Palermo Soho</td>\n      <td>30.0</td>\n      <td>20.0</td>\n    </tr>\n    <tr>\n      <th>14</th>\n      <td>apartment</td>\n      <td>Palermo Soho</td>\n      <td>31.0</td>\n      <td>11.0</td>\n    </tr>\n    <tr>\n      <th>...</th>\n      <td>...</td>\n      <td>...</td>\n      <td>...</td>\n      <td>...</td>\n    </tr>\n    <tr>\n      <th>121157</th>\n      <td>apartment</td>\n      <td>Belgrano</td>\n      <td>35.0</td>\n      <td>3.0</td>\n    </tr>\n    <tr>\n      <th>121158</th>\n      <td>apartment</td>\n      <td>Recoleta</td>\n      <td>39.0</td>\n      <td>5.0</td>\n    </tr>\n    <tr>\n      <th>121215</th>\n      <td>apartment</td>\n      <td>Belgrano</td>\n      <td>93.0</td>\n      <td>20.0</td>\n    </tr>\n    <tr>\n      <th>121217</th>\n      <td>apartment</td>\n      <td>Villa Urquiza</td>\n      <td>39.0</td>\n      <td>7.0</td>\n    </tr>\n    <tr>\n      <th>121219</th>\n      <td>apartment</td>\n      <td>Capital Federal</td>\n      <td>77.0</td>\n      <td>0.0</td>\n    </tr>\n  </tbody>\n</table>\n<p>25240 rows × 4 columns</p>\n</div>"
     },
     "execution_count": 21,
     "metadata": {},
     "output_type": "execute_result"
    }
   ],
   "source": [
    "capital_federal_apartment_clean = capital_federal_apartment.dropna()\n",
    "capital_federal_apartment_clean"
   ],
   "metadata": {
    "collapsed": false,
    "pycharm": {
     "name": "#%%\n"
    }
   }
  },
  {
   "cell_type": "code",
   "execution_count": 22,
   "outputs": [
    {
     "data": {
      "text/plain": "                                     column_name  percent_missing\nproperty_type                      property_type              0.0\nplace_name                            place_name              0.0\nsurface_covered_in_m2      surface_covered_in_m2              0.0\nsurface_uncovered_in_m2  surface_uncovered_in_m2              0.0",
      "text/html": "<div>\n<style scoped>\n    .dataframe tbody tr th:only-of-type {\n        vertical-align: middle;\n    }\n\n    .dataframe tbody tr th {\n        vertical-align: top;\n    }\n\n    .dataframe thead th {\n        text-align: right;\n    }\n</style>\n<table border=\"1\" class=\"dataframe\">\n  <thead>\n    <tr style=\"text-align: right;\">\n      <th></th>\n      <th>column_name</th>\n      <th>percent_missing</th>\n    </tr>\n  </thead>\n  <tbody>\n    <tr>\n      <th>property_type</th>\n      <td>property_type</td>\n      <td>0.0</td>\n    </tr>\n    <tr>\n      <th>place_name</th>\n      <td>place_name</td>\n      <td>0.0</td>\n    </tr>\n    <tr>\n      <th>surface_covered_in_m2</th>\n      <td>surface_covered_in_m2</td>\n      <td>0.0</td>\n    </tr>\n    <tr>\n      <th>surface_uncovered_in_m2</th>\n      <td>surface_uncovered_in_m2</td>\n      <td>0.0</td>\n    </tr>\n  </tbody>\n</table>\n</div>"
     },
     "execution_count": 22,
     "metadata": {},
     "output_type": "execute_result"
    }
   ],
   "source": [
    "percent_missing = capital_federal_apartment_clean.isnull().sum() * 100 / len(capital_federal_apartment_clean)\n",
    "missing_value_df = pd.DataFrame({'column_name': capital_federal_apartment_clean.columns,\n",
    "                                 'percent_missing': percent_missing})\n",
    "\n",
    "missing_value_df.sort_values('percent_missing', inplace=True, ascending=False)\n",
    "missing_value_df"
   ],
   "metadata": {
    "collapsed": false,
    "pycharm": {
     "name": "#%%\n"
    }
   }
  },
  {
   "cell_type": "code",
   "execution_count": 23,
   "outputs": [
    {
     "data": {
      "text/plain": "        Barrio_Abasto  Barrio_Agronomía  Barrio_Almagro  Barrio_Balvanera  \\\n2                   0                 0               0                 0   \n7                   0                 0               0                 0   \n8                   0                 0               0                 0   \n13                  0                 0               0                 0   \n14                  0                 0               0                 0   \n...               ...               ...             ...               ...   \n121157              0                 0               0                 0   \n121158              0                 0               0                 0   \n121215              0                 0               0                 0   \n121217              0                 0               0                 0   \n121219              0                 0               0                 0   \n\n        Barrio_Barracas  Barrio_Barrio Norte  Barrio_Belgrano  Barrio_Boca  \\\n2                     0                    0                0            0   \n7                     0                    0                1            0   \n8                     0                    0                1            0   \n13                    0                    0                0            0   \n14                    0                    0                0            0   \n...                 ...                  ...              ...          ...   \n121157                0                    0                1            0   \n121158                0                    0                0            0   \n121215                0                    0                1            0   \n121217                0                    0                0            0   \n121219                0                    0                0            0   \n\n        Barrio_Boedo  Barrio_Caballito  ...  Barrio_Villa Lugano  \\\n2                  0                 0  ...                    0   \n7                  0                 0  ...                    0   \n8                  0                 0  ...                    0   \n13                 0                 0  ...                    0   \n14                 0                 0  ...                    0   \n...              ...               ...  ...                  ...   \n121157             0                 0  ...                    0   \n121158             0                 0  ...                    0   \n121215             0                 0  ...                    0   \n121217             0                 0  ...                    0   \n121219             0                 0  ...                    0   \n\n        Barrio_Villa Luro  Barrio_Villa Ortuzar  Barrio_Villa Pueyrredón  \\\n2                       0                     0                        0   \n7                       0                     0                        0   \n8                       0                     0                        0   \n13                      0                     0                        0   \n14                      0                     0                        0   \n...                   ...                   ...                      ...   \n121157                  0                     0                        0   \n121158                  0                     0                        0   \n121215                  0                     0                        0   \n121217                  0                     0                        0   \n121219                  0                     0                        0   \n\n        Barrio_Villa Real  Barrio_Villa Riachuelo  Barrio_Villa Santa Rita  \\\n2                       0                       0                        0   \n7                       0                       0                        0   \n8                       0                       0                        0   \n13                      0                       0                        0   \n14                      0                       0                        0   \n...                   ...                     ...                      ...   \n121157                  0                       0                        0   \n121158                  0                       0                        0   \n121215                  0                       0                        0   \n121217                  0                       0                        0   \n121219                  0                       0                        0   \n\n        Barrio_Villa Soldati  Barrio_Villa Urquiza  Barrio_Villa del Parque  \n2                          0                     0                        0  \n7                          0                     0                        0  \n8                          0                     0                        0  \n13                         0                     0                        0  \n14                         0                     0                        0  \n...                      ...                   ...                      ...  \n121157                     0                     0                        0  \n121158                     0                     0                        0  \n121215                     0                     0                        0  \n121217                     0                     1                        0  \n121219                     0                     0                        0  \n\n[25240 rows x 62 columns]",
      "text/html": "<div>\n<style scoped>\n    .dataframe tbody tr th:only-of-type {\n        vertical-align: middle;\n    }\n\n    .dataframe tbody tr th {\n        vertical-align: top;\n    }\n\n    .dataframe thead th {\n        text-align: right;\n    }\n</style>\n<table border=\"1\" class=\"dataframe\">\n  <thead>\n    <tr style=\"text-align: right;\">\n      <th></th>\n      <th>Barrio_Abasto</th>\n      <th>Barrio_Agronomía</th>\n      <th>Barrio_Almagro</th>\n      <th>Barrio_Balvanera</th>\n      <th>Barrio_Barracas</th>\n      <th>Barrio_Barrio Norte</th>\n      <th>Barrio_Belgrano</th>\n      <th>Barrio_Boca</th>\n      <th>Barrio_Boedo</th>\n      <th>Barrio_Caballito</th>\n      <th>...</th>\n      <th>Barrio_Villa Lugano</th>\n      <th>Barrio_Villa Luro</th>\n      <th>Barrio_Villa Ortuzar</th>\n      <th>Barrio_Villa Pueyrredón</th>\n      <th>Barrio_Villa Real</th>\n      <th>Barrio_Villa Riachuelo</th>\n      <th>Barrio_Villa Santa Rita</th>\n      <th>Barrio_Villa Soldati</th>\n      <th>Barrio_Villa Urquiza</th>\n      <th>Barrio_Villa del Parque</th>\n    </tr>\n  </thead>\n  <tbody>\n    <tr>\n      <th>2</th>\n      <td>0</td>\n      <td>0</td>\n      <td>0</td>\n      <td>0</td>\n      <td>0</td>\n      <td>0</td>\n      <td>0</td>\n      <td>0</td>\n      <td>0</td>\n      <td>0</td>\n      <td>...</td>\n      <td>0</td>\n      <td>0</td>\n      <td>0</td>\n      <td>0</td>\n      <td>0</td>\n      <td>0</td>\n      <td>0</td>\n      <td>0</td>\n      <td>0</td>\n      <td>0</td>\n    </tr>\n    <tr>\n      <th>7</th>\n      <td>0</td>\n      <td>0</td>\n      <td>0</td>\n      <td>0</td>\n      <td>0</td>\n      <td>0</td>\n      <td>1</td>\n      <td>0</td>\n      <td>0</td>\n      <td>0</td>\n      <td>...</td>\n      <td>0</td>\n      <td>0</td>\n      <td>0</td>\n      <td>0</td>\n      <td>0</td>\n      <td>0</td>\n      <td>0</td>\n      <td>0</td>\n      <td>0</td>\n      <td>0</td>\n    </tr>\n    <tr>\n      <th>8</th>\n      <td>0</td>\n      <td>0</td>\n      <td>0</td>\n      <td>0</td>\n      <td>0</td>\n      <td>0</td>\n      <td>1</td>\n      <td>0</td>\n      <td>0</td>\n      <td>0</td>\n      <td>...</td>\n      <td>0</td>\n      <td>0</td>\n      <td>0</td>\n      <td>0</td>\n      <td>0</td>\n      <td>0</td>\n      <td>0</td>\n      <td>0</td>\n      <td>0</td>\n      <td>0</td>\n    </tr>\n    <tr>\n      <th>13</th>\n      <td>0</td>\n      <td>0</td>\n      <td>0</td>\n      <td>0</td>\n      <td>0</td>\n      <td>0</td>\n      <td>0</td>\n      <td>0</td>\n      <td>0</td>\n      <td>0</td>\n      <td>...</td>\n      <td>0</td>\n      <td>0</td>\n      <td>0</td>\n      <td>0</td>\n      <td>0</td>\n      <td>0</td>\n      <td>0</td>\n      <td>0</td>\n      <td>0</td>\n      <td>0</td>\n    </tr>\n    <tr>\n      <th>14</th>\n      <td>0</td>\n      <td>0</td>\n      <td>0</td>\n      <td>0</td>\n      <td>0</td>\n      <td>0</td>\n      <td>0</td>\n      <td>0</td>\n      <td>0</td>\n      <td>0</td>\n      <td>...</td>\n      <td>0</td>\n      <td>0</td>\n      <td>0</td>\n      <td>0</td>\n      <td>0</td>\n      <td>0</td>\n      <td>0</td>\n      <td>0</td>\n      <td>0</td>\n      <td>0</td>\n    </tr>\n    <tr>\n      <th>...</th>\n      <td>...</td>\n      <td>...</td>\n      <td>...</td>\n      <td>...</td>\n      <td>...</td>\n      <td>...</td>\n      <td>...</td>\n      <td>...</td>\n      <td>...</td>\n      <td>...</td>\n      <td>...</td>\n      <td>...</td>\n      <td>...</td>\n      <td>...</td>\n      <td>...</td>\n      <td>...</td>\n      <td>...</td>\n      <td>...</td>\n      <td>...</td>\n      <td>...</td>\n      <td>...</td>\n    </tr>\n    <tr>\n      <th>121157</th>\n      <td>0</td>\n      <td>0</td>\n      <td>0</td>\n      <td>0</td>\n      <td>0</td>\n      <td>0</td>\n      <td>1</td>\n      <td>0</td>\n      <td>0</td>\n      <td>0</td>\n      <td>...</td>\n      <td>0</td>\n      <td>0</td>\n      <td>0</td>\n      <td>0</td>\n      <td>0</td>\n      <td>0</td>\n      <td>0</td>\n      <td>0</td>\n      <td>0</td>\n      <td>0</td>\n    </tr>\n    <tr>\n      <th>121158</th>\n      <td>0</td>\n      <td>0</td>\n      <td>0</td>\n      <td>0</td>\n      <td>0</td>\n      <td>0</td>\n      <td>0</td>\n      <td>0</td>\n      <td>0</td>\n      <td>0</td>\n      <td>...</td>\n      <td>0</td>\n      <td>0</td>\n      <td>0</td>\n      <td>0</td>\n      <td>0</td>\n      <td>0</td>\n      <td>0</td>\n      <td>0</td>\n      <td>0</td>\n      <td>0</td>\n    </tr>\n    <tr>\n      <th>121215</th>\n      <td>0</td>\n      <td>0</td>\n      <td>0</td>\n      <td>0</td>\n      <td>0</td>\n      <td>0</td>\n      <td>1</td>\n      <td>0</td>\n      <td>0</td>\n      <td>0</td>\n      <td>...</td>\n      <td>0</td>\n      <td>0</td>\n      <td>0</td>\n      <td>0</td>\n      <td>0</td>\n      <td>0</td>\n      <td>0</td>\n      <td>0</td>\n      <td>0</td>\n      <td>0</td>\n    </tr>\n    <tr>\n      <th>121217</th>\n      <td>0</td>\n      <td>0</td>\n      <td>0</td>\n      <td>0</td>\n      <td>0</td>\n      <td>0</td>\n      <td>0</td>\n      <td>0</td>\n      <td>0</td>\n      <td>0</td>\n      <td>...</td>\n      <td>0</td>\n      <td>0</td>\n      <td>0</td>\n      <td>0</td>\n      <td>0</td>\n      <td>0</td>\n      <td>0</td>\n      <td>0</td>\n      <td>1</td>\n      <td>0</td>\n    </tr>\n    <tr>\n      <th>121219</th>\n      <td>0</td>\n      <td>0</td>\n      <td>0</td>\n      <td>0</td>\n      <td>0</td>\n      <td>0</td>\n      <td>0</td>\n      <td>0</td>\n      <td>0</td>\n      <td>0</td>\n      <td>...</td>\n      <td>0</td>\n      <td>0</td>\n      <td>0</td>\n      <td>0</td>\n      <td>0</td>\n      <td>0</td>\n      <td>0</td>\n      <td>0</td>\n      <td>0</td>\n      <td>0</td>\n    </tr>\n  </tbody>\n</table>\n<p>25240 rows × 62 columns</p>\n</div>"
     },
     "execution_count": 23,
     "metadata": {},
     "output_type": "execute_result"
    }
   ],
   "source": [
    "dummies = pd.get_dummies(capital_federal_apartment_clean['place_name']).rename(columns=lambda x: 'Barrio_' + str(x))\n",
    "dummies\n",
    "\n",
    "#df = df.drop(['Category'], inplace=True, axis=1)"
   ],
   "metadata": {
    "collapsed": false,
    "pycharm": {
     "name": "#%%\n"
    }
   }
  },
  {
   "cell_type": "code",
   "execution_count": 24,
   "outputs": [
    {
     "name": "stderr",
     "output_type": "stream",
     "text": [
      "C:\\Users\\Juan\\AppData\\Local\\Temp\\ipykernel_12776\\3058871001.py:1: SettingWithCopyWarning: \n",
      "A value is trying to be set on a copy of a slice from a DataFrame\n",
      "\n",
      "See the caveats in the documentation: https://pandas.pydata.org/pandas-docs/stable/user_guide/indexing.html#returning-a-view-versus-a-copy\n",
      "  capital_federal_apartment_clean.drop('property_type', inplace=True, axis=1)\n"
     ]
    },
    {
     "data": {
      "text/plain": "             place_name  surface_covered_in_m2  surface_uncovered_in_m2\n2             Mataderos                   55.0                      0.0\n7              Belgrano                   40.0                      5.0\n8              Belgrano                   60.0                      5.0\n13         Palermo Soho                   30.0                     20.0\n14         Palermo Soho                   31.0                     11.0\n...                 ...                    ...                      ...\n121157         Belgrano                   35.0                      3.0\n121158         Recoleta                   39.0                      5.0\n121215         Belgrano                   93.0                     20.0\n121217    Villa Urquiza                   39.0                      7.0\n121219  Capital Federal                   77.0                      0.0\n\n[25240 rows x 3 columns]",
      "text/html": "<div>\n<style scoped>\n    .dataframe tbody tr th:only-of-type {\n        vertical-align: middle;\n    }\n\n    .dataframe tbody tr th {\n        vertical-align: top;\n    }\n\n    .dataframe thead th {\n        text-align: right;\n    }\n</style>\n<table border=\"1\" class=\"dataframe\">\n  <thead>\n    <tr style=\"text-align: right;\">\n      <th></th>\n      <th>place_name</th>\n      <th>surface_covered_in_m2</th>\n      <th>surface_uncovered_in_m2</th>\n    </tr>\n  </thead>\n  <tbody>\n    <tr>\n      <th>2</th>\n      <td>Mataderos</td>\n      <td>55.0</td>\n      <td>0.0</td>\n    </tr>\n    <tr>\n      <th>7</th>\n      <td>Belgrano</td>\n      <td>40.0</td>\n      <td>5.0</td>\n    </tr>\n    <tr>\n      <th>8</th>\n      <td>Belgrano</td>\n      <td>60.0</td>\n      <td>5.0</td>\n    </tr>\n    <tr>\n      <th>13</th>\n      <td>Palermo Soho</td>\n      <td>30.0</td>\n      <td>20.0</td>\n    </tr>\n    <tr>\n      <th>14</th>\n      <td>Palermo Soho</td>\n      <td>31.0</td>\n      <td>11.0</td>\n    </tr>\n    <tr>\n      <th>...</th>\n      <td>...</td>\n      <td>...</td>\n      <td>...</td>\n    </tr>\n    <tr>\n      <th>121157</th>\n      <td>Belgrano</td>\n      <td>35.0</td>\n      <td>3.0</td>\n    </tr>\n    <tr>\n      <th>121158</th>\n      <td>Recoleta</td>\n      <td>39.0</td>\n      <td>5.0</td>\n    </tr>\n    <tr>\n      <th>121215</th>\n      <td>Belgrano</td>\n      <td>93.0</td>\n      <td>20.0</td>\n    </tr>\n    <tr>\n      <th>121217</th>\n      <td>Villa Urquiza</td>\n      <td>39.0</td>\n      <td>7.0</td>\n    </tr>\n    <tr>\n      <th>121219</th>\n      <td>Capital Federal</td>\n      <td>77.0</td>\n      <td>0.0</td>\n    </tr>\n  </tbody>\n</table>\n<p>25240 rows × 3 columns</p>\n</div>"
     },
     "execution_count": 24,
     "metadata": {},
     "output_type": "execute_result"
    }
   ],
   "source": [
    "capital_federal_apartment_clean.drop('property_type', inplace=True, axis=1)\n",
    "capital_federal_apartment_clean"
   ],
   "metadata": {
    "collapsed": false,
    "pycharm": {
     "name": "#%%\n"
    }
   }
  },
  {
   "cell_type": "code",
   "execution_count": 25,
   "outputs": [
    {
     "data": {
      "text/plain": "       surface_uncovered_in_m2_std  surface_covered_in_m2_std\n0                         0.819590                   0.000294\n1                         0.820729                   0.000214\n2                         0.820729                   0.000321\n3                         0.824146                   0.000160\n4                         0.822096                   0.000166\n...                            ...                        ...\n25235                     0.820273                   0.000187\n25236                     0.820729                   0.000209\n25237                     0.824146                   0.000497\n25238                     0.821185                   0.000209\n25239                     0.819590                   0.000412\n\n[25240 rows x 2 columns]",
      "text/html": "<div>\n<style scoped>\n    .dataframe tbody tr th:only-of-type {\n        vertical-align: middle;\n    }\n\n    .dataframe tbody tr th {\n        vertical-align: top;\n    }\n\n    .dataframe thead th {\n        text-align: right;\n    }\n</style>\n<table border=\"1\" class=\"dataframe\">\n  <thead>\n    <tr style=\"text-align: right;\">\n      <th></th>\n      <th>surface_uncovered_in_m2_std</th>\n      <th>surface_covered_in_m2_std</th>\n    </tr>\n  </thead>\n  <tbody>\n    <tr>\n      <th>0</th>\n      <td>0.819590</td>\n      <td>0.000294</td>\n    </tr>\n    <tr>\n      <th>1</th>\n      <td>0.820729</td>\n      <td>0.000214</td>\n    </tr>\n    <tr>\n      <th>2</th>\n      <td>0.820729</td>\n      <td>0.000321</td>\n    </tr>\n    <tr>\n      <th>3</th>\n      <td>0.824146</td>\n      <td>0.000160</td>\n    </tr>\n    <tr>\n      <th>4</th>\n      <td>0.822096</td>\n      <td>0.000166</td>\n    </tr>\n    <tr>\n      <th>...</th>\n      <td>...</td>\n      <td>...</td>\n    </tr>\n    <tr>\n      <th>25235</th>\n      <td>0.820273</td>\n      <td>0.000187</td>\n    </tr>\n    <tr>\n      <th>25236</th>\n      <td>0.820729</td>\n      <td>0.000209</td>\n    </tr>\n    <tr>\n      <th>25237</th>\n      <td>0.824146</td>\n      <td>0.000497</td>\n    </tr>\n    <tr>\n      <th>25238</th>\n      <td>0.821185</td>\n      <td>0.000209</td>\n    </tr>\n    <tr>\n      <th>25239</th>\n      <td>0.819590</td>\n      <td>0.000412</td>\n    </tr>\n  </tbody>\n</table>\n<p>25240 rows × 2 columns</p>\n</div>"
     },
     "execution_count": 25,
     "metadata": {},
     "output_type": "execute_result"
    }
   ],
   "source": [
    "numericals = ['surface_uncovered_in_m2', 'surface_covered_in_m2']\n",
    "\n",
    "X = capital_federal_apartment_clean[numericals]\n",
    "\n",
    "scaler = MinMaxScaler()\n",
    "scaler.fit(X)\n",
    "\n",
    "std_numerical_data = scaler.transform(X)\n",
    "std_df = pd.DataFrame(std_numerical_data)\n",
    "std_df.columns = [i + '_std' for i in numericals]\n",
    "\n",
    "std_df\n"
   ],
   "metadata": {
    "collapsed": false,
    "pycharm": {
     "name": "#%%\n"
    }
   }
  },
  {
   "cell_type": "markdown",
   "source": [
    "X = pd.concat([dummies, std_df], axis = 1)\n",
    "X"
   ],
   "metadata": {
    "collapsed": false,
    "pycharm": {
     "name": "#%% md\n"
    }
   }
  },
  {
   "cell_type": "markdown",
   "source": [
    "numericals = ['carat', 'depth', 'table', 'x', 'y', 'z']\n",
    "\n",
    "X = data[numericals]\n",
    "\n",
    "scaler = MinMaxScaler()\n",
    "scaler.fit(X)\n",
    "\n",
    "std_numerical_data = scaler.transform(X)\n",
    "std_df = pd.DataFrame(std_numerical_data)\n",
    "std_df.columns = [i + '_std' for i in numericals]\n",
    "std_df\n",
    "\n",
    "capital_federal_apartment_clean"
   ],
   "metadata": {
    "collapsed": false,
    "pycharm": {
     "name": "#%% md\n"
    }
   }
  }
 ],
 "metadata": {
  "kernelspec": {
   "display_name": "Python 3",
   "language": "python",
   "name": "python3"
  },
  "language_info": {
   "codemirror_mode": {
    "name": "ipython",
    "version": 2
   },
   "file_extension": ".py",
   "mimetype": "text/x-python",
   "name": "python",
   "nbconvert_exporter": "python",
   "pygments_lexer": "ipython2",
   "version": "2.7.6"
  }
 },
 "nbformat": 4,
 "nbformat_minor": 0
}